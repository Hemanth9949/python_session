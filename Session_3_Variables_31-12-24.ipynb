{
 "cells": [
  {
   "cell_type": "markdown",
   "id": "7c01564d-2052-4b47-978e-9b5a42ab1621",
   "metadata": {},
   "source": [
    "# Variables"
   ]
  },
  {
   "cell_type": "markdown",
   "id": "d56d1708-3b0b-452d-b45c-c24530124acf",
   "metadata": {},
   "source": [
    "- Variables are used to store the data\n",
    "\n",
    "- The data can be changed\n",
    "\n",
    "- These variables can be used to manipulate python code"
   ]
  },
  {
   "cell_type": "code",
   "execution_count": 2,
   "id": "cf852ddc-d636-4e13-bbe7-7f5271f4a492",
   "metadata": {},
   "outputs": [
    {
     "data": {
      "text/plain": [
       "1100"
      ]
     },
     "execution_count": 2,
     "metadata": {},
     "output_type": "execute_result"
    }
   ],
   "source": [
    "number=1100\n",
    "# 100 is stored in a variable called number\n",
    "number"
   ]
  },
  {
   "cell_type": "code",
   "execution_count": 3,
   "id": "ceae2419-694a-4b67-b351-2d11d0c1a712",
   "metadata": {},
   "outputs": [],
   "source": [
    "NUMBER=1\n"
   ]
  },
  {
   "cell_type": "code",
   "execution_count": 4,
   "id": "786ea0dc-eaaa-4fca-aabe-cd73f64a8e83",
   "metadata": {},
   "outputs": [
    {
     "data": {
      "text/plain": [
       "1"
      ]
     },
     "execution_count": 4,
     "metadata": {},
     "output_type": "execute_result"
    }
   ],
   "source": [
    "NUMBER"
   ]
  },
  {
   "cell_type": "code",
   "execution_count": 5,
   "id": "2e17c8af-929d-40d1-b61a-d1d76c3b5976",
   "metadata": {},
   "outputs": [],
   "source": [
    "NUMber=300"
   ]
  },
  {
   "cell_type": "code",
   "execution_count": 6,
   "id": "c938a309-7d21-433b-a133-61b042a2191b",
   "metadata": {},
   "outputs": [
    {
     "data": {
      "text/plain": [
       "300"
      ]
     },
     "execution_count": 6,
     "metadata": {},
     "output_type": "execute_result"
    }
   ],
   "source": [
    "NUMber"
   ]
  },
  {
   "cell_type": "code",
   "execution_count": 7,
   "id": "47b55059-b8ee-4a86-9501-ba25f19dba0b",
   "metadata": {},
   "outputs": [
    {
     "data": {
      "text/plain": [
       "(1, 300, 1100)"
      ]
     },
     "execution_count": 7,
     "metadata": {},
     "output_type": "execute_result"
    }
   ],
   "source": [
    "NUMBER,NUMber,number"
   ]
  },
  {
   "cell_type": "code",
   "execution_count": 8,
   "id": "b0ebd861-9a7b-4653-b859-06934a74d0c8",
   "metadata": {},
   "outputs": [
    {
     "data": {
      "text/plain": [
       "654789"
      ]
     },
     "execution_count": 8,
     "metadata": {},
     "output_type": "execute_result"
    }
   ],
   "source": [
    "number123=654789\n",
    "number123"
   ]
  },
  {
   "cell_type": "markdown",
   "id": "ca26aa64-f6a3-4a52-8e77-53051c144dc2",
   "metadata": {},
   "source": [
    "**Note**:\n",
    "\n",
    "- Variables generally in black color\n",
    "\n",
    "- Green color should not be a variaables\n",
    "\n",
    "- Numbers as suffix can work\n",
    "\n",
    "- Numbers as prefix fail\n",
    "\n",
    "- Special characters, spaces are not allowed in and as variable name"
   ]
  },
  {
   "cell_type": "code",
   "execution_count": 9,
   "id": "45b64808-b5c0-4f51-b934-8b50904e895b",
   "metadata": {},
   "outputs": [
    {
     "ename": "SyntaxError",
     "evalue": "invalid decimal literal (2317837094.py, line 1)",
     "output_type": "error",
     "traceback": [
      "\u001b[1;36m  Cell \u001b[1;32mIn[9], line 1\u001b[1;36m\u001b[0m\n\u001b[1;33m    123number=100\u001b[0m\n\u001b[1;37m      ^\u001b[0m\n\u001b[1;31mSyntaxError\u001b[0m\u001b[1;31m:\u001b[0m invalid decimal literal\n"
     ]
    }
   ],
   "source": [
    "123number=100\n",
    "123number"
   ]
  },
  {
   "cell_type": "code",
   "execution_count": 10,
   "id": "3e3e6823-d50d-456a-9c89-ec1281149b58",
   "metadata": {},
   "outputs": [
    {
     "ename": "SyntaxError",
     "evalue": "invalid syntax (1427326657.py, line 1)",
     "output_type": "error",
     "traceback": [
      "\u001b[1;36m  Cell \u001b[1;32mIn[10], line 1\u001b[1;36m\u001b[0m\n\u001b[1;33m    number one=200\u001b[0m\n\u001b[1;37m           ^\u001b[0m\n\u001b[1;31mSyntaxError\u001b[0m\u001b[1;31m:\u001b[0m invalid syntax\n"
     ]
    }
   ],
   "source": [
    "number one=200\n",
    "number one\n"
   ]
  },
  {
   "cell_type": "code",
   "execution_count": 11,
   "id": "59eee210-5c10-4ab1-99d0-8eb8921bd626",
   "metadata": {},
   "outputs": [
    {
     "data": {
      "text/plain": [
       "100"
      ]
     },
     "execution_count": 11,
     "metadata": {},
     "output_type": "execute_result"
    }
   ],
   "source": [
    "number_one=100\n",
    "number_one"
   ]
  },
  {
   "cell_type": "code",
   "execution_count": 12,
   "id": "5d8c371a-526c-46aa-81f8-5e850b3d7aad",
   "metadata": {},
   "outputs": [
    {
     "data": {
      "text/plain": [
       "222"
      ]
     },
     "execution_count": 12,
     "metadata": {},
     "output_type": "execute_result"
    }
   ],
   "source": [
    "# underscore can use as a variable\n",
    "_=222\n",
    "_"
   ]
  },
  {
   "cell_type": "code",
   "execution_count": null,
   "id": "eb2ef345-4061-48ce-a390-b58355a08089",
   "metadata": {},
   "outputs": [],
   "source": [
    "for\n",
    "while\n",
    "True\n",
    "False"
   ]
  },
  {
   "cell_type": "markdown",
   "id": "a34e2955-e39d-4b53-b1a4-b76a128ac76f",
   "metadata": {},
   "source": [
    "**keywords can not use as Variables**:"
   ]
  },
  {
   "cell_type": "markdown",
   "id": "e1bb0c8f-8015-4834-9a0e-059ef889cf9a",
   "metadata": {},
   "source": []
  }
 ],
 "metadata": {
  "kernelspec": {
   "display_name": "Python 3 (ipykernel)",
   "language": "python",
   "name": "python3"
  },
  "language_info": {
   "codemirror_mode": {
    "name": "ipython",
    "version": 3
   },
   "file_extension": ".py",
   "mimetype": "text/x-python",
   "name": "python",
   "nbconvert_exporter": "python",
   "pygments_lexer": "ipython3",
   "version": "3.12.7"
  }
 },
 "nbformat": 4,
 "nbformat_minor": 5
}
