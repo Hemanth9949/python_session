{
 "cells": [
  {
   "cell_type": "markdown",
   "id": "b6dc943f-e37a-462c-9fd4-80594a97b452",
   "metadata": {},
   "source": [
    "# List comprehension\n",
    "\n",
    "- List comprehension is a way to write list operations in a single line\n",
    "\n",
    "- when we apply for loop and if-else conditional statements then the code compilation becomes low\n",
    "\n",
    "- which means it takes much time \n",
    "\n",
    "- in order to avoid time complexity we will use list comprehension\n",
    "\n",
    "- list comprehension is a single line code"
   ]
  },
  {
   "cell_type": "markdown",
   "id": "2582ddda-0843-4f61-9063-eeec1dae7a32",
   "metadata": {},
   "source": [
    "**Case-1: Only for loop**"
   ]
  },
  {
   "cell_type": "code",
   "execution_count": 1,
   "id": "eab08931-7002-487a-ad27-6c64e956c2f1",
   "metadata": {},
   "outputs": [
    {
     "data": {
      "text/plain": [
       "[0, 1, 2, 3, 4, 5, 6, 7, 8, 9]"
      ]
     },
     "execution_count": 1,
     "metadata": {},
     "output_type": "execute_result"
    }
   ],
   "source": [
    "list1=[]\n",
    "for i in range(10):\n",
    "    list1.append(i)\n",
    "list1"
   ]
  },
  {
   "cell_type": "code",
   "execution_count": null,
   "id": "c834f9b0-8263-4530-b829-7446456780a4",
   "metadata": {},
   "outputs": [],
   "source": [
    "list1=[<write code here>]\n",
    "# inside code no need of append\n",
    "list1=[<output var> <for loop>]"
   ]
  },
  {
   "cell_type": "code",
   "execution_count": 2,
   "id": "e8cb5326-9398-4ca9-b81d-7691f2149e85",
   "metadata": {},
   "outputs": [
    {
     "data": {
      "text/plain": [
       "[0, 1, 2, 3, 4, 5, 6, 7, 8, 9]"
      ]
     },
     "execution_count": 2,
     "metadata": {},
     "output_type": "execute_result"
    }
   ],
   "source": [
    "list1=[i for i in range(10)]\n",
    "list1                         # dont give : after for loop"
   ]
  },
  {
   "cell_type": "code",
   "execution_count": null,
   "id": "fe82fa6f-199e-4cd8-b0e6-8c4d88653d44",
   "metadata": {},
   "outputs": [],
   "source": [
    "# Q3) input=['hyd','bengaluru','pune','mumbai']\n",
    "#     output=['Hyd','Bengaluru','Pune','Mumbai']\n",
    "\n",
    "# Q4) input=['hyd','bengaluru','pune','mumbai']\n",
    "#     output=['HYD','BENGALURU','PUNE','MUMBAI']\n",
    "\n",
    "# Q3) input=['hyd','bengaluru','pune','mumbai']\n",
    "#    multiply the indexes with 10\n",
    "\n",
    "# Q3) input=['hyd','bengaluru','pune','mumbai']\n",
    "#       calculate the sum of the indexes\n",
    "\n",
    "# Q5) sum of first 10 natural numbers save in a list"
   ]
  },
  {
   "cell_type": "code",
   "execution_count": 3,
   "id": "473845af-6ce8-4d3d-8e40-cbac5d266f8e",
   "metadata": {},
   "outputs": [
    {
     "data": {
      "text/plain": [
       "['Hyd', 'Bengaluru', 'Pune', 'Mumbai']"
      ]
     },
     "execution_count": 3,
     "metadata": {},
     "output_type": "execute_result"
    }
   ],
   "source": [
    "# Q3) input=['hyd','bengaluru','pune','mumbai']\n",
    "#     output=['Hyd','Bengaluru','Pune','Mumbai']\n",
    "\n",
    "input=['hyd','bengaluru','pune','mumbai']\n",
    "l=[]\n",
    "for i in input:\n",
    "    l.append(i.capitalize())\n",
    "\n",
    "l"
   ]
  },
  {
   "cell_type": "code",
   "execution_count": 5,
   "id": "758e7b61-fa9d-4720-accd-5e93599fd107",
   "metadata": {},
   "outputs": [
    {
     "data": {
      "text/plain": [
       "['Hyd', 'Bengaluru', 'Pune', 'Mumbai']"
      ]
     },
     "execution_count": 5,
     "metadata": {},
     "output_type": "execute_result"
    }
   ],
   "source": [
    "Q1)\n",
    "input=['hyd','bengaluru','pune','mumbai']\n",
    "l=[i.capitalize() for i in input]\n",
    "l"
   ]
  },
  {
   "cell_type": "code",
   "execution_count": 6,
   "id": "5ba9bf09-d5ea-4ed8-940f-ef9b5358899a",
   "metadata": {},
   "outputs": [
    {
     "data": {
      "text/plain": [
       "['HYD', 'BENGALURU', 'PUNE', 'MUMBAI']"
      ]
     },
     "execution_count": 6,
     "metadata": {},
     "output_type": "execute_result"
    }
   ],
   "source": [
    "input=['hyd','bengaluru','pune','mumbai']\n",
    "l=[]\n",
    "for i in input:\n",
    "    l.append(i.upper())\n",
    "l"
   ]
  },
  {
   "cell_type": "code",
   "execution_count": 7,
   "id": "2b7f309d-46c0-4a7f-8fe6-1cc47ee5e599",
   "metadata": {},
   "outputs": [
    {
     "data": {
      "text/plain": [
       "['HYD', 'BENGALURU', 'PUNE', 'MUMBAI']"
      ]
     },
     "execution_count": 7,
     "metadata": {},
     "output_type": "execute_result"
    }
   ],
   "source": [
    "#Q2)\n",
    "input=['hyd','bengaluru','pune','mumbai']\n",
    "l=[i.upper() for i in input]\n",
    "l"
   ]
  },
  {
   "cell_type": "code",
   "execution_count": 10,
   "id": "f71ddd88-6d23-4459-ad0c-244244d69b46",
   "metadata": {},
   "outputs": [
    {
     "name": "stdout",
     "output_type": "stream",
     "text": [
      "0\n",
      "10\n",
      "20\n",
      "30\n"
     ]
    },
    {
     "data": {
      "text/plain": [
       "[]"
      ]
     },
     "execution_count": 10,
     "metadata": {},
     "output_type": "execute_result"
    }
   ],
   "source": [
    "input=['hyd','bengaluru','pune','mumbai']\n",
    "l=[]\n",
    "for i in input:\n",
    "    print(input.index(i)*10)\n",
    "l"
   ]
  },
  {
   "cell_type": "code",
   "execution_count": 11,
   "id": "6cde2de2-721b-4ab2-bdbf-dab015a29110",
   "metadata": {},
   "outputs": [
    {
     "data": {
      "text/plain": [
       "[0, 10, 20, 30]"
      ]
     },
     "execution_count": 11,
     "metadata": {},
     "output_type": "execute_result"
    }
   ],
   "source": [
    "#Q3)\n",
    "[input.index(i)*10 for i in input]"
   ]
  },
  {
   "cell_type": "code",
   "execution_count": 14,
   "id": "bf33d4a7-0802-4537-9481-be7e665142f4",
   "metadata": {},
   "outputs": [
    {
     "data": {
      "text/plain": [
       "60"
      ]
     },
     "execution_count": 14,
     "metadata": {},
     "output_type": "execute_result"
    }
   ],
   "source": [
    "#Q4)\n",
    "input=['hyd','bengaluru','pune','mumbai']\n",
    "l=[input.index(i)*10 for i in input]\n",
    "sum(l)"
   ]
  },
  {
   "cell_type": "code",
   "execution_count": 15,
   "id": "758f1d62-3a28-44da-bc2d-50043e5a54bc",
   "metadata": {},
   "outputs": [
    {
     "name": "stdout",
     "output_type": "stream",
     "text": [
      "55\n"
     ]
    }
   ],
   "source": [
    "summ=0\n",
    "for i in range(1,11):\n",
    "    summ=summ+i\n",
    "print(summ)"
   ]
  },
  {
   "cell_type": "markdown",
   "id": "3e7e6c7c-b3c3-44ba-b514-aaa600a5e7a2",
   "metadata": {},
   "source": [
    "**Walrus operator**"
   ]
  },
  {
   "cell_type": "code",
   "execution_count": 18,
   "id": "81f3c2bc-6ba9-4a4c-ad86-e68be938dc9e",
   "metadata": {},
   "outputs": [
    {
     "data": {
      "text/plain": [
       "[1, 3, 6, 10, 15, 21, 28, 36, 45, 55]"
      ]
     },
     "execution_count": 18,
     "metadata": {},
     "output_type": "execute_result"
    }
   ],
   "source": [
    "summ=0\n",
    "[summ:=summ+i for i in range(1,11)]"
   ]
  },
  {
   "cell_type": "code",
   "execution_count": 19,
   "id": "aef46f9e-ba02-4ca0-a1a6-c0a4672e2438",
   "metadata": {},
   "outputs": [
    {
     "ename": "SyntaxError",
     "evalue": "invalid syntax. Maybe you meant '==' or ':=' instead of '='? (1517040473.py, line 1)",
     "output_type": "error",
     "traceback": [
      "\u001b[1;36m  Cell \u001b[1;32mIn[19], line 1\u001b[1;36m\u001b[0m\n\u001b[1;33m    l=[summ=summ+i for i in range(1,11)]\u001b[0m\n\u001b[1;37m       ^\u001b[0m\n\u001b[1;31mSyntaxError\u001b[0m\u001b[1;31m:\u001b[0m invalid syntax. Maybe you meant '==' or ':=' instead of '='?\n"
     ]
    }
   ],
   "source": [
    "l=[summ=summ+i for i in range(1,11)]\n",
    "l"
   ]
  },
  {
   "cell_type": "code",
   "execution_count": 24,
   "id": "2f26b98e-0c9e-46ac-9b4e-3ae64311ea85",
   "metadata": {},
   "outputs": [
    {
     "data": {
      "text/plain": [
       "55"
      ]
     },
     "execution_count": 24,
     "metadata": {},
     "output_type": "execute_result"
    }
   ],
   "source": [
    "#Q5)\n",
    "summ=0\n",
    "[summ:=summ+i for i in range(1,11)]\n",
    "summ"
   ]
  },
  {
   "cell_type": "markdown",
   "id": "2174db06-66e7-4a40-8114-66f2da4896c1",
   "metadata": {},
   "source": [
    "**Case-2: for loop and if condition**"
   ]
  },
  {
   "cell_type": "code",
   "execution_count": 25,
   "id": "58649838-6902-4447-805a-796018238aff",
   "metadata": {},
   "outputs": [
    {
     "data": {
      "text/plain": [
       "['even:2', 'even:4', 'even:6', 'even:8']"
      ]
     },
     "execution_count": 25,
     "metadata": {},
     "output_type": "execute_result"
    }
   ],
   "source": [
    "# even number\n",
    "even_list=[]\n",
    "for i in range(1,10):\n",
    "    if i%2==0:\n",
    "        even_list.append(f'even:{i}')\n",
    "even_list        "
   ]
  },
  {
   "cell_type": "code",
   "execution_count": 28,
   "id": "e3183727-bae4-4d28-8d69-849020055618",
   "metadata": {},
   "outputs": [
    {
     "data": {
      "text/plain": [
       "['even:2', 'even:4', 'even:6', 'even:8']"
      ]
     },
     "execution_count": 28,
     "metadata": {},
     "output_type": "execute_result"
    }
   ],
   "source": [
    "[f'even:{i}' for i in range(1,10) if i%2==0]"
   ]
  },
  {
   "cell_type": "code",
   "execution_count": 29,
   "id": "3ddf47f2-f62a-496c-9f9c-578a06c8b0ba",
   "metadata": {},
   "outputs": [
    {
     "ename": "SyntaxError",
     "evalue": "expected 'else' after 'if' expression (2284067191.py, line 1)",
     "output_type": "error",
     "traceback": [
      "\u001b[1;36m  Cell \u001b[1;32mIn[29], line 1\u001b[1;36m\u001b[0m\n\u001b[1;33m    [f'even:{i}' if i%2==0 for i in range(1,10) ]\u001b[0m\n\u001b[1;37m     ^\u001b[0m\n\u001b[1;31mSyntaxError\u001b[0m\u001b[1;31m:\u001b[0m expected 'else' after 'if' expression\n"
     ]
    }
   ],
   "source": [
    "[f'even:{i}' if i%2==0 for i in range(1,10) ]"
   ]
  },
  {
   "cell_type": "code",
   "execution_count": 35,
   "id": "409cb845-81de-4274-8843-f63851ad155c",
   "metadata": {},
   "outputs": [
    {
     "name": "stdout",
     "output_type": "stream",
     "text": [
      "ben#galuru\n",
      "mu#mbai\n"
     ]
    },
    {
     "data": {
      "text/plain": [
       "[]"
      ]
     },
     "execution_count": 35,
     "metadata": {},
     "output_type": "execute_result"
    }
   ],
   "source": [
    "# Q5) input=['hyd','ben#galuru','pune','mu#mbai']\n",
    "#     output=[ben#galuru',mu#mbai']\n",
    "\n",
    "input=['hyd','ben#galuru','pune','mu#mbai']\n",
    "for i in input:\n",
    "    if '#' in i:\n",
    "        print(i)\n",
    "    "
   ]
  },
  {
   "cell_type": "code",
   "execution_count": 37,
   "id": "4b394b49-3b46-44f4-b57c-98adb9cb76dc",
   "metadata": {},
   "outputs": [
    {
     "data": {
      "text/plain": [
       "['ben#galuru', 'mu#mbai']"
      ]
     },
     "execution_count": 37,
     "metadata": {},
     "output_type": "execute_result"
    }
   ],
   "source": [
    "input=['hyd','ben#galuru','pune','mu#mbai']\n",
    "l=[i for i in input if '#' in i]\n",
    "l"
   ]
  },
  {
   "cell_type": "code",
   "execution_count": 38,
   "id": "58fad073-7f8a-4d20-b57d-8b0b0d332a85",
   "metadata": {},
   "outputs": [
    {
     "name": "stdout",
     "output_type": "stream",
     "text": [
      "hyd\n",
      "pune\n"
     ]
    }
   ],
   "source": [
    "# Q6) input=['hyd','ben#galuru','pune','mu#mbai']\n",
    "#     output=[hyd,pune]\n",
    "input=['hyd','ben#galuru','pune','mu#mbai']\n",
    "for i in input:\n",
    "    if '#' not in i:\n",
    "        print(i)"
   ]
  },
  {
   "cell_type": "code",
   "execution_count": 39,
   "id": "803d6d5b-1764-40a2-a34d-beec5d4de70e",
   "metadata": {},
   "outputs": [
    {
     "data": {
      "text/plain": [
       "['hyd', 'pune']"
      ]
     },
     "execution_count": 39,
     "metadata": {},
     "output_type": "execute_result"
    }
   ],
   "source": [
    "input=['hyd','ben#galuru','pune','mu#mbai']\n",
    "l=[i for i in input if '#' not in i]\n",
    "l"
   ]
  },
  {
   "cell_type": "markdown",
   "id": "ffea8c0f-3d34-40b5-9cb8-3bdc20f7e1c5",
   "metadata": {},
   "source": [
    "**Case-3: for loop if-else**"
   ]
  },
  {
   "cell_type": "code",
   "execution_count": null,
   "id": "37a3c3bc-2e1d-4172-b3bf-449257995292",
   "metadata": {},
   "outputs": [],
   "source": [
    "case-1 for loop: [<output> <for loop>]\n",
    "case-2: for-if: [<output> <for loop> <if cond>]\n",
    "case-3: for-if-else: [<if out> <if cond> else <else out> <for loop>]"
   ]
  },
  {
   "cell_type": "code",
   "execution_count": 40,
   "id": "bf1731e5-795d-4370-930b-3b5e9d71c864",
   "metadata": {},
   "outputs": [
    {
     "data": {
      "text/plain": [
       "['odd:1',\n",
       " 'even:2',\n",
       " 'odd:3',\n",
       " 'even:4',\n",
       " 'odd:5',\n",
       " 'even:6',\n",
       " 'odd:7',\n",
       " 'even:8',\n",
       " 'odd:9']"
      ]
     },
     "execution_count": 40,
     "metadata": {},
     "output_type": "execute_result"
    }
   ],
   "source": [
    "# even number\n",
    "list1=[]\n",
    "for i in range(1,10):\n",
    "    if i%2==0:\n",
    "        list1.append(f'even:{i}')\n",
    "    else:\n",
    "        list1.append(f'odd:{i}')\n",
    "list1"
   ]
  },
  {
   "cell_type": "code",
   "execution_count": 43,
   "id": "6871279c-8a85-4c06-8d2d-7b740fd46829",
   "metadata": {},
   "outputs": [
    {
     "data": {
      "text/plain": [
       "['odd:1',\n",
       " 'even:2',\n",
       " 'odd:3',\n",
       " 'even:4',\n",
       " 'odd:5',\n",
       " 'even:6',\n",
       " 'odd:7',\n",
       " 'even:8',\n",
       " 'odd:9']"
      ]
     },
     "execution_count": 43,
     "metadata": {},
     "output_type": "execute_result"
    }
   ],
   "source": [
    "[f'even:{i}' if i%2==0 else f'odd:{i}' for i in range(1,10) ]"
   ]
  },
  {
   "cell_type": "markdown",
   "id": "b202c649-9ba4-4067-9e12-d421b06bda78",
   "metadata": {},
   "source": [
    "**case-4: for-if-elif-else**\n",
    "\n",
    "- in list comprehension we dont have **elif** representation\n",
    "\n",
    "- elif also represent as **else+if**\n",
    "\n",
    "- in elif we have **elif condition** and elif output\n",
    "\n",
    "- else elif_output elif_condition"
   ]
  },
  {
   "cell_type": "code",
   "execution_count": null,
   "id": "65e56e78-d0c0-4baf-8615-d942f10677e2",
   "metadata": {},
   "outputs": [],
   "source": [
    "case-1 for loop: [<output> <for loop>]\n",
    "case-2: for-if: [<output> <for loop> <if cond>]\n",
    "case-3: for-if-else: [<if out> <if cond> else <else out> <for loop>]\n",
    "case-4: for-if-elif-else: [<if out> <if cond> else <elif out> <elif condi> else <else out> <for loop>]\n",
    "\n",
    "**Note**: instead of elif term write if"
   ]
  },
  {
   "cell_type": "code",
   "execution_count": 45,
   "id": "f98612c6-54a3-4ec1-a458-0d4c684a2e91",
   "metadata": {},
   "outputs": [
    {
     "name": "stdout",
     "output_type": "stream",
     "text": [
      "45:C grade\n",
      "55:C grade\n",
      "65:B grade\n",
      "75:B grade\n",
      "85:B grade\n",
      "95:A grade\n"
     ]
    }
   ],
   "source": [
    "l=[45,55,65,75,85,95]\n",
    "for i in l:\n",
    "    if i>85:\n",
    "        print(f'{i}:A grade')\n",
    "    elif i>60:\n",
    "        print(f'{i}:B grade')\n",
    "    else:\n",
    "        print(f'{i}:C grade')"
   ]
  },
  {
   "cell_type": "code",
   "execution_count": 49,
   "id": "edeed26d-159e-4c4c-b2a6-d66afe23bc46",
   "metadata": {},
   "outputs": [
    {
     "data": {
      "text/plain": [
       "['45:C grade',\n",
       " '55:C grade',\n",
       " '65:B grade',\n",
       " '75:B grade',\n",
       " '85:B grade',\n",
       " '95:A grade']"
      ]
     },
     "execution_count": 49,
     "metadata": {},
     "output_type": "execute_result"
    }
   ],
   "source": [
    "grade=[f'{i}:A grade' if i>85 else f'{i}:B grade' if i>60 else f'{i}:C grade' for i in l]\n",
    "grade"
   ]
  },
  {
   "cell_type": "code",
   "execution_count": 50,
   "id": "d8225147-7e78-4b7f-86e4-eb9503fea4a2",
   "metadata": {},
   "outputs": [
    {
     "data": {
      "text/plain": [
       "['45:C grade',\n",
       " '55:C grade',\n",
       " '65:B grade',\n",
       " '75:B grade',\n",
       " '85:B grade',\n",
       " '95:A grade']"
      ]
     },
     "execution_count": 50,
     "metadata": {},
     "output_type": "execute_result"
    }
   ],
   "source": [
    "grade=[f'{i}:A grade' if i>85\\\n",
    "       else\n",
    "       f'{i}:B grade' if i>60\\\n",
    "       else \n",
    "       f'{i}:C grade' for i in l]\n",
    "grade"
   ]
  },
  {
   "cell_type": "code",
   "execution_count": 77,
   "id": "8ca615f3-bb94-49b1-b0eb-7bad81c988e4",
   "metadata": {},
   "outputs": [
    {
     "data": {
      "text/plain": [
       "['3,9',\n",
       " '6,36',\n",
       " '9,81',\n",
       " '12,144',\n",
       " '15,225',\n",
       " '18,324',\n",
       " '21,441',\n",
       " '24,576',\n",
       " '27,729',\n",
       " '30,900',\n",
       " '33,1089']"
      ]
     },
     "execution_count": 77,
     "metadata": {},
     "output_type": "execute_result"
    }
   ],
   "source": [
    "m=[]\n",
    "for i in range(1,36):\n",
    "    if i%3==0:\n",
    "        m.append(f'{i},{i**2}')\n",
    "m"
   ]
  },
  {
   "cell_type": "code",
   "execution_count": 78,
   "id": "ed6e9203-4a9a-4581-a37e-375cebb2e6e9",
   "metadata": {},
   "outputs": [
    {
     "data": {
      "text/plain": [
       "'C:\\\\Users\\\\91703\\\\Documents\\\\Data Science Naresh IT\\\\Python_sessions'"
      ]
     },
     "execution_count": 78,
     "metadata": {},
     "output_type": "execute_result"
    }
   ],
   "source": [
    "pwd"
   ]
  },
  {
   "cell_type": "code",
   "execution_count": 79,
   "id": "ccaee8b6-3955-45d3-a92b-762d158e6338",
   "metadata": {},
   "outputs": [
    {
     "data": {
      "text/plain": [
       "['3,9',\n",
       " '6,36',\n",
       " '9,81',\n",
       " '12,144',\n",
       " '15,225',\n",
       " '18,324',\n",
       " '21,441',\n",
       " '24,576',\n",
       " '27,729',\n",
       " '30,900',\n",
       " '33,1089']"
      ]
     },
     "execution_count": 79,
     "metadata": {},
     "output_type": "execute_result"
    }
   ],
   "source": [
    "[f'{i},{i**2}' for i in range(1,36) if i%3==0 ]"
   ]
  },
  {
   "cell_type": "code",
   "execution_count": 4,
   "id": "6e159941-a672-4b00-932d-d4f9f4f53450",
   "metadata": {},
   "outputs": [
    {
     "name": "stdout",
     "output_type": "stream",
     "text": [
      "[76, 89, 53, 67, 90, 82, 99]\n"
     ]
    }
   ],
   "source": [
    "# list of student marks in python, marks=[45,76,89,53,67,90,82,49,33,99],solve all below by using list comprehension \n",
    "# a)filter students who passed(maeks>=50)\n",
    "# b)calculate grades for all students(A:85+, B:70-84, C:50-69, F:<50)\n",
    "# c)Add 5 grace marks to students who failed(<50)\n",
    "# d)identify top 3 scorers\n",
    "# e)find avg of the class\n",
    "\n",
    "marks=[45,76,89,53,67,90,82,49,33,99]\n",
    "pass_students=[]\n",
    "for i in marks:\n",
    "    if i>=50:\n",
    "        pass_students.append(i)\n",
    "\n",
    "print(pass_students)"
   ]
  },
  {
   "cell_type": "code",
   "execution_count": 14,
   "id": "e9065b40-f4af-4365-a50f-d26998a49f30",
   "metadata": {},
   "outputs": [
    {
     "name": "stdout",
     "output_type": "stream",
     "text": [
      "1\n",
      "2\n",
      "3\n",
      "4\n",
      "5\n",
      "6\n",
      "9\n"
     ]
    }
   ],
   "source": [
    "marks=[45,76,89,53,67,90,82,49,33,99]\n",
    "for i in marks:\n",
    "    if i >= 50:\n",
    "        print(marks.index(i))"
   ]
  },
  {
   "cell_type": "code",
   "execution_count": 8,
   "id": "7e12c176-01ac-42fa-bfd5-d9a88a0cf835",
   "metadata": {},
   "outputs": [
    {
     "name": "stdout",
     "output_type": "stream",
     "text": [
      "['76', '89', '53', '67', '90', '82', '99']\n"
     ]
    }
   ],
   "source": [
    "pass_students=[f'{i}' for i in marks if i>=50 ]\n",
    "print(pass_students)"
   ]
  },
  {
   "cell_type": "code",
   "execution_count": 15,
   "id": "e49b8bd7-fba8-470d-9508-b8524b3ccdec",
   "metadata": {},
   "outputs": [
    {
     "name": "stdout",
     "output_type": "stream",
     "text": [
      "45:F\n",
      "76:B\n",
      "89:A\n",
      "53:C\n",
      "67:C\n",
      "90:A\n",
      "82:B\n",
      "49:F\n",
      "33:F\n",
      "99:A\n"
     ]
    }
   ],
   "source": [
    "# b)calculate grades for all students(A:85+, B:70-84, C:50-69, F:<50)\n",
    "marks=[45,76,89,53,67,90,82,49,33,99]\n",
    "for i in marks:\n",
    "    if i>=85:\n",
    "        print(f'{i}:A')\n",
    "    elif i>=70:\n",
    "        print(f'{i}:B')\n",
    "    elif i>=50:\n",
    "        print(f'{i}:C')\n",
    "    else:\n",
    "        print(f'{i}:F')"
   ]
  },
  {
   "cell_type": "code",
   "execution_count": 17,
   "id": "27b835ee-8430-441c-abe7-bbcfe8f02af1",
   "metadata": {},
   "outputs": [
    {
     "name": "stdout",
     "output_type": "stream",
     "text": [
      "['marks=45: F grade', 'marks=76: B grade', 'marks=89: A grade', 'marks=53: C grade', 'marks=67: C grade', 'marks=90: A grade', 'marks=82: B grade', 'marks=49: F grade', 'marks=33: F grade', 'marks=99: A grade']\n"
     ]
    }
   ],
   "source": [
    "marks=[45,76,89,53,67,90,82,49,33,99]\n",
    "grades=[f'marks={i}: A grade' if i>=85\n",
    "       else f'marks={i}: B grade' if i>=70\n",
    "       else f'marks={i}: C grade' if i>=50\n",
    "       else f'marks={i}: F grade'\n",
    "       for i in marks]\n",
    "print(grades)"
   ]
  },
  {
   "cell_type": "code",
   "execution_count": 18,
   "id": "8a6cfa29-70a5-4106-8a48-b9a63b3553ff",
   "metadata": {},
   "outputs": [
    {
     "name": "stdout",
     "output_type": "stream",
     "text": [
      "50\n",
      "54\n",
      "38\n"
     ]
    }
   ],
   "source": [
    "# c)Add 5 grace marks to students who failed(<50)\n",
    "marks=[45,76,89,53,67,90,82,49,33,99]\n",
    "for i in marks:\n",
    "    if i<50:\n",
    "        print(i+5)"
   ]
  },
  {
   "cell_type": "code",
   "execution_count": 19,
   "id": "01cccc73-217d-40d6-b7e5-9067a1031571",
   "metadata": {},
   "outputs": [
    {
     "data": {
      "text/plain": [
       "[50, 54, 38]"
      ]
     },
     "execution_count": 19,
     "metadata": {},
     "output_type": "execute_result"
    }
   ],
   "source": [
    "[i+5 for i in marks if i<50]"
   ]
  },
  {
   "cell_type": "code",
   "execution_count": 20,
   "id": "4a02c25b-c8de-4999-87f3-b9b7218b194c",
   "metadata": {},
   "outputs": [
    {
     "name": "stdout",
     "output_type": "stream",
     "text": [
      "99\n",
      "90\n",
      "89\n"
     ]
    }
   ],
   "source": [
    "# d)identify top 3 scorers\n",
    "marks=[45,76,89,53,67,90,82,49,33,99]\n",
    "max_val=max(marks)   # 99\n",
    "for i in range(3):\n",
    "    max_val=max(marks)  # \n",
    "    print(max_val)\n",
    "    marks.remove(max_val)"
   ]
  },
  {
   "cell_type": "code",
   "execution_count": 28,
   "id": "92926a8f-23a3-4839-8617-285f7d599097",
   "metadata": {},
   "outputs": [
    {
     "data": {
      "text/plain": [
       "68.3"
      ]
     },
     "execution_count": 28,
     "metadata": {},
     "output_type": "execute_result"
    }
   ],
   "source": [
    "# e)find avg of the class\n",
    "marks=[45,76,89,53,67,90,82,49,33,99]\n",
    "summ=0\n",
    "[summ:=summ+i for i in marks]\n",
    "summ/len(marks)"
   ]
  },
  {
   "cell_type": "markdown",
   "id": "34669553-6f94-4ea4-b9fe-3770dde91edb",
   "metadata": {},
   "source": [
    "**distance between two points**"
   ]
  },
  {
   "cell_type": "code",
   "execution_count": null,
   "id": "6edc424d-bc98-4107-83c3-5e60c06e9bf2",
   "metadata": {},
   "outputs": [],
   "source": [
    "l1=[1,2],[4,5],[7,9]\n",
    "l2=[10,20]\n",
    "# find the distance between l2 with all other points from l1\n",
    "# which is the max distance give me that\n"
   ]
  },
  {
   "cell_type": "code",
   "execution_count": 32,
   "id": "ad27d906-3b11-46d7-b785-39b7a01b1eb4",
   "metadata": {},
   "outputs": [
    {
     "name": "stdout",
     "output_type": "stream",
     "text": [
      "405.0\n"
     ]
    },
    {
     "data": {
      "text/plain": [
       "20.12461179749811"
      ]
     },
     "execution_count": 32,
     "metadata": {},
     "output_type": "execute_result"
    }
   ],
   "source": [
    "import math\n",
    "l1=[1,2]\n",
    "l2=[10,20]\n",
    "d1=l2[0]-l1[0]\n",
    "d1_square=math.pow(d1,2)\n",
    "d2=l2[1]-l1[1]\n",
    "d2_square=math.pow(d2,2)\n",
    "summ=d1_square+d2_square\n",
    "print(summ)\n",
    "math.sqrt(summ)"
   ]
  },
  {
   "cell_type": "code",
   "execution_count": 37,
   "id": "0cc5e358-1f18-419f-ad58-6e19bd741e3b",
   "metadata": {},
   "outputs": [
    {
     "data": {
      "text/plain": [
       "20.12461179749811"
      ]
     },
     "execution_count": 37,
     "metadata": {},
     "output_type": "execute_result"
    }
   ],
   "source": [
    "math.sqrt(math.pow(l2[0]-l1[0],2)+math.pow(l2[1]-l1[1],2))"
   ]
  },
  {
   "cell_type": "code",
   "execution_count": null,
   "id": "6e51ae6b-5027-4651-94d6-7d81087006d2",
   "metadata": {},
   "outputs": [],
   "source": [
    "**Interview Questions**\n",
    "# how to sort the list\n",
    "# how to find the maximum value of the list\n",
    "# how to find the minimum value of the list\n",
    "# how to find the second maximum value of the list\n",
    "# how to find the second minimum value of the list\n",
    "# how to find the longest word of the string\n",
    "# how to find the most repeated word of the string\n"
   ]
  },
  {
   "cell_type": "code",
   "execution_count": null,
   "id": "c3298592-8fb7-4fde-86f2-1a62b94b42f6",
   "metadata": {},
   "outputs": [],
   "source": []
  },
  {
   "cell_type": "code",
   "execution_count": null,
   "id": "d82045e1-c60d-4935-ae8a-83eb97ea34e7",
   "metadata": {},
   "outputs": [],
   "source": []
  }
 ],
 "metadata": {
  "kernelspec": {
   "display_name": "Python 3 (ipykernel)",
   "language": "python",
   "name": "python3"
  },
  "language_info": {
   "codemirror_mode": {
    "name": "ipython",
    "version": 3
   },
   "file_extension": ".py",
   "mimetype": "text/x-python",
   "name": "python",
   "nbconvert_exporter": "python",
   "pygments_lexer": "ipython3",
   "version": "3.12.7"
  }
 },
 "nbformat": 4,
 "nbformat_minor": 5
}
