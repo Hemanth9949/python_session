{
 "cells": [
  {
   "cell_type": "code",
   "execution_count": 5,
   "id": "9165fbc7-f61f-41f9-8ace-671fd5143f11",
   "metadata": {},
   "outputs": [
    {
     "name": "stdout",
     "output_type": "stream",
     "text": [
      "Ramesh age is 20\n",
      "Suresh age is 25\n",
      "Satish age is 30\n"
     ]
    }
   ],
   "source": [
    "names=['Ramesh','Suresh','Satish']\n",
    "age=[20,25,30]\n",
    "print(f'{names[0]} age is {age[0]}')\n",
    "print(f'{names[1]} age is {age[1]}')\n",
    "print(f'{names[2]} age is {age[2]}')"
   ]
  },
  {
   "cell_type": "code",
   "execution_count": 6,
   "id": "5c08e376-de76-4e77-87d1-cd20bb843f61",
   "metadata": {},
   "outputs": [
    {
     "name": "stdout",
     "output_type": "stream",
     "text": [
      "Ramesh age is 20\n",
      "Suresh age is 25\n",
      "Satish age is 30\n"
     ]
    }
   ],
   "source": [
    "for i in range(len(names)):\n",
    "    print(f'{names[i]} age is {age[i]}')"
   ]
  },
  {
   "cell_type": "markdown",
   "id": "22aad0ba-6ca6-44df-9432-07a6063425d9",
   "metadata": {},
   "source": [
    "**Zip**"
   ]
  },
  {
   "cell_type": "code",
   "execution_count": 10,
   "id": "93b2dc50-9248-49d9-8220-24c44bd90aef",
   "metadata": {},
   "outputs": [
    {
     "name": "stdout",
     "output_type": "stream",
     "text": [
      "('Ramesh', 20)\n",
      "('Suresh', 25)\n",
      "('Satish', 30)\n"
     ]
    }
   ],
   "source": [
    "names=['Ramesh','Suresh','Satish']\n",
    "age=[20,25,30]\n",
    "for i in zip(names,age):\n",
    "    print(i)\n",
    "    "
   ]
  },
  {
   "cell_type": "code",
   "execution_count": 11,
   "id": "886d0e7e-7823-41a3-9c31-dc47f300a0fd",
   "metadata": {},
   "outputs": [
    {
     "name": "stdout",
     "output_type": "stream",
     "text": [
      "Ramesh 20\n",
      "Suresh 25\n",
      "Satish 30\n"
     ]
    }
   ],
   "source": [
    "names=['Ramesh','Suresh','Satish']\n",
    "age=[20,25,30]\n",
    "for i,j in zip(names,age):\n",
    "    print(i,j)"
   ]
  },
  {
   "cell_type": "code",
   "execution_count": 12,
   "id": "5be449a3-2529-4701-b9ff-e3e4592b0b7b",
   "metadata": {},
   "outputs": [
    {
     "name": "stdout",
     "output_type": "stream",
     "text": [
      "Ramesh 20\n",
      "Ramesh age is 20\n",
      "Suresh 25\n",
      "Suresh age is 25\n",
      "Satish 30\n",
      "Satish age is 30\n"
     ]
    }
   ],
   "source": [
    "names=['Ramesh','Suresh','Satish']\n",
    "age=[20,25,30]\n",
    "for i,j in zip(names,age):\n",
    "    print(i,j)\n",
    "    print(f'{i} age is {j}')"
   ]
  },
  {
   "cell_type": "code",
   "execution_count": 14,
   "id": "5f5a3904-d180-40b5-8a69-7fb25fc6588c",
   "metadata": {},
   "outputs": [
    {
     "data": {
      "text/plain": [
       "['Ramesh age is 20', 'Suresh age is 25', 'Satish age is 30']"
      ]
     },
     "execution_count": 14,
     "metadata": {},
     "output_type": "execute_result"
    }
   ],
   "source": [
    "[f'{i} age is {j}' for i,j in zip(names,age)]"
   ]
  },
  {
   "cell_type": "markdown",
   "id": "2df0f534-3578-4bb0-ada5-40a5bf67b321",
   "metadata": {},
   "source": [
    "**Dictionary**"
   ]
  },
  {
   "cell_type": "code",
   "execution_count": null,
   "id": "b0f76ae9-9b28-44e6-a47f-1973e846f140",
   "metadata": {},
   "outputs": [],
   "source": [
    "- In above example names and age both are together\n",
    "\n",
    "- when both are together we can pair them\n",
    "\n",
    "- This can happen using dictionary\n",
    "\n",
    "- Dictionary is called as **key-value** pair\n",
    "\n",
    "- it represents with curly braces : **{key:value}**\n",
    "\n",
    "- ramesh and 20 years both are pair: {'ramesh':20}\n"
   ]
  },
  {
   "cell_type": "code",
   "execution_count": 16,
   "id": "e163e999-fd55-427a-8115-65f022e97199",
   "metadata": {},
   "outputs": [
    {
     "data": {
      "text/plain": [
       "{'ramesh': 20, 'Suresh': 25, 'Satish': 30}"
      ]
     },
     "execution_count": 16,
     "metadata": {},
     "output_type": "execute_result"
    }
   ],
   "source": [
    "d1={'ramesh':20,\"Suresh\":25,'Satish':30}\n",
    "d1"
   ]
  },
  {
   "cell_type": "code",
   "execution_count": 17,
   "id": "c68c12d9-d118-42f5-8557-6d1d907c3db5",
   "metadata": {},
   "outputs": [
    {
     "data": {
      "text/plain": [
       "{20: 'ramesh', 25: 'Suresh', 30: 'Satish'}"
      ]
     },
     "execution_count": 17,
     "metadata": {},
     "output_type": "execute_result"
    }
   ],
   "source": [
    "d2={20:'ramesh',25:\"Suresh\",30:'Satish'}\n",
    "d2"
   ]
  },
  {
   "cell_type": "code",
   "execution_count": 19,
   "id": "d50afed0-a73d-4c12-b424-59b4f1103543",
   "metadata": {},
   "outputs": [
    {
     "data": {
      "text/plain": [
       "{'Hi': 10, 'how': 20, 'are': 30}"
      ]
     },
     "execution_count": 19,
     "metadata": {},
     "output_type": "execute_result"
    }
   ],
   "source": [
    "d3={'Hi':10,'how':20,'are':30}\n",
    "d3"
   ]
  },
  {
   "cell_type": "code",
   "execution_count": 20,
   "id": "3a4a4cab-b813-4cc9-a530-f0ef0e0b2182",
   "metadata": {},
   "outputs": [
    {
     "data": {
      "text/plain": [
       "{1: 5, 2: 2, 3: 9}"
      ]
     },
     "execution_count": 20,
     "metadata": {},
     "output_type": "execute_result"
    }
   ],
   "source": [
    "d4={1:5,2:2,3:9}\n",
    "d4"
   ]
  },
  {
   "cell_type": "code",
   "execution_count": 21,
   "id": "beb2e640-23d3-4f60-bb65-0755f594cea7",
   "metadata": {},
   "outputs": [
    {
     "data": {
      "text/plain": [
       "{1: 22.1144, 5: 4.554, 9: 8.22}"
      ]
     },
     "execution_count": 21,
     "metadata": {},
     "output_type": "execute_result"
    }
   ],
   "source": [
    "d5={1:22.1144,5:4.554,9:8.220}\n",
    "d5"
   ]
  },
  {
   "cell_type": "code",
   "execution_count": 24,
   "id": "d6184c3b-62e0-4b37-9227-e4c88d905e86",
   "metadata": {},
   "outputs": [
    {
     "data": {
      "text/plain": [
       "{2: '#', 'a': '&', 'l': '|'}"
      ]
     },
     "execution_count": 24,
     "metadata": {},
     "output_type": "execute_result"
    }
   ],
   "source": [
    "d6={2:'#','a':'&','l':'|'}\n",
    "d6"
   ]
  },
  {
   "cell_type": "code",
   "execution_count": 27,
   "id": "6fc32ff2-ec7e-44fc-8c74-3802634dc46f",
   "metadata": {},
   "outputs": [
    {
     "data": {
      "text/plain": [
       "{(1, 2, 3, 2): (5, 8, 6, 8)}"
      ]
     },
     "execution_count": 27,
     "metadata": {},
     "output_type": "execute_result"
    }
   ],
   "source": [
    "d7={(1,2,3,2):(5,8,6,8)}\n",
    "d7"
   ]
  },
  {
   "cell_type": "code",
   "execution_count": 30,
   "id": "a7c39cd2-5f37-4586-b835-f296bfd8b32e",
   "metadata": {},
   "outputs": [
    {
     "data": {
      "text/plain": [
       "{'ramesh': 40}"
      ]
     },
     "execution_count": 30,
     "metadata": {},
     "output_type": "execute_result"
    }
   ],
   "source": [
    "d8={'ramesh':10,'ramesh':40}\n",
    "d8\n",
    "# if both keys are same it will take the latest value\n",
    "# dictionaries are kind of database\n",
    "# dictionaries does not allow duplicates\n",
    "# in dictionary keys can not be duplicate but values can be duplicate"
   ]
  },
  {
   "cell_type": "code",
   "execution_count": null,
   "id": "93feaffc-b709-47ff-9006-aa3dea95fd9b",
   "metadata": {},
   "outputs": [],
   "source": [
    "d1={'ramesh':20,\"Suresh\":25,'Satish':30}\n",
    "d2={20:'ramesh',25:\"Suresh\",30:'Satish'}\n",
    "d3={'ramesh':'20',\"Suresh\":'25','Satish':'30'}\n",
    "d4={'ramesh':'20',\"Suresh\":'25',30:'Satish'}\n",
    "d5=\n"
   ]
  },
  {
   "cell_type": "markdown",
   "id": "6aae407f-8e1d-4ce7-9f39-9d1814a3f241",
   "metadata": {},
   "source": [
    "**list as keys fails because list has a mutable behaviour**\n",
    "\n",
    "**tuple as keys works because tuple has immutable behaviour**\n",
    "\n",
    "**in dictionary keys are very very important**\n",
    "\n",
    "**keys doen not change so when we apply list is failing**"
   ]
  },
  {
   "cell_type": "markdown",
   "id": "c477dc0e-4faf-44ce-8d2a-2b26dcd0e553",
   "metadata": {},
   "source": [
    "- if both keys are same it will take the latest value\n",
    "\n",
    "- Dictionarys does not allow duplicates\n",
    "\n",
    "- In dictionary keys play vital roles\n",
    "\n",
    "- keys can not be duplicate but values can be duplicate"
   ]
  },
  {
   "cell_type": "code",
   "execution_count": 3,
   "id": "f977c7ee-db58-4458-9239-c1956cdf17d9",
   "metadata": {},
   "outputs": [
    {
     "data": {
      "text/plain": [
       "{'fruits': {'Apple': 20}}"
      ]
     },
     "execution_count": 3,
     "metadata": {},
     "output_type": "execute_result"
    }
   ],
   "source": [
    "d14={'fruits':{'Apple':20}}  # works\n",
    "d14"
   ]
  },
  {
   "cell_type": "code",
   "execution_count": 4,
   "id": "6cf07a67-7e03-4074-8b0c-aadafda8cf31",
   "metadata": {},
   "outputs": [
    {
     "ename": "TypeError",
     "evalue": "unhashable type: 'dict'",
     "output_type": "error",
     "traceback": [
      "\u001b[1;31m---------------------------------------------------------------------------\u001b[0m",
      "\u001b[1;31mTypeError\u001b[0m                                 Traceback (most recent call last)",
      "Cell \u001b[1;32mIn[4], line 1\u001b[0m\n\u001b[1;32m----> 1\u001b[0m d15\u001b[38;5;241m=\u001b[39m{{\u001b[38;5;124m'\u001b[39m\u001b[38;5;124mApple\u001b[39m\u001b[38;5;124m'\u001b[39m:\u001b[38;5;241m20\u001b[39m}:\u001b[38;5;124m'\u001b[39m\u001b[38;5;124mfruits\u001b[39m\u001b[38;5;124m'\u001b[39m}\n",
      "\u001b[1;31mTypeError\u001b[0m: unhashable type: 'dict'"
     ]
    }
   ],
   "source": [
    "d15={{'Apple':20}:'fruits'}  # fails"
   ]
  },
  {
   "cell_type": "code",
   "execution_count": 5,
   "id": "020ce5d0-a1d6-4503-a0ac-8ee19ad4177f",
   "metadata": {},
   "outputs": [
    {
     "data": {
      "text/plain": [
       "'Apple'"
      ]
     },
     "execution_count": 5,
     "metadata": {},
     "output_type": "execute_result"
    }
   ],
   "source": [
    "dict1={'Apple':20,'Banana':30,'Cherry':50}\n",
    "dict2={'Apple':20,'apple':30}\n",
    "dict3={20:'Apple',30:'Banana',50:'Cherry'}\n",
    "# apply min max sum sorted reversed\n",
    "min(dict1)"
   ]
  },
  {
   "cell_type": "code",
   "execution_count": 9,
   "id": "ac9f7617-9976-4a56-849d-4abe6c65e29a",
   "metadata": {},
   "outputs": [
    {
     "data": {
      "text/plain": [
       "'Cherry'"
      ]
     },
     "execution_count": 9,
     "metadata": {},
     "output_type": "execute_result"
    }
   ],
   "source": [
    "max(dict1)"
   ]
  },
  {
   "cell_type": "code",
   "execution_count": 8,
   "id": "7ecfa0f7-9b94-4285-bc26-b7376408e470",
   "metadata": {},
   "outputs": [
    {
     "ename": "TypeError",
     "evalue": "unsupported operand type(s) for +: 'int' and 'str'",
     "output_type": "error",
     "traceback": [
      "\u001b[1;31m---------------------------------------------------------------------------\u001b[0m",
      "\u001b[1;31mTypeError\u001b[0m                                 Traceback (most recent call last)",
      "Cell \u001b[1;32mIn[8], line 1\u001b[0m\n\u001b[1;32m----> 1\u001b[0m \u001b[38;5;28msum\u001b[39m(dict1)\n",
      "\u001b[1;31mTypeError\u001b[0m: unsupported operand type(s) for +: 'int' and 'str'"
     ]
    }
   ],
   "source": [
    "sum(dict1)"
   ]
  },
  {
   "cell_type": "code",
   "execution_count": 10,
   "id": "6aa71d50-e75a-4105-9619-c09480663866",
   "metadata": {},
   "outputs": [
    {
     "data": {
      "text/plain": [
       "['Apple', 'Banana', 'Cherry']"
      ]
     },
     "execution_count": 10,
     "metadata": {},
     "output_type": "execute_result"
    }
   ],
   "source": [
    "sorted(dict1)"
   ]
  },
  {
   "cell_type": "code",
   "execution_count": 19,
   "id": "b9d2ec66-f454-4c75-8602-08035fc5fa2a",
   "metadata": {},
   "outputs": [],
   "source": [
    "m=reversed(dict1)"
   ]
  },
  {
   "cell_type": "code",
   "execution_count": 21,
   "id": "bded88d5-f5ba-4f2f-866d-a1a0a17f5f28",
   "metadata": {},
   "outputs": [
    {
     "data": {
      "text/plain": [
       "['Cherry', 'Banana', 'Apple']"
      ]
     },
     "execution_count": 21,
     "metadata": {},
     "output_type": "execute_result"
    }
   ],
   "source": [
    "list(m)"
   ]
  },
  {
   "cell_type": "code",
   "execution_count": 22,
   "id": "c3cea216-cacc-4762-9c8e-bd928d0dd0c3",
   "metadata": {},
   "outputs": [
    {
     "data": {
      "text/plain": [
       "('Apple', 'apple')"
      ]
     },
     "execution_count": 22,
     "metadata": {},
     "output_type": "execute_result"
    }
   ],
   "source": [
    "dict2={'Apple':20,'apple':30}\n",
    "min(dict2)"
   ]
  },
  {
   "cell_type": "code",
   "execution_count": 23,
   "id": "e4c40cb2-8a31-4df9-ae42-c3ca6aa973a9",
   "metadata": {},
   "outputs": [
    {
     "data": {
      "text/plain": [
       "'apple'"
      ]
     },
     "execution_count": 23,
     "metadata": {},
     "output_type": "execute_result"
    }
   ],
   "source": [
    "max(dict2)"
   ]
  },
  {
   "cell_type": "code",
   "execution_count": 24,
   "id": "b210bbc5-304d-4dfe-88a9-0ac30cfa8c61",
   "metadata": {},
   "outputs": [
    {
     "ename": "TypeError",
     "evalue": "unsupported operand type(s) for +: 'int' and 'str'",
     "output_type": "error",
     "traceback": [
      "\u001b[1;31m---------------------------------------------------------------------------\u001b[0m",
      "\u001b[1;31mTypeError\u001b[0m                                 Traceback (most recent call last)",
      "Cell \u001b[1;32mIn[24], line 1\u001b[0m\n\u001b[1;32m----> 1\u001b[0m \u001b[38;5;28msum\u001b[39m(dict2)\n",
      "\u001b[1;31mTypeError\u001b[0m: unsupported operand type(s) for +: 'int' and 'str'"
     ]
    }
   ],
   "source": [
    "sum(dict2)"
   ]
  },
  {
   "cell_type": "code",
   "execution_count": 26,
   "id": "ce9d9247-3974-4d9d-aed6-92ee9e699535",
   "metadata": {},
   "outputs": [
    {
     "data": {
      "text/plain": [
       "['Apple', 'apple']"
      ]
     },
     "execution_count": 26,
     "metadata": {},
     "output_type": "execute_result"
    }
   ],
   "source": [
    "sorted(dict2)"
   ]
  },
  {
   "cell_type": "code",
   "execution_count": 27,
   "id": "31022116-14e0-4967-8adb-68a4d8433da7",
   "metadata": {},
   "outputs": [
    {
     "data": {
      "text/plain": [
       "['apple', 'Apple']"
      ]
     },
     "execution_count": 27,
     "metadata": {},
     "output_type": "execute_result"
    }
   ],
   "source": [
    "m=reversed(dict2)\n",
    "list(m)"
   ]
  },
  {
   "cell_type": "code",
   "execution_count": 28,
   "id": "64120c90-9458-46bd-aaac-3a9cd0c8513e",
   "metadata": {},
   "outputs": [
    {
     "data": {
      "text/plain": [
       "20"
      ]
     },
     "execution_count": 28,
     "metadata": {},
     "output_type": "execute_result"
    }
   ],
   "source": [
    "dict3={20:'Apple',30:'Banana',50:'Cherry'}\n",
    "min(dict3)"
   ]
  },
  {
   "cell_type": "code",
   "execution_count": 29,
   "id": "59412705-1427-46ea-b9f5-4615a5896149",
   "metadata": {},
   "outputs": [
    {
     "data": {
      "text/plain": [
       "50"
      ]
     },
     "execution_count": 29,
     "metadata": {},
     "output_type": "execute_result"
    }
   ],
   "source": [
    "max(dict3)"
   ]
  },
  {
   "cell_type": "code",
   "execution_count": 30,
   "id": "f14229b5-1707-44ef-8d3d-343defa48f83",
   "metadata": {},
   "outputs": [
    {
     "data": {
      "text/plain": [
       "100"
      ]
     },
     "execution_count": 30,
     "metadata": {},
     "output_type": "execute_result"
    }
   ],
   "source": [
    "sum(dict3)"
   ]
  },
  {
   "cell_type": "code",
   "execution_count": 31,
   "id": "94079622-98ef-4b6f-bb89-76e0ffdb7c2f",
   "metadata": {},
   "outputs": [
    {
     "data": {
      "text/plain": [
       "[20, 30, 50]"
      ]
     },
     "execution_count": 31,
     "metadata": {},
     "output_type": "execute_result"
    }
   ],
   "source": [
    "sorted(dict3)"
   ]
  },
  {
   "cell_type": "code",
   "execution_count": 32,
   "id": "31c26889-a484-4f9c-a3f7-1c5994d8f25e",
   "metadata": {},
   "outputs": [
    {
     "data": {
      "text/plain": [
       "[50, 30, 20]"
      ]
     },
     "execution_count": 32,
     "metadata": {},
     "output_type": "execute_result"
    }
   ],
   "source": [
    "x=reversed(dict3)\n",
    "list(x)"
   ]
  },
  {
   "cell_type": "code",
   "execution_count": 33,
   "id": "40f63482-dba3-43cf-8264-a1f3cb47a101",
   "metadata": {},
   "outputs": [
    {
     "data": {
      "text/plain": [
       "True"
      ]
     },
     "execution_count": 33,
     "metadata": {},
     "output_type": "execute_result"
    }
   ],
   "source": [
    "dict1={'Apple':20,'Banana':30,'Cherry':50}\n",
    "'Apple' in dict1"
   ]
  },
  {
   "cell_type": "code",
   "execution_count": 34,
   "id": "0626d362-4b9b-4c84-9276-931c16c9099f",
   "metadata": {},
   "outputs": [
    {
     "data": {
      "text/plain": [
       "False"
      ]
     },
     "execution_count": 34,
     "metadata": {},
     "output_type": "execute_result"
    }
   ],
   "source": [
    "20 in dict1"
   ]
  },
  {
   "cell_type": "code",
   "execution_count": 35,
   "id": "c44620d9-16a9-428f-8084-6968a648f891",
   "metadata": {},
   "outputs": [
    {
     "ename": "SyntaxError",
     "evalue": "illegal target for annotation (1635405859.py, line 1)",
     "output_type": "error",
     "traceback": [
      "\u001b[1;36m  Cell \u001b[1;32mIn[35], line 1\u001b[1;36m\u001b[0m\n\u001b[1;33m    'Apple':20 in dict1\u001b[0m\n\u001b[1;37m    ^\u001b[0m\n\u001b[1;31mSyntaxError\u001b[0m\u001b[1;31m:\u001b[0m illegal target for annotation\n"
     ]
    }
   ],
   "source": [
    "'Apple':20 in dict1"
   ]
  },
  {
   "cell_type": "code",
   "execution_count": 36,
   "id": "cbb389b0-3dc5-4809-b61a-2792ca66fb8e",
   "metadata": {},
   "outputs": [
    {
     "name": "stdout",
     "output_type": "stream",
     "text": [
      "Apple\n",
      "Banana\n",
      "Cherry\n"
     ]
    }
   ],
   "source": [
    "dict1={'Apple':20,'Banana':30,'Cherry':50}\n",
    "for i in dict1:\n",
    "    print(i)"
   ]
  },
  {
   "cell_type": "code",
   "execution_count": 39,
   "id": "9fd71a5c-4f09-4925-9602-05dc8d88a15a",
   "metadata": {},
   "outputs": [
    {
     "name": "stdout",
     "output_type": "stream",
     "text": [
      "0\n",
      "1\n",
      "2\n"
     ]
    }
   ],
   "source": [
    "dict1={'Apple':20,'Banana':30,'Cherry':50}\n",
    "l=len(dict1)\n",
    "for i in range(0,l):\n",
    "    print(i)"
   ]
  },
  {
   "cell_type": "markdown",
   "id": "5ca84f8e-b08a-49d3-9566-75e19027ba15",
   "metadata": {},
   "source": [
    "**index**"
   ]
  },
  {
   "cell_type": "code",
   "execution_count": 40,
   "id": "c4f2afb1-74bb-4732-a5b7-bd71b62518f3",
   "metadata": {},
   "outputs": [
    {
     "ename": "KeyError",
     "evalue": "0",
     "output_type": "error",
     "traceback": [
      "\u001b[1;31m---------------------------------------------------------------------------\u001b[0m",
      "\u001b[1;31mKeyError\u001b[0m                                  Traceback (most recent call last)",
      "Cell \u001b[1;32mIn[40], line 2\u001b[0m\n\u001b[0;32m      1\u001b[0m dict1\u001b[38;5;241m=\u001b[39m{\u001b[38;5;124m'\u001b[39m\u001b[38;5;124mApple\u001b[39m\u001b[38;5;124m'\u001b[39m:\u001b[38;5;241m20\u001b[39m,\u001b[38;5;124m'\u001b[39m\u001b[38;5;124mBanana\u001b[39m\u001b[38;5;124m'\u001b[39m:\u001b[38;5;241m30\u001b[39m,\u001b[38;5;124m'\u001b[39m\u001b[38;5;124mCherry\u001b[39m\u001b[38;5;124m'\u001b[39m:\u001b[38;5;241m50\u001b[39m}\n\u001b[1;32m----> 2\u001b[0m dict1[\u001b[38;5;241m0\u001b[39m]\n",
      "\u001b[1;31mKeyError\u001b[0m: 0"
     ]
    }
   ],
   "source": [
    "dict1={'Apple':20,'Banana':30,'Cherry':50}\n",
    "dict1[0]"
   ]
  },
  {
   "cell_type": "markdown",
   "id": "024e6449-c644-43af-bcd6-66579f80235b",
   "metadata": {},
   "source": [
    "- index operation will fail in dictionary"
   ]
  },
  {
   "cell_type": "markdown",
   "id": "459ed763-4875-4d41-ac4c-75377774b0de",
   "metadata": {},
   "source": [
    "**how to extract the values**\n",
    "\n",
    "- in dictionary we have a concept key:value pair\n",
    "\n",
    "- keys are very important\n",
    "\n",
    "- in order to get the values we need to take keys help"
   ]
  },
  {
   "cell_type": "code",
   "execution_count": 43,
   "id": "e8bd8fb9-f946-491c-9a6a-d0a8eee83c93",
   "metadata": {},
   "outputs": [
    {
     "data": {
      "text/plain": [
       "50"
      ]
     },
     "execution_count": 43,
     "metadata": {},
     "output_type": "execute_result"
    }
   ],
   "source": [
    "dict1={'Apple':20,'Banana':30,'Cherry':50}\n",
    "dict1['Apple']\n",
    "dict1['Banana']\n",
    "dict1['Cherry']"
   ]
  },
  {
   "cell_type": "code",
   "execution_count": 46,
   "id": "45a988a9-ef3d-4363-9df5-9e5f9a03367d",
   "metadata": {},
   "outputs": [
    {
     "name": "stdout",
     "output_type": "stream",
     "text": [
      "Apple 20\n",
      "Banana 30\n",
      "Cherry 50\n"
     ]
    }
   ],
   "source": [
    "for i in dict1:\n",
    "    print(i,dict1[i])"
   ]
  },
  {
   "cell_type": "code",
   "execution_count": 52,
   "id": "733f4261-c4b4-4217-9c6d-b25e1b12b1df",
   "metadata": {},
   "outputs": [
    {
     "name": "stdout",
     "output_type": "stream",
     "text": [
      "Ramesh age is 20\n",
      "Suresh age is 25\n",
      "Satish age is 30\n"
     ]
    }
   ],
   "source": [
    "names={'Ramesh':20,'Suresh':25,'Satish':30}\n",
    "for i in names:\n",
    "    print(f'{i} age is {names[i]}')\n"
   ]
  },
  {
   "cell_type": "code",
   "execution_count": 53,
   "id": "0f20fe8a-621e-423d-8bf5-55da89b1273b",
   "metadata": {},
   "outputs": [
    {
     "name": "stdout",
     "output_type": "stream",
     "text": [
      "Ramesh age is 20 \n",
      "Suresh age is 25 \n",
      "Satish age is 30 \n"
     ]
    }
   ],
   "source": [
    "names={'Ramesh':20,'Suresh':25,'Satish':30}\n",
    "for key in names:\n",
    "    value=names[key]\n",
    "    print(f'{key} age is {value} ')"
   ]
  },
  {
   "cell_type": "code",
   "execution_count": 54,
   "id": "cf557f3f-60db-4a0d-935d-8e17d53ce6c0",
   "metadata": {},
   "outputs": [
    {
     "data": {
      "text/plain": [
       "'Cherry'"
      ]
     },
     "execution_count": 54,
     "metadata": {},
     "output_type": "execute_result"
    }
   ],
   "source": [
    "# get cherry\n",
    "d={'fruits':['Apple','Banana','Cherry']}\n",
    "d['fruits'][2]"
   ]
  },
  {
   "cell_type": "code",
   "execution_count": 55,
   "id": "d871c9bd-1138-4ac8-9502-575cd32779e6",
   "metadata": {},
   "outputs": [
    {
     "data": {
      "text/plain": [
       "{'fruits': {'Apple': ['sweet', 'sour', 'green']}}"
      ]
     },
     "execution_count": 55,
     "metadata": {},
     "output_type": "execute_result"
    }
   ],
   "source": [
    "d={'fruits':{'Apple':['sweet','sour','green']}}\n",
    "d  "
   ]
  },
  {
   "cell_type": "code",
   "execution_count": 57,
   "id": "5ce16c5a-95ba-4000-8870-a74d0c389dba",
   "metadata": {},
   "outputs": [
    {
     "data": {
      "text/plain": [
       "'green'"
      ]
     },
     "execution_count": 57,
     "metadata": {},
     "output_type": "execute_result"
    }
   ],
   "source": [
    "d['fruits']['Apple'][2]"
   ]
  },
  {
   "cell_type": "code",
   "execution_count": 59,
   "id": "5d9d8546-d1a3-4e94-97b4-d6685678f237",
   "metadata": {},
   "outputs": [
    {
     "data": {
      "text/plain": [
       "{'fruits': [{'cost': [50]}]}"
      ]
     },
     "execution_count": 59,
     "metadata": {},
     "output_type": "execute_result"
    }
   ],
   "source": [
    "d={'fruits':[{'cost':[50]}]}\n",
    "d"
   ]
  },
  {
   "cell_type": "code",
   "execution_count": 61,
   "id": "598a58cb-ad03-4b56-b267-bd7675fb8c94",
   "metadata": {},
   "outputs": [
    {
     "data": {
      "text/plain": [
       "50"
      ]
     },
     "execution_count": 61,
     "metadata": {},
     "output_type": "execute_result"
    }
   ],
   "source": [
    "d['fruits'][0]['cost'][0]"
   ]
  },
  {
   "cell_type": "code",
   "execution_count": 12,
   "id": "bab9e45b-2b84-4a86-bb0d-69c07fefc38f",
   "metadata": {},
   "outputs": [
    {
     "data": {
      "text/plain": [
       "{'fruits': ['Apple'], 'cost': [{'1kg': [20, 30, 40], '2kg': None}]}"
      ]
     },
     "execution_count": 12,
     "metadata": {},
     "output_type": "execute_result"
    }
   ],
   "source": [
    "d={'fruits':['Apple'],'cost':[{'1kg':[20,30,40],'2kg':None}]}\n",
    "d"
   ]
  },
  {
   "cell_type": "code",
   "execution_count": 10,
   "id": "9f75d723-75d6-4206-88bb-43268578a033",
   "metadata": {},
   "outputs": [
    {
     "data": {
      "text/plain": [
       "40"
      ]
     },
     "execution_count": 10,
     "metadata": {},
     "output_type": "execute_result"
    }
   ],
   "source": [
    "d['cost'][0]['1kg'][2]"
   ]
  },
  {
   "cell_type": "code",
   "execution_count": 16,
   "id": "05e61954-0b37-407b-be73-e47fa621b618",
   "metadata": {},
   "outputs": [],
   "source": [
    "d['cost'][0]['2kg']"
   ]
  },
  {
   "cell_type": "code",
   "execution_count": 18,
   "id": "06997c13-7411-40fa-b35b-0de7a545b6b0",
   "metadata": {},
   "outputs": [
    {
     "data": {
      "text/plain": [
       "'N'"
      ]
     },
     "execution_count": 18,
     "metadata": {},
     "output_type": "execute_result"
    }
   ],
   "source": [
    "d={'fruits':['Apple'],'cost':[{'1kg':[20,30,40],'2kg':'None'}]}\n",
    "d['cost'][0]['2kg'][0]"
   ]
  },
  {
   "cell_type": "code",
   "execution_count": 20,
   "id": "4ed3bc73-ad10-45fd-851c-38da4e22d47b",
   "metadata": {},
   "outputs": [
    {
     "data": {
      "text/plain": [
       "{'fruits': {'orange': {'nagpur': {'MH': {'king': {'shivaji': {'shambaji'}}}}}}}"
      ]
     },
     "execution_count": 20,
     "metadata": {},
     "output_type": "execute_result"
    }
   ],
   "source": [
    "d={'fruits':{'orange':{'nagpur':{'MH':{'king':{'shivaji':{'shambaji'}}}}}}}\n",
    "d"
   ]
  },
  {
   "cell_type": "code",
   "execution_count": 21,
   "id": "0aa500ab-337d-41b3-8a45-2b4c839a983a",
   "metadata": {},
   "outputs": [
    {
     "data": {
      "text/plain": [
       "{'shambaji'}"
      ]
     },
     "execution_count": 21,
     "metadata": {},
     "output_type": "execute_result"
    }
   ],
   "source": [
    "d['fruits']['orange']['nagpur']['MH']['king']['shivaji']"
   ]
  },
  {
   "cell_type": "markdown",
   "id": "6f80e9ca-c6ac-4bb1-86ea-6b9225b69ac1",
   "metadata": {},
   "source": [
    "**how to create empty dictionary**\n",
    "\n",
    "- now onwards focus on creation of empty list, strings, and dictionary\n",
    "\n",
    "- we will take empty list will use **append** operation\n",
    "\n",
    "- we will take empty string will use **concatenation**\n",
    "\n",
    "- we will take empty dictionary will use **key:value pair concept**"
   ]
  },
  {
   "cell_type": "code",
   "execution_count": 22,
   "id": "f99f02f0-9202-4fdd-8e89-c3db095f216d",
   "metadata": {},
   "outputs": [
    {
     "data": {
      "text/plain": [
       "[10, 20]"
      ]
     },
     "execution_count": 22,
     "metadata": {},
     "output_type": "execute_result"
    }
   ],
   "source": [
    "# list\n",
    "l=[]\n",
    "l.append(10)\n",
    "l.append(20)\n",
    "l"
   ]
  },
  {
   "cell_type": "code",
   "execution_count": 23,
   "id": "2f739096-cc79-472d-bf2c-bddf8c8e1766",
   "metadata": {},
   "outputs": [
    {
     "data": {
      "text/plain": [
       "'py'"
      ]
     },
     "execution_count": 23,
     "metadata": {},
     "output_type": "execute_result"
    }
   ],
   "source": [
    "# string\n",
    "s=''\n",
    "s=s+'p'   # ''+'p'\n",
    "s=s+'y'   # 'p'+'y'='py'\n",
    "s"
   ]
  },
  {
   "cell_type": "code",
   "execution_count": 28,
   "id": "a0d49635-043d-4321-b56d-f76afbf0c7e6",
   "metadata": {},
   "outputs": [
    {
     "data": {
      "text/plain": [
       "{'Ramesh': 20, 'Suresh': 25, 'Satish': 30}"
      ]
     },
     "execution_count": 28,
     "metadata": {},
     "output_type": "execute_result"
    }
   ],
   "source": [
    "# dictionary\n",
    "d={}\n",
    "d['Ramesh']=20\n",
    "d[\"Suresh\"]=25\n",
    "d['Satish']=30\n",
    "d"
   ]
  },
  {
   "cell_type": "markdown",
   "id": "914d134c-b3ad-4340-a121-d868b0da1bb6",
   "metadata": {},
   "source": [
    "**How to convert list to dictionary**"
   ]
  },
  {
   "cell_type": "code",
   "execution_count": 33,
   "id": "c90f738e-7b3f-45c4-aa1b-62bf02ad2337",
   "metadata": {},
   "outputs": [
    {
     "name": "stdout",
     "output_type": "stream",
     "text": [
      "Ramesh 20\n",
      "Suresh 25\n",
      "Satish 30\n"
     ]
    },
    {
     "data": {
      "text/plain": [
       "{'Ramesh': 20, 'Suresh': 25, 'Satish': 30}"
      ]
     },
     "execution_count": 33,
     "metadata": {},
     "output_type": "execute_result"
    }
   ],
   "source": [
    "# converting list to dictionary\n",
    "names=['Ramesh','Suresh','Satish']\n",
    "age=[20,25,30]\n",
    "d={}\n",
    "for i,j in zip(names,age):\n",
    "    print(i,j)\n",
    "    d[i]=j\n",
    "d\n",
    "        "
   ]
  },
  {
   "cell_type": "code",
   "execution_count": 35,
   "id": "9e60124f-30fb-4ea3-9f38-339649216cb3",
   "metadata": {},
   "outputs": [
    {
     "data": {
      "text/plain": [
       "{'Ramesh': 20, 'Suresh': 25, 'Satish': 30}"
      ]
     },
     "execution_count": 35,
     "metadata": {},
     "output_type": "execute_result"
    }
   ],
   "source": [
    "names=['Ramesh','Suresh','Satish']\n",
    "age=[20,25,30]\n",
    "dict1={}\n",
    "for i,j in zip(names,age):\n",
    "    dict1[i]=j\n",
    "dict1"
   ]
  },
  {
   "cell_type": "markdown",
   "id": "218b1962-66f9-4ae1-9fff-70dd5cf30401",
   "metadata": {},
   "source": [
    "**dictionary comprehension**"
   ]
  },
  {
   "cell_type": "markdown",
   "id": "d1cdfc8e-b201-440e-948d-b1c41d349bbb",
   "metadata": {},
   "source": [
    "- for list comprehension we written everything inside list\n",
    "\n",
    "- for dict comprehension we should write everything inside dictionary\n",
    "\n",
    "- "
   ]
  },
  {
   "cell_type": "code",
   "execution_count": 41,
   "id": "1be2a71f-3410-4680-91d9-2661fe911a30",
   "metadata": {},
   "outputs": [
    {
     "data": {
      "text/plain": [
       "{'Ramesh': 20, 'Suresh': 25, 'Satish': 30}"
      ]
     },
     "execution_count": 41,
     "metadata": {},
     "output_type": "execute_result"
    }
   ],
   "source": [
    "# list comprehension: [<output> <for loop>]\n",
    "# dict comprehension: {<key:value <for loop>}\n",
    "{i:j for i,j in zip(names,age)}"
   ]
  },
  {
   "cell_type": "markdown",
   "id": "15f63b08-1870-4a85-926f-5d2859309b77",
   "metadata": {},
   "source": [
    "**mutable-immutable**\n",
    "\n",
    "- lists are mutable\n",
    "\n",
    "- dictionaries are also mutable\n",
    "\n",
    "- strings are immutable\n",
    "\n",
    "- tuples are immutable\n",
    "\n",
    "- in dictionaries we can change the values using keys  "
   ]
  },
  {
   "cell_type": "code",
   "execution_count": 42,
   "id": "b7a3fffc-94c4-4c93-b2cb-c51872d47405",
   "metadata": {},
   "outputs": [
    {
     "data": {
      "text/plain": [
       "{'Ramesh': 30, 'Suresh': 25, 'Satish': 30}"
      ]
     },
     "execution_count": 42,
     "metadata": {},
     "output_type": "execute_result"
    }
   ],
   "source": [
    "d={'Ramesh': 20, 'Suresh': 25, 'Satish': 30}\n",
    "d['Ramesh']=30\n",
    "d"
   ]
  },
  {
   "cell_type": "code",
   "execution_count": 44,
   "id": "de5871bf-47bf-4ddc-8028-d5563067df96",
   "metadata": {},
   "outputs": [
    {
     "data": {
      "text/plain": [
       "['__class__',\n",
       " '__class_getitem__',\n",
       " '__contains__',\n",
       " '__delattr__',\n",
       " '__delitem__',\n",
       " '__dir__',\n",
       " '__doc__',\n",
       " '__eq__',\n",
       " '__format__',\n",
       " '__ge__',\n",
       " '__getattribute__',\n",
       " '__getitem__',\n",
       " '__getstate__',\n",
       " '__gt__',\n",
       " '__hash__',\n",
       " '__init__',\n",
       " '__init_subclass__',\n",
       " '__ior__',\n",
       " '__iter__',\n",
       " '__le__',\n",
       " '__len__',\n",
       " '__lt__',\n",
       " '__ne__',\n",
       " '__new__',\n",
       " '__or__',\n",
       " '__reduce__',\n",
       " '__reduce_ex__',\n",
       " '__repr__',\n",
       " '__reversed__',\n",
       " '__ror__',\n",
       " '__setattr__',\n",
       " '__setitem__',\n",
       " '__sizeof__',\n",
       " '__str__',\n",
       " '__subclasshook__',\n",
       " 'clear',\n",
       " 'copy',\n",
       " 'fromkeys',\n",
       " 'get',\n",
       " 'items',\n",
       " 'keys',\n",
       " 'pop',\n",
       " 'popitem',\n",
       " 'setdefault',\n",
       " 'update',\n",
       " 'values']"
      ]
     },
     "execution_count": 44,
     "metadata": {},
     "output_type": "execute_result"
    }
   ],
   "source": [
    "\n",
    "dir({})"
   ]
  },
  {
   "cell_type": "markdown",
   "id": "8d7a3d2b-7ba1-4a48-ab78-fff33a48a0f8",
   "metadata": {},
   "source": [
    "**methods**\n",
    "\n",
    "- clear\n",
    "\n",
    "- copy\n",
    "\n",
    "- keys\n",
    "\n",
    "- values\n",
    "\n",
    "- items"
   ]
  },
  {
   "cell_type": "markdown",
   "id": "08b37dd8-9d91-4482-a93d-417b48b3e1f1",
   "metadata": {},
   "source": [
    "**clear**"
   ]
  },
  {
   "cell_type": "code",
   "execution_count": 55,
   "id": "ae933529-4c32-438f-bec9-f80af4fe4d00",
   "metadata": {},
   "outputs": [
    {
     "data": {
      "text/plain": [
       "{}"
      ]
     },
     "execution_count": 55,
     "metadata": {},
     "output_type": "execute_result"
    }
   ],
   "source": [
    "d={'Ramesh': 20, 'Suresh': 25, 'Satish': 30}\n",
    "d.clear()\n",
    "d"
   ]
  },
  {
   "cell_type": "code",
   "execution_count": 56,
   "id": "38b2ce9e-a404-4861-9aa6-de813d28f4a1",
   "metadata": {},
   "outputs": [
    {
     "data": {
      "text/plain": [
       "{'Ramesh': 20, 'Suresh': 25, 'Satish': 30}"
      ]
     },
     "execution_count": 56,
     "metadata": {},
     "output_type": "execute_result"
    }
   ],
   "source": [
    "d={'Ramesh': 20, 'Suresh': 25, 'Satish': 30}\n",
    "l=d.copy()\n",
    "l"
   ]
  },
  {
   "cell_type": "code",
   "execution_count": 57,
   "id": "65afcdcb-2426-487f-9e30-6c6015383ea5",
   "metadata": {},
   "outputs": [
    {
     "data": {
      "text/plain": [
       "dict_keys(['Ramesh', 'Suresh', 'Satish'])"
      ]
     },
     "execution_count": 57,
     "metadata": {},
     "output_type": "execute_result"
    }
   ],
   "source": [
    "d={'Ramesh': 20, 'Suresh': 25, 'Satish': 30}\n",
    "d.keys()"
   ]
  },
  {
   "cell_type": "code",
   "execution_count": 1,
   "id": "aaee9740-64ab-4483-b6d3-7ed1cb6247ae",
   "metadata": {},
   "outputs": [
    {
     "data": {
      "text/plain": [
       "dict_keys(['Ramesh', 'Suresh', 'Satish'])"
      ]
     },
     "execution_count": 1,
     "metadata": {},
     "output_type": "execute_result"
    }
   ],
   "source": [
    "d={'Ramesh': 20, 'Suresh': 25, 'Satish': 30}\n",
    "keys=d.keys()\n",
    "keys"
   ]
  },
  {
   "cell_type": "code",
   "execution_count": 2,
   "id": "c9bd0d81-1d56-4067-8d53-adfef9df3b27",
   "metadata": {},
   "outputs": [
    {
     "data": {
      "text/plain": [
       "dict_keys"
      ]
     },
     "execution_count": 2,
     "metadata": {},
     "output_type": "execute_result"
    }
   ],
   "source": [
    "type(keys)"
   ]
  },
  {
   "cell_type": "code",
   "execution_count": 3,
   "id": "58f8d86b-f46f-4797-a4a8-deda893d147f",
   "metadata": {},
   "outputs": [
    {
     "ename": "AttributeError",
     "evalue": "'dict_keys' object has no attribute 'count'",
     "output_type": "error",
     "traceback": [
      "\u001b[1;31m---------------------------------------------------------------------------\u001b[0m",
      "\u001b[1;31mAttributeError\u001b[0m                            Traceback (most recent call last)",
      "Cell \u001b[1;32mIn[3], line 2\u001b[0m\n\u001b[0;32m      1\u001b[0m \u001b[38;5;66;03m# i got mistaken im assuming this is list type\u001b[39;00m\n\u001b[1;32m----> 2\u001b[0m keys\u001b[38;5;241m.\u001b[39mcount(\u001b[38;5;124m'\u001b[39m\u001b[38;5;124mRamesh\u001b[39m\u001b[38;5;124m'\u001b[39m)\n",
      "\u001b[1;31mAttributeError\u001b[0m: 'dict_keys' object has no attribute 'count'"
     ]
    }
   ],
   "source": [
    "# i got mistaken im assuming this is list type\n",
    "keys.count('Ramesh')"
   ]
  },
  {
   "cell_type": "markdown",
   "id": "05a85b8c-efa6-4e94-a832-388bb17163f1",
   "metadata": {},
   "source": [
    "**Convert dictionary to list**\n",
    "\n",
    "- in order to convert dictionary to list\n",
    "\n",
    "- first we need to separate keys and values\n",
    "\n",
    "- then apply list type casting"
   ]
  },
  {
   "cell_type": "code",
   "execution_count": 5,
   "id": "fa679b20-9ebc-4c44-b634-4cfd9d79a224",
   "metadata": {},
   "outputs": [
    {
     "data": {
      "text/plain": [
       "['Ramesh', 'Suresh', 'Satish']"
      ]
     },
     "execution_count": 5,
     "metadata": {},
     "output_type": "execute_result"
    }
   ],
   "source": [
    "d={'Ramesh': 20, 'Suresh': 25, 'Satish': 30}\n",
    "keys=d.keys()\n",
    "keys_list=list(keys)\n",
    "keys_list"
   ]
  },
  {
   "cell_type": "code",
   "execution_count": null,
   "id": "f1cc25c7-91d3-4668-9776-366bb2e46e9b",
   "metadata": {},
   "outputs": [],
   "source": [
    "list === string   using join\n",
    "string === list   using split\n",
    "list === dict     using zip\n",
    "dict === list     using typecasting"
   ]
  },
  {
   "cell_type": "code",
   "execution_count": 58,
   "id": "9b9935df-c19a-4340-a137-92fb170e8aed",
   "metadata": {},
   "outputs": [
    {
     "data": {
      "text/plain": [
       "dict_values([20, 25, 30])"
      ]
     },
     "execution_count": 58,
     "metadata": {},
     "output_type": "execute_result"
    }
   ],
   "source": [
    "d={'Ramesh': 20, 'Suresh': 25, 'Satish': 30}\n",
    "d.values()"
   ]
  },
  {
   "cell_type": "code",
   "execution_count": 6,
   "id": "5e50bcce-f17c-4412-ad38-62bd46edd53d",
   "metadata": {},
   "outputs": [
    {
     "data": {
      "text/plain": [
       "[20, 25, 30]"
      ]
     },
     "execution_count": 6,
     "metadata": {},
     "output_type": "execute_result"
    }
   ],
   "source": [
    "d={'Ramesh': 20, 'Suresh': 25, 'Satish': 30}\n",
    "values=d.values()\n",
    "values_list=list(values)\n",
    "values_list"
   ]
  },
  {
   "cell_type": "code",
   "execution_count": 59,
   "id": "28e46855-cf2b-4af2-a81e-c8eca9166111",
   "metadata": {},
   "outputs": [
    {
     "data": {
      "text/plain": [
       "dict_items([('Ramesh', 20), ('Suresh', 25), ('Satish', 30)])"
      ]
     },
     "execution_count": 59,
     "metadata": {},
     "output_type": "execute_result"
    }
   ],
   "source": [
    "d={'Ramesh': 20, 'Suresh': 25, 'Satish': 30}\n",
    "d.items()"
   ]
  },
  {
   "cell_type": "code",
   "execution_count": 7,
   "id": "b188b065-5fdb-4da7-b0e2-fd834ebc2f40",
   "metadata": {},
   "outputs": [
    {
     "data": {
      "text/plain": [
       "[('Ramesh', 20), ('Suresh', 25), ('Satish', 30)]"
      ]
     },
     "execution_count": 7,
     "metadata": {},
     "output_type": "execute_result"
    }
   ],
   "source": [
    "d={'Ramesh': 20, 'Suresh': 25, 'Satish': 30}\n",
    "items=d.items()\n",
    "items_list=list(items)\n",
    "items_list"
   ]
  },
  {
   "cell_type": "code",
   "execution_count": 9,
   "id": "f837856d-cd98-43a2-8fae-a3a108880476",
   "metadata": {},
   "outputs": [
    {
     "data": {
      "text/plain": [
       "(list, dict_keys)"
      ]
     },
     "execution_count": 9,
     "metadata": {},
     "output_type": "execute_result"
    }
   ],
   "source": [
    "type(keys_list),type(keys)"
   ]
  },
  {
   "cell_type": "code",
   "execution_count": 49,
   "id": "6cbe4d08-b0c1-403b-82f6-55f4ee2cc125",
   "metadata": {},
   "outputs": [
    {
     "name": "stdout",
     "output_type": "stream",
     "text": [
      "Alice\n",
      "22\n",
      "name: Alice\n",
      "age: 23\n",
      "skills: ['Python', 'C', 'MATLAB']\n",
      "grade: A\n"
     ]
    }
   ],
   "source": [
    "# Creating a dictionary\n",
    "student = {\n",
    "    \"name\": \"Alice\",\n",
    "    \"age\": 22,\n",
    "    \"course\": \"Electronics\",\n",
    "    \"skills\": [\"Python\", \"C\", \"MATLAB\"]\n",
    "}\n",
    "\n",
    "# Accessing values\n",
    "print(student[\"name\"])   # Output: Alice\n",
    "print(student.get(\"age\"))  # Output: 22\n",
    "\n",
    "# Adding a new key-value pair\n",
    "student[\"grade\"] = \"A\"\n",
    "\n",
    "# Modifying a value\n",
    "student[\"age\"] = 23\n",
    "\n",
    "# Removing a key-value pair\n",
    "del student[\"course\"]\n",
    "\n",
    "# Iterating over keys and values\n",
    "for key, value in student.items():\n",
    "    print(f\"{key}: {value}\")\n"
   ]
  },
  {
   "cell_type": "code",
   "execution_count": 18,
   "id": "24f26820-16c6-4701-b163-26709bd2b4c8",
   "metadata": {},
   "outputs": [
    {
     "name": "stdout",
     "output_type": "stream",
     "text": [
      "['virat', 'rohit', 'ms']\n",
      "['kohli', 'sharma', 'dhoni']\n",
      "['rcb', 'mi', 'csk']\n",
      "{'fname': ['virat', 'rohit', 'ms'], 'sname': ['kohli', 'sharma', 'dhoni'], 'cname': ['rcb', 'mi', 'csk']}\n"
     ]
    }
   ],
   "source": [
    "# input='virat.kohli@rcb.com;rohit.sharma@mi.com;ms.dhoni@csk.com'\n",
    "input='virat.kohli@rcb.com;rohit.sharma@mi.com;ms.dhoni@csk.com'\n",
    "l1=input.split(';')\n",
    "fname=[]\n",
    "sname=[]\n",
    "cname=[]\n",
    "for i in l1:\n",
    "    first=i.index('.')\n",
    "    x=i[0:first]\n",
    "\n",
    "    second=i.index('@')\n",
    "    y=i[first+1:second]\n",
    "\n",
    "    third=i.index('.',first+1)\n",
    "    z=i[second+1:third]\n",
    "\n",
    "    fname.append(x)\n",
    "    sname.append(y)\n",
    "    cname.append(z)\n",
    "\n",
    "print(fname)\n",
    "print(sname)\n",
    "print(cname)\n",
    "\n",
    "d={}\n",
    "d['fname']=fname\n",
    "d['sname']=sname\n",
    "d['cname']=cname\n",
    "print(d)\n"
   ]
  },
  {
   "cell_type": "code",
   "execution_count": 19,
   "id": "dfbc0cc9-8b66-4b61-bec2-41bcde2bf1c8",
   "metadata": {},
   "outputs": [
    {
     "data": {
      "text/plain": [
       "{'Ramesh': 20, 'Suresh': 25, 'Satish': 30}"
      ]
     },
     "execution_count": 19,
     "metadata": {},
     "output_type": "execute_result"
    }
   ],
   "source": [
    "d={}\n",
    "d['Ramesh']=20\n",
    "d[\"Suresh\"]=25\n",
    "d['Satish']=30\n",
    "d"
   ]
  },
  {
   "cell_type": "code",
   "execution_count": 22,
   "id": "e7428425-7687-4de6-98ce-7cf5ed52e7db",
   "metadata": {},
   "outputs": [
    {
     "data": {
      "text/plain": [
       "{'Fname': ['virat', 'rohit', 'ms'],\n",
       " 'Sname': ['kohli', 'sharma', 'dhoni'],\n",
       " 'Cname': ['rcb', 'mi', 'csk']}"
      ]
     },
     "execution_count": 22,
     "metadata": {},
     "output_type": "execute_result"
    }
   ],
   "source": [
    "input='virat.kohli@rcb.com;rohit.sharma@mi.com;ms.dhoni@csk.com'\n",
    "l1=input.split(';')\n",
    "fname,sname,cname=[],[],[]\n",
    "d={}\n",
    "for i in l1:\n",
    "    first=i.index('.')\n",
    "    second=i.index('@')\n",
    "    third=i.index('.',first+1)\n",
    "    fname.append(i[:first])\n",
    "    sname.append(i[first+1:second])\n",
    "    cname.append(i[second+1:third])\n",
    "d['Fname']=fname\n",
    "d['Sname']=sname\n",
    "d['Cname']=cname\n",
    "d"
   ]
  },
  {
   "cell_type": "code",
   "execution_count": 23,
   "id": "e25f4330-414d-4e66-aecd-96592fe41d26",
   "metadata": {},
   "outputs": [
    {
     "data": {
      "text/plain": [
       "['__class__',\n",
       " '__class_getitem__',\n",
       " '__contains__',\n",
       " '__delattr__',\n",
       " '__delitem__',\n",
       " '__dir__',\n",
       " '__doc__',\n",
       " '__eq__',\n",
       " '__format__',\n",
       " '__ge__',\n",
       " '__getattribute__',\n",
       " '__getitem__',\n",
       " '__getstate__',\n",
       " '__gt__',\n",
       " '__hash__',\n",
       " '__init__',\n",
       " '__init_subclass__',\n",
       " '__ior__',\n",
       " '__iter__',\n",
       " '__le__',\n",
       " '__len__',\n",
       " '__lt__',\n",
       " '__ne__',\n",
       " '__new__',\n",
       " '__or__',\n",
       " '__reduce__',\n",
       " '__reduce_ex__',\n",
       " '__repr__',\n",
       " '__reversed__',\n",
       " '__ror__',\n",
       " '__setattr__',\n",
       " '__setitem__',\n",
       " '__sizeof__',\n",
       " '__str__',\n",
       " '__subclasshook__',\n",
       " 'clear',\n",
       " 'copy',\n",
       " 'fromkeys',\n",
       " 'get',\n",
       " 'items',\n",
       " 'keys',\n",
       " 'pop',\n",
       " 'popitem',\n",
       " 'setdefault',\n",
       " 'update',\n",
       " 'values']"
      ]
     },
     "execution_count": 23,
     "metadata": {},
     "output_type": "execute_result"
    }
   ],
   "source": [
    "dir({})"
   ]
  },
  {
   "cell_type": "code",
   "execution_count": 29,
   "id": "6eb709fc-4f89-49a4-a35a-461802133183",
   "metadata": {},
   "outputs": [
    {
     "data": {
      "text/plain": [
       "30"
      ]
     },
     "execution_count": 29,
     "metadata": {},
     "output_type": "execute_result"
    }
   ],
   "source": [
    "# 'pop',\n",
    "#  'popitem'\n",
    "d={'Ramesh': 20, 'Suresh': 25, 'Satish': 30}\n",
    "d.pop('Satish')"
   ]
  },
  {
   "cell_type": "code",
   "execution_count": 32,
   "id": "a4d4a879-0417-44ce-8017-7cd5db68d86c",
   "metadata": {},
   "outputs": [
    {
     "data": {
      "text/plain": [
       "('Satish', 30)"
      ]
     },
     "execution_count": 32,
     "metadata": {},
     "output_type": "execute_result"
    }
   ],
   "source": [
    "d={'Ramesh': 20, 'Suresh': 25, 'Satish': 30}\n",
    "d.popitem()"
   ]
  },
  {
   "cell_type": "code",
   "execution_count": 33,
   "id": "136701ac-f9ed-459a-9f31-8478dd58701e",
   "metadata": {},
   "outputs": [
    {
     "name": "stdout",
     "output_type": "stream",
     "text": [
      "{'Ramesh': 20, 'Suresh': 25}\n"
     ]
    }
   ],
   "source": [
    "print(d)"
   ]
  },
  {
   "cell_type": "code",
   "execution_count": 35,
   "id": "e8ec98d2-c16b-4391-b0d2-389a2a894764",
   "metadata": {},
   "outputs": [
    {
     "data": {
      "text/plain": [
       "['Suresh', 'Satish']"
      ]
     },
     "execution_count": 35,
     "metadata": {},
     "output_type": "execute_result"
    }
   ],
   "source": [
    "l1=['Ramesh','Suresh','Satish']\n",
    "l1.remove('Ramesh')\n",
    "l1"
   ]
  },
  {
   "cell_type": "code",
   "execution_count": 37,
   "id": "b3770d34-7be3-4e68-85f7-1cc1b23b6623",
   "metadata": {},
   "outputs": [
    {
     "data": {
      "text/plain": [
       "['Ramesh', 'Suresh']"
      ]
     },
     "execution_count": 37,
     "metadata": {},
     "output_type": "execute_result"
    }
   ],
   "source": [
    "l1=['Ramesh','Suresh','Satish']\n",
    "l1.pop()\n",
    "l1"
   ]
  },
  {
   "cell_type": "markdown",
   "id": "3bc6ce0f-a048-46e9-8259-2a2b7281a0d9",
   "metadata": {},
   "source": [
    "- **pop** in dictionary, similar analogy **remove** in list\n",
    "\n",
    "- **popitem** in dictionary ,similar analogy **pop** in list"
   ]
  },
  {
   "cell_type": "markdown",
   "id": "46a03bcd-a4b8-40f5-bd90-6e193ce18cb4",
   "metadata": {},
   "source": [
    "**get**"
   ]
  },
  {
   "cell_type": "code",
   "execution_count": 38,
   "id": "3b1c9324-35fe-4de4-bcd3-d36dd041588a",
   "metadata": {},
   "outputs": [
    {
     "data": {
      "text/plain": [
       "20"
      ]
     },
     "execution_count": 38,
     "metadata": {},
     "output_type": "execute_result"
    }
   ],
   "source": [
    "d={'Ramesh': 20, 'Suresh': 25, 'Satish': 30}\n",
    "d.get('Ramesh')"
   ]
  },
  {
   "cell_type": "code",
   "execution_count": 40,
   "id": "23e66a62-9ad4-40c5-8221-1a4746f8f79f",
   "metadata": {},
   "outputs": [
    {
     "data": {
      "text/plain": [
       "20"
      ]
     },
     "execution_count": 40,
     "metadata": {},
     "output_type": "execute_result"
    }
   ],
   "source": [
    "d['Ramesh']  # key as an index"
   ]
  },
  {
   "cell_type": "markdown",
   "id": "1debf7da-6555-4008-b736-6bbba1d04dbb",
   "metadata": {},
   "source": [
    "**update**\n",
    "\n",
    "- update is similar analogy list extend\n",
    "\n",
    "- take two dictionaries and apply update method"
   ]
  },
  {
   "cell_type": "code",
   "execution_count": 41,
   "id": "64e4f073-d7c6-4709-ba5e-65a7a82017a7",
   "metadata": {},
   "outputs": [
    {
     "data": {
      "text/plain": [
       "{'Ramesh': 20,\n",
       " 'Suresh': 25,\n",
       " 'Satish': 30,\n",
       " 'Ganesh': 100,\n",
       " 'Rajesh': 250,\n",
       " 'Sailesh': 300}"
      ]
     },
     "execution_count": 41,
     "metadata": {},
     "output_type": "execute_result"
    }
   ],
   "source": [
    "d={'Ramesh': 20, 'Suresh': 25, 'Satish': 30}\n",
    "d1={'Ganesh': 100, 'Rajesh': 250, 'Sailesh': 300}\n",
    "d.update(d1)\n",
    "d"
   ]
  },
  {
   "cell_type": "code",
   "execution_count": 2,
   "id": "20e609b4-7f8b-420f-8781-0ee85d84743b",
   "metadata": {},
   "outputs": [
    {
     "data": {
      "text/plain": [
       "[20, 25, 30, 100, 250, 300]"
      ]
     },
     "execution_count": 2,
     "metadata": {},
     "output_type": "execute_result"
    }
   ],
   "source": [
    "l=[20,25,30]\n",
    "l1=[100,250,300]\n",
    "l.extend(l1)\n",
    "l"
   ]
  },
  {
   "cell_type": "code",
   "execution_count": 3,
   "id": "048b55dd-d060-4928-bd33-28a6d1a21c41",
   "metadata": {},
   "outputs": [
    {
     "data": {
      "text/plain": [
       "[20, 25, 30, 'Ramesh', 'Suresh', 'Satish']"
      ]
     },
     "execution_count": 3,
     "metadata": {},
     "output_type": "execute_result"
    }
   ],
   "source": [
    "l=[20,25,30]\n",
    "l1=['Ramesh','Suresh','Satish']\n",
    "l.extend(l1)\n",
    "l"
   ]
  },
  {
   "cell_type": "markdown",
   "id": "cff916fc-6175-4930-aace-f6fcf8d230e1",
   "metadata": {},
   "source": [
    "**setdefault**\n",
    "\n",
    "- suppose an already existed dictionary available\n",
    "\n",
    "- we can update the dictionary with new key:value pair"
   ]
  },
  {
   "cell_type": "code",
   "execution_count": 8,
   "id": "3648623d-bf81-4ac7-902e-79b5c88ba893",
   "metadata": {},
   "outputs": [
    {
     "data": {
      "text/plain": [
       "{'Ramesh': 20, 'Suresh': 25, 'Satish': 30, 'manish': 100, 'mahesh': None}"
      ]
     },
     "execution_count": 8,
     "metadata": {},
     "output_type": "execute_result"
    }
   ],
   "source": [
    "d={'Ramesh': 20, 'Suresh': 25, 'Satish': 30}\n",
    "d.setdefault('manish',100)\n",
    "d.setdefault('mahesh')\n",
    "d"
   ]
  },
  {
   "cell_type": "markdown",
   "id": "b1b1a898-8517-4fb9-8f80-09d4fbe0e2a4",
   "metadata": {},
   "source": [
    "- **setdefault** in dictionary, similar analogy **list append**\n",
    "\n",
    "- always remember dictionary is a key:value pair concept\n",
    "\n",
    "- it never involves index operations\n",
    "\n",
    "- thats why we dont have any index or find methods\n",
    "\n",
    "- we have get method to extract values using key"
   ]
  },
  {
   "cell_type": "markdown",
   "id": "e559e0a5-6390-467a-bad2-0f372ce88960",
   "metadata": {},
   "source": [
    "**fromkeys**\n",
    "\n",
    "- create a dictionary with different keys but same value\n",
    "\n",
    "- fromkeys will take an argument iterable\n",
    "\n",
    "- try to provide an iterator i.e. string,list,tuple "
   ]
  },
  {
   "cell_type": "code",
   "execution_count": 9,
   "id": "46fde3ad-a00e-4b67-9a2d-1fc069390dd0",
   "metadata": {},
   "outputs": [
    {
     "data": {
      "text/plain": [
       "{'Ramesh': None, 'Suresh': None, 'Satish': None}"
      ]
     },
     "execution_count": 9,
     "metadata": {},
     "output_type": "execute_result"
    }
   ],
   "source": [
    "d={}\n",
    "names=['Ramesh','Suresh','Satish']\n",
    "d.fromkeys(names)"
   ]
  },
  {
   "cell_type": "code",
   "execution_count": 10,
   "id": "9f163a4e-dc35-4edc-8831-138854fa4f13",
   "metadata": {},
   "outputs": [
    {
     "data": {
      "text/plain": [
       "{'Ramesh': 'Naresh IT', 'Suresh': 'Naresh IT', 'Satish': 'Naresh IT'}"
      ]
     },
     "execution_count": 10,
     "metadata": {},
     "output_type": "execute_result"
    }
   ],
   "source": [
    "d={}\n",
    "names=['Ramesh','Suresh','Satish']\n",
    "d.fromkeys(names,'Naresh IT')"
   ]
  },
  {
   "cell_type": "code",
   "execution_count": 11,
   "id": "6d94df5b-814e-4fb5-9764-967e6a628cce",
   "metadata": {},
   "outputs": [
    {
     "data": {
      "text/plain": [
       "{'p': None, 'y': None, 't': None, 'h': None, 'o': None, 'n': None}"
      ]
     },
     "execution_count": 11,
     "metadata": {},
     "output_type": "execute_result"
    }
   ],
   "source": [
    "d={}\n",
    "d.fromkeys('python')"
   ]
  },
  {
   "cell_type": "markdown",
   "id": "64706dcf-6337-47dc-8f27-0b226f7f947d",
   "metadata": {},
   "source": [
    "- list has count, string has count and tuple also has count\n",
    "\n",
    "- but dictionaries does not have **count**\n",
    "\n",
    "- because dictionary does not allow **duplicates**\n",
    "\n",
    "- strings has **find** but list does not have"
   ]
  },
  {
   "cell_type": "code",
   "execution_count": null,
   "id": "048dbc12-bb22-46f8-8edf-fc3ec41f30b9",
   "metadata": {},
   "outputs": [],
   "source": []
  }
 ],
 "metadata": {
  "kernelspec": {
   "display_name": "Python 3 (ipykernel)",
   "language": "python",
   "name": "python3"
  },
  "language_info": {
   "codemirror_mode": {
    "name": "ipython",
    "version": 3
   },
   "file_extension": ".py",
   "mimetype": "text/x-python",
   "name": "python",
   "nbconvert_exporter": "python",
   "pygments_lexer": "ipython3",
   "version": "3.12.7"
  }
 },
 "nbformat": 4,
 "nbformat_minor": 5
}
