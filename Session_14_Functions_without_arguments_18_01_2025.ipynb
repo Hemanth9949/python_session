{
 "cells": [
  {
   "cell_type": "markdown",
   "id": "7eedfec6-d0e9-4f46-8410-536d3da51080",
   "metadata": {},
   "source": [
    "**Function**\n",
    "  \n",
    " - operation and task\n",
    "\n",
    " - block of code which executes on a call\n",
    "\n",
    " - reuse of the code\n",
    "\n",
    " - function also called as method\n",
    "\n",
    " - function without arguments\n",
    "\n",
    " - funtion with arguments\n",
    "\n",
    " - function with default arguments\n",
    "\n",
    " - function with keyword arguments(kwargs)\n",
    "\n",
    " - function with global and local variable\n",
    "\n",
    " - function with return\n",
    "\n",
    " - function in function"
   ]
  },
  {
   "cell_type": "markdown",
   "id": "073763c7-0128-4540-9556-23d085e058e2",
   "metadata": {},
   "source": [
    "**Function without arguments**"
   ]
  },
  {
   "cell_type": "code",
   "execution_count": 1,
   "id": "a455617d-932a-4030-aa4d-46d4891038d6",
   "metadata": {},
   "outputs": [
    {
     "ename": "SyntaxError",
     "evalue": "invalid syntax (3947359533.py, line 2)",
     "output_type": "error",
     "traceback": [
      "\u001b[1;36m  Cell \u001b[1;32mIn[1], line 2\u001b[1;36m\u001b[0m\n\u001b[1;33m    def <function name>():\u001b[0m\n\u001b[1;37m        ^\u001b[0m\n\u001b[1;31mSyntaxError\u001b[0m\u001b[1;31m:\u001b[0m invalid syntax\n"
     ]
    }
   ],
   "source": [
    "# syntax\n",
    "def <function name>():\n",
    "    <write your lines here>"
   ]
  },
  {
   "cell_type": "code",
   "execution_count": 3,
   "id": "a1b546b8-4ad0-4ab5-b60f-8a564bb662f6",
   "metadata": {},
   "outputs": [
    {
     "name": "stdin",
     "output_type": "stream",
     "text": [
      "enter num1: 10\n",
      "enter num2: 20\n"
     ]
    },
    {
     "name": "stdout",
     "output_type": "stream",
     "text": [
      "the addition of 10 and 20 is: 30\n"
     ]
    }
   ],
   "source": [
    "num1=eval(input(\"enter num1:\"))\n",
    "num2=eval(input(\"enter num2:\"))\n",
    "add=num1+num2\n",
    "print(f\"the addition of {num1} and {num2} is: {add}\")"
   ]
  },
  {
   "cell_type": "code",
   "execution_count": 16,
   "id": "2e519b16-4e53-4d97-82e7-ffd28c20fd3b",
   "metadata": {},
   "outputs": [],
   "source": [
    "def addition():\n",
    "    num1=eval(input(\"enter num1:\"))\n",
    "    num2=eval(input(\"enter num2:\"))\n",
    "    add=num1+num2\n",
    "    print(f\"the addition of {num1} and {num2} is: {add}\")\n",
    "    "
   ]
  },
  {
   "cell_type": "markdown",
   "id": "226ed3c0-63f9-4fb6-8fd8-0d38c6a69a9d",
   "metadata": {},
   "source": [
    "**Note** - function name is always different from the variable name"
   ]
  },
  {
   "cell_type": "markdown",
   "id": "151b498b-400d-4866-af68-ca27457d2657",
   "metadata": {},
   "source": [
    "**Call the function**"
   ]
  },
  {
   "cell_type": "code",
   "execution_count": 17,
   "id": "f9d631c6-e9ff-4507-adad-3c05aff3925d",
   "metadata": {},
   "outputs": [
    {
     "name": "stdin",
     "output_type": "stream",
     "text": [
      "enter num1: 10\n",
      "enter num2: 50\n"
     ]
    },
    {
     "name": "stdout",
     "output_type": "stream",
     "text": [
      "the addition of 10 and 50 is: 60\n"
     ]
    }
   ],
   "source": [
    "addition()"
   ]
  },
  {
   "cell_type": "code",
   "execution_count": 10,
   "id": "b9fe0968-e5d8-4ee5-8e62-dfdb522a2e1e",
   "metadata": {},
   "outputs": [],
   "source": [
    "def substraction():\n",
    "    num1=eval(input('enter num1:'))\n",
    "    num2=eval(input('enter num2:'))\n",
    "    sub=num1-num2\n",
    "    print(f\"the substraction of {num1} and {num2} is: {sub}\")\n",
    "    \n",
    "    "
   ]
  },
  {
   "cell_type": "code",
   "execution_count": 11,
   "id": "6f32947a-c874-4443-9ca2-0b23d09e19f0",
   "metadata": {},
   "outputs": [
    {
     "name": "stdin",
     "output_type": "stream",
     "text": [
      "enter num1: 20\n",
      "enter num2: 5\n"
     ]
    },
    {
     "name": "stdout",
     "output_type": "stream",
     "text": [
      "the substraction of 20 and 5 is: 15\n"
     ]
    }
   ],
   "source": [
    "substraction()"
   ]
  },
  {
   "cell_type": "markdown",
   "id": "2d19cf04-916a-49c8-8963-58e7ee9612c2",
   "metadata": {},
   "source": [
    "**Note**\n",
    "\n",
    " - Function name rules same as variable rules\n",
    "\n",
    "    - No special characters \n",
    "\n",
    "    - No numbers before\n",
    "\n",
    "    - no space between words etc\n",
    "\n",
    " - Function name should not be any keywords\n",
    "\n",
    " - Function name should not be any package name\n",
    "\n",
    " - Function name should not be your notebook name\n",
    "\n",
    " - Function name should not be any variable which is using inside the function\n",
    "\n",
    " **Note**\n",
    "\n",
    "- while define the funtion we does not know wheather the error is there are not\n",
    "\n",
    "- for that we need to call the function"
   ]
  },
  {
   "cell_type": "code",
   "execution_count": 12,
   "id": "116af49b-b4c4-48e2-89a3-dd4ecc10fc40",
   "metadata": {},
   "outputs": [],
   "source": [
    "def addition1():\n",
    "    n1=eval(input(\"enter num1 :\"))\n",
    "    n2=eval(input(\"enter num2 :\"))\n",
    "    add1=n11+n2\n",
    "    print(f\"the addition of {n1} and {n2} is: {add1}\")"
   ]
  },
  {
   "cell_type": "code",
   "execution_count": 13,
   "id": "1494618c-a22b-4f8c-a1bc-353d67a0ec9b",
   "metadata": {},
   "outputs": [
    {
     "name": "stdin",
     "output_type": "stream",
     "text": [
      "enter num1 : 10\n",
      "enter num2 : 5\n"
     ]
    },
    {
     "ename": "NameError",
     "evalue": "name 'n11' is not defined",
     "output_type": "error",
     "traceback": [
      "\u001b[1;31m---------------------------------------------------------------------------\u001b[0m",
      "\u001b[1;31mNameError\u001b[0m                                 Traceback (most recent call last)",
      "Cell \u001b[1;32mIn[13], line 1\u001b[0m\n\u001b[1;32m----> 1\u001b[0m addition1()\n",
      "Cell \u001b[1;32mIn[12], line 4\u001b[0m, in \u001b[0;36maddition1\u001b[1;34m()\u001b[0m\n\u001b[0;32m      2\u001b[0m n1\u001b[38;5;241m=\u001b[39m\u001b[38;5;28meval\u001b[39m(\u001b[38;5;28minput\u001b[39m(\u001b[38;5;124m\"\u001b[39m\u001b[38;5;124menter num1 :\u001b[39m\u001b[38;5;124m\"\u001b[39m))\n\u001b[0;32m      3\u001b[0m n2\u001b[38;5;241m=\u001b[39m\u001b[38;5;28meval\u001b[39m(\u001b[38;5;28minput\u001b[39m(\u001b[38;5;124m\"\u001b[39m\u001b[38;5;124menter num2 :\u001b[39m\u001b[38;5;124m\"\u001b[39m))\n\u001b[1;32m----> 4\u001b[0m add1\u001b[38;5;241m=\u001b[39mn11\u001b[38;5;241m+\u001b[39mn2\n\u001b[0;32m      5\u001b[0m \u001b[38;5;28mprint\u001b[39m(\u001b[38;5;124mf\u001b[39m\u001b[38;5;124m\"\u001b[39m\u001b[38;5;124mthe addition of \u001b[39m\u001b[38;5;132;01m{\u001b[39;00mn1\u001b[38;5;132;01m}\u001b[39;00m\u001b[38;5;124m and \u001b[39m\u001b[38;5;132;01m{\u001b[39;00mn2\u001b[38;5;132;01m}\u001b[39;00m\u001b[38;5;124m is: \u001b[39m\u001b[38;5;132;01m{\u001b[39;00madd1\u001b[38;5;132;01m}\u001b[39;00m\u001b[38;5;124m\"\u001b[39m)\n",
      "\u001b[1;31mNameError\u001b[0m: name 'n11' is not defined"
     ]
    }
   ],
   "source": [
    "addition1()"
   ]
  },
  {
   "cell_type": "code",
   "execution_count": 3,
   "id": "6bbe28f0-d397-41d4-9db8-e8d78e0c137d",
   "metadata": {},
   "outputs": [
    {
     "name": "stdin",
     "output_type": "stream",
     "text": [
      "enter num1: 5\n",
      "enter num2: 2\n"
     ]
    },
    {
     "ename": "NameError",
     "evalue": "name 'n11' is not defined",
     "output_type": "error",
     "traceback": [
      "\u001b[1;31m---------------------------------------------------------------------------\u001b[0m",
      "\u001b[1;31mNameError\u001b[0m                                 Traceback (most recent call last)",
      "Cell \u001b[1;32mIn[3], line 10\u001b[0m\n\u001b[0;32m      7\u001b[0m \u001b[38;5;28;01mexcept\u001b[39;00m \u001b[38;5;167;01mException\u001b[39;00m \u001b[38;5;28;01mas\u001b[39;00m e:\n\u001b[0;32m      8\u001b[0m     \u001b[38;5;28mprint\u001b[39m(e)\n\u001b[1;32m---> 10\u001b[0m addition2()\n",
      "Cell \u001b[1;32mIn[3], line 5\u001b[0m, in \u001b[0;36maddition2\u001b[1;34m()\u001b[0m\n\u001b[0;32m      3\u001b[0m n1\u001b[38;5;241m=\u001b[39m\u001b[38;5;28meval\u001b[39m(\u001b[38;5;28minput\u001b[39m(\u001b[38;5;124m\"\u001b[39m\u001b[38;5;124menter num1:\u001b[39m\u001b[38;5;124m\"\u001b[39m))\n\u001b[0;32m      4\u001b[0m n2\u001b[38;5;241m=\u001b[39m\u001b[38;5;28meval\u001b[39m(\u001b[38;5;28minput\u001b[39m(\u001b[38;5;124m\"\u001b[39m\u001b[38;5;124menter num2:\u001b[39m\u001b[38;5;124m\"\u001b[39m))\n\u001b[1;32m----> 5\u001b[0m add2\u001b[38;5;241m=\u001b[39mn11\u001b[38;5;241m+\u001b[39mn2\n\u001b[0;32m      6\u001b[0m \u001b[38;5;28mprint\u001b[39m(\u001b[38;5;124mf\u001b[39m\u001b[38;5;124m\"\u001b[39m\u001b[38;5;124mthe add of \u001b[39m\u001b[38;5;132;01m{\u001b[39;00mn1\u001b[38;5;132;01m}\u001b[39;00m\u001b[38;5;124m and \u001b[39m\u001b[38;5;132;01m{\u001b[39;00mn2\u001b[38;5;132;01m}\u001b[39;00m\u001b[38;5;124m is:\u001b[39m\u001b[38;5;132;01m{\u001b[39;00madd2\u001b[38;5;132;01m}\u001b[39;00m\u001b[38;5;124m\"\u001b[39m)\n",
      "\u001b[1;31mNameError\u001b[0m: name 'n11' is not defined"
     ]
    }
   ],
   "source": [
    "try:\n",
    "    def addition2():\n",
    "        n1=eval(input(\"enter num1:\"))\n",
    "        n2=eval(input(\"enter num2:\"))\n",
    "        add2=n11+n2\n",
    "        print(f\"the add of {n1} and {n2} is:{add2}\")\n",
    "except Exception as e:\n",
    "    print(e)\n",
    "\n",
    "addition2()"
   ]
  },
  {
   "cell_type": "code",
   "execution_count": 5,
   "id": "6f047b42-8f1f-44fe-9c67-89f14a896d49",
   "metadata": {},
   "outputs": [
    {
     "name": "stdin",
     "output_type": "stream",
     "text": [
      "enter n1: 25\n",
      "enter n2: 12\n"
     ]
    },
    {
     "name": "stdout",
     "output_type": "stream",
     "text": [
      "name 'n11' is not defined\n"
     ]
    }
   ],
   "source": [
    "def addition3():\n",
    "    try:\n",
    "        n1=eval(input(\"enter n1:\"))\n",
    "        n2=eval(input(\"enter n2:\"))\n",
    "        add2=n11+n2\n",
    "        print(f\"the add of {n1} and {n2} is: {add2}\")\n",
    "    except Exception as e:\n",
    "        print(e)\n",
    "\n",
    "addition3()"
   ]
  },
  {
   "cell_type": "markdown",
   "id": "d7becdc0-9da0-40cf-a456-c351cd2c07c9",
   "metadata": {},
   "source": [
    "- try-except should write inside the function - than only it works"
   ]
  },
  {
   "cell_type": "code",
   "execution_count": 18,
   "id": "4e3838e6-574a-4a10-8aa6-2097a9239c8e",
   "metadata": {},
   "outputs": [
    {
     "name": "stdin",
     "output_type": "stream",
     "text": [
      "enter n1: 10\n",
      "enter n2: 5\n"
     ]
    },
    {
     "name": "stdout",
     "output_type": "stream",
     "text": [
      "the division of 10 and 5 is: 2.0\n"
     ]
    }
   ],
   "source": [
    "try:\n",
    "    def division():\n",
    "        n1=eval(input(\"enter n1:\"))\n",
    "        n2=eval(input(\"enter n2:\"))\n",
    "        div=n1/n2\n",
    "        print(f\"the division of {n1} and {n2} is: {div}\")\n",
    "except exception as e:\n",
    "    print(e)\n",
    "    \n",
    "division()"
   ]
  },
  {
   "cell_type": "code",
   "execution_count": 11,
   "id": "1265c3df-1d43-44fc-98f4-794c9b45a36d",
   "metadata": {},
   "outputs": [
    {
     "name": "stdin",
     "output_type": "stream",
     "text": [
      "enter n1: 20\n",
      "enter n2: 5\n"
     ]
    },
    {
     "name": "stdout",
     "output_type": "stream",
     "text": [
      "the division of 20 and 5 is: 4.0\n"
     ]
    }
   ],
   "source": [
    "def division1():\n",
    "    try:\n",
    "        n1=eval(input(\"enter n1:\"))\n",
    "        n2=eval(input(\"enter n2:\"))\n",
    "        div=n1/n2\n",
    "        print(f\"the division of {n1} and {n2} is: {div}\")\n",
    "    except Exception as e:\n",
    "        print(e)\n",
    "\n",
    "division1()"
   ]
  },
  {
   "cell_type": "code",
   "execution_count": null,
   "id": "443511d6-7633-4559-8fa8-3b0c68ae3568",
   "metadata": {},
   "outputs": [],
   "source": []
  }
 ],
 "metadata": {
  "kernelspec": {
   "display_name": "Python 3 (ipykernel)",
   "language": "python",
   "name": "python3"
  },
  "language_info": {
   "codemirror_mode": {
    "name": "ipython",
    "version": 3
   },
   "file_extension": ".py",
   "mimetype": "text/x-python",
   "name": "python",
   "nbconvert_exporter": "python",
   "pygments_lexer": "ipython3",
   "version": "3.12.7"
  }
 },
 "nbformat": 4,
 "nbformat_minor": 5
}
