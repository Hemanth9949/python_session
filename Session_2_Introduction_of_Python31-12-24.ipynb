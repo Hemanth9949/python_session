{
 "cells": [
  {
   "cell_type": "code",
   "execution_count": 1,
   "id": "78f0e03c-bdc2-4940-9532-f1d003e7f84b",
   "metadata": {},
   "outputs": [
    {
     "data": {
      "text/plain": [
       "'C:\\\\Users\\\\91703\\\\Documents\\\\Data Science Naresh IT\\\\Python_sessions'"
      ]
     },
     "execution_count": 1,
     "metadata": {},
     "output_type": "execute_result"
    }
   ],
   "source": [
    "import os\n",
    "os.getcwd() # current working directory"
   ]
  },
  {
   "cell_type": "code",
   "execution_count": 2,
   "id": "15fc43a4-e3d7-4ccd-b535-ac911a7e7cf5",
   "metadata": {},
   "outputs": [],
   "source": [
    "# checkpoint-1:\n",
    "# empty square bracket before the code cell\n",
    "# indicates we did not run the cell\n",
    "\n",
    "# checkpoint-2\n",
    "# if we see a * mark inside the square bracket\n",
    "# do not run the next code cell\n",
    "\n",
    "# star mark indicates kernel is busy\n",
    "# the same we can observe the top left corner black dot"
   ]
  },
  {
   "cell_type": "code",
   "execution_count": 3,
   "id": "b815415d-958a-4ead-964f-aef4881942f4",
   "metadata": {},
   "outputs": [],
   "source": [
    "number=3333"
   ]
  },
  {
   "cell_type": "code",
   "execution_count": 5,
   "id": "2757f439-88b4-4590-819f-7cbf01c90012",
   "metadata": {},
   "outputs": [
    {
     "data": {
      "text/plain": [
       "3333"
      ]
     },
     "execution_count": 5,
     "metadata": {},
     "output_type": "execute_result"
    }
   ],
   "source": [
    "number"
   ]
  },
  {
   "cell_type": "code",
   "execution_count": 3,
   "id": "dab161e1-b25e-459e-a7e1-bc39ba9d975b",
   "metadata": {},
   "outputs": [],
   "source": [
    "number=1000"
   ]
  },
  {
   "cell_type": "code",
   "execution_count": 4,
   "id": "19eb931e-f93d-448e-81f4-1f304d4ceb57",
   "metadata": {},
   "outputs": [
    {
     "data": {
      "text/plain": [
       "1000"
      ]
     },
     "execution_count": 4,
     "metadata": {},
     "output_type": "execute_result"
    }
   ],
   "source": [
    "number"
   ]
  },
  {
   "cell_type": "code",
   "execution_count": 8,
   "id": "3f77c6ef-33f4-4f79-a8bc-2f58b7f30dc0",
   "metadata": {},
   "outputs": [],
   "source": [
    "name=\"Baby\""
   ]
  },
  {
   "cell_type": "code",
   "execution_count": 2,
   "id": "d071bd10-3963-4902-b7f8-9672e6b2652d",
   "metadata": {},
   "outputs": [
    {
     "data": {
      "text/plain": [
       "'hsdkjsk'"
      ]
     },
     "execution_count": 2,
     "metadata": {},
     "output_type": "execute_result"
    }
   ],
   "source": [
    "name=\"hsdkjsk\"\n",
    "name"
   ]
  },
  {
   "cell_type": "code",
   "execution_count": 9,
   "id": "984e6c38-dc03-46b3-b89b-06ff63fe0a10",
   "metadata": {},
   "outputs": [
    {
     "data": {
      "text/plain": [
       "'Baby'"
      ]
     },
     "execution_count": 9,
     "metadata": {},
     "output_type": "execute_result"
    }
   ],
   "source": [
    "name"
   ]
  },
  {
   "cell_type": "code",
   "execution_count": 10,
   "id": "3dd6358a-bf8c-4a69-9666-22658a51366e",
   "metadata": {},
   "outputs": [
    {
     "data": {
      "text/plain": [
       "'Baby'"
      ]
     },
     "execution_count": 10,
     "metadata": {},
     "output_type": "execute_result"
    }
   ],
   "source": [
    "name"
   ]
  },
  {
   "cell_type": "markdown",
   "id": "675b4227-f8d0-4cf5-9e00-1466839f73db",
   "metadata": {},
   "source": [
    "hello today im learning python\n",
    "\n",
    "square bracket is there : yes\n",
    "\n",
    "code mode is there : yes\n",
    "\n",
    "if these two are there which indicates this current cell is used to write code only\n",
    "\n",
    "if you write english it will throw error\n",
    "\n",
    "go to top code mode after a drop down symbol is there\n",
    "\n",
    "click on that \n",
    "\n",
    "we can see markdown option \n",
    "\n",
    "select it then we can not see any square brackets"
   ]
  },
  {
   "cell_type": "markdown",
   "id": "481b9177-3949-4de7-ab98-97e02098834f",
   "metadata": {},
   "source": [
    "# Python\n",
    "\n",
    "- esc+m will change code mode to markdown mode\n",
    "\n",
    "- esc+y will change markdown mode to code mode\n",
    "\n",
    "- shift+enter will give bullet points"
   ]
  },
  {
   "cell_type": "markdown",
   "id": "de31b9b2-a4d0-4717-8d71-dd5ce3359451",
   "metadata": {},
   "source": [
    "# Python\n",
    "\n",
    "## Python \n",
    "\n",
    "### Python\n",
    "\n",
    "#### Python\n",
    "\n",
    "##### Python\n",
    "\n",
    "###### Python\n"
   ]
  },
  {
   "cell_type": "markdown",
   "id": "53dfd9ca-a86e-418e-a8eb-93d49c4a3b84",
   "metadata": {},
   "source": [
    "**Now i will show how to upload an image**\n"
   ]
  },
  {
   "cell_type": "markdown",
   "id": "0c865cbd-0c0f-461f-8544-f94b72ac8b40",
   "metadata": {},
   "source": [
    "<img alt=\"\" style=\"width: 318.6px; height: 179.2px; margin-top: 0.4px; margin-left: 0px;\" class=\"\" src=\"https://tse3.mm.bing.net/th?id=OIP.ShkBGWpWL4y9BjfkdZsrUQHaEK&amp;pid=Api&amp;P=0&amp;h=180\" id=\"yui_3_5_1_1_1735620283746_683\">"
   ]
  },
  {
   "cell_type": "markdown",
   "id": "5cc4b0f3-7c18-4885-9d72-0b0c86b84c06",
   "metadata": {},
   "source": [
    "<img alt=\"\" style=\"width: 170.5px; height: 170.5px; margin-top: 4.8px; margin-left: 0px;\" class=\"\" src=\"https://tse3.mm.bing.net/th?id=OIP.3a85987YzacXFIlYC7DBmgAAAA&amp;pid=Api&amp;P=0&amp;h=180\" id=\"yui_3_5_1_1_1735626286687_1616\">"
   ]
  },
  {
   "cell_type": "markdown",
   "id": "3f13aa60-1cae-4b23-92a9-800f6c12ac36",
   "metadata": {},
   "source": [
    "<img alt=\"\" style=\"width: 189.1px; height: 189.1px; margin-top: -4.5px; margin-left: 0px;\" class=\"\" src=\"https://tse1.mm.bing.net/th?id=OIP.NX_bddDMk13xkfWM2jjw2QHaHa&amp;pid=Api&amp;P=0&amp;h=180\" id=\"yui_3_5_1_1_1735620283746_2072\">"
   ]
  },
  {
   "cell_type": "code",
   "execution_count": null,
   "id": "4d4219be-5776-442a-a785-2c6097b88c62",
   "metadata": {},
   "outputs": [],
   "source": []
  }
 ],
 "metadata": {
  "kernelspec": {
   "display_name": "Python 3 (ipykernel)",
   "language": "python",
   "name": "python3"
  },
  "language_info": {
   "codemirror_mode": {
    "name": "ipython",
    "version": 3
   },
   "file_extension": ".py",
   "mimetype": "text/x-python",
   "name": "python",
   "nbconvert_exporter": "python",
   "pygments_lexer": "ipython3",
   "version": "3.12.7"
  }
 },
 "nbformat": 4,
 "nbformat_minor": 5
}
