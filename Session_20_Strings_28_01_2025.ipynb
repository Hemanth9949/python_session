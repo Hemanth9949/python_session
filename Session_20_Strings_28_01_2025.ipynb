{
 "cells": [
  {
   "cell_type": "code",
   "execution_count": null,
   "id": "6a27c859-7ce4-4f55-9ca3-a09c0da9a4b7",
   "metadata": {},
   "outputs": [],
   "source": [
    "- variables\n",
    "\n",
    "- data types\n",
    "\n",
    "- type conversion\n",
    "\n",
    "- print\n",
    "\n",
    "- eval and input\n",
    "\n",
    "- basic codes\n",
    "\n",
    "- packages\n",
    "\n",
    "- conditional statements\n",
    "\n",
    "- try and except\n",
    "\n",
    "- functions\n",
    "\n",
    "- for and while loops\n",
    "\n",
    "================================================   Intermediate python   ====================================\n",
    "\n",
    "- Strings\n",
    "\n",
    "- Lists\n",
    "\n",
    "- List comprehension\n",
    "\n",
    "- Tuple  =============== you should\n",
    "\n",
    "- Sets   =============== you should\n",
    "\n",
    "- Dictionary\n",
    "\n",
    "- Lambda functions\n",
    "\n",
    "- File Handling\n",
    "\n",
    "=========================================  OOPS concepts  ==================================(ML)"
   ]
  },
  {
   "cell_type": "code",
   "execution_count": null,
   "id": "652ece72-57e9-443a-be60-b55b89abe1c9",
   "metadata": {},
   "outputs": [],
   "source": [
    "- Basic representations\n",
    "\n",
    "- Inbuilt functions\n",
    "\n",
    "   - print\n",
    "\n",
    "   - type\n",
    "\n",
    "   - len\n",
    "\n",
    "   - sum\n",
    "\n",
    "   - max and min\n",
    "\n",
    "   - sorted\n",
    "\n",
    "   - reversed\n",
    "\n",
    "- concatenation\n",
    "\n",
    "- indexing\n",
    "\n",
    "- mutable or immutable concepts\n",
    "\n",
    "- slicing\n",
    "\n",
    "- methods\n"
   ]
  },
  {
   "cell_type": "markdown",
   "id": "b57256d5-6ecf-48d7-827b-91d5164c773c",
   "metadata": {},
   "source": [
    "**Basic Representations**"
   ]
  },
  {
   "cell_type": "code",
   "execution_count": 1,
   "id": "0e80c62a-f1a1-4c2c-8757-9f060de14d01",
   "metadata": {},
   "outputs": [
    {
     "data": {
      "text/plain": [
       "'python'"
      ]
     },
     "execution_count": 1,
     "metadata": {},
     "output_type": "execute_result"
    }
   ],
   "source": [
    "name='python'\n",
    "name"
   ]
  },
  {
   "cell_type": "code",
   "execution_count": 2,
   "id": "f2862fad-748b-4092-93ef-7a12e968f559",
   "metadata": {},
   "outputs": [
    {
     "name": "stdout",
     "output_type": "stream",
     "text": [
      "python\n"
     ]
    }
   ],
   "source": [
    "print(name)"
   ]
  },
  {
   "cell_type": "markdown",
   "id": "5ff53dae-6a49-4778-8a42-ec6b1c5973b5",
   "metadata": {},
   "source": [
    "- python by default gives output in **single quotes**\n",
    "\n",
    "- when we print the string the output display **without quotes**"
   ]
  },
  {
   "cell_type": "code",
   "execution_count": 4,
   "id": "1e72007f-5d3f-456c-9734-26a3bc4198f0",
   "metadata": {},
   "outputs": [
    {
     "name": "stdout",
     "output_type": "stream",
     "text": [
      "I love 'Python'\n"
     ]
    }
   ],
   "source": [
    "str1=\"I love 'Python'\"\n",
    "print(str1)"
   ]
  },
  {
   "cell_type": "code",
   "execution_count": 4,
   "id": "dd189502-9218-4267-91cc-92de57a2d160",
   "metadata": {},
   "outputs": [
    {
     "name": "stdout",
     "output_type": "stream",
     "text": [
      "I love \"Python\"\n"
     ]
    }
   ],
   "source": [
    "str2='I love \"Python\"'\n",
    "print(str2)"
   ]
  },
  {
   "cell_type": "markdown",
   "id": "230d967b-db0b-48d2-93d3-5bbc66b77899",
   "metadata": {},
   "source": [
    "**Doc String**\n",
    "\n",
    "- Triple quotes is also called as doc string\n",
    "\n",
    "- triple quotes means the user try to convey some information"
   ]
  },
  {
   "cell_type": "code",
   "execution_count": 6,
   "id": "13c4e7dd-8e0b-4f9c-81ec-5a0ce72e3080",
   "metadata": {},
   "outputs": [
    {
     "data": {
      "text/plain": [
       "str"
      ]
     },
     "execution_count": 6,
     "metadata": {},
     "output_type": "execute_result"
    }
   ],
   "source": [
    "name='python'\n",
    "type(name)"
   ]
  },
  {
   "cell_type": "code",
   "execution_count": 1,
   "id": "1c312000-9e00-4f3e-a9a8-1c69f2941f8e",
   "metadata": {},
   "outputs": [
    {
     "data": {
      "text/plain": [
       "6"
      ]
     },
     "execution_count": 1,
     "metadata": {},
     "output_type": "execute_result"
    }
   ],
   "source": [
    "name='python'\n",
    "len(name)"
   ]
  },
  {
   "cell_type": "code",
   "execution_count": 16,
   "id": "acf9ea38-6dae-4211-82b4-ac1496caa003",
   "metadata": {},
   "outputs": [
    {
     "data": {
      "text/plain": [
       "14"
      ]
     },
     "execution_count": 16,
     "metadata": {},
     "output_type": "execute_result"
    }
   ],
   "source": [
    "len('hi how are you')"
   ]
  },
  {
   "cell_type": "code",
   "execution_count": 18,
   "id": "f7ad52e2-7527-435e-9c17-c32e953bc83f",
   "metadata": {},
   "outputs": [
    {
     "ename": "TypeError",
     "evalue": "unsupported operand type(s) for +: 'int' and 'str'",
     "output_type": "error",
     "traceback": [
      "\u001b[1;31m---------------------------------------------------------------------------\u001b[0m",
      "\u001b[1;31mTypeError\u001b[0m                                 Traceback (most recent call last)",
      "Cell \u001b[1;32mIn[18], line 2\u001b[0m\n\u001b[0;32m      1\u001b[0m n\u001b[38;5;241m=\u001b[39m\u001b[38;5;124m'\u001b[39m\u001b[38;5;124mpython\u001b[39m\u001b[38;5;124m'\u001b[39m\n\u001b[1;32m----> 2\u001b[0m \u001b[38;5;28msum\u001b[39m(n)\n",
      "\u001b[1;31mTypeError\u001b[0m: unsupported operand type(s) for +: 'int' and 'str'"
     ]
    }
   ],
   "source": [
    "n='python'\n",
    "sum(n)"
   ]
  },
  {
   "cell_type": "code",
   "execution_count": 10,
   "id": "04b815c1-c587-4c1b-9dbc-72362239ac4f",
   "metadata": {},
   "outputs": [
    {
     "data": {
      "text/plain": [
       "'y'"
      ]
     },
     "execution_count": 10,
     "metadata": {},
     "output_type": "execute_result"
    }
   ],
   "source": [
    "max(str1)"
   ]
  },
  {
   "cell_type": "code",
   "execution_count": 2,
   "id": "c9255a40-e227-44a7-b84d-d05e9d80d2c1",
   "metadata": {},
   "outputs": [
    {
     "name": "stdout",
     "output_type": "stream",
     "text": [
      "p:112\n",
      "y:121\n",
      "t:116\n",
      "h:104\n",
      "o:111\n",
      "n:110\n"
     ]
    }
   ],
   "source": [
    "for i in 'python':\n",
    "    print(f'{i}:{ord(i)}')"
   ]
  },
  {
   "cell_type": "code",
   "execution_count": 11,
   "id": "d5c0a684-31c2-4bfc-95b7-df43cae14160",
   "metadata": {},
   "outputs": [
    {
     "data": {
      "text/plain": [
       "' '"
      ]
     },
     "execution_count": 11,
     "metadata": {},
     "output_type": "execute_result"
    }
   ],
   "source": [
    "min(str1)"
   ]
  },
  {
   "cell_type": "code",
   "execution_count": 2,
   "id": "9a8f4eb3-3588-4671-a94e-e568c1004480",
   "metadata": {},
   "outputs": [
    {
     "data": {
      "text/plain": [
       "['h', 'n', 'o', 'p', 't', 'y']"
      ]
     },
     "execution_count": 2,
     "metadata": {},
     "output_type": "execute_result"
    }
   ],
   "source": [
    "sorted(name)"
   ]
  },
  {
   "cell_type": "code",
   "execution_count": 12,
   "id": "aa50e9ee-144f-40ba-9586-92e22901a70d",
   "metadata": {},
   "outputs": [
    {
     "data": {
      "text/plain": [
       "[' ', ' ', \"'\", \"'\", 'I', 'P', 'e', 'h', 'l', 'n', 'o', 'o', 't', 'v', 'y']"
      ]
     },
     "execution_count": 12,
     "metadata": {},
     "output_type": "execute_result"
    }
   ],
   "source": [
    "sorted(str1)\n",
    "# sorted means either ascending or decending order\n",
    "# ascending: small to big\n",
    "# decending: big to small\n",
    "# by default ascending\n",
    "# can i change the order"
   ]
  },
  {
   "cell_type": "code",
   "execution_count": null,
   "id": "5cf5e813-f587-4d0d-9ee8-82612edcb9d1",
   "metadata": {},
   "outputs": [],
   "source": []
  },
  {
   "cell_type": "code",
   "execution_count": 13,
   "id": "be15ad29-7c96-4314-a1e9-01d2cca79fab",
   "metadata": {},
   "outputs": [
    {
     "data": {
      "text/plain": [
       "<reversed at 0x22a88237a90>"
      ]
     },
     "execution_count": 13,
     "metadata": {},
     "output_type": "execute_result"
    }
   ],
   "source": [
    "reversed(str2)"
   ]
  },
  {
   "cell_type": "code",
   "execution_count": 6,
   "id": "2deeeba0-69df-4e8a-87b7-9ab39fd6478f",
   "metadata": {},
   "outputs": [
    {
     "data": {
      "text/plain": [
       "<reversed at 0x1d3c9790ee0>"
      ]
     },
     "execution_count": 6,
     "metadata": {},
     "output_type": "execute_result"
    }
   ],
   "source": [
    "x=reversed(str2)\n",
    "x"
   ]
  },
  {
   "cell_type": "code",
   "execution_count": 1,
   "id": "fd2a3f85-6850-40c3-8ad0-92c04053f33f",
   "metadata": {},
   "outputs": [
    {
     "data": {
      "text/plain": [
       "[1, 2, 3]"
      ]
     },
     "execution_count": 1,
     "metadata": {},
     "output_type": "execute_result"
    }
   ],
   "source": [
    "n=[1,2,3]\n",
    "n"
   ]
  },
  {
   "cell_type": "code",
   "execution_count": 2,
   "id": "1e85c974-ae84-444c-8d0a-60246c6f9a5b",
   "metadata": {},
   "outputs": [
    {
     "data": {
      "text/plain": [
       "6"
      ]
     },
     "execution_count": 2,
     "metadata": {},
     "output_type": "execute_result"
    }
   ],
   "source": [
    "sum(n)"
   ]
  },
  {
   "cell_type": "code",
   "execution_count": 19,
   "id": "1d50c8ed-717b-40cf-848d-6b03b126f3ec",
   "metadata": {},
   "outputs": [
    {
     "name": "stdout",
     "output_type": "stream",
     "text": [
      "30\n"
     ]
    }
   ],
   "source": [
    "def add(a,b):\n",
    "    print(a+b)\n",
    "add(10,20)    ############## works"
   ]
  },
  {
   "cell_type": "code",
   "execution_count": 20,
   "id": "64c7b870-75e0-4aa1-9537-7068171d002c",
   "metadata": {},
   "outputs": [
    {
     "name": "stdout",
     "output_type": "stream",
     "text": [
      "30\n"
     ]
    }
   ],
   "source": [
    "def add(a=10,b=10):\n",
    "    print(a+b)\n",
    "add(10,20)  ########### works"
   ]
  },
  {
   "cell_type": "code",
   "execution_count": 21,
   "id": "3ac5fa26-2b9b-4d91-9d13-7ab75ef6743b",
   "metadata": {},
   "outputs": [
    {
     "name": "stdout",
     "output_type": "stream",
     "text": [
      "30\n"
     ]
    }
   ],
   "source": [
    "def add(a,/,b):\n",
    "    print(a+b)\n",
    "add(10,20)  ########## works"
   ]
  },
  {
   "cell_type": "code",
   "execution_count": 22,
   "id": "77af9eaf-59ff-42ee-81d1-a9f336914ae6",
   "metadata": {},
   "outputs": [
    {
     "ename": "SyntaxError",
     "evalue": "positional argument follows keyword argument (2402837907.py, line 3)",
     "output_type": "error",
     "traceback": [
      "\u001b[1;36m  Cell \u001b[1;32mIn[22], line 3\u001b[1;36m\u001b[0m\n\u001b[1;33m    add(a=10,20)\u001b[0m\n\u001b[1;37m               ^\u001b[0m\n\u001b[1;31mSyntaxError\u001b[0m\u001b[1;31m:\u001b[0m positional argument follows keyword argument\n"
     ]
    }
   ],
   "source": [
    "def add(a,/,b):\n",
    "    print(a+b)\n",
    "add(a=10,20) ########## fails"
   ]
  },
  {
   "cell_type": "code",
   "execution_count": 23,
   "id": "3129681e-b202-4ce4-9f73-da51f147f69c",
   "metadata": {},
   "outputs": [
    {
     "name": "stdout",
     "output_type": "stream",
     "text": [
      "30\n"
     ]
    }
   ],
   "source": [
    "def add(a,/,b):\n",
    "    print(a+b)\n",
    "add(10,b=20) ######### works"
   ]
  },
  {
   "cell_type": "code",
   "execution_count": 24,
   "id": "46bbd5ad-6b8f-45d4-a192-5f895172b202",
   "metadata": {},
   "outputs": [
    {
     "ename": "TypeError",
     "evalue": "add() got some positional-only arguments passed as keyword arguments: 'a'",
     "output_type": "error",
     "traceback": [
      "\u001b[1;31m---------------------------------------------------------------------------\u001b[0m",
      "\u001b[1;31mTypeError\u001b[0m                                 Traceback (most recent call last)",
      "Cell \u001b[1;32mIn[24], line 3\u001b[0m\n\u001b[0;32m      1\u001b[0m \u001b[38;5;28;01mdef\u001b[39;00m \u001b[38;5;21madd\u001b[39m(a,\u001b[38;5;241m/\u001b[39m,b):\n\u001b[0;32m      2\u001b[0m     \u001b[38;5;28mprint\u001b[39m(a\u001b[38;5;241m+\u001b[39mb)\n\u001b[1;32m----> 3\u001b[0m add(a\u001b[38;5;241m=\u001b[39m\u001b[38;5;241m10\u001b[39m,b\u001b[38;5;241m=\u001b[39m\u001b[38;5;241m20\u001b[39m)\n",
      "\u001b[1;31mTypeError\u001b[0m: add() got some positional-only arguments passed as keyword arguments: 'a'"
     ]
    }
   ],
   "source": [
    "def add(a,/,b):\n",
    "    print(a+b)\n",
    "add(a=10,b=20)  ############ fails"
   ]
  },
  {
   "cell_type": "code",
   "execution_count": 25,
   "id": "f4bfb460-a4b4-4dbe-b76a-c1127f30bd47",
   "metadata": {},
   "outputs": [
    {
     "ename": "TypeError",
     "evalue": "sorted expected 1 argument, got 0",
     "output_type": "error",
     "traceback": [
      "\u001b[1;31m---------------------------------------------------------------------------\u001b[0m",
      "\u001b[1;31mTypeError\u001b[0m                                 Traceback (most recent call last)",
      "Cell \u001b[1;32mIn[25], line 1\u001b[0m\n\u001b[1;32m----> 1\u001b[0m \u001b[38;5;28msorted\u001b[39m(iterable\u001b[38;5;241m=\u001b[39m\u001b[38;5;124m'\u001b[39m\u001b[38;5;124mpython\u001b[39m\u001b[38;5;124m'\u001b[39m)\n",
      "\u001b[1;31mTypeError\u001b[0m: sorted expected 1 argument, got 0"
     ]
    }
   ],
   "source": [
    "sorted(iterable='python')"
   ]
  },
  {
   "cell_type": "markdown",
   "id": "eed59eab-e427-4606-9460-f07ad97f4e46",
   "metadata": {},
   "source": [
    "**Note**\n",
    "\n",
    "- / before dont use argument name\n",
    "\n",
    "- / after you can use argument name, that is our wish\n",
    "\n",
    "- (*) indicates no need to maintain the order of the arguments"
   ]
  },
  {
   "cell_type": "code",
   "execution_count": 26,
   "id": "82f9ed97-6681-4c3a-8996-9d6a4f3dc122",
   "metadata": {},
   "outputs": [
    {
     "ename": "TypeError",
     "evalue": "add() takes 1 positional argument but 3 were given",
     "output_type": "error",
     "traceback": [
      "\u001b[1;31m---------------------------------------------------------------------------\u001b[0m",
      "\u001b[1;31mTypeError\u001b[0m                                 Traceback (most recent call last)",
      "Cell \u001b[1;32mIn[26], line 3\u001b[0m\n\u001b[0;32m      1\u001b[0m \u001b[38;5;28;01mdef\u001b[39;00m \u001b[38;5;21madd\u001b[39m(a,\u001b[38;5;241m/\u001b[39m,\u001b[38;5;241m*\u001b[39m,b,c):\n\u001b[0;32m      2\u001b[0m     \u001b[38;5;28mprint\u001b[39m(a\u001b[38;5;241m+\u001b[39mb\u001b[38;5;241m+\u001b[39mc)\n\u001b[1;32m----> 3\u001b[0m add(\u001b[38;5;241m10\u001b[39m,\u001b[38;5;241m20\u001b[39m,\u001b[38;5;241m30\u001b[39m)\n",
      "\u001b[1;31mTypeError\u001b[0m: add() takes 1 positional argument but 3 were given"
     ]
    }
   ],
   "source": [
    "def add(a,/,*,b,c):\n",
    "    print(a+b+c)\n",
    "add(10,20,30)"
   ]
  },
  {
   "cell_type": "code",
   "execution_count": 27,
   "id": "1c91e4e7-ae8e-49a0-8806-018400c9ed51",
   "metadata": {},
   "outputs": [
    {
     "ename": "SyntaxError",
     "evalue": "positional argument follows keyword argument (4183409281.py, line 3)",
     "output_type": "error",
     "traceback": [
      "\u001b[1;36m  Cell \u001b[1;32mIn[27], line 3\u001b[1;36m\u001b[0m\n\u001b[1;33m    add(a=10,20,30)\u001b[0m\n\u001b[1;37m                  ^\u001b[0m\n\u001b[1;31mSyntaxError\u001b[0m\u001b[1;31m:\u001b[0m positional argument follows keyword argument\n"
     ]
    }
   ],
   "source": [
    "def add(a,/,*,b,c):\n",
    "    print(a+b+c)\n",
    "add(a=10,20,30)"
   ]
  },
  {
   "cell_type": "code",
   "execution_count": 28,
   "id": "b7cf880f-af64-4f81-ac53-6fcf1d2074fd",
   "metadata": {},
   "outputs": [
    {
     "name": "stdout",
     "output_type": "stream",
     "text": [
      "60\n"
     ]
    }
   ],
   "source": [
    "def add(a,/,*,b,c):\n",
    "    print(a+b+c)\n",
    "add(10,b=20,c=30)"
   ]
  },
  {
   "cell_type": "code",
   "execution_count": 1,
   "id": "02a208dc-ba89-45b4-95b5-7780a7ba12ee",
   "metadata": {},
   "outputs": [
    {
     "name": "stdout",
     "output_type": "stream",
     "text": [
      "60\n"
     ]
    }
   ],
   "source": [
    "def add(a,/,b,c):\n",
    "    print(a+b+c)\n",
    "add(10,b=20,c=30)"
   ]
  },
  {
   "cell_type": "code",
   "execution_count": null,
   "id": "3d1d522b-efac-4a2f-9e15-f468274de76b",
   "metadata": {},
   "outputs": [],
   "source": [
    "**Note**\n",
    "\n",
    "- (*) indicates provide the argument name"
   ]
  },
  {
   "cell_type": "code",
   "execution_count": 29,
   "id": "02f248d7-1b8f-4a0c-ac69-eb291c6953fd",
   "metadata": {},
   "outputs": [
    {
     "data": {
      "text/plain": [
       "['y', 't', 'p', 'o', 'n', 'h']"
      ]
     },
     "execution_count": 29,
     "metadata": {},
     "output_type": "execute_result"
    }
   ],
   "source": [
    "sorted('python',reverse=True)"
   ]
  },
  {
   "cell_type": "code",
   "execution_count": 2,
   "id": "49ef1ccb-f747-463e-9b7b-1f47fe717aa8",
   "metadata": {},
   "outputs": [
    {
     "data": {
      "text/plain": [
       "['h', 'n', 'o', 'p', 't', 'y']"
      ]
     },
     "execution_count": 2,
     "metadata": {},
     "output_type": "execute_result"
    }
   ],
   "source": [
    "sorted('python')"
   ]
  },
  {
   "cell_type": "code",
   "execution_count": null,
   "id": "b32bb524-d24a-4b55-a83a-4d30f80c181b",
   "metadata": {},
   "outputs": [],
   "source": [
    "sorted('python') # W   by default reverse=false\n",
    "sorted(iterable='python') # F\n",
    "sorted('python',reverse=True) # W\n",
    "sorted(iterable='python',reverse=True) # F\n",
    "sorted('python',True) # F"
   ]
  },
  {
   "cell_type": "markdown",
   "id": "6134e06b-89d4-40f8-a0a2-788538e2ca46",
   "metadata": {},
   "source": [
    "**Reversed**"
   ]
  },
  {
   "cell_type": "code",
   "execution_count": 30,
   "id": "affec8ef-0e76-45ce-bd74-121e27c44189",
   "metadata": {},
   "outputs": [
    {
     "ename": "TypeError",
     "evalue": "reversed() takes no keyword arguments",
     "output_type": "error",
     "traceback": [
      "\u001b[1;31m---------------------------------------------------------------------------\u001b[0m",
      "\u001b[1;31mTypeError\u001b[0m                                 Traceback (most recent call last)",
      "Cell \u001b[1;32mIn[30], line 1\u001b[0m\n\u001b[1;32m----> 1\u001b[0m \u001b[38;5;28mreversed\u001b[39m(sequence\u001b[38;5;241m=\u001b[39m\u001b[38;5;124m'\u001b[39m\u001b[38;5;124mhello\u001b[39m\u001b[38;5;124m'\u001b[39m)\n",
      "\u001b[1;31mTypeError\u001b[0m: reversed() takes no keyword arguments"
     ]
    }
   ],
   "source": [
    "reversed(sequence='hello')"
   ]
  },
  {
   "cell_type": "code",
   "execution_count": 31,
   "id": "cbc965c5-5321-4894-b0a6-443dce6d625d",
   "metadata": {},
   "outputs": [
    {
     "data": {
      "text/plain": [
       "<reversed at 0x22a88243d90>"
      ]
     },
     "execution_count": 31,
     "metadata": {},
     "output_type": "execute_result"
    }
   ],
   "source": [
    "reversed('hello')"
   ]
  },
  {
   "cell_type": "code",
   "execution_count": 8,
   "id": "7dec5fda-f4b4-477f-9612-770c21eb2038",
   "metadata": {},
   "outputs": [
    {
     "data": {
      "text/plain": [
       "['o', 'l', 'l', 'e', 'h']"
      ]
     },
     "execution_count": 8,
     "metadata": {},
     "output_type": "execute_result"
    }
   ],
   "source": [
    "ans=reversed('hello')\n",
    "list(ans)"
   ]
  },
  {
   "cell_type": "code",
   "execution_count": 34,
   "id": "88e55585-6a4b-4120-92b4-bb01a897f0f5",
   "metadata": {},
   "outputs": [
    {
     "name": "stdout",
     "output_type": "stream",
     "text": [
      "o\n",
      "l\n",
      "l\n",
      "e\n",
      "h\n"
     ]
    }
   ],
   "source": [
    "for i in ans:\n",
    "    print(i)"
   ]
  },
  {
   "cell_type": "code",
   "execution_count": 36,
   "id": "8410f0d1-c7d4-47dc-90c8-5a5483ebc113",
   "metadata": {},
   "outputs": [
    {
     "data": {
      "text/plain": [
       "list[<reversed object at 0x0000022A891582E0>]"
      ]
     },
     "execution_count": 36,
     "metadata": {},
     "output_type": "execute_result"
    }
   ],
   "source": [
    "- answer saved at address memory location\n",
    "\n",
    "- we can see the answer by using for loop or list\n",
    "\n",
    "- whenever we see lessthan greaterthan symbol answer\n",
    "\n",
    "- try to apply for loop or list"
   ]
  },
  {
   "cell_type": "code",
   "execution_count": 37,
   "id": "54b6fe19-7419-4bca-8509-13a79019f8b3",
   "metadata": {},
   "outputs": [
    {
     "data": {
      "text/plain": [
       "['o', 'l', 'l', 'e', 'h']"
      ]
     },
     "execution_count": 37,
     "metadata": {},
     "output_type": "execute_result"
    }
   ],
   "source": [
    "ans=reversed('hello')\n",
    "list(ans)"
   ]
  },
  {
   "cell_type": "code",
   "execution_count": 3,
   "id": "b2312d98-17db-42ab-8725-5d0523f47365",
   "metadata": {},
   "outputs": [
    {
     "name": "stdout",
     "output_type": "stream",
     "text": [
      "b\n",
      "a\n",
      "n\n",
      "a\n",
      "n\n",
      "a\n"
     ]
    }
   ],
   "source": [
    "fruit='banana'\n",
    "for char in fruit:\n",
    "    print(char)"
   ]
  },
  {
   "cell_type": "code",
   "execution_count": 6,
   "id": "f0cf8902-d48a-4c36-8520-497e801e7f8b",
   "metadata": {},
   "outputs": [
    {
     "name": "stdout",
     "output_type": "stream",
     "text": [
      "b\n",
      "a\n",
      "n\n",
      "a\n",
      "n\n",
      "a\n"
     ]
    }
   ],
   "source": [
    "index=0\n",
    "while index<len(fruit):\n",
    "    l=fruit[index]\n",
    "    print(l)\n",
    "    index=index+1"
   ]
  },
  {
   "cell_type": "markdown",
   "id": "513ad2b5-b1e7-4f25-8bba-af9d73ebd63d",
   "metadata": {},
   "source": [
    "**Concatenation**"
   ]
  },
  {
   "cell_type": "code",
   "execution_count": 38,
   "id": "ddb097ff-ed0b-4ffd-9383-a148aeb1eae3",
   "metadata": {},
   "outputs": [
    {
     "data": {
      "text/plain": [
       "'hellopython'"
      ]
     },
     "execution_count": 38,
     "metadata": {},
     "output_type": "execute_result"
    }
   ],
   "source": [
    "str1='hello'\n",
    "str2='python'\n",
    "str1+str2"
   ]
  },
  {
   "cell_type": "code",
   "execution_count": 1,
   "id": "7e19c4c0-19bd-4133-b73f-fde6ed7722e1",
   "metadata": {},
   "outputs": [
    {
     "name": "stdin",
     "output_type": "stream",
     "text": [
      " 5\n"
     ]
    },
    {
     "name": "stdout",
     "output_type": "stream",
     "text": [
      "120\n"
     ]
    }
   ],
   "source": [
    "# find factorial using while loop\n",
    "n=int(input())\n",
    "fact=1\n",
    "i=1\n",
    "while i<=n:\n",
    "    fact=fact*i\n",
    "    i=i+1\n",
    "print(fact)        "
   ]
  },
  {
   "cell_type": "code",
   "execution_count": 6,
   "id": "1f54f6f7-3c32-4b2f-a336-67922caca3f0",
   "metadata": {},
   "outputs": [
    {
     "name": "stdin",
     "output_type": "stream",
     "text": [
      " 6\n"
     ]
    },
    {
     "name": "stdout",
     "output_type": "stream",
     "text": [
      "720\n"
     ]
    }
   ],
   "source": [
    "# find factorial using for loop\n",
    "n=eval(input())\n",
    "fact=1\n",
    "for i in range(1,n+1):\n",
    "    fact=fact*i\n",
    "print(fact)"
   ]
  },
  {
   "cell_type": "code",
   "execution_count": 39,
   "id": "04a3ebca-f726-4635-93aa-88bbb23e111a",
   "metadata": {},
   "outputs": [
    {
     "ename": "TypeError",
     "evalue": "unsupported operand type(s) for -: 'str' and 'str'",
     "output_type": "error",
     "traceback": [
      "\u001b[1;31m---------------------------------------------------------------------------\u001b[0m",
      "\u001b[1;31mTypeError\u001b[0m                                 Traceback (most recent call last)",
      "Cell \u001b[1;32mIn[39], line 1\u001b[0m\n\u001b[1;32m----> 1\u001b[0m str1\u001b[38;5;241m-\u001b[39mstr2\n",
      "\u001b[1;31mTypeError\u001b[0m: unsupported operand type(s) for -: 'str' and 'str'"
     ]
    }
   ],
   "source": [
    "str1-str2"
   ]
  },
  {
   "cell_type": "code",
   "execution_count": 40,
   "id": "7451c8e8-6afb-432c-b386-042fd81ac9e7",
   "metadata": {},
   "outputs": [
    {
     "ename": "TypeError",
     "evalue": "can't multiply sequence by non-int of type 'str'",
     "output_type": "error",
     "traceback": [
      "\u001b[1;31m---------------------------------------------------------------------------\u001b[0m",
      "\u001b[1;31mTypeError\u001b[0m                                 Traceback (most recent call last)",
      "Cell \u001b[1;32mIn[40], line 1\u001b[0m\n\u001b[1;32m----> 1\u001b[0m str1\u001b[38;5;241m*\u001b[39mstr2\n",
      "\u001b[1;31mTypeError\u001b[0m: can't multiply sequence by non-int of type 'str'"
     ]
    }
   ],
   "source": [
    "str1*str2"
   ]
  },
  {
   "cell_type": "code",
   "execution_count": 41,
   "id": "23b7723e-47d4-4f0d-95a5-49535fbc86c6",
   "metadata": {},
   "outputs": [
    {
     "ename": "TypeError",
     "evalue": "unsupported operand type(s) for /: 'str' and 'str'",
     "output_type": "error",
     "traceback": [
      "\u001b[1;31m---------------------------------------------------------------------------\u001b[0m",
      "\u001b[1;31mTypeError\u001b[0m                                 Traceback (most recent call last)",
      "Cell \u001b[1;32mIn[41], line 1\u001b[0m\n\u001b[1;32m----> 1\u001b[0m str1\u001b[38;5;241m/\u001b[39mstr2\n",
      "\u001b[1;31mTypeError\u001b[0m: unsupported operand type(s) for /: 'str' and 'str'"
     ]
    }
   ],
   "source": [
    "str1/str2"
   ]
  },
  {
   "cell_type": "code",
   "execution_count": 43,
   "id": "9bdf13ef-d905-40ca-902a-6049e13e1728",
   "metadata": {},
   "outputs": [
    {
     "data": {
      "text/plain": [
       "'hello hello hello '"
      ]
     },
     "execution_count": 43,
     "metadata": {},
     "output_type": "execute_result"
    }
   ],
   "source": [
    "str1='hello '\n",
    "int=3\n",
    "str1*int"
   ]
  },
  {
   "cell_type": "code",
   "execution_count": 44,
   "id": "8d2f9a6e-2584-4a70-a761-6d5f84bd7f75",
   "metadata": {},
   "outputs": [
    {
     "data": {
      "text/plain": [
       "'hello python'"
      ]
     },
     "execution_count": 44,
     "metadata": {},
     "output_type": "execute_result"
    }
   ],
   "source": [
    "str1='hello '\n",
    "str2='python'\n",
    "str1+str2"
   ]
  },
  {
   "cell_type": "code",
   "execution_count": 45,
   "id": "884e0d70-32e5-4361-a716-b57f190341ad",
   "metadata": {},
   "outputs": [
    {
     "data": {
      "text/plain": [
       "'hello python'"
      ]
     },
     "execution_count": 45,
     "metadata": {},
     "output_type": "execute_result"
    }
   ],
   "source": [
    "str1='hello'\n",
    "str2=' python'\n",
    "str1+str2"
   ]
  },
  {
   "cell_type": "code",
   "execution_count": 46,
   "id": "e003f859-9df0-4525-89a1-c11eb8d8719b",
   "metadata": {},
   "outputs": [
    {
     "data": {
      "text/plain": [
       "'hello python'"
      ]
     },
     "execution_count": 46,
     "metadata": {},
     "output_type": "execute_result"
    }
   ],
   "source": [
    "str1='hello'\n",
    "str2='python'\n",
    "str1+' '+str2"
   ]
  },
  {
   "cell_type": "markdown",
   "id": "76656f65-e8a5-49c7-a3ed-b8898483e9fa",
   "metadata": {},
   "source": [
    "**Index**"
   ]
  },
  {
   "cell_type": "code",
   "execution_count": 1,
   "id": "4ca13bb1-ce7e-4129-9a42-92376097e7ce",
   "metadata": {},
   "outputs": [
    {
     "data": {
      "text/plain": [
       "'python'"
      ]
     },
     "execution_count": 1,
     "metadata": {},
     "output_type": "execute_result"
    }
   ],
   "source": [
    "str1='python'\n",
    "str1"
   ]
  },
  {
   "cell_type": "code",
   "execution_count": null,
   "id": "a2b136bf-fac3-4c6d-9e0c-9d8705e58060",
   "metadata": {},
   "outputs": [],
   "source": [
    "-6 -5 -4 -3 -2 -1\n",
    " p  y  t  h  o  n\n",
    " 0  1  2  3  4  5"
   ]
  },
  {
   "cell_type": "markdown",
   "id": "266fadcb-46f2-4539-a558-09f7ea6cd181",
   "metadata": {},
   "source": [
    "- access the characters or elements use square brackets"
   ]
  },
  {
   "cell_type": "code",
   "execution_count": 5,
   "id": "c47e7ab0-0389-4d3c-b4c1-45a63780cc24",
   "metadata": {},
   "outputs": [
    {
     "data": {
      "text/plain": [
       "('n', 'n')"
      ]
     },
     "execution_count": 5,
     "metadata": {},
     "output_type": "execute_result"
    }
   ],
   "source": [
    "str1[0],str1[-6]\n",
    "str1[1],str1[-5]\n",
    "str1[2],str1[-4]\n",
    "str1[3],str1[-3]\n",
    "str1[4],str1[-2]\n",
    "str1[5],str1[-1]"
   ]
  },
  {
   "cell_type": "code",
   "execution_count": 8,
   "id": "3ca67658-d2ca-4527-ade3-299e4075e4ba",
   "metadata": {},
   "outputs": [
    {
     "name": "stdout",
     "output_type": "stream",
     "text": [
      "p y t h o n "
     ]
    }
   ],
   "source": [
    "for i in(str1):\n",
    "    print(i,end=' ')"
   ]
  },
  {
   "cell_type": "code",
   "execution_count": 9,
   "id": "084560c4-346f-44a9-9818-71186e1073a0",
   "metadata": {},
   "outputs": [
    {
     "name": "stdout",
     "output_type": "stream",
     "text": [
      "p\n",
      "y\n",
      "t\n",
      "h\n",
      "o\n",
      "n\n"
     ]
    }
   ],
   "source": [
    "str1='python'\n",
    "for i in range(0,6):\n",
    "    print(str1[i])"
   ]
  },
  {
   "cell_type": "code",
   "execution_count": 11,
   "id": "ca73936d-ee5f-427a-80b7-3ce6609c2436",
   "metadata": {},
   "outputs": [
    {
     "name": "stdout",
     "output_type": "stream",
     "text": [
      "h e l l o   h o w   a r e   y o u "
     ]
    }
   ],
   "source": [
    "str1='hello how are you'\n",
    "n=len(str1)\n",
    "for i in range(0,n):\n",
    "    print(str1[i],end=' ')"
   ]
  },
  {
   "cell_type": "code",
   "execution_count": 16,
   "id": "74bf69fb-9c78-4004-b94f-6a347cc0092d",
   "metadata": {},
   "outputs": [
    {
     "name": "stdout",
     "output_type": "stream",
     "text": [
      "the positive index of p is 0\n",
      "the positive index of y is 1\n",
      "the positive index of t is 2\n",
      "the positive index of h is 3\n",
      "the positive index of o is 4\n",
      "the positive index of n is 5\n"
     ]
    }
   ],
   "source": [
    "# 1) the positive index of p is 0\n",
    "#    the positive index of y is 1\n",
    "\n",
    "str1='python'\n",
    "n=len(str1)\n",
    "for i in range(0,n):\n",
    "    print(f'the positive index of {str1[i]} is {i}')"
   ]
  },
  {
   "cell_type": "code",
   "execution_count": 19,
   "id": "5b2c2b5c-2a0c-4e96-97bc-d7e7678e4434",
   "metadata": {},
   "outputs": [
    {
     "name": "stdout",
     "output_type": "stream",
     "text": [
      "the negative index of p is -6\n",
      "the negative index of y is -5\n",
      "the negative index of t is -4\n",
      "the negative index of h is -3\n",
      "the negative index of o is -2\n",
      "the negative index of n is -1\n"
     ]
    }
   ],
   "source": [
    "# 2) the negative index of p is -6\n",
    "\n",
    "str1='python'\n",
    "n=len(str1)\n",
    "for i in range(-n,0):\n",
    "    print(f'the negative index of {str1[i]} is {i}')"
   ]
  },
  {
   "cell_type": "code",
   "execution_count": 26,
   "id": "fc3593f4-f1ce-4b09-bd92-1fe9cdcb2f10",
   "metadata": {},
   "outputs": [
    {
     "name": "stdout",
     "output_type": "stream",
     "text": [
      "the negative index of p is -6\n",
      "the negative index of y is -5\n",
      "the negative index of t is -4\n",
      "the negative index of h is -3\n",
      "the negative index of o is -2\n",
      "the negative index of n is -1\n"
     ]
    }
   ],
   "source": [
    "str1='python'\n",
    "n=len(str1)\n",
    "for i in range(0,n):\n",
    "    print(f'the negative index of {str1[i]} is {i-6}')"
   ]
  },
  {
   "cell_type": "code",
   "execution_count": 24,
   "id": "6dcf92b5-2c19-486f-b5a5-f6d7ff5153dd",
   "metadata": {},
   "outputs": [
    {
     "name": "stdout",
     "output_type": "stream",
     "text": [
      "the positive index is 0 and negative index is -6 for p \n",
      "the positive index is 1 and negative index is -5 for y \n",
      "the positive index is 2 and negative index is -4 for t \n",
      "the positive index is 3 and negative index is -3 for h \n",
      "the positive index is 4 and negative index is -2 for o \n",
      "the positive index is 5 and negative index is -1 for n \n"
     ]
    }
   ],
   "source": [
    "# 3) the positive index is 0 and negative index is -6 for p\n",
    "\n",
    "str1='python'\n",
    "n=len(str1)\n",
    "for i in range(0,6):\n",
    "    print(f'the positive index is {i} and negative index is {i-6} for {str1[i]} ')"
   ]
  },
  {
   "cell_type": "markdown",
   "id": "4488abc6-657d-40a3-b618-9257b6bedccd",
   "metadata": {},
   "source": [
    "**When to use **in** operator - When to use **range** operator**"
   ]
  },
  {
   "cell_type": "markdown",
   "id": "dde3b199-3443-4b07-8d3e-ccd1aeaf3fdc",
   "metadata": {},
   "source": [
    "- **in** operator directly access the elements\n",
    "\n",
    "- **range** operator access the elements using the index or numbers\n",
    "\n",
    "- any problem statement if you need numbers then go for range\n",
    "\n",
    "- otherwise go for in operator directely"
   ]
  },
  {
   "cell_type": "code",
   "execution_count": 29,
   "id": "97bcad02-3deb-4d1e-8052-5b2f56b5022e",
   "metadata": {},
   "outputs": [
    {
     "name": "stdout",
     "output_type": "stream",
     "text": [
      "p y t h o n "
     ]
    }
   ],
   "source": [
    "str1='python'\n",
    "for i in str1:\n",
    "    print(i,end=' ')"
   ]
  },
  {
   "cell_type": "code",
   "execution_count": 5,
   "id": "36c3697f-0721-490d-b7b1-7f7e903c3a65",
   "metadata": {},
   "outputs": [
    {
     "name": "stdout",
     "output_type": "stream",
     "text": [
      "p:0\n",
      "y:1\n",
      "t:2\n",
      "h:3\n",
      "o:4\n",
      "n:5\n"
     ]
    }
   ],
   "source": [
    "str1='python'\n",
    "for i in range(0,6):\n",
    "    print(f'{str1[i]}:{i}')"
   ]
  },
  {
   "cell_type": "code",
   "execution_count": 7,
   "id": "cd24e570-6441-4b37-a78d-f7d4f77bb721",
   "metadata": {},
   "outputs": [
    {
     "name": "stdout",
     "output_type": "stream",
     "text": [
      "index of a is 2\n",
      "index of a is 6\n",
      "index of a is 10\n"
     ]
    }
   ],
   "source": [
    "# 4) wap to find the index of 'a' in a given string\n",
    "# str1='ola ola ola'\n",
    "str1='ola ola ola'\n",
    "n=len(str1)\n",
    "for i in range(0,n):\n",
    "    if str1[i]=='a':\n",
    "        print(f'index of a is {i}')"
   ]
  },
  {
   "cell_type": "code",
   "execution_count": 10,
   "id": "e9377ba9-08f6-42ee-ab37-48a19e034998",
   "metadata": {},
   "outputs": [
    {
     "name": "stdout",
     "output_type": "stream",
     "text": [
      "the sum of all index of a is 18\n"
     ]
    }
   ],
   "source": [
    "# 5) wap to find the sum of all indexes of 'a' in a given string\n",
    "#    str1='ola ola ola'\n",
    "str1='ola ola ola'\n",
    "n=len(str1)\n",
    "summ=0\n",
    "for i in range(0,n):\n",
    "    if str1[i]=='a':\n",
    "        summ=summ+i\n",
    "print(f'the sum of all index of a is {summ}')"
   ]
  },
  {
   "cell_type": "code",
   "execution_count": 12,
   "id": "b213f228-a4dd-4777-81b9-1cf8b96d830f",
   "metadata": {},
   "outputs": [
    {
     "name": "stdout",
     "output_type": "stream",
     "text": [
      "the number of a in the string is 3\n"
     ]
    }
   ],
   "source": [
    "# 6) wap to find the number of 'a' in an given string\n",
    "\n",
    "str1='ola ola ola'\n",
    "n=len(str1)\n",
    "count=0\n",
    "for i in range(0,n):\n",
    "    if str1[i]=='a':\n",
    "        count=count+1\n",
    "print(f'the number of a in the string is {count}')"
   ]
  },
  {
   "cell_type": "code",
   "execution_count": 6,
   "id": "8c74eaa9-b013-4764-a83d-505c33a592bd",
   "metadata": {},
   "outputs": [
    {
     "name": "stdout",
     "output_type": "stream",
     "text": [
      "a i o a e o u \n",
      "total no of vowels:7\n"
     ]
    }
   ],
   "source": [
    "# 7) wap to find the vowels and its count in a given string\n",
    "#   str1='hai how are you'\n",
    "\n",
    "str1='hai how are you'\n",
    "v='aeiou'\n",
    "count=0\n",
    "for i in str1:\n",
    "    if i in v:\n",
    "        print(i,end=' ')\n",
    "        count+= 1\n",
    "print(f'\\ntotal no of vowels:{count}')\n",
    "        "
   ]
  },
  {
   "cell_type": "code",
   "execution_count": 24,
   "id": "e72c504f-542d-4f9a-9d49-facfdae79eb9",
   "metadata": {},
   "outputs": [
    {
     "name": "stdout",
     "output_type": "stream",
     "text": [
      "2\n"
     ]
    }
   ],
   "source": [
    "count=0\n",
    "for i in str1:\n",
    "    if i=='a':\n",
    "        count=count+1\n",
    "print(count)\n",
    "        "
   ]
  },
  {
   "cell_type": "code",
   "execution_count": 28,
   "id": "65626999-62dd-4ec0-9604-a362dafbf842",
   "metadata": {},
   "outputs": [
    {
     "name": "stdout",
     "output_type": "stream",
     "text": [
      "a\n",
      "i\n",
      "o\n",
      "e\n",
      "u\n"
     ]
    }
   ],
   "source": [
    "# Q8) write a progarm to find the vowels which are repaeting then print only\n",
    "# one time\n",
    "# example: helleo\n",
    "# e is coming two times but we want to print only one time\n",
    "\n",
    "str1='hai how are you'\n",
    "n=''\n",
    "for i in str1:\n",
    "    if i in 'aeiou' and i not in n:\n",
    "        print(i)\n",
    "        n=n+i\n",
    "        "
   ]
  },
  {
   "cell_type": "markdown",
   "id": "d8b4d88e-f65c-4d81-8d4d-26cadbcd2cbd",
   "metadata": {},
   "source": [
    "**mutable-immutable**"
   ]
  },
  {
   "cell_type": "markdown",
   "id": "de82219c-60d2-439d-8ff3-257ad108e722",
   "metadata": {},
   "source": [
    "- mutable means change\n",
    "\n",
    "- immutable means can not change\n",
    "\n",
    "- we can not change the elements using index operations"
   ]
  },
  {
   "cell_type": "code",
   "execution_count": 29,
   "id": "ebdb5bf7-7789-4e54-983c-09958e828672",
   "metadata": {},
   "outputs": [
    {
     "ename": "TypeError",
     "evalue": "'str' object does not support item assignment",
     "output_type": "error",
     "traceback": [
      "\u001b[1;31m---------------------------------------------------------------------------\u001b[0m",
      "\u001b[1;31mTypeError\u001b[0m                                 Traceback (most recent call last)",
      "Cell \u001b[1;32mIn[29], line 2\u001b[0m\n\u001b[0;32m      1\u001b[0m str1\u001b[38;5;241m=\u001b[39m\u001b[38;5;124m'\u001b[39m\u001b[38;5;124mhello\u001b[39m\u001b[38;5;124m'\u001b[39m\n\u001b[1;32m----> 2\u001b[0m str1[\u001b[38;5;241m2\u001b[39m]\u001b[38;5;241m=\u001b[39m\u001b[38;5;124m'\u001b[39m\u001b[38;5;124mL\u001b[39m\u001b[38;5;124m'\u001b[39m\n",
      "\u001b[1;31mTypeError\u001b[0m: 'str' object does not support item assignment"
     ]
    }
   ],
   "source": [
    "str1='hello'\n",
    "str1[2]='L'"
   ]
  },
  {
   "cell_type": "code",
   "execution_count": 8,
   "id": "c9ceae8a-e3ef-4ce2-a532-64073b5ceed7",
   "metadata": {},
   "outputs": [
    {
     "name": "stdout",
     "output_type": "stream",
     "text": [
      "Lello\n"
     ]
    }
   ],
   "source": [
    "str1='hello'\n",
    "str2='L'+str1[1:]\n",
    "print(str2)"
   ]
  },
  {
   "cell_type": "code",
   "execution_count": 31,
   "id": "b4863648-4fb8-41ba-aba2-bbd610eb433f",
   "metadata": {},
   "outputs": [
    {
     "data": {
      "text/plain": [
       "[10, 20, 400]"
      ]
     },
     "execution_count": 31,
     "metadata": {},
     "output_type": "execute_result"
    }
   ],
   "source": [
    "l=[10,20,30]\n",
    "l[2]=400\n",
    "l"
   ]
  },
  {
   "cell_type": "markdown",
   "id": "f50bb287-3ed7-441c-b528-b52fcb69bd82",
   "metadata": {},
   "source": [
    "**Slice**\n",
    "\n",
    "- slice means cut into pieces\n",
    "\n",
    "- it has same analogy with for loop range\n",
    "\n",
    "- in for loop range we have start,stop,step\n",
    "\n",
    "- range(start,stop,step)    str[start:stop:step]"
   ]
  },
  {
   "cell_type": "code",
   "execution_count": null,
   "id": "34c1a844-bf9c-4467-a641-324eeda4543b",
   "metadata": {},
   "outputs": [],
   "source": [
    "-17 -16 -15 -14 -13 -12 -11 -10 -9 -8 -7 -6 -5 -4 -3 -2 -1\n",
    " h   e    l  l   o       h   o   w     a  r  e     y  o  u\n",
    " 0   1    2  3   4   5   6   7   8  9  10 11 12 13 14 15 16"
   ]
  },
  {
   "cell_type": "markdown",
   "id": "9babf650-bd19-49b2-b371-0de688a751ef",
   "metadata": {},
   "source": [
    "$case-1$\n",
    "\n",
    "**str[:stop]**\n",
    "\n",
    " - by default start = 0\n",
    "\n",
    " - by default step = positive direction 1\n",
    "\n",
    " - last = stop-1\n"
   ]
  },
  {
   "cell_type": "code",
   "execution_count": 1,
   "id": "583fe13b-4119-45b7-ab80-678ac06ae245",
   "metadata": {},
   "outputs": [
    {
     "data": {
      "text/plain": [
       "'hello'"
      ]
     },
     "execution_count": 1,
     "metadata": {},
     "output_type": "execute_result"
    }
   ],
   "source": [
    "str1='hello how are you'\n",
    "str1[:5]\n",
    "# start=0 step=1 stop=5-1=4"
   ]
  },
  {
   "cell_type": "code",
   "execution_count": null,
   "id": "dac2b565-d981-43e6-a955-4bf3e269f209",
   "metadata": {},
   "outputs": [],
   "source": [
    "$case-2$\n",
    "\n",
    "**str[start:]**\n",
    "\n",
    " - by default start = start value\n",
    "\n",
    " - by default step = positive direction 1\n",
    "\n",
    " - last = last index"
   ]
  },
  {
   "cell_type": "code",
   "execution_count": 2,
   "id": "703da68c-7109-473f-b68b-7df1e9bb766a",
   "metadata": {},
   "outputs": [
    {
     "data": {
      "text/plain": [
       "' how are you'"
      ]
     },
     "execution_count": 2,
     "metadata": {},
     "output_type": "execute_result"
    }
   ],
   "source": [
    "str1[5:]"
   ]
  },
  {
   "cell_type": "code",
   "execution_count": null,
   "id": "ce37eb88-d57e-4d04-be68-bfbc049f7540",
   "metadata": {},
   "outputs": [],
   "source": [
    "$case-3$\n",
    "\n",
    "**str[start:stop]**\n",
    "\n",
    " - by default start = start value\n",
    "\n",
    " - by default step = positive direction 1\n",
    "\n",
    " - last = stop-1"
   ]
  },
  {
   "cell_type": "code",
   "execution_count": 3,
   "id": "eabaceee-6be2-4739-ae41-17bacc1cca44",
   "metadata": {},
   "outputs": [
    {
     "data": {
      "text/plain": [
       "'are y'"
      ]
     },
     "execution_count": 3,
     "metadata": {},
     "output_type": "execute_result"
    }
   ],
   "source": [
    "# -17 -16 -15 -14 -13 -12 -11 -10 -9 -8 -7 -6 -5 -4 -3 -2 -1\n",
    "#  h   e    l  l   o       h   o   w     a  r  e     y  o  u\n",
    "#  0   1    2  3   4   5   6   7   8  9  10 11 12 13 14 15 16\n",
    "str1[10:15]"
   ]
  },
  {
   "cell_type": "code",
   "execution_count": 4,
   "id": "f053413b-961c-4f14-8dda-df078ce12376",
   "metadata": {},
   "outputs": [
    {
     "data": {
      "text/plain": [
       "'llo how '"
      ]
     },
     "execution_count": 4,
     "metadata": {},
     "output_type": "execute_result"
    }
   ],
   "source": [
    "str1[-15:10]"
   ]
  },
  {
   "cell_type": "code",
   "execution_count": 6,
   "id": "2351a2ce-33ac-4edb-8d75-ccaf3f117652",
   "metadata": {},
   "outputs": [
    {
     "data": {
      "text/plain": [
       "''"
      ]
     },
     "execution_count": 6,
     "metadata": {},
     "output_type": "execute_result"
    }
   ],
   "source": [
    "str1[-10:2]"
   ]
  },
  {
   "cell_type": "code",
   "execution_count": 7,
   "id": "9595cabf-1890-442d-9677-9bb20aee98f7",
   "metadata": {},
   "outputs": [
    {
     "data": {
      "text/plain": [
       "''"
      ]
     },
     "execution_count": 7,
     "metadata": {},
     "output_type": "execute_result"
    }
   ],
   "source": [
    "str1[-2:-16]"
   ]
  },
  {
   "cell_type": "code",
   "execution_count": 9,
   "id": "0df5417c-6bc6-4516-9da5-6027f891ff3f",
   "metadata": {},
   "outputs": [
    {
     "data": {
      "text/plain": [
       "'hello how are you'"
      ]
     },
     "execution_count": 9,
     "metadata": {},
     "output_type": "execute_result"
    }
   ],
   "source": [
    "str1[-17:17]"
   ]
  },
  {
   "cell_type": "code",
   "execution_count": 10,
   "id": "8b14519b-7f4e-43e7-b6c3-d968a50e885b",
   "metadata": {},
   "outputs": [],
   "source": [
    "for i in range(2,-2):\n",
    "    print(i)"
   ]
  },
  {
   "cell_type": "markdown",
   "id": "1668582a-2038-4533-97ec-f95b193ebcfb",
   "metadata": {},
   "source": [
    "$case-4$\n",
    "\n",
    "- str[start:stop:step]\n",
    "\n",
    "- by default start = start value\n",
    "\n",
    "- if step is positive value\n",
    "\n",
    "   - last = stop - 1\n",
    "\n",
    "- if step is negative value\n",
    "\n",
    "  - last = stop + 1"
   ]
  },
  {
   "cell_type": "code",
   "execution_count": 8,
   "id": "f80d6d45-0067-4a13-a421-98032c6c8eb4",
   "metadata": {},
   "outputs": [
    {
     "data": {
      "text/plain": [
       "'le'"
      ]
     },
     "execution_count": 8,
     "metadata": {},
     "output_type": "execute_result"
    }
   ],
   "source": [
    "# -17 -16 -15 -14 -13 -12 -11 -10 -9 -8 -7 -6 -5 -4 -3 -2 -1\n",
    "#  h   e    l  l   o       h   o   w     a  r  e     y  o  u\n",
    "#  0   1    2  3   4   5   6   7   8  9  10 11 12 13 14 15 16\n",
    "str1='hello how are you'\n",
    "str1[-15:-17:-1]"
   ]
  },
  {
   "cell_type": "code",
   "execution_count": 13,
   "id": "630df028-a085-4926-b422-0a56292bedce",
   "metadata": {},
   "outputs": [
    {
     "data": {
      "text/plain": [
       "'llo how are you'"
      ]
     },
     "execution_count": 13,
     "metadata": {},
     "output_type": "execute_result"
    }
   ],
   "source": [
    "str1[2:150]"
   ]
  },
  {
   "cell_type": "code",
   "execution_count": 14,
   "id": "adc57048-5d7d-4cc5-9ad3-5a71c69eda93",
   "metadata": {},
   "outputs": [
    {
     "data": {
      "text/plain": [
       "'hello how are you'"
      ]
     },
     "execution_count": 14,
     "metadata": {},
     "output_type": "execute_result"
    }
   ],
   "source": [
    "str1[:]"
   ]
  },
  {
   "cell_type": "code",
   "execution_count": 15,
   "id": "c1b39699-4a25-4212-8b07-1db146a090d6",
   "metadata": {},
   "outputs": [
    {
     "data": {
      "text/plain": [
       "'hello how are you'"
      ]
     },
     "execution_count": 15,
     "metadata": {},
     "output_type": "execute_result"
    }
   ],
   "source": [
    "str1[::]"
   ]
  },
  {
   "cell_type": "code",
   "execution_count": 16,
   "id": "fa94c67b-4af6-444c-9eda-8dd87ea9a925",
   "metadata": {},
   "outputs": [
    {
     "data": {
      "text/plain": [
       "'uoy era woh olleh'"
      ]
     },
     "execution_count": 16,
     "metadata": {},
     "output_type": "execute_result"
    }
   ],
   "source": [
    "str1[::-1]"
   ]
  },
  {
   "cell_type": "code",
   "execution_count": 17,
   "id": "a9c027bc-363d-408c-b54d-b5871ac26127",
   "metadata": {},
   "outputs": [
    {
     "data": {
      "text/plain": [
       "12345"
      ]
     },
     "execution_count": 17,
     "metadata": {},
     "output_type": "execute_result"
    }
   ],
   "source": [
    "num=12345\n",
    "num"
   ]
  },
  {
   "cell_type": "code",
   "execution_count": 18,
   "id": "c9126ad6-b69f-486d-80e7-2b04f2506a15",
   "metadata": {},
   "outputs": [
    {
     "data": {
      "text/plain": [
       "'54321'"
      ]
     },
     "execution_count": 18,
     "metadata": {},
     "output_type": "execute_result"
    }
   ],
   "source": [
    "num=12345\n",
    "str(num)[::-1]"
   ]
  },
  {
   "cell_type": "code",
   "execution_count": 19,
   "id": "54e39cd6-0241-4c14-aada-5e08d8a33d4f",
   "metadata": {},
   "outputs": [
    {
     "data": {
      "text/plain": [
       "54321"
      ]
     },
     "execution_count": 19,
     "metadata": {},
     "output_type": "execute_result"
    }
   ],
   "source": [
    "num=12345\n",
    "int(str(num)[::-1])"
   ]
  },
  {
   "cell_type": "markdown",
   "id": "cb73fa8e-ad5c-474e-b434-0c09ec2a0073",
   "metadata": {},
   "source": [
    "**Methods**\n",
    "\n"
   ]
  },
  {
   "cell_type": "code",
   "execution_count": 22,
   "id": "960719ae-d288-4a0d-a22d-8c9ad205de96",
   "metadata": {},
   "outputs": [
    {
     "data": {
      "text/plain": [
       "['__add__',\n",
       " '__class__',\n",
       " '__contains__',\n",
       " '__delattr__',\n",
       " '__dir__',\n",
       " '__doc__',\n",
       " '__eq__',\n",
       " '__format__',\n",
       " '__ge__',\n",
       " '__getattribute__',\n",
       " '__getitem__',\n",
       " '__getnewargs__',\n",
       " '__getstate__',\n",
       " '__gt__',\n",
       " '__hash__',\n",
       " '__init__',\n",
       " '__init_subclass__',\n",
       " '__iter__',\n",
       " '__le__',\n",
       " '__len__',\n",
       " '__lt__',\n",
       " '__mod__',\n",
       " '__mul__',\n",
       " '__ne__',\n",
       " '__new__',\n",
       " '__reduce__',\n",
       " '__reduce_ex__',\n",
       " '__repr__',\n",
       " '__rmod__',\n",
       " '__rmul__',\n",
       " '__setattr__',\n",
       " '__sizeof__',\n",
       " '__str__',\n",
       " '__subclasshook__',\n",
       " 'capitalize',\n",
       " 'casefold',\n",
       " 'center',\n",
       " 'count',\n",
       " 'encode',\n",
       " 'endswith',\n",
       " 'expandtabs',\n",
       " 'find',\n",
       " 'format',\n",
       " 'format_map',\n",
       " 'index',\n",
       " 'isalnum',\n",
       " 'isalpha',\n",
       " 'isascii',\n",
       " 'isdecimal',\n",
       " 'isdigit',\n",
       " 'isidentifier',\n",
       " 'islower',\n",
       " 'isnumeric',\n",
       " 'isprintable',\n",
       " 'isspace',\n",
       " 'istitle',\n",
       " 'isupper',\n",
       " 'join',\n",
       " 'ljust',\n",
       " 'lower',\n",
       " 'lstrip',\n",
       " 'maketrans',\n",
       " 'partition',\n",
       " 'removeprefix',\n",
       " 'removesuffix',\n",
       " 'replace',\n",
       " 'rfind',\n",
       " 'rindex',\n",
       " 'rjust',\n",
       " 'rpartition',\n",
       " 'rsplit',\n",
       " 'rstrip',\n",
       " 'split',\n",
       " 'splitlines',\n",
       " 'startswith',\n",
       " 'strip',\n",
       " 'swapcase',\n",
       " 'title',\n",
       " 'translate',\n",
       " 'upper',\n",
       " 'zfill']"
      ]
     },
     "execution_count": 22,
     "metadata": {},
     "output_type": "execute_result"
    }
   ],
   "source": [
    "name='python'\n",
    "dir(name)    #dir('')"
   ]
  },
  {
   "cell_type": "markdown",
   "id": "dcb343a6-12ab-4951-9403-4fb25fe0ee76",
   "metadata": {},
   "source": [
    "**upper**"
   ]
  },
  {
   "cell_type": "code",
   "execution_count": 30,
   "id": "90ae4d36-5ec5-4f6a-8db0-74cf0f8d882f",
   "metadata": {},
   "outputs": [
    {
     "data": {
      "text/plain": [
       "'WELCOME TO MY HOME'"
      ]
     },
     "execution_count": 30,
     "metadata": {},
     "output_type": "execute_result"
    }
   ],
   "source": [
    "str1='welcome to my home'  # it is a package\n",
    "str1.upper()"
   ]
  },
  {
   "cell_type": "code",
   "execution_count": 31,
   "id": "4d24eb7b-6ea4-4ece-9926-afc8e19f09a0",
   "metadata": {},
   "outputs": [
    {
     "data": {
      "text/plain": [
       "'welcome to my home'"
      ]
     },
     "execution_count": 31,
     "metadata": {},
     "output_type": "execute_result"
    }
   ],
   "source": [
    "str1.lower()"
   ]
  },
  {
   "cell_type": "code",
   "execution_count": 32,
   "id": "fd7e7d59-2b33-4fe3-b8e1-1ef9b7d688a5",
   "metadata": {},
   "outputs": [
    {
     "data": {
      "text/plain": [
       "'Welcome To My Home'"
      ]
     },
     "execution_count": 32,
     "metadata": {},
     "output_type": "execute_result"
    }
   ],
   "source": [
    "str1.title()"
   ]
  },
  {
   "cell_type": "code",
   "execution_count": 33,
   "id": "975d73b5-d684-4e77-b15f-fccd68a42d5c",
   "metadata": {},
   "outputs": [
    {
     "data": {
      "text/plain": [
       "'Welcome to my home'"
      ]
     },
     "execution_count": 33,
     "metadata": {},
     "output_type": "execute_result"
    }
   ],
   "source": [
    "str1.capitalize()"
   ]
  },
  {
   "cell_type": "code",
   "execution_count": 34,
   "id": "ec32c958-e667-4380-b5ad-3662c9ccfd0c",
   "metadata": {},
   "outputs": [
    {
     "data": {
      "text/plain": [
       "'welcome to my home'"
      ]
     },
     "execution_count": 34,
     "metadata": {},
     "output_type": "execute_result"
    }
   ],
   "source": [
    "str1.casefold()"
   ]
  },
  {
   "cell_type": "markdown",
   "id": "1f15fb0e-8818-4fa0-aa82-478b0bb93bcf",
   "metadata": {},
   "source": [
    "**Difference between methods and inbuilt functions** "
   ]
  },
  {
   "cell_type": "code",
   "execution_count": null,
   "id": "093115d3-057c-49ea-b8c1-4294031b71b1",
   "metadata": {},
   "outputs": [],
   "source": [
    "#########################  Inbuilt ##############################\n",
    "len('python')\n",
    "max()\n",
    "min()\n",
    "type()\n",
    "print()\n",
    "sum()\n",
    "##########################  methods  #############################\n",
    "str1.upper()\n",
    "str1.lower()\n",
    "str1.title()\n",
    "str1.capitalize()\n",
    "str1.casefold()"
   ]
  },
  {
   "cell_type": "markdown",
   "id": "e46e1fe7-ce34-4aec-be7e-8dede666d2a5",
   "metadata": {},
   "source": [
    "**center**"
   ]
  },
  {
   "cell_type": "code",
   "execution_count": 36,
   "id": "a6848641-7d24-42e6-a7a9-942f61cf20f3",
   "metadata": {},
   "outputs": [
    {
     "data": {
      "text/plain": [
       "'   python   '"
      ]
     },
     "execution_count": 36,
     "metadata": {},
     "output_type": "execute_result"
    }
   ],
   "source": [
    "str1='python'\n",
    "str1.center(12)"
   ]
  },
  {
   "cell_type": "code",
   "execution_count": 37,
   "id": "bca6718b-ca40-418b-b146-b727d7d1008b",
   "metadata": {},
   "outputs": [
    {
     "data": {
      "text/plain": [
       "'****python***'"
      ]
     },
     "execution_count": 37,
     "metadata": {},
     "output_type": "execute_result"
    }
   ],
   "source": [
    "str1='python'\n",
    "str1.center(13,'*')   # 4* + python + 3*\n",
    "# here 12 means the len of string becomes 12 chracters\n",
    "# already python string has 6 characters\n",
    "# so remaining characters padd as *"
   ]
  },
  {
   "cell_type": "code",
   "execution_count": 11,
   "id": "b7a996bb-2629-40ce-a423-bdbf79d24903",
   "metadata": {},
   "outputs": [
    {
     "data": {
      "text/plain": [
       "'***python***'"
      ]
     },
     "execution_count": 11,
     "metadata": {},
     "output_type": "execute_result"
    }
   ],
   "source": [
    "str1='python'\n",
    "str1.center(12,'*')"
   ]
  },
  {
   "cell_type": "code",
   "execution_count": null,
   "id": "7aace6bf-940a-47ea-8a0a-f59fc1d4c76f",
   "metadata": {},
   "outputs": [],
   "source": [
    "# assume that i already have\n",
    "# strings='***python'"
   ]
  },
  {
   "cell_type": "markdown",
   "id": "c78a3d0d-b6fc-4f80-b3f0-22cd7ae4fa69",
   "metadata": {},
   "source": [
    "**strip-lstrip-rstrip**\n",
    "\n",
    "- strip remove the characters both left and right side\n",
    "\n",
    "- lstrip will remove the characters on left side\n",
    "\n",
    "- rstrip will remove the characters on right side"
   ]
  },
  {
   "cell_type": "code",
   "execution_count": 41,
   "id": "7c578282-3a0a-469e-b390-e992591a4812",
   "metadata": {},
   "outputs": [
    {
     "data": {
      "text/plain": [
       "'python'"
      ]
     },
     "execution_count": 41,
     "metadata": {},
     "output_type": "execute_result"
    }
   ],
   "source": [
    "str1='   python   '\n",
    "str1.strip()"
   ]
  },
  {
   "cell_type": "code",
   "execution_count": 42,
   "id": "92a1b4a4-4537-4791-ae02-dcbf693e3dcc",
   "metadata": {},
   "outputs": [
    {
     "data": {
      "text/plain": [
       "'python   '"
      ]
     },
     "execution_count": 42,
     "metadata": {},
     "output_type": "execute_result"
    }
   ],
   "source": [
    "str1='   python   '\n",
    "str1.lstrip()"
   ]
  },
  {
   "cell_type": "code",
   "execution_count": 43,
   "id": "211df74c-1f0d-46f2-b472-341f166e8d10",
   "metadata": {},
   "outputs": [
    {
     "data": {
      "text/plain": [
       "'   python'"
      ]
     },
     "execution_count": 43,
     "metadata": {},
     "output_type": "execute_result"
    }
   ],
   "source": [
    "str1='   python   '\n",
    "str1.rstrip()"
   ]
  },
  {
   "cell_type": "code",
   "execution_count": 45,
   "id": "84addc4a-4c8c-4987-bf95-f9c1bac88090",
   "metadata": {},
   "outputs": [
    {
     "data": {
      "text/plain": [
       "'python'"
      ]
     },
     "execution_count": 45,
     "metadata": {},
     "output_type": "execute_result"
    }
   ],
   "source": [
    "str2='***python****'\n",
    "str2.strip('*')\n"
   ]
  },
  {
   "cell_type": "code",
   "execution_count": 46,
   "id": "b1fa0376-59bd-48d6-95bc-cc5788fd81b4",
   "metadata": {},
   "outputs": [
    {
     "data": {
      "text/plain": [
       "'python****'"
      ]
     },
     "execution_count": 46,
     "metadata": {},
     "output_type": "execute_result"
    }
   ],
   "source": [
    "str2='***python****'\n",
    "str2.lstrip('*')"
   ]
  },
  {
   "cell_type": "code",
   "execution_count": 47,
   "id": "313f5608-d052-4d7a-afae-6d7fc437db4c",
   "metadata": {},
   "outputs": [
    {
     "data": {
      "text/plain": [
       "'***python'"
      ]
     },
     "execution_count": 47,
     "metadata": {},
     "output_type": "execute_result"
    }
   ],
   "source": [
    "str2='***python****'\n",
    "str2.rstrip('*')"
   ]
  },
  {
   "cell_type": "code",
   "execution_count": 58,
   "id": "720253d1-d3a0-4c68-adee-b5047764c6f1",
   "metadata": {},
   "outputs": [
    {
     "data": {
      "text/plain": [
       "'python****'"
      ]
     },
     "execution_count": 58,
     "metadata": {},
     "output_type": "execute_result"
    }
   ],
   "source": [
    "str3='   python****'\n",
    "str3.strip()"
   ]
  },
  {
   "cell_type": "code",
   "execution_count": 59,
   "id": "4a77e4c6-b6c9-44a4-b366-0552efc6cfb9",
   "metadata": {},
   "outputs": [
    {
     "data": {
      "text/plain": [
       "'   python****'"
      ]
     },
     "execution_count": 59,
     "metadata": {},
     "output_type": "execute_result"
    }
   ],
   "source": [
    "str3='   python****'\n",
    "str3.rstrip()"
   ]
  },
  {
   "cell_type": "code",
   "execution_count": 56,
   "id": "4a382a97-97a9-4a64-a635-170bcc574f1b",
   "metadata": {},
   "outputs": [
    {
     "data": {
      "text/plain": [
       "'python'"
      ]
     },
     "execution_count": 56,
     "metadata": {},
     "output_type": "execute_result"
    }
   ],
   "source": [
    "str3='   python****'\n",
    "str3.strip().rstrip('*')"
   ]
  },
  {
   "cell_type": "code",
   "execution_count": 60,
   "id": "43780110-d854-4251-a5bc-c4aad14ec7af",
   "metadata": {},
   "outputs": [
    {
     "data": {
      "text/plain": [
       "'python'"
      ]
     },
     "execution_count": 60,
     "metadata": {},
     "output_type": "execute_result"
    }
   ],
   "source": [
    "str4='++++++python*****'\n",
    "str4.lstrip('+').rstrip('*')"
   ]
  },
  {
   "cell_type": "code",
   "execution_count": null,
   "id": "7fda61c5-7ae2-475c-b0a9-c56d9ea6765f",
   "metadata": {},
   "outputs": [],
   "source": [
    "# startswith\n",
    "# endswith"
   ]
  },
  {
   "cell_type": "code",
   "execution_count": 2,
   "id": "55c2c56b-0b2f-4a3d-935c-24330d6b3138",
   "metadata": {},
   "outputs": [
    {
     "data": {
      "text/plain": [
       "True"
      ]
     },
     "execution_count": 2,
     "metadata": {},
     "output_type": "execute_result"
    }
   ],
   "source": [
    "str1='hi hello'\n",
    "str1.startswith('hello',3)"
   ]
  },
  {
   "cell_type": "code",
   "execution_count": 3,
   "id": "4cd313ea-168b-43d0-a157-06c0fb2eed4f",
   "metadata": {},
   "outputs": [
    {
     "data": {
      "text/plain": [
       "True"
      ]
     },
     "execution_count": 3,
     "metadata": {},
     "output_type": "execute_result"
    }
   ],
   "source": [
    "str1.startswith(str1)"
   ]
  },
  {
   "cell_type": "code",
   "execution_count": 23,
   "id": "a5bf78f1-4b5c-47f6-80dd-da2d97ad1747",
   "metadata": {},
   "outputs": [
    {
     "data": {
      "text/plain": [
       "True"
      ]
     },
     "execution_count": 23,
     "metadata": {},
     "output_type": "execute_result"
    }
   ],
   "source": [
    "str1.startswith('hi')"
   ]
  },
  {
   "cell_type": "code",
   "execution_count": 6,
   "id": "c3fc5a49-aeb9-43e8-a833-38cb2e8a2fbf",
   "metadata": {},
   "outputs": [
    {
     "data": {
      "text/plain": [
       "False"
      ]
     },
     "execution_count": 6,
     "metadata": {},
     "output_type": "execute_result"
    }
   ],
   "source": [
    "str1.startswith('hello',1)"
   ]
  },
  {
   "cell_type": "code",
   "execution_count": 7,
   "id": "13f8c3ca-1d2a-4a56-9dbb-944215f2ab45",
   "metadata": {},
   "outputs": [
    {
     "data": {
      "text/plain": [
       "True"
      ]
     },
     "execution_count": 7,
     "metadata": {},
     "output_type": "execute_result"
    }
   ],
   "source": [
    "str1.startswith('hi',0,2)"
   ]
  },
  {
   "cell_type": "code",
   "execution_count": 25,
   "id": "cb9f0b85-d6a6-4ea9-8fa5-0891635770bf",
   "metadata": {},
   "outputs": [
    {
     "data": {
      "text/plain": [
       "True"
      ]
     },
     "execution_count": 25,
     "metadata": {},
     "output_type": "execute_result"
    }
   ],
   "source": [
    "str1.startswith('hello',3,8)"
   ]
  },
  {
   "cell_type": "code",
   "execution_count": 10,
   "id": "bb9edcba-928e-4aea-a4a5-ac6d6a67ea29",
   "metadata": {},
   "outputs": [
    {
     "data": {
      "text/plain": [
       "True"
      ]
     },
     "execution_count": 10,
     "metadata": {},
     "output_type": "execute_result"
    }
   ],
   "source": [
    "str2='python is not a snake it is a language'\n",
    "str2.endswith('language')"
   ]
  },
  {
   "cell_type": "code",
   "execution_count": 11,
   "id": "2ea939e2-56ac-49bf-85cc-4e97b783c588",
   "metadata": {},
   "outputs": [
    {
     "data": {
      "text/plain": [
       "True"
      ]
     },
     "execution_count": 11,
     "metadata": {},
     "output_type": "execute_result"
    }
   ],
   "source": [
    "str2.startswith('language',30,39)"
   ]
  },
  {
   "cell_type": "code",
   "execution_count": 12,
   "id": "3134c611-70d3-4b96-90b9-df21a2de06a7",
   "metadata": {},
   "outputs": [
    {
     "data": {
      "text/plain": [
       "True"
      ]
     },
     "execution_count": 12,
     "metadata": {},
     "output_type": "execute_result"
    }
   ],
   "source": [
    "str2.endswith('is',7,9)"
   ]
  },
  {
   "cell_type": "code",
   "execution_count": 21,
   "id": "d71777a7-3c89-4f04-bbd2-fc74108dc16d",
   "metadata": {},
   "outputs": [
    {
     "data": {
      "text/plain": [
       "True"
      ]
     },
     "execution_count": 21,
     "metadata": {},
     "output_type": "execute_result"
    }
   ],
   "source": [
    "str2.endswith('snake',16,21)"
   ]
  },
  {
   "cell_type": "code",
   "execution_count": 26,
   "id": "74d18ca7-a729-4b31-b8d8-f80aab1a8601",
   "metadata": {},
   "outputs": [
    {
     "data": {
      "text/plain": [
       "True"
      ]
     },
     "execution_count": 26,
     "metadata": {},
     "output_type": "execute_result"
    }
   ],
   "source": [
    "str2.endswith('a',14,15)"
   ]
  },
  {
   "cell_type": "markdown",
   "id": "8548cb0e-cda0-4cfc-8ccf-3c0078ae02a0",
   "metadata": {},
   "source": [
    "**count**"
   ]
  },
  {
   "cell_type": "code",
   "execution_count": 8,
   "id": "2e427a7c-610f-4765-837a-942baa6ee05d",
   "metadata": {},
   "outputs": [
    {
     "name": "stdout",
     "output_type": "stream",
     "text": [
      "3\n"
     ]
    }
   ],
   "source": [
    "str1='ola ola ola'\n",
    "# in the above string how many 'a' are available\n",
    "count=0\n",
    "for i in str1:\n",
    "    if i=='a':\n",
    "        count+=1\n",
    "print(count)"
   ]
  },
  {
   "cell_type": "markdown",
   "id": "dea72098-ad9f-4e98-8b3c-5ede98bdf6e8",
   "metadata": {},
   "source": [
    "**case-1**"
   ]
  },
  {
   "cell_type": "code",
   "execution_count": 9,
   "id": "63572b32-6bc6-4e5e-a1a0-9ced79798246",
   "metadata": {},
   "outputs": [
    {
     "data": {
      "text/plain": [
       "3"
      ]
     },
     "execution_count": 9,
     "metadata": {},
     "output_type": "execute_result"
    }
   ],
   "source": [
    "str1='ola ola ola'\n",
    "str1.count('a')"
   ]
  },
  {
   "cell_type": "code",
   "execution_count": 2,
   "id": "79d47683-f7dc-430e-bf3a-ee0d47ac6bf3",
   "metadata": {},
   "outputs": [
    {
     "data": {
      "text/plain": [
       "2"
      ]
     },
     "execution_count": 2,
     "metadata": {},
     "output_type": "execute_result"
    }
   ],
   "source": [
    "str1='ola ola ola'\n",
    "str1.count('ola ')"
   ]
  },
  {
   "cell_type": "code",
   "execution_count": 12,
   "id": "4287fe31-e3ab-4c26-83f9-3360e96c5321",
   "metadata": {},
   "outputs": [
    {
     "name": "stdout",
     "output_type": "stream",
     "text": [
      "3\n"
     ]
    }
   ],
   "source": [
    "count=0\n",
    "for i in range(len(str1)):\n",
    "    if str1[i]=='a':\n",
    "        count+=1\n",
    "print(count)\n",
    "    "
   ]
  },
  {
   "cell_type": "markdown",
   "id": "21f35fd1-d8eb-496a-b1a4-f238412300e3",
   "metadata": {},
   "source": [
    "$case-2$"
   ]
  },
  {
   "cell_type": "code",
   "execution_count": 14,
   "id": "3482b435-d736-4337-8206-a315f578b629",
   "metadata": {},
   "outputs": [
    {
     "data": {
      "text/plain": [
       "2"
      ]
     },
     "execution_count": 14,
     "metadata": {},
     "output_type": "execute_result"
    }
   ],
   "source": [
    "# o l a   o l a   o l a \n",
    "# 0 1 2 3 4 5 6 7 8 9 10\n",
    "str1.count('a',4)"
   ]
  },
  {
   "cell_type": "code",
   "execution_count": 3,
   "id": "71b604db-1112-42b6-909d-e6bce8093f4c",
   "metadata": {},
   "outputs": [
    {
     "data": {
      "text/plain": [
       "3"
      ]
     },
     "execution_count": 3,
     "metadata": {},
     "output_type": "execute_result"
    }
   ],
   "source": [
    "str1.count('ola')"
   ]
  },
  {
   "cell_type": "code",
   "execution_count": 16,
   "id": "e40cc75e-bbfd-4961-973d-beb8b558d440",
   "metadata": {},
   "outputs": [
    {
     "data": {
      "text/plain": [
       "1"
      ]
     },
     "execution_count": 16,
     "metadata": {},
     "output_type": "execute_result"
    }
   ],
   "source": [
    "str1.count('a',4,7)"
   ]
  },
  {
   "cell_type": "code",
   "execution_count": 17,
   "id": "caf702cd-f60d-4f78-98e7-cc23f0ad4415",
   "metadata": {},
   "outputs": [
    {
     "data": {
      "text/plain": [
       "0"
      ]
     },
     "execution_count": 17,
     "metadata": {},
     "output_type": "execute_result"
    }
   ],
   "source": [
    "str1.count('a',4,6)"
   ]
  },
  {
   "cell_type": "code",
   "execution_count": 20,
   "id": "4a221db7-8fb5-4aff-b6b2-d3834d9832c4",
   "metadata": {},
   "outputs": [
    {
     "data": {
      "text/plain": [
       "1"
      ]
     },
     "execution_count": 20,
     "metadata": {},
     "output_type": "execute_result"
    }
   ],
   "source": [
    "str1.count('a',-7,-1)"
   ]
  },
  {
   "cell_type": "code",
   "execution_count": 21,
   "id": "ef4ba81e-a9b5-42a1-b894-6da5ca01660a",
   "metadata": {},
   "outputs": [
    {
     "data": {
      "text/plain": [
       "2"
      ]
     },
     "execution_count": 21,
     "metadata": {},
     "output_type": "execute_result"
    }
   ],
   "source": [
    "str1.count('a',-10,-1)"
   ]
  },
  {
   "cell_type": "code",
   "execution_count": 22,
   "id": "d7635306-b285-4b5a-9048-7761482e0935",
   "metadata": {},
   "outputs": [
    {
     "data": {
      "text/plain": [
       "0"
      ]
     },
     "execution_count": 22,
     "metadata": {},
     "output_type": "execute_result"
    }
   ],
   "source": [
    "str1.count('z')"
   ]
  },
  {
   "cell_type": "markdown",
   "id": "ecb9eb59-5d0b-4ba8-92ca-ab11f5774e89",
   "metadata": {},
   "source": [
    "**sliding window approach**\n",
    "\n",
    "- fix the slice first : **str1[i:i+3]**\n",
    "\n",
    "- then increase the slice by 1 : **for i in range(len(str1))**\n",
    "\n",
    "- whenever it is equal to substring : **str1[i:i+3]=='ola'**\n",
    "\n",
    "- then update the count : **count=count+1**"
   ]
  },
  {
   "cell_type": "code",
   "execution_count": 63,
   "id": "19510b47-da88-4328-9c92-99ad90fc40d8",
   "metadata": {},
   "outputs": [
    {
     "name": "stdout",
     "output_type": "stream",
     "text": [
      "3\n"
     ]
    }
   ],
   "source": [
    "str1='ola ola ola'\n",
    "# count the number of substring: 'ola'\n",
    "# without using count method\n",
    "count=0\n",
    "l=len(str1)\n",
    "for i in range(0,l):\n",
    "    if str1[i:i+3]=='ola':\n",
    "        count=count+1\n",
    "print(count)\n"
   ]
  },
  {
   "cell_type": "markdown",
   "id": "cea1b839-b892-4e4e-b479-4319e8d9d7cf",
   "metadata": {},
   "source": [
    "**Replace**"
   ]
  },
  {
   "cell_type": "code",
   "execution_count": 36,
   "id": "e54a36ab-f437-4c25-a7bd-81b739cc043a",
   "metadata": {},
   "outputs": [
    {
     "data": {
      "text/plain": [
       "False"
      ]
     },
     "execution_count": 36,
     "metadata": {},
     "output_type": "execute_result"
    }
   ],
   "source": [
    "str1='welcome'   #weLcome\n",
    "str1[2]=='L'"
   ]
  },
  {
   "cell_type": "code",
   "execution_count": 38,
   "id": "ed627e80-4175-4725-98e7-94bb807348dc",
   "metadata": {},
   "outputs": [
    {
     "data": {
      "text/plain": [
       "'weLcome'"
      ]
     },
     "execution_count": 38,
     "metadata": {},
     "output_type": "execute_result"
    }
   ],
   "source": [
    "str1='welcome'\n",
    "str1.replace('l',\"L\")"
   ]
  },
  {
   "cell_type": "code",
   "execution_count": 40,
   "id": "8c633855-12fb-44d5-8cc4-670d77297fe1",
   "metadata": {},
   "outputs": [
    {
     "data": {
      "text/plain": [
       "'weLLLLcome'"
      ]
     },
     "execution_count": 40,
     "metadata": {},
     "output_type": "execute_result"
    }
   ],
   "source": [
    "str1='wellllcome'\n",
    "str1.replace('l','L')"
   ]
  },
  {
   "cell_type": "code",
   "execution_count": 39,
   "id": "5d9a89d9-07b0-47ec-b58b-508caa85078b",
   "metadata": {},
   "outputs": [
    {
     "data": {
      "text/plain": [
       "'weLLllcome'"
      ]
     },
     "execution_count": 39,
     "metadata": {},
     "output_type": "execute_result"
    }
   ],
   "source": [
    "str1='wellllcome'\n",
    "str1.replace('l',\"L\",2)"
   ]
  },
  {
   "cell_type": "code",
   "execution_count": 41,
   "id": "cae8dd2c-b27c-4b68-afc0-85043ae65ccd",
   "metadata": {},
   "outputs": [
    {
     "data": {
      "text/plain": [
       "'welcome'"
      ]
     },
     "execution_count": 41,
     "metadata": {},
     "output_type": "execute_result"
    }
   ],
   "source": [
    "str1='welcome'\n",
    "str1.replace('z','Z')"
   ]
  },
  {
   "cell_type": "markdown",
   "id": "b56853c4-bd30-408b-bc49-05422a0898c9",
   "metadata": {},
   "source": [
    "- By default it will replace all the occurences\n",
    "\n",
    "- The user can provide count which indicates how many letters can replace\n",
    "\n",
    "- if the substring not found it will return the original string itself"
   ]
  },
  {
   "cell_type": "code",
   "execution_count": 42,
   "id": "9b5d2076-fa72-4dee-a77f-73b41a6379d9",
   "metadata": {},
   "outputs": [
    {
     "data": {
      "text/plain": [
       "'$esta$t'"
      ]
     },
     "execution_count": 42,
     "metadata": {},
     "output_type": "execute_result"
    }
   ],
   "source": [
    "str1='restart'\n",
    "# replace 'r' with $\n",
    "# i want only second r\n",
    "# 'resta$t'\n",
    "str1.replace('r','$',5)"
   ]
  },
  {
   "cell_type": "code",
   "execution_count": 46,
   "id": "ccb694d1-7921-41c4-90c7-e7481cf21524",
   "metadata": {},
   "outputs": [
    {
     "name": "stdout",
     "output_type": "stream",
     "text": [
      "resta\n",
      "rt\n"
     ]
    },
    {
     "data": {
      "text/plain": [
       "'resta$t'"
      ]
     },
     "execution_count": 46,
     "metadata": {},
     "output_type": "execute_result"
    }
   ],
   "source": [
    "str1='restart'\n",
    "s1=str1[0:5]   #'resta'\n",
    "print(s1)\n",
    "s2=str1[5:7]   #'rt'\n",
    "print(s2)\n",
    "s3=s2.replace('r','$')\n",
    "s1+s3"
   ]
  },
  {
   "cell_type": "code",
   "execution_count": 47,
   "id": "16e93430-6a2d-4d97-820b-e1a5c1bd3595",
   "metadata": {},
   "outputs": [
    {
     "data": {
      "text/plain": [
       "'resta$t'"
      ]
     },
     "execution_count": 47,
     "metadata": {},
     "output_type": "execute_result"
    }
   ],
   "source": [
    "str1='restart'\n",
    "str1[::-1].replace('r','$',1)[::-1]"
   ]
  },
  {
   "cell_type": "markdown",
   "id": "108e8e0e-9b49-4c69-ac4b-4c541241bfa3",
   "metadata": {},
   "source": [
    "**Index method**"
   ]
  },
  {
   "cell_type": "code",
   "execution_count": 8,
   "id": "ac9169d1-3751-4292-9cbf-9f8a9d12cf52",
   "metadata": {},
   "outputs": [
    {
     "data": {
      "text/plain": [
       "(3, 0)"
      ]
     },
     "execution_count": 8,
     "metadata": {},
     "output_type": "execute_result"
    }
   ],
   "source": [
    "str1='restart restart'\n",
    "str1.index('t'),str1.index('r')\n",
    "# by default first string index will come"
   ]
  },
  {
   "cell_type": "code",
   "execution_count": 50,
   "id": "fd0434f9-26ef-4db2-ab01-2a7fb0dd8692",
   "metadata": {},
   "outputs": [
    {
     "ename": "ValueError",
     "evalue": "substring not found",
     "output_type": "error",
     "traceback": [
      "\u001b[1;31m---------------------------------------------------------------------------\u001b[0m",
      "\u001b[1;31mValueError\u001b[0m                                Traceback (most recent call last)",
      "Cell \u001b[1;32mIn[50], line 2\u001b[0m\n\u001b[0;32m      1\u001b[0m str1\u001b[38;5;241m=\u001b[39m\u001b[38;5;124m'\u001b[39m\u001b[38;5;124mrestart restart\u001b[39m\u001b[38;5;124m'\u001b[39m\n\u001b[1;32m----> 2\u001b[0m str1\u001b[38;5;241m.\u001b[39mindex(\u001b[38;5;124m'\u001b[39m\u001b[38;5;124mz\u001b[39m\u001b[38;5;124m'\u001b[39m)\n",
      "\u001b[1;31mValueError\u001b[0m: substring not found"
     ]
    }
   ],
   "source": [
    "str1='restart restart'\n",
    "str1.index('z')"
   ]
  },
  {
   "cell_type": "code",
   "execution_count": 66,
   "id": "bd30edc4-d0a4-42f5-b3dd-7afe6148caba",
   "metadata": {},
   "outputs": [
    {
     "data": {
      "text/plain": [
       "0"
      ]
     },
     "execution_count": 66,
     "metadata": {},
     "output_type": "execute_result"
    }
   ],
   "source": [
    "str1='restart'\n",
    "str1.index('r')"
   ]
  },
  {
   "cell_type": "code",
   "execution_count": 67,
   "id": "1b850a80-d310-4498-be38-5a58f5927f27",
   "metadata": {},
   "outputs": [
    {
     "data": {
      "text/plain": [
       "5"
      ]
     },
     "execution_count": 67,
     "metadata": {},
     "output_type": "execute_result"
    }
   ],
   "source": [
    "str1='restart'\n",
    "str1.index('r',1)"
   ]
  },
  {
   "cell_type": "code",
   "execution_count": 72,
   "id": "9c2d9a4b-e6e1-41ba-a774-ce8bfd5f8e62",
   "metadata": {},
   "outputs": [
    {
     "data": {
      "text/plain": [
       "7"
      ]
     },
     "execution_count": 72,
     "metadata": {},
     "output_type": "execute_result"
    }
   ],
   "source": [
    "str1='resrtrartr'\n",
    "str1.index('r',6)"
   ]
  },
  {
   "cell_type": "code",
   "execution_count": 54,
   "id": "50bc97e6-a464-4b80-bd62-e701d1ebd53a",
   "metadata": {},
   "outputs": [
    {
     "data": {
      "text/plain": [
       "8"
      ]
     },
     "execution_count": 54,
     "metadata": {},
     "output_type": "execute_result"
    }
   ],
   "source": [
    "str1='restart restart'\n",
    "str1.index('r',6)"
   ]
  },
  {
   "cell_type": "code",
   "execution_count": 55,
   "id": "cb7b9a6c-4214-4fb0-8c54-87e8534dff93",
   "metadata": {},
   "outputs": [
    {
     "data": {
      "text/plain": [
       "13"
      ]
     },
     "execution_count": 55,
     "metadata": {},
     "output_type": "execute_result"
    }
   ],
   "source": [
    "str1='restart restart'\n",
    "str1.index('r',9)"
   ]
  },
  {
   "cell_type": "code",
   "execution_count": 56,
   "id": "d98a33f9-9ba2-4595-8af1-c21b8de009ef",
   "metadata": {},
   "outputs": [
    {
     "name": "stdout",
     "output_type": "stream",
     "text": [
      "0 5 8 13\n"
     ]
    }
   ],
   "source": [
    "str1='restart restart'\n",
    "i1=str1.index('r')  # 0\n",
    "i2=str1.index('r',i1+1)  #1 =0+1\n",
    "i3=str1.index('r',i2+1)  # 6=5+1\n",
    "i4=str1.index('r',i3+1)  # 9=8+1\n",
    "print(i1,i2,i3,i4)"
   ]
  },
  {
   "cell_type": "markdown",
   "id": "cd687a49-63f3-4816-ba2b-13ec5ebb9aa7",
   "metadata": {},
   "source": [
    "**find**\n",
    "\n",
    "- tell me the difference between index and find"
   ]
  },
  {
   "cell_type": "code",
   "execution_count": 60,
   "id": "34f3b1ad-7db7-4fd1-a8f3-d62affab28e8",
   "metadata": {},
   "outputs": [
    {
     "data": {
      "text/plain": [
       "5"
      ]
     },
     "execution_count": 60,
     "metadata": {},
     "output_type": "execute_result"
    }
   ],
   "source": [
    "str1='restart'\n",
    "str1.find('r',2)"
   ]
  },
  {
   "cell_type": "code",
   "execution_count": 59,
   "id": "ba13b55e-b68a-4ce4-b539-ad7993a573c9",
   "metadata": {},
   "outputs": [
    {
     "data": {
      "text/plain": [
       "-1"
      ]
     },
     "execution_count": 59,
     "metadata": {},
     "output_type": "execute_result"
    }
   ],
   "source": [
    "str1.find('z')"
   ]
  },
  {
   "cell_type": "code",
   "execution_count": 9,
   "id": "ebde4b89-6583-4104-9499-72cd4ce6b6fb",
   "metadata": {},
   "outputs": [
    {
     "ename": "ValueError",
     "evalue": "substring not found",
     "output_type": "error",
     "traceback": [
      "\u001b[1;31m---------------------------------------------------------------------------\u001b[0m",
      "\u001b[1;31mValueError\u001b[0m                                Traceback (most recent call last)",
      "Cell \u001b[1;32mIn[9], line 4\u001b[0m\n\u001b[0;32m      2\u001b[0m str1\u001b[38;5;241m.\u001b[39mcount(\u001b[38;5;124m'\u001b[39m\u001b[38;5;124mz\u001b[39m\u001b[38;5;124m'\u001b[39m)  \u001b[38;5;66;03m# 0\u001b[39;00m\n\u001b[0;32m      3\u001b[0m str1\u001b[38;5;241m.\u001b[39mreplace(\u001b[38;5;124m'\u001b[39m\u001b[38;5;124mz\u001b[39m\u001b[38;5;124m'\u001b[39m,\u001b[38;5;124m'\u001b[39m\u001b[38;5;124mZ\u001b[39m\u001b[38;5;124m'\u001b[39m) \u001b[38;5;66;03m# restart\u001b[39;00m\n\u001b[1;32m----> 4\u001b[0m str1\u001b[38;5;241m.\u001b[39mindex(\u001b[38;5;124m'\u001b[39m\u001b[38;5;124mz\u001b[39m\u001b[38;5;124m'\u001b[39m)  \u001b[38;5;66;03m# error\u001b[39;00m\n\u001b[0;32m      5\u001b[0m str1\u001b[38;5;241m.\u001b[39mfind(\u001b[38;5;124m'\u001b[39m\u001b[38;5;124mz\u001b[39m\u001b[38;5;124m'\u001b[39m)\n",
      "\u001b[1;31mValueError\u001b[0m: substring not found"
     ]
    }
   ],
   "source": [
    "str1='restart'\n",
    "str1.count('z')  # 0\n",
    "str1.replace('z','Z') # restart\n",
    "str1.index('z')  # error\n",
    "str1.find('z')  # -1"
   ]
  },
  {
   "cell_type": "code",
   "execution_count": 77,
   "id": "7fbde78c-33d2-4362-ad24-bfeff9fd85df",
   "metadata": {},
   "outputs": [
    {
     "name": "stdout",
     "output_type": "stream",
     "text": [
      "redrocer\n"
     ]
    }
   ],
   "source": [
    "# replace the 2nd 'r' to '*' and 3rd 'r' to '#'\n",
    "str1 = 'recorder'\n",
    "x=str1[::-1]\n",
    "print(x)"
   ]
  },
  {
   "cell_type": "code",
   "execution_count": 84,
   "id": "db1ab241-131d-447d-bc3a-9474f975c2c8",
   "metadata": {},
   "outputs": [
    {
     "name": "stdout",
     "output_type": "stream",
     "text": [
      "#edrocer\n"
     ]
    }
   ],
   "source": [
    "y=x.replace('r','#',1)\n",
    "print(y)"
   ]
  },
  {
   "cell_type": "code",
   "execution_count": 96,
   "id": "499b21f9-f18f-4ae9-81d3-2b9f55a471bd",
   "metadata": {},
   "outputs": [],
   "source": [
    "c=y[::-1]\n"
   ]
  },
  {
   "cell_type": "code",
   "execution_count": 97,
   "id": "50c11885-2dd2-4736-8c4a-58b055bf7363",
   "metadata": {},
   "outputs": [
    {
     "data": {
      "text/plain": [
       "'reco*de#'"
      ]
     },
     "execution_count": 97,
     "metadata": {},
     "output_type": "execute_result"
    }
   ],
   "source": [
    "z=c[0:4]\n",
    "a=c[4:]\n",
    "b=a.replace('r','*')\n",
    "z+b"
   ]
  },
  {
   "cell_type": "code",
   "execution_count": null,
   "id": "72d16790-336a-4adf-802b-3e1a8a499c5b",
   "metadata": {},
   "outputs": [],
   "source": [
    "str1='virat.kohli@rcb.com'\n",
    "str2='rohit.sharma@mi.com'\n",
    "str3='ms.dhoni@csk.com'\n",
    "# extarct the first name from str1: virat\n",
    "# extract the second name from str1: kohli\n",
    "# extarct the company name fron str1: rcb\n"
   ]
  },
  {
   "cell_type": "code",
   "execution_count": 120,
   "id": "0823da1d-47d4-40e2-9013-e20c831d758d",
   "metadata": {},
   "outputs": [
    {
     "name": "stdout",
     "output_type": "stream",
     "text": [
      "rohit\n",
      "sharma\n",
      "mi\n"
     ]
    }
   ],
   "source": [
    "def name(string):\n",
    "    str1='rohit.sharma@mi.com'\n",
    "    first=str1.index('.')\n",
    "    s1=str1[0:first]\n",
    "    print(s1)\n",
    "\n",
    "    str1='rohit.sharma@mi.com'\n",
    "    second=str1.index('@')\n",
    "    s2=str1[first+1:second]\n",
    "    print(s2)\n",
    "\n",
    "    str1='rohit.sharma@mi.com'\n",
    "    third=str1.index('.',first+1)\n",
    "    s3=str1[second+1:third]\n",
    "    print(s3)\n",
    "\n",
    "name(str1)"
   ]
  },
  {
   "cell_type": "code",
   "execution_count": 121,
   "id": "ea8c55f4-dea6-4111-86a6-84deb5103154",
   "metadata": {},
   "outputs": [
    {
     "name": "stdout",
     "output_type": "stream",
     "text": [
      "virat\n",
      "kohli\n",
      "rcb\n"
     ]
    }
   ],
   "source": [
    "str1='virat.kohli@rcb.com'\n",
    "first=str1.index('.')\n",
    "s1=str1[0:first]\n",
    "print(s1)\n",
    "\n",
    "str1='virat.kohli@rcb.com'\n",
    "second=str1.index('@')\n",
    "s2=str1[first+1:second]\n",
    "print(s2)\n",
    "\n",
    "str1='virat.kohli@rcb.com'\n",
    "third=str1.index('.',first+1)\n",
    "s3=str1[second+1:third]\n",
    "print(s3)"
   ]
  },
  {
   "cell_type": "code",
   "execution_count": 122,
   "id": "7d5dd0be-0648-409b-8793-4fe6cfa69971",
   "metadata": {},
   "outputs": [
    {
     "name": "stdout",
     "output_type": "stream",
     "text": [
      "ms\n",
      "dhoni\n",
      "csk\n"
     ]
    }
   ],
   "source": [
    "str3='ms.dhoni@csk.com'\n",
    "first=str3.index('.')\n",
    "s1=str3[0:first]\n",
    "print(s1)\n",
    "\n",
    "str3='ms.dhoni@csk.com'\n",
    "second=str3.index('@')\n",
    "s2=str3[first+1:second]\n",
    "print(s2)\n",
    "\n",
    "str3='ms.dhoni@csk.com'\n",
    "third=str3.index('.',first+1)\n",
    "s3=str3[second+1:third]\n",
    "print(s3)"
   ]
  },
  {
   "cell_type": "code",
   "execution_count": 123,
   "id": "63c694a7-eed0-4722-b03e-41a3e4c1cc2f",
   "metadata": {},
   "outputs": [
    {
     "name": "stdout",
     "output_type": "stream",
     "text": [
      "2 8 12\n",
      "2 8 csk\n"
     ]
    }
   ],
   "source": [
    "def extract(str3):\n",
    "    first=str3.index('.')\n",
    "    second=str3.index('@')\n",
    "    third=str3.index('.',first+1)\n",
    "    print(first,second,third)\n",
    "    first_name=str3[:first]\n",
    "    second_name=str3[first+1:second]\n",
    "    c_name=str3[second+1:third]\n",
    "    print(first,second,c_name)\n",
    "extract(str3)\n",
    "    "
   ]
  },
  {
   "cell_type": "markdown",
   "id": "cc3cab01-fc9a-4f16-843e-48f1ba58da55",
   "metadata": {},
   "source": [
    "**split**"
   ]
  },
  {
   "cell_type": "markdown",
   "id": "1e084a73-fd45-4737-9c34-990fcf788ee2",
   "metadata": {},
   "source": [
    "- split is used to convert a string to list of elements\n",
    "\n",
    "- by default it will split based on space"
   ]
  },
  {
   "cell_type": "code",
   "execution_count": 124,
   "id": "888929b6-c552-460c-9d32-b55edcdf8a90",
   "metadata": {},
   "outputs": [
    {
     "data": {
      "text/plain": [
       "['hai', 'how', 'are', 'you']"
      ]
     },
     "execution_count": 124,
     "metadata": {},
     "output_type": "execute_result"
    }
   ],
   "source": [
    "str1='hai how are you'\n",
    "str1.split()"
   ]
  },
  {
   "cell_type": "code",
   "execution_count": 125,
   "id": "b3d3b803-034b-40f7-870f-68c63967c9e6",
   "metadata": {},
   "outputs": [
    {
     "data": {
      "text/plain": [
       "['hai how are you']"
      ]
     },
     "execution_count": 125,
     "metadata": {},
     "output_type": "execute_result"
    }
   ],
   "source": [
    "str1='hai how are you'\n",
    "str1.split(',')"
   ]
  },
  {
   "cell_type": "code",
   "execution_count": 126,
   "id": "fe0abcb3-e401-45c7-8ef9-ebef314fd51e",
   "metadata": {},
   "outputs": [
    {
     "data": {
      "text/plain": [
       "['hai', 'how,are', 'you']"
      ]
     },
     "execution_count": 126,
     "metadata": {},
     "output_type": "execute_result"
    }
   ],
   "source": [
    "str1='hai how,are you'\n",
    "str1.split()"
   ]
  },
  {
   "cell_type": "code",
   "execution_count": 127,
   "id": "e02eaacf-ab54-4da3-8924-6bf84b1dff1e",
   "metadata": {},
   "outputs": [
    {
     "data": {
      "text/plain": [
       "['hell', ' hai h', 'w are y', 'u']"
      ]
     },
     "execution_count": 127,
     "metadata": {},
     "output_type": "execute_result"
    }
   ],
   "source": [
    "str1='hello hai how are you'\n",
    "str1.split('o')"
   ]
  },
  {
   "cell_type": "markdown",
   "id": "417543eb-5d82-409b-b265-f33a812dc0f1",
   "metadata": {},
   "source": [
    "**join**"
   ]
  },
  {
   "cell_type": "code",
   "execution_count": 128,
   "id": "96f7d176-ac93-4eda-9fa6-595348da8345",
   "metadata": {},
   "outputs": [
    {
     "data": {
      "text/plain": [
       "['hai', 'how', 'are', 'you']"
      ]
     },
     "execution_count": 128,
     "metadata": {},
     "output_type": "execute_result"
    }
   ],
   "source": [
    "str1='hai how are you'\n",
    "l=str1.split()\n",
    "l"
   ]
  },
  {
   "cell_type": "code",
   "execution_count": 131,
   "id": "2be1dad5-455a-446f-8039-8e6aa62c9ca6",
   "metadata": {},
   "outputs": [
    {
     "data": {
      "text/plain": [
       "'hai how are you'"
      ]
     },
     "execution_count": 131,
     "metadata": {},
     "output_type": "execute_result"
    }
   ],
   "source": [
    "str1='hai how are you'\n",
    "l=str1.split()\n",
    "l\n",
    "' '.join(l)"
   ]
  },
  {
   "cell_type": "code",
   "execution_count": 133,
   "id": "e6c86fbd-8ff5-4da5-8416-f25c6cb8af9c",
   "metadata": {},
   "outputs": [
    {
     "data": {
      "text/plain": [
       "'hello hai how are you'"
      ]
     },
     "execution_count": 133,
     "metadata": {},
     "output_type": "execute_result"
    }
   ],
   "source": [
    "str1='hello hai how are you'\n",
    "l=str1.split()\n",
    "l\n",
    "' '.join(l)"
   ]
  },
  {
   "cell_type": "code",
   "execution_count": 134,
   "id": "006b5850-3284-4900-a9a2-0b71072d8d5c",
   "metadata": {},
   "outputs": [
    {
     "data": {
      "text/plain": [
       "'hello,hai,how,are,you'"
      ]
     },
     "execution_count": 134,
     "metadata": {},
     "output_type": "execute_result"
    }
   ],
   "source": [
    "str1='hello hai how are you'\n",
    "l=str1.split()\n",
    "l\n",
    "','.join(l)"
   ]
  },
  {
   "cell_type": "code",
   "execution_count": 135,
   "id": "7873db8f-3e85-44b9-98c1-e80d74508fd3",
   "metadata": {},
   "outputs": [
    {
     "data": {
      "text/plain": [
       "'hello hai how are you'"
      ]
     },
     "execution_count": 135,
     "metadata": {},
     "output_type": "execute_result"
    }
   ],
   "source": [
    "str1='hello hai how are you'\n",
    "l=str1.split('o')\n",
    "l\n",
    "'o'.join(l)"
   ]
  },
  {
   "cell_type": "code",
   "execution_count": 136,
   "id": "edea44cb-e31e-4341-9922-277c1f1e005b",
   "metadata": {},
   "outputs": [
    {
     "data": {
      "text/plain": [
       "'hai how,are you'"
      ]
     },
     "execution_count": 136,
     "metadata": {},
     "output_type": "execute_result"
    }
   ],
   "source": [
    "str1='hai how,are you'\n",
    "l=str1.split(',')\n",
    "l\n",
    "','.join(l)"
   ]
  },
  {
   "cell_type": "code",
   "execution_count": 11,
   "id": "66938229-d411-41cf-a402-fb71c17f633f",
   "metadata": {},
   "outputs": [
    {
     "data": {
      "text/plain": [
       "['Formatter',\n",
       " 'Template',\n",
       " '_ChainMap',\n",
       " '__all__',\n",
       " '__builtins__',\n",
       " '__cached__',\n",
       " '__doc__',\n",
       " '__file__',\n",
       " '__loader__',\n",
       " '__name__',\n",
       " '__package__',\n",
       " '__spec__',\n",
       " '_re',\n",
       " '_sentinel_dict',\n",
       " '_string',\n",
       " 'ascii_letters',\n",
       " 'ascii_lowercase',\n",
       " 'ascii_uppercase',\n",
       " 'capwords',\n",
       " 'digits',\n",
       " 'hexdigits',\n",
       " 'octdigits',\n",
       " 'printable',\n",
       " 'punctuation',\n",
       " 'whitespace']"
      ]
     },
     "execution_count": 11,
     "metadata": {},
     "output_type": "execute_result"
    }
   ],
   "source": [
    "import string\n",
    "dir(string)"
   ]
  },
  {
   "cell_type": "code",
   "execution_count": 1,
   "id": "ba230e70-9ce3-40d8-b2f5-10d60ed90bf1",
   "metadata": {},
   "outputs": [
    {
     "data": {
      "text/plain": [
       "['__add__',\n",
       " '__class__',\n",
       " '__contains__',\n",
       " '__delattr__',\n",
       " '__dir__',\n",
       " '__doc__',\n",
       " '__eq__',\n",
       " '__format__',\n",
       " '__ge__',\n",
       " '__getattribute__',\n",
       " '__getitem__',\n",
       " '__getnewargs__',\n",
       " '__getstate__',\n",
       " '__gt__',\n",
       " '__hash__',\n",
       " '__init__',\n",
       " '__init_subclass__',\n",
       " '__iter__',\n",
       " '__le__',\n",
       " '__len__',\n",
       " '__lt__',\n",
       " '__mod__',\n",
       " '__mul__',\n",
       " '__ne__',\n",
       " '__new__',\n",
       " '__reduce__',\n",
       " '__reduce_ex__',\n",
       " '__repr__',\n",
       " '__rmod__',\n",
       " '__rmul__',\n",
       " '__setattr__',\n",
       " '__sizeof__',\n",
       " '__str__',\n",
       " '__subclasshook__',\n",
       " 'capitalize',\n",
       " 'casefold',\n",
       " 'center',\n",
       " 'count',\n",
       " 'encode',\n",
       " 'endswith',\n",
       " 'expandtabs',\n",
       " 'find',\n",
       " 'format',\n",
       " 'format_map',\n",
       " 'index',\n",
       " 'isalnum',\n",
       " 'isalpha',\n",
       " 'isascii',\n",
       " 'isdecimal',\n",
       " 'isdigit',\n",
       " 'isidentifier',\n",
       " 'islower',\n",
       " 'isnumeric',\n",
       " 'isprintable',\n",
       " 'isspace',\n",
       " 'istitle',\n",
       " 'isupper',\n",
       " 'join',\n",
       " 'ljust',\n",
       " 'lower',\n",
       " 'lstrip',\n",
       " 'maketrans',\n",
       " 'partition',\n",
       " 'removeprefix',\n",
       " 'removesuffix',\n",
       " 'replace',\n",
       " 'rfind',\n",
       " 'rindex',\n",
       " 'rjust',\n",
       " 'rpartition',\n",
       " 'rsplit',\n",
       " 'rstrip',\n",
       " 'split',\n",
       " 'splitlines',\n",
       " 'startswith',\n",
       " 'strip',\n",
       " 'swapcase',\n",
       " 'title',\n",
       " 'translate',\n",
       " 'upper',\n",
       " 'zfill']"
      ]
     },
     "execution_count": 1,
     "metadata": {},
     "output_type": "execute_result"
    }
   ],
   "source": [
    "str1='hello how are you'\n",
    "dir(str1)"
   ]
  },
  {
   "cell_type": "code",
   "execution_count": 15,
   "id": "3f7ddca6-1c82-4445-89ae-79b77f4e31f2",
   "metadata": {},
   "outputs": [
    {
     "name": "stdout",
     "output_type": "stream",
     "text": [
      "True\n"
     ]
    }
   ],
   "source": [
    "# 'isalnum',\n",
    "#  'isalpha',\n",
    "#  'isascii',\n",
    "#  'isdecimal',\n",
    "#  'isdigit',\n",
    "#  'isidentifier',\n",
    "#  'islower',\n",
    "#  'isnumeric',\n",
    "#  'isprintable',\n",
    "#  'isspace',\n",
    "#  'istitle',\n",
    "#  'isupper',\n",
    "str1='123night456 good morning'\n",
    "print(str1.replace(\" \",'').isalnum())"
   ]
  },
  {
   "cell_type": "code",
   "execution_count": 27,
   "id": "8e3e6d04-5248-48f2-a8e8-458821a6f141",
   "metadata": {},
   "outputs": [
    {
     "data": {
      "text/plain": [
       "True"
      ]
     },
     "execution_count": 27,
     "metadata": {},
     "output_type": "execute_result"
    }
   ],
   "source": [
    "str1='hi123 hello good'\n",
    "str1.replace(\" \",\"\").isalnum()"
   ]
  },
  {
   "cell_type": "code",
   "execution_count": 13,
   "id": "98145174-88f1-4c20-90a4-92f74dbafd8e",
   "metadata": {},
   "outputs": [
    {
     "data": {
      "text/plain": [
       "False"
      ]
     },
     "execution_count": 13,
     "metadata": {},
     "output_type": "execute_result"
    }
   ],
   "source": [
    "str1='hello123good456morning'\n",
    "str1.isalpha()"
   ]
  },
  {
   "cell_type": "code",
   "execution_count": 14,
   "id": "1ef60cce-bf80-402d-934e-b55b81d90020",
   "metadata": {},
   "outputs": [
    {
     "data": {
      "text/plain": [
       "True"
      ]
     },
     "execution_count": 14,
     "metadata": {},
     "output_type": "execute_result"
    }
   ],
   "source": [
    "str1='hellogoodmorning'\n",
    "str1.isalpha()"
   ]
  },
  {
   "cell_type": "code",
   "execution_count": 20,
   "id": "3d08db71-1f37-49a3-b006-4d82089d87a7",
   "metadata": {},
   "outputs": [
    {
     "data": {
      "text/plain": [
       "True"
      ]
     },
     "execution_count": 20,
     "metadata": {},
     "output_type": "execute_result"
    }
   ],
   "source": [
    "str1='hellogood123morning@#$'\n",
    "str1.isascii()"
   ]
  },
  {
   "cell_type": "code",
   "execution_count": 5,
   "id": "4e42c30c-cc76-4abf-bbf1-f5c90c0db711",
   "metadata": {},
   "outputs": [
    {
     "data": {
      "text/plain": [
       "True"
      ]
     },
     "execution_count": 5,
     "metadata": {},
     "output_type": "execute_result"
    }
   ],
   "source": [
    "str1='123456'\n",
    "str1.isdecimal()"
   ]
  },
  {
   "cell_type": "code",
   "execution_count": 6,
   "id": "b2a18299-aef4-4603-aa74-aa460f9f325d",
   "metadata": {},
   "outputs": [
    {
     "data": {
      "text/plain": [
       "False"
      ]
     },
     "execution_count": 6,
     "metadata": {},
     "output_type": "execute_result"
    }
   ],
   "source": [
    "str1='123.23'\n",
    "str1.isdecimal()"
   ]
  },
  {
   "cell_type": "code",
   "execution_count": 7,
   "id": "c94eb881-ec43-4dda-afa7-21e88897c05c",
   "metadata": {},
   "outputs": [
    {
     "data": {
      "text/plain": [
       "True"
      ]
     },
     "execution_count": 7,
     "metadata": {},
     "output_type": "execute_result"
    }
   ],
   "source": [
    "str1='12323'\n",
    "str1.isdigit()"
   ]
  },
  {
   "cell_type": "code",
   "execution_count": 12,
   "id": "22d280cf-7885-4661-b4ac-ca70470be155",
   "metadata": {},
   "outputs": [
    {
     "data": {
      "text/plain": [
       "False"
      ]
     },
     "execution_count": 12,
     "metadata": {},
     "output_type": "execute_result"
    }
   ],
   "source": [
    "str1='1.2323'\n",
    "str1.isdigit()"
   ]
  },
  {
   "cell_type": "code",
   "execution_count": 16,
   "id": "94348b27-251f-4176-a5d9-406e72671ffe",
   "metadata": {},
   "outputs": [
    {
     "data": {
      "text/plain": [
       "False"
      ]
     },
     "execution_count": 16,
     "metadata": {},
     "output_type": "execute_result"
    }
   ],
   "source": [
    "str1='hello good morning'\n",
    "str1.isidentifier()"
   ]
  },
  {
   "cell_type": "code",
   "execution_count": 17,
   "id": "d669a54c-a903-43e8-8487-1cb8ec11f837",
   "metadata": {},
   "outputs": [
    {
     "data": {
      "text/plain": [
       "True"
      ]
     },
     "execution_count": 17,
     "metadata": {},
     "output_type": "execute_result"
    }
   ],
   "source": [
    "str1='hello_good_morning'\n",
    "str1.isidentifier()"
   ]
  },
  {
   "cell_type": "code",
   "execution_count": 22,
   "id": "9a08450e-3e01-4c05-81c5-c02fd6e8ff37",
   "metadata": {},
   "outputs": [
    {
     "data": {
      "text/plain": [
       "False"
      ]
     },
     "execution_count": 22,
     "metadata": {},
     "output_type": "execute_result"
    }
   ],
   "source": [
    "str1='hello_good_Morning'\n",
    "str1.islower()"
   ]
  },
  {
   "cell_type": "code",
   "execution_count": 23,
   "id": "01dbc655-b338-4738-95a7-990b08b23e50",
   "metadata": {},
   "outputs": [
    {
     "data": {
      "text/plain": [
       "True"
      ]
     },
     "execution_count": 23,
     "metadata": {},
     "output_type": "execute_result"
    }
   ],
   "source": [
    "str1='hello_good_morning'\n",
    "str1.islower()"
   ]
  },
  {
   "cell_type": "code",
   "execution_count": 24,
   "id": "3e01cc47-76e4-4dcb-a188-0e0c34fa4e5c",
   "metadata": {},
   "outputs": [
    {
     "data": {
      "text/plain": [
       "False"
      ]
     },
     "execution_count": 24,
     "metadata": {},
     "output_type": "execute_result"
    }
   ],
   "source": [
    "str1='hello_good_morning'\n",
    "str1.isupper()"
   ]
  },
  {
   "cell_type": "code",
   "execution_count": 34,
   "id": "660b3271-c465-43e4-b46c-a0a620a3fd9f",
   "metadata": {},
   "outputs": [
    {
     "data": {
      "text/plain": [
       "False"
      ]
     },
     "execution_count": 34,
     "metadata": {},
     "output_type": "execute_result"
    }
   ],
   "source": [
    "str1='GMhhjfh'\n",
    "str1.isupper()"
   ]
  },
  {
   "cell_type": "code",
   "execution_count": 35,
   "id": "841658b1-297a-43a1-a253-10bf295239f3",
   "metadata": {},
   "outputs": [
    {
     "data": {
      "text/plain": [
       "True"
      ]
     },
     "execution_count": 35,
     "metadata": {},
     "output_type": "execute_result"
    }
   ],
   "source": [
    "str1='1M'\n",
    "str1.isupper()"
   ]
  },
  {
   "cell_type": "code",
   "execution_count": 36,
   "id": "3b329819-a939-474c-82dd-fa55b0ac8d29",
   "metadata": {},
   "outputs": [
    {
     "data": {
      "text/plain": [
       "False"
      ]
     },
     "execution_count": 36,
     "metadata": {},
     "output_type": "execute_result"
    }
   ],
   "source": [
    "str1='123gn'\n",
    "str1.isnumeric()"
   ]
  },
  {
   "cell_type": "code",
   "execution_count": 37,
   "id": "4a30bf44-e699-400d-8556-20f8f54efb37",
   "metadata": {},
   "outputs": [
    {
     "data": {
      "text/plain": [
       "True"
      ]
     },
     "execution_count": 37,
     "metadata": {},
     "output_type": "execute_result"
    }
   ],
   "source": [
    "str1='123'\n",
    "str1.isnumeric()"
   ]
  },
  {
   "cell_type": "code",
   "execution_count": 2,
   "id": "36a0f21c-20b8-4ec5-a152-aa8ce7af5831",
   "metadata": {},
   "outputs": [
    {
     "data": {
      "text/plain": [
       "22"
      ]
     },
     "execution_count": 2,
     "metadata": {},
     "output_type": "execute_result"
    }
   ],
   "source": [
    "str11='the telephone number is 123456'\n",
    "str11.index('s')"
   ]
  },
  {
   "cell_type": "code",
   "execution_count": 4,
   "id": "2c72ff7e-5172-4acd-a9b0-64381e402fb1",
   "metadata": {},
   "outputs": [
    {
     "data": {
      "text/plain": [
       "'123456'"
      ]
     },
     "execution_count": 4,
     "metadata": {},
     "output_type": "execute_result"
    }
   ],
   "source": [
    "str1[24:]"
   ]
  },
  {
   "cell_type": "code",
   "execution_count": 14,
   "id": "6d0c45e4-ea92-4378-a8aa-8a83e5a75c6d",
   "metadata": {},
   "outputs": [
    {
     "name": "stdout",
     "output_type": "stream",
     "text": [
      "123456\n"
     ]
    }
   ],
   "source": [
    "str1='the telephone number is 123456'  # using iteration\n",
    "num=''\n",
    "for i in str1:\n",
    "    if i.isdigit():\n",
    "        num=num+i\n",
    "print(num)\n"
   ]
  },
  {
   "cell_type": "code",
   "execution_count": 16,
   "id": "c1bffc66-8a57-415d-9847-cbb2b2d60fbd",
   "metadata": {},
   "outputs": [
    {
     "name": "stdout",
     "output_type": "stream",
     "text": [
      "123456"
     ]
    }
   ],
   "source": [
    "str1='the telephone number is 123456'  # using iteration\n",
    "for i in str1:\n",
    "    if i.isdigit():        \n",
    "        print(i,end='')"
   ]
  },
  {
   "cell_type": "code",
   "execution_count": null,
   "id": "e4f65e53-503d-4e61-92cc-1c929dd7539f",
   "metadata": {},
   "outputs": [],
   "source": []
  }
 ],
 "metadata": {
  "kernelspec": {
   "display_name": "Python 3 (ipykernel)",
   "language": "python",
   "name": "python3"
  },
  "language_info": {
   "codemirror_mode": {
    "name": "ipython",
    "version": 3
   },
   "file_extension": ".py",
   "mimetype": "text/x-python",
   "name": "python",
   "nbconvert_exporter": "python",
   "pygments_lexer": "ipython3",
   "version": "3.12.7"
  }
 },
 "nbformat": 4,
 "nbformat_minor": 5
}
