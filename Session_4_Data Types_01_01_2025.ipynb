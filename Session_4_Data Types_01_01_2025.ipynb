{
 "cells": [
  {
   "cell_type": "markdown",
   "id": "6c1c0ffb-be90-4bde-9909-63f99b064bb4",
   "metadata": {},
   "source": [
    "## Data Types"
   ]
  },
  {
   "cell_type": "markdown",
   "id": "99a225a6-08b7-4e51-ac00-514c20e2062b",
   "metadata": {},
   "source": [
    "- integer : int\n",
    "\n",
    "- float\n",
    "\n",
    "- string\n",
    "\n",
    "- list\n",
    "\n",
    "- tuple\n",
    "\n",
    "- set\n",
    "\n",
    "    - frozen set\n",
    "\n",
    "- dictionary\n",
    "\n",
    "- bool\n",
    "\n",
    "- complex\n",
    "\n",
    "- range\n",
    "\n",
    "- byte\n",
    "\n",
    "- byte array\n",
    "\n",
    "- memory view\n",
    "\n",
    "- None type"
   ]
  },
  {
   "cell_type": "markdown",
   "id": "2c22d0bc-6343-4d35-9421-c99e7845e007",
   "metadata": {},
   "source": [
    "$Integer$"
   ]
  },
  {
   "cell_type": "code",
   "execution_count": 3,
   "id": "2146c279-3bb8-4459-9e8f-4506026a5de7",
   "metadata": {},
   "outputs": [
    {
     "data": {
      "text/plain": [
       "100"
      ]
     },
     "execution_count": 3,
     "metadata": {},
     "output_type": "execute_result"
    }
   ],
   "source": [
    "number=100\n",
    "number"
   ]
  },
  {
   "cell_type": "code",
   "execution_count": 4,
   "id": "51a6c9a1-c3e3-488b-94ed-ae3b78a14819",
   "metadata": {},
   "outputs": [
    {
     "data": {
      "text/plain": [
       "int"
      ]
     },
     "execution_count": 4,
     "metadata": {},
     "output_type": "execute_result"
    }
   ],
   "source": [
    "type(number)"
   ]
  },
  {
   "cell_type": "markdown",
   "id": "17afbaca-de4f-451b-aaaa-ace93c614609",
   "metadata": {},
   "source": [
    "**Number System**\n",
    "\n",
    "- Binary Number System\n",
    "  \n",
    "- Decimal Number System\n",
    "\n",
    "- Octa Number System\n",
    "\n",
    "- Hexa Number System"
   ]
  },
  {
   "cell_type": "markdown",
   "id": "649505a7-b2f9-4b87-9416-b04d662326d7",
   "metadata": {},
   "source": [
    "**Binary Number System**\n",
    "\n",
    "- It is denoted with **0b** or **0B**\n",
    "\n",
    "- Binary means two\n",
    "\n",
    "- We have generally 0 to 9 digits available\n",
    "\n",
    "- Binary means only two digits allowed : 0 and 1\n",
    "\n",
    "- Ex: 0b101 0b111 0b000\n",
    "\n",
    "- not valid: 0b123 0B100012"
   ]
  },
  {
   "cell_type": "code",
   "execution_count": 6,
   "id": "9a32fd3e-8649-4152-884e-1642d44511d0",
   "metadata": {},
   "outputs": [
    {
     "data": {
      "text/plain": [
       "7"
      ]
     },
     "execution_count": 6,
     "metadata": {},
     "output_type": "execute_result"
    }
   ],
   "source": [
    "0b111"
   ]
  },
  {
   "cell_type": "code",
   "execution_count": 7,
   "id": "5c63d66e-8154-43bc-90ee-42f6ffcdbe2f",
   "metadata": {},
   "outputs": [
    {
     "data": {
      "text/plain": [
       "11"
      ]
     },
     "execution_count": 7,
     "metadata": {},
     "output_type": "execute_result"
    }
   ],
   "source": [
    "0b1011"
   ]
  },
  {
   "cell_type": "code",
   "execution_count": 8,
   "id": "27c0f1b3-9331-4f5c-a422-b24369a7b60e",
   "metadata": {},
   "outputs": [
    {
     "data": {
      "text/plain": [
       "29"
      ]
     },
     "execution_count": 8,
     "metadata": {},
     "output_type": "execute_result"
    }
   ],
   "source": [
    "0b11101"
   ]
  },
  {
   "cell_type": "markdown",
   "id": "8973bda4-cb98-40a7-9e99-5e801f658723",
   "metadata": {},
   "source": [
    "2^2  2^1  2^0\n",
    "4     2    1\n",
    "#################################\n",
    "0     0    0     0\n",
    "0     0    1     1\n",
    "0     1    0     2\n",
    "0     1    1     3\n",
    "1     0    0     4\n",
    "1     0    1     5 \n",
    "1     1    0     6\n",
    "1     1    1     7"
   ]
  },
  {
   "cell_type": "markdown",
   "id": "64239f72-7943-4f14-921c-e6c9c426e2ed",
   "metadata": {},
   "source": [
    "**Octa Number System**\n",
    "\n",
    "- It is denoted with **0o** or **0O**\n",
    "\n",
    "- Octa means 8\n",
    "\n",
    "- We have generally 0 to 9 digits available\n",
    "\n",
    "- Octa means only eight digits allowed : 0,1,2,3,4,5,6,7\n",
    "\n",
    "- Ex: 0o567 0o151 0o523\n",
    "\n",
    "- not valid: 0o768 0o895"
   ]
  },
  {
   "cell_type": "markdown",
   "id": "d98e9e85-3e14-469d-b3a6-a6ba537ef1c6",
   "metadata": {},
   "source": [
    "2^3       2^2       2^1        2^0\n",
    "8          4         2          1     \n",
    "###################################################\n",
    "0          0         0          0         0 \n",
    "0          0         0          1         1\n",
    "0          0         1          0         2 \n",
    "0          0         1          1         3\n",
    "0          1         0          0         4\n",
    "0          1         0          1         5\n",
    "0          1         1          0         6\n",
    "0          1         1          1         7\n",
    "1          0         0          0         8\n",
    "1          0         0          1         9\n",
    "1          0         1          0         10\n",
    "1          0         1          1         11\n",
    "1          1         0          0         12\n",
    "1          1         0          1         13\n",
    "1          1         1          0         14\n",
    "1          1         1          1         15\n",
    "\n"
   ]
  },
  {
   "cell_type": "code",
   "execution_count": 1,
   "id": "5d2d8a29-00a6-48a5-8114-3d9ce1efa9bb",
   "metadata": {},
   "outputs": [
    {
     "data": {
      "text/plain": [
       "10030"
      ]
     },
     "execution_count": 1,
     "metadata": {},
     "output_type": "execute_result"
    }
   ],
   "source": [
    "0o23456"
   ]
  },
  {
   "cell_type": "code",
   "execution_count": 1,
   "id": "b5e30918-4631-45e4-8b68-19b4abeb4fa9",
   "metadata": {},
   "outputs": [
    {
     "data": {
      "text/plain": [
       "375"
      ]
     },
     "execution_count": 1,
     "metadata": {},
     "output_type": "execute_result"
    }
   ],
   "source": [
    "0o567"
   ]
  },
  {
   "cell_type": "code",
   "execution_count": 11,
   "id": "7e98a346-e17e-4ed3-a04f-28b529a71286",
   "metadata": {},
   "outputs": [
    {
     "data": {
      "text/plain": [
       "337"
      ]
     },
     "execution_count": 11,
     "metadata": {},
     "output_type": "execute_result"
    }
   ],
   "source": [
    "0o521"
   ]
  },
  {
   "cell_type": "code",
   "execution_count": 3,
   "id": "52cf93bb-0882-4259-accd-72dc923003c5",
   "metadata": {},
   "outputs": [
    {
     "data": {
      "text/plain": [
       "668"
      ]
     },
     "execution_count": 3,
     "metadata": {},
     "output_type": "execute_result"
    }
   ],
   "source": [
    "0o1234"
   ]
  },
  {
   "cell_type": "markdown",
   "id": "ad6c0963-9c8a-4423-ba94-77906d514dbb",
   "metadata": {},
   "source": [
    "### "
   ]
  },
  {
   "cell_type": "code",
   "execution_count": 2,
   "id": "cee30c3e-842d-4772-a34d-5265f320c656",
   "metadata": {},
   "outputs": [
    {
     "data": {
      "text/plain": [
       "339"
      ]
     },
     "execution_count": 2,
     "metadata": {},
     "output_type": "execute_result"
    }
   ],
   "source": [
    "0o523\n"
   ]
  },
  {
   "cell_type": "markdown",
   "id": "c5368fee-a14b-4dde-96ac-34e585d956ab",
   "metadata": {},
   "source": [
    "**Hexa Number Sysytem**\n",
    "\n",
    "- It is denoted with **0x** or **0X**\n",
    "\n",
    "- Hexa means 16\n",
    "\n",
    "- We have generally 0 to 9 digits and A to F letters available\n",
    "\n",
    "- Hexa means 0 to 9 digits allowed : 0,1,2,3,4,5,6,7,8,9 and A to F[A:10, B:11, C:12, D:13, E:14, F:15]\n",
    "\n",
    "- Ex: 0x5678 0x151E 0x523A\n",
    "\n",
    "- not valid: 0x768H 0X895M"
   ]
  },
  {
   "cell_type": "code",
   "execution_count": 14,
   "id": "4fc351b3-6974-4878-b211-0fd31c9d6946",
   "metadata": {},
   "outputs": [
    {
     "data": {
      "text/plain": [
       "5406"
      ]
     },
     "execution_count": 14,
     "metadata": {},
     "output_type": "execute_result"
    }
   ],
   "source": [
    "0x151E"
   ]
  },
  {
   "cell_type": "code",
   "execution_count": 4,
   "id": "216dcee3-52f0-4432-b869-7875b58c7e14",
   "metadata": {},
   "outputs": [
    {
     "data": {
      "text/plain": [
       "22136"
      ]
     },
     "execution_count": 4,
     "metadata": {},
     "output_type": "execute_result"
    }
   ],
   "source": [
    "0x5678"
   ]
  },
  {
   "cell_type": "code",
   "execution_count": 5,
   "id": "9e1da983-d941-4ba3-bd58-361dbea3dc91",
   "metadata": {},
   "outputs": [
    {
     "data": {
      "text/plain": [
       "21050"
      ]
     },
     "execution_count": 5,
     "metadata": {},
     "output_type": "execute_result"
    }
   ],
   "source": [
    "0x523a"
   ]
  },
  {
   "cell_type": "code",
   "execution_count": 3,
   "id": "83c95bc3-1e49-4f85-be46-6b80e7aab28a",
   "metadata": {},
   "outputs": [
    {
     "data": {
      "text/plain": [
       "float"
      ]
     },
     "execution_count": 3,
     "metadata": {},
     "output_type": "execute_result"
    }
   ],
   "source": [
    "number=10.23\n",
    "type(number)"
   ]
  },
  {
   "cell_type": "markdown",
   "id": "c3ec4e92-cade-4bee-b0cc-b8393dc63918",
   "metadata": {},
   "source": [
    "**e representation**\n"
   ]
  },
  {
   "cell_type": "code",
   "execution_count": 17,
   "id": "073a2705-d1a7-418a-8b8d-403a8f6d12eb",
   "metadata": {},
   "outputs": [
    {
     "data": {
      "text/plain": [
       "10.0"
      ]
     },
     "execution_count": 17,
     "metadata": {},
     "output_type": "execute_result"
    }
   ],
   "source": [
    "1e1"
   ]
  },
  {
   "cell_type": "code",
   "execution_count": 18,
   "id": "4d851d99-6ddb-4621-a3e3-192fb0e9045f",
   "metadata": {},
   "outputs": [
    {
     "data": {
      "text/plain": [
       "1000.0"
      ]
     },
     "execution_count": 18,
     "metadata": {},
     "output_type": "execute_result"
    }
   ],
   "source": [
    "1e3"
   ]
  },
  {
   "cell_type": "code",
   "execution_count": 19,
   "id": "10335f6d-7979-40cf-82a8-b5d1a77b5936",
   "metadata": {},
   "outputs": [
    {
     "data": {
      "text/plain": [
       "40000.0"
      ]
     },
     "execution_count": 19,
     "metadata": {},
     "output_type": "execute_result"
    }
   ],
   "source": [
    "1e1   # 1*10=10\n",
    "1e2   # 1*100=100\n",
    "2e3   # 2*1000=2000\n",
    "4e4   # 4*10000=40000"
   ]
  },
  {
   "cell_type": "code",
   "execution_count": 20,
   "id": "532bc4b0-4980-4468-a6fe-552dbd96ade7",
   "metadata": {},
   "outputs": [
    {
     "name": "stdout",
     "output_type": "stream",
     "text": [
      "10.0\n",
      "100.0\n",
      "2000.0\n"
     ]
    }
   ],
   "source": [
    "print(1e+1)   # 1*10=10\n",
    "print(1e+2)   # 1*100=100\n",
    "print(2e+3)   # 2*1000=2000"
   ]
  },
  {
   "cell_type": "code",
   "execution_count": 21,
   "id": "91cd52f2-f352-4340-b44a-3a2f9f1743fb",
   "metadata": {},
   "outputs": [
    {
     "name": "stdout",
     "output_type": "stream",
     "text": [
      "0.1\n",
      "0.01\n",
      "0.002\n"
     ]
    }
   ],
   "source": [
    "print(1e-1)   # 1/10=0.1\n",
    "print(1e-2)   # 1/100=0.01\n",
    "print(2e-3)   # 2/1000=0.002"
   ]
  },
  {
   "cell_type": "code",
   "execution_count": 1,
   "id": "5edd7af7-a5db-4f09-9cb9-db22884faae5",
   "metadata": {},
   "outputs": [
    {
     "name": "stdout",
     "output_type": "stream",
     "text": [
      "0b11111101001\n"
     ]
    }
   ],
   "source": [
    "print(bin(2025))"
   ]
  },
  {
   "cell_type": "code",
   "execution_count": 2,
   "id": "5e1f6d76-c6ee-4382-9383-310fa65cd23f",
   "metadata": {},
   "outputs": [
    {
     "name": "stdout",
     "output_type": "stream",
     "text": [
      "0o3751\n"
     ]
    }
   ],
   "source": [
    "print(oct(2025))\n"
   ]
  },
  {
   "cell_type": "code",
   "execution_count": 3,
   "id": "56ae90e3-1da2-4e3f-a5a0-b4de89e8384e",
   "metadata": {},
   "outputs": [
    {
     "name": "stdout",
     "output_type": "stream",
     "text": [
      "0x7e9\n"
     ]
    }
   ],
   "source": [
    "print(hex(2025))"
   ]
  },
  {
   "cell_type": "markdown",
   "id": "3f1c8b15-9314-4bab-a04a-f4924df583de",
   "metadata": {},
   "source": [
    "**Boolean Data Types**  [ True or False ]\n"
   ]
  },
  {
   "cell_type": "code",
   "execution_count": 5,
   "id": "60c584f1-2df6-42bc-bdc4-6cecc3649616",
   "metadata": {},
   "outputs": [
    {
     "data": {
      "text/plain": [
       "True"
      ]
     },
     "execution_count": 5,
     "metadata": {},
     "output_type": "execute_result"
    }
   ],
   "source": [
    "val=True\n",
    "val"
   ]
  },
  {
   "cell_type": "code",
   "execution_count": 6,
   "id": "7270557d-8272-4daa-aaab-44e30bf86922",
   "metadata": {},
   "outputs": [
    {
     "data": {
      "text/plain": [
       "bool"
      ]
     },
     "execution_count": 6,
     "metadata": {},
     "output_type": "execute_result"
    }
   ],
   "source": [
    "type(val)"
   ]
  },
  {
   "cell_type": "code",
   "execution_count": 7,
   "id": "3dfbb061-59d6-4440-b14d-275b8b606357",
   "metadata": {},
   "outputs": [
    {
     "data": {
      "text/plain": [
       "bool"
      ]
     },
     "execution_count": 7,
     "metadata": {},
     "output_type": "execute_result"
    }
   ],
   "source": [
    "val1=False\n",
    "type(val1)"
   ]
  },
  {
   "cell_type": "markdown",
   "id": "3c95b706-abf0-4f3a-bb74-afb8bf384b50",
   "metadata": {},
   "source": [
    "**Strings**"
   ]
  },
  {
   "cell_type": "markdown",
   "id": "c43f0acc-fd8e-46da-914b-0b0cbd5a64ab",
   "metadata": {},
   "source": [
    "- English format representation\n",
    "\n",
    "- Strings represent with quotes\n",
    "\n",
    "- we can use single quotes, double quotes and triple quotes"
   ]
  },
  {
   "cell_type": "code",
   "execution_count": 8,
   "id": "eca4576f-5f58-468e-9614-9dc374511fd7",
   "metadata": {},
   "outputs": [
    {
     "data": {
      "text/plain": [
       "'Python'"
      ]
     },
     "execution_count": 8,
     "metadata": {},
     "output_type": "execute_result"
    }
   ],
   "source": [
    "name='Python'\n",
    "name"
   ]
  },
  {
   "cell_type": "code",
   "execution_count": 9,
   "id": "b599b7cb-f3fb-4c83-8929-fa75645b754f",
   "metadata": {},
   "outputs": [
    {
     "data": {
      "text/plain": [
       "str"
      ]
     },
     "execution_count": 9,
     "metadata": {},
     "output_type": "execute_result"
    }
   ],
   "source": [
    "type(name)\n"
   ]
  },
  {
   "cell_type": "code",
   "execution_count": 10,
   "id": "746ca3b0-222e-4a53-b0e6-5ec9f4e4cbf4",
   "metadata": {},
   "outputs": [
    {
     "name": "stdout",
     "output_type": "stream",
     "text": [
      "Python\n"
     ]
    }
   ],
   "source": [
    "print(name)\n",
    "# when we print we will not get the quotes"
   ]
  },
  {
   "cell_type": "code",
   "execution_count": 11,
   "id": "914ccc03-7e22-4f97-a7f4-e3f5886e8c1a",
   "metadata": {},
   "outputs": [
    {
     "data": {
      "text/plain": [
       "str"
      ]
     },
     "execution_count": 11,
     "metadata": {},
     "output_type": "execute_result"
    }
   ],
   "source": [
    "val='10'\n",
    "type(val)"
   ]
  },
  {
   "cell_type": "code",
   "execution_count": 12,
   "id": "8dbc33fe-1e03-4a5e-b7a9-e45a4d36b930",
   "metadata": {},
   "outputs": [
    {
     "data": {
      "text/plain": [
       "int"
      ]
     },
     "execution_count": 12,
     "metadata": {},
     "output_type": "execute_result"
    }
   ],
   "source": [
    "val1=10\n",
    "type(val1)"
   ]
  },
  {
   "cell_type": "code",
   "execution_count": 22,
   "id": "771a4959-52fe-459d-a089-a33c32ea54c2",
   "metadata": {},
   "outputs": [
    {
     "data": {
      "text/plain": [
       "'Naresh IT'"
      ]
     },
     "execution_count": 22,
     "metadata": {},
     "output_type": "execute_result"
    }
   ],
   "source": [
    "name=\"Naresh IT\"\n",
    "name\n",
    "# but the output displayed with single quotes"
   ]
  },
  {
   "cell_type": "code",
   "execution_count": 14,
   "id": "e631f1f1-6a22-4dd1-a55f-e74f269d04d9",
   "metadata": {},
   "outputs": [
    {
     "data": {
      "text/plain": [
       "str"
      ]
     },
     "execution_count": 14,
     "metadata": {},
     "output_type": "execute_result"
    }
   ],
   "source": [
    "type(name)"
   ]
  },
  {
   "cell_type": "code",
   "execution_count": 15,
   "id": "2117a8e8-784f-447e-8c09-4fb293720bea",
   "metadata": {},
   "outputs": [
    {
     "name": "stdout",
     "output_type": "stream",
     "text": [
      "Naresh IT\n"
     ]
    }
   ],
   "source": [
    "print(name)"
   ]
  },
  {
   "cell_type": "code",
   "execution_count": 20,
   "id": "6adb2d78-c87a-49cf-a00c-0823c0181b5f",
   "metadata": {},
   "outputs": [
    {
     "name": "stdout",
     "output_type": "stream",
     "text": [
      "I love 'Python'\n"
     ]
    }
   ],
   "source": [
    "str1=\"I love 'Python'\"\n",
    "print(str1)"
   ]
  },
  {
   "cell_type": "code",
   "execution_count": 21,
   "id": "fa7ed7b5-8804-4a54-8296-c1452067e1fc",
   "metadata": {},
   "outputs": [
    {
     "name": "stdout",
     "output_type": "stream",
     "text": [
      "I love \"INDIA\"\n"
     ]
    }
   ],
   "source": [
    " str1='I love \"INDIA\"'\n",
    "print(str1)"
   ]
  },
  {
   "cell_type": "markdown",
   "id": "168b664a-dc8d-4622-a59e-8db9ab43689a",
   "metadata": {},
   "source": [
    "- keep entire string in **Double quotes** then highlight the word with **single quote** or vice versa"
   ]
  },
  {
   "cell_type": "markdown",
   "id": "eff58214-7c3b-41b9-aff7-f13e626c45c7",
   "metadata": {},
   "source": [
    "**Triple Quotes**\n",
    "\n",
    "- Triple quotes can not use in coding part\n",
    "\n",
    "- Triple quotes means conveying the information\n",
    "\n",
    "- This process is called as **Doc String**\n",
    "\n",
    "- In jupyter notebook we have markdown option\n",
    "\n",
    "- But in vs code or pychram there is no markdown option\n",
    "\n",
    "- So user will convey the information by providing the triple quotes"
   ]
  },
  {
   "cell_type": "code",
   "execution_count": 23,
   "id": "380e5c84-2ca5-4f75-bb98-3510c6f089be",
   "metadata": {},
   "outputs": [
    {
     "data": {
      "text/plain": [
       "\"Hai today I'm learning python\\nIt is a beautiful language\""
      ]
     },
     "execution_count": 23,
     "metadata": {},
     "output_type": "execute_result"
    }
   ],
   "source": [
    "\"\"\"Hai today I'm learning python\n",
    "It is a beautiful language\"\"\""
   ]
  },
  {
   "cell_type": "code",
   "execution_count": 11,
   "id": "47604c48-6aa5-4d01-9540-3cf91d588218",
   "metadata": {},
   "outputs": [],
   "source": [
    "true=True #works\n",
    "true='True' # w\n"
   ]
  },
  {
   "cell_type": "code",
   "execution_count": null,
   "id": "8977972b-5c0b-473c-ad94-add990a3d4e9",
   "metadata": {},
   "outputs": [],
   "source": []
  }
 ],
 "metadata": {
  "kernelspec": {
   "display_name": "Python 3 (ipykernel)",
   "language": "python",
   "name": "python3"
  },
  "language_info": {
   "codemirror_mode": {
    "name": "ipython",
    "version": 3
   },
   "file_extension": ".py",
   "mimetype": "text/x-python",
   "name": "python",
   "nbconvert_exporter": "python",
   "pygments_lexer": "ipython3",
   "version": "3.12.7"
  }
 },
 "nbformat": 4,
 "nbformat_minor": 5
}
