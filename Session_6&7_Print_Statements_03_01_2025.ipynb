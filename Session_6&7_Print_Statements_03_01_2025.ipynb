{
 "cells": [
  {
   "cell_type": "code",
   "execution_count": 2,
   "id": "dd4b1e65-ecbc-44ca-9ddf-cee24a827461",
   "metadata": {},
   "outputs": [
    {
     "data": {
      "text/plain": [
       "20"
      ]
     },
     "execution_count": 2,
     "metadata": {},
     "output_type": "execute_result"
    }
   ],
   "source": [
    "a=10\n",
    "b=20\n",
    "a\n",
    "b"
   ]
  },
  {
   "cell_type": "code",
   "execution_count": 69,
   "id": "6cc9386d-dab1-4c17-b633-4f2309623fec",
   "metadata": {},
   "outputs": [
    {
     "name": "stdout",
     "output_type": "stream",
     "text": [
      "10\n",
      "20\n"
     ]
    }
   ],
   "source": [
    "a=10\n",
    "b=20\n",
    "print(a)\n",
    "print(b)"
   ]
  },
  {
   "cell_type": "code",
   "execution_count": 66,
   "id": "e50cc162-aa38-4779-9841-f218b0a1aa54",
   "metadata": {},
   "outputs": [
    {
     "name": "stdout",
     "output_type": "stream",
     "text": [
      "10\n",
      "20\n"
     ]
    }
   ],
   "source": [
    "print(10)\n",
    "print(20)"
   ]
  },
  {
   "cell_type": "code",
   "execution_count": 79,
   "id": "37802b8a-ad01-43af-894f-d860074698da",
   "metadata": {},
   "outputs": [
    {
     "name": "stdout",
     "output_type": "stream",
     "text": [
      "10\n",
      "20\n"
     ]
    },
    {
     "data": {
      "text/plain": [
       "(None, None)"
      ]
     },
     "execution_count": 79,
     "metadata": {},
     "output_type": "execute_result"
    }
   ],
   "source": [
    "print(10),print(20)"
   ]
  },
  {
   "cell_type": "code",
   "execution_count": 72,
   "id": "fe6117c4-d9d1-493c-91f8-31bd2a845066",
   "metadata": {},
   "outputs": [
    {
     "data": {
      "text/plain": [
       "(10, 20)"
      ]
     },
     "execution_count": 72,
     "metadata": {},
     "output_type": "execute_result"
    }
   ],
   "source": [
    "10,20"
   ]
  },
  {
   "cell_type": "code",
   "execution_count": 74,
   "id": "a4113512-c762-40ae-8e3a-6996458ba1f6",
   "metadata": {},
   "outputs": [
    {
     "name": "stdout",
     "output_type": "stream",
     "text": [
      "10 20\n"
     ]
    }
   ],
   "source": [
    "print(a,b)"
   ]
  },
  {
   "cell_type": "code",
   "execution_count": 81,
   "id": "02b4e7fa-a670-4abc-bd13-7533219dfdb5",
   "metadata": {},
   "outputs": [
    {
     "name": "stdout",
     "output_type": "stream",
     "text": [
      "30 Naresh IT HYD\n"
     ]
    }
   ],
   "source": [
    "print(30,'Naresh IT','HYD')\n",
    "# 3 values"
   ]
  },
  {
   "cell_type": "code",
   "execution_count": 85,
   "id": "6f20079b-49db-4f04-a4b7-4f250a0a792d",
   "metadata": {},
   "outputs": [
    {
     "name": "stdout",
     "output_type": "stream",
     "text": [
      "the addition of 100 and 200 is 300\n",
      "the addition of num1 and num2 is 300\n",
      "the addition of 1000 and 200 is 1200\n"
     ]
    }
   ],
   "source": [
    "num1=1000\n",
    "num2=200\n",
    "add=num1+num2\n",
    "# the addition of 100 and 200 is 300\n",
    "print(\"the addition of 100 and 200 is 300\")\n",
    "print(\"the addition of num1 and num2 is 300\")\n",
    "print(\"the addition of\",num1,\"and\",num2,\"is\",add)"
   ]
  },
  {
   "cell_type": "code",
   "execution_count": 95,
   "id": "e61f9e6d-7600-47db-ba5b-ca1cc0212848",
   "metadata": {},
   "outputs": [
    {
     "name": "stdout",
     "output_type": "stream",
     "text": [
      "my name is python im 10 years old and came from Hyd\n"
     ]
    }
   ],
   "source": [
    "name=\"python\"\n",
    "age=10\n",
    "city=\"Hyd\"\n",
    "# my name is python im 10 years old and came from hyd\n",
    "print(\"my name is\",name,\"im\",age,\"years old and came from\",city)"
   ]
  },
  {
   "cell_type": "markdown",
   "id": "d4468425-a291-48dd-a9de-1ad0947e5d9f",
   "metadata": {},
   "source": [
    "**Format method**"
   ]
  },
  {
   "cell_type": "code",
   "execution_count": 12,
   "id": "03956f4c-7a91-4e70-a162-9590f3a065ed",
   "metadata": {},
   "outputs": [
    {
     "name": "stdout",
     "output_type": "stream",
     "text": [
      "my name is python im 10 years old and came from Hyd\n"
     ]
    }
   ],
   "source": [
    "name=\"python\"\n",
    "age=10\n",
    "city=\"Hyd\"\n",
    "# my name is python im 10 years old and came from hyd\n",
    "print(\"my name is {} im {} years old and came from {}\".format(name,age,city))"
   ]
  },
  {
   "cell_type": "code",
   "execution_count": 13,
   "id": "825765c5-49c4-44ab-ac02-8c8fe76a7e9a",
   "metadata": {},
   "outputs": [
    {
     "name": "stdout",
     "output_type": "stream",
     "text": [
      "the addition of 1000 and 200 is 1200\n"
     ]
    }
   ],
   "source": [
    "num1=1000\n",
    "num2=200\n",
    "add=num1+num2\n",
    "# the addition of 100 and 200 is 300\n",
    "print(\"the addition of {} and {} is {}\".format(num1,num2,add))"
   ]
  },
  {
   "cell_type": "code",
   "execution_count": null,
   "id": "819e5574-ade3-4d87-945c-1ec3d7c94c92",
   "metadata": {},
   "outputs": [],
   "source": [
    "#write a program take 2 numbers perform the\n",
    "# subtraction\n",
    "#multiplication\n",
    "#division\n",
    "#print the statements as follows\n",
    "\n",
    "# the subtraction of 100 and 200 is -100\n",
    "#the multiplication of 100 and 200 is 20000\n",
    "# the division of 100 and 200 is 0.5\n",
    "\n",
    "# wap take three numbers perform the average\n",
    "# a,b,c\n",
    "# avg =a+b+c/3\n",
    "# print the statwment\n",
    "# the avg of a,b,c is: avg"
   ]
  },
  {
   "cell_type": "code",
   "execution_count": 1,
   "id": "eab5fadc-b021-4a48-8430-4dbff3c8e765",
   "metadata": {},
   "outputs": [
    {
     "name": "stdout",
     "output_type": "stream",
     "text": [
      "the subtraction of 100 and 20 is 80\n",
      "the multiplication of 100 and 20 is 2000\n",
      "the division of 100 and 20 is 5.0\n"
     ]
    }
   ],
   "source": [
    "num1=100\n",
    "num2=20\n",
    "sub=num1-num2\n",
    "mul=num1*num2\n",
    "div=num1/num2\n",
    "print(\"the subtraction of {} and {} is {}\".format(num1,num2,sub))\n",
    "print(\"the multiplication of {} and {} is {}\".format(num1,num2,mul))\n",
    "print(\"the division of {} and {} is {}\".format(num1,num2,div))"
   ]
  },
  {
   "cell_type": "code",
   "execution_count": 18,
   "id": "aaabf71b-c534-444d-8566-583c3351156e",
   "metadata": {},
   "outputs": [
    {
     "name": "stdout",
     "output_type": "stream",
     "text": [
      "the average of a,b,c is 20.0\n"
     ]
    }
   ],
   "source": [
    "a=10\n",
    "b=20\n",
    "c=30\n",
    "avg=(a+b+c)/3\n",
    "print(\"the average of a,b,c is\",avg)"
   ]
  },
  {
   "cell_type": "code",
   "execution_count": 21,
   "id": "fc523aee-d757-4c2c-b711-48cc3f1aff09",
   "metadata": {},
   "outputs": [
    {
     "name": "stdout",
     "output_type": "stream",
     "text": [
      "the average of 10,20,30 is 20.0\n"
     ]
    }
   ],
   "source": [
    "a=10\n",
    "b=20\n",
    "c=30\n",
    "avg=(a+b+c)/3\n",
    "print(\"the average of {},{},{} is {}\".format(a,b,c,avg))"
   ]
  },
  {
   "cell_type": "markdown",
   "id": "1205a951-2830-4ef3-bc0c-4a8614339cb3",
   "metadata": {},
   "source": [
    "**F string: Formatted string method**\n",
    "- Formating the string"
   ]
  },
  {
   "cell_type": "code",
   "execution_count": 22,
   "id": "19d8de2f-fad8-42f0-872f-ee5a415fea90",
   "metadata": {},
   "outputs": [
    {
     "name": "stdout",
     "output_type": "stream",
     "text": [
      "the addition of 1000 and 200 is 1200\n"
     ]
    }
   ],
   "source": [
    "num1=1000\n",
    "num2=200\n",
    "add=num1+num2\n",
    "print(f\"the addition of {num1} and {num2} is {add}\")"
   ]
  },
  {
   "cell_type": "code",
   "execution_count": 23,
   "id": "49f0869b-acaf-4a61-8b4f-6721f9b63965",
   "metadata": {},
   "outputs": [
    {
     "name": "stdout",
     "output_type": "stream",
     "text": [
      "my name is python im 10 years old and came from Hyd\n",
      "the subtraction of 1000 and 200 is -100\n",
      "the multiplication of 1000 and 200 is 20000\n",
      "the division of 1000 and 200 is 0.5\n"
     ]
    }
   ],
   "source": [
    "print(f\"my name is {name} im {age} years old and came from {city}\")\n",
    "print(f\"the subtraction of {num1} and {num2} is {sub}\")\n",
    "print(f\"the multiplication of {num1} and {num2} is {mul}\")\n",
    "print(f\"the division of {num1} and {num2} is {div}\")"
   ]
  },
  {
   "cell_type": "code",
   "execution_count": 96,
   "id": "cf563194-9ef1-449d-b646-9ae0a126ec18",
   "metadata": {},
   "outputs": [
    {
     "name": "stdout",
     "output_type": "stream",
     "text": [
      "20.333333333333332\n"
     ]
    }
   ],
   "source": [
    "a=11\n",
    "b=20\n",
    "c=30\n",
    "avg=(a+b+c)/3\n",
    "print(avg)"
   ]
  },
  {
   "cell_type": "markdown",
   "id": "361adae4-1358-4ef1-8d58-b5d983ae44f7",
   "metadata": {},
   "source": [
    "**Round**"
   ]
  },
  {
   "cell_type": "code",
   "execution_count": null,
   "id": "5f50e6d4-2343-46c2-bff6-b75d63234379",
   "metadata": {},
   "outputs": [],
   "source": [
    "CTRL+A and CRTL+/ to comment bulk statements\n"
   ]
  },
  {
   "cell_type": "code",
   "execution_count": 1,
   "id": "607cd486-ad02-42a6-86d6-edc5506fe381",
   "metadata": {},
   "outputs": [
    {
     "name": "stdout",
     "output_type": "stream",
     "text": [
      "10.8\n",
      "10.78\n",
      "10.778\n"
     ]
    }
   ],
   "source": [
    "round(10.77777) # 10.7 =======> 11\n",
    "round(10.77777,2) # 10.78\n",
    "round(10.777777777,3) # 10.778\n",
    "print(round(10.77777))\n",
    "print(round(10.77777,2))\n",
    "print(round(10.777777777,3))"
   ]
  },
  {
   "cell_type": "code",
   "execution_count": 103,
   "id": "f5a88b11-9707-4636-a911-147b1ac7a59a",
   "metadata": {},
   "outputs": [
    {
     "name": "stdout",
     "output_type": "stream",
     "text": [
      "20.3\n",
      "20.33\n"
     ]
    }
   ],
   "source": [
    "a=11\n",
    "b=20\n",
    "c=30\n",
    "avg=(a+b+c)/3\n",
    "avg1=round(avg,1)\n",
    "print(avg1)\n",
    "print(round(avg,2))"
   ]
  },
  {
   "cell_type": "markdown",
   "id": "9fd689ed-b428-4474-99fd-83d556ae904a",
   "metadata": {},
   "source": [
    "**I have multiple print statements but i want to show in single line**"
   ]
  },
  {
   "cell_type": "markdown",
   "id": "fa2ea79f-1ab1-41f1-b63c-9b93726a8176",
   "metadata": {},
   "source": [
    "**End operator**"
   ]
  },
  {
   "cell_type": "code",
   "execution_count": 108,
   "id": "cad091d3-cd1f-4600-b378-573a5aab7bbf",
   "metadata": {},
   "outputs": [
    {
     "name": "stdout",
     "output_type": "stream",
     "text": [
      "10 Last number\n"
     ]
    }
   ],
   "source": [
    "print(10,end=\" \")\n",
    "print('Last number')"
   ]
  },
  {
   "cell_type": "code",
   "execution_count": 32,
   "id": "cbaa3908-850e-4b60-9be1-a55a1dd64fcc",
   "metadata": {},
   "outputs": [
    {
     "name": "stdout",
     "output_type": "stream",
     "text": [
      "10 20 30\n"
     ]
    }
   ],
   "source": [
    "print(10,end=\" \")\n",
    "print(20,end=\" \")\n",
    "print(30)"
   ]
  },
  {
   "cell_type": "code",
   "execution_count": 109,
   "id": "14d6fe6c-0ac8-47c1-b3e5-67ee42fa58c1",
   "metadata": {},
   "outputs": [
    {
     "name": "stdout",
     "output_type": "stream",
     "text": [
      "10 20 30\n"
     ]
    }
   ],
   "source": [
    "print(10,20,30)"
   ]
  },
  {
   "cell_type": "code",
   "execution_count": 33,
   "id": "a15c4429-e7d6-4ea1-be4a-70c7e03943c9",
   "metadata": {},
   "outputs": [
    {
     "name": "stdout",
     "output_type": "stream",
     "text": [
      "Hello How are you\n"
     ]
    }
   ],
   "source": [
    "print('Hello',end=' ')\n",
    "print('How',end=' ')\n",
    "print('are',end=' ')\n",
    "print('you')"
   ]
  },
  {
   "cell_type": "markdown",
   "id": "614e8ccb-5f1f-4357-894b-76a0dce74f5d",
   "metadata": {},
   "source": [
    "**I have multiple values in a single print statement**\n",
    "**I want to print them with some separation**"
   ]
  },
  {
   "cell_type": "code",
   "execution_count": 34,
   "id": "213915c2-26d6-4650-b572-f4fd2d225d14",
   "metadata": {},
   "outputs": [
    {
     "name": "stdout",
     "output_type": "stream",
     "text": [
      "10 20 30\n"
     ]
    }
   ],
   "source": [
    "print(10,20,30)\n",
    "#10 ====> 20 =====> 30"
   ]
  },
  {
   "cell_type": "markdown",
   "id": "f4bd4892-963a-44e0-a413-bcd7bcb0fb5a",
   "metadata": {},
   "source": [
    "**Separate**"
   ]
  },
  {
   "cell_type": "code",
   "execution_count": 35,
   "id": "100d50dc-12b6-4aa3-984e-447bbba01b22",
   "metadata": {},
   "outputs": [
    {
     "name": "stdout",
     "output_type": "stream",
     "text": [
      "10====>20====>30\n"
     ]
    }
   ],
   "source": [
    "print(10,20,30,sep='====>')"
   ]
  },
  {
   "cell_type": "markdown",
   "id": "53ed9ee8-20d5-4ad3-848c-1d7a93906a66",
   "metadata": {},
   "source": [
    "- Basic print statement\n",
    "\n",
    "- we learn format method\n",
    "\n",
    "- we learn f string method\n",
    "\n",
    "- we learn round\n",
    "\n",
    "- we learn end operator\n",
    "\n",
    "- we learn sep operator"
   ]
  },
  {
   "cell_type": "code",
   "execution_count": null,
   "id": "4105635d-50c7-4354-8bec-d0a9905138f0",
   "metadata": {},
   "outputs": [],
   "source": [
    "# wap take the radius of a circle calculating area of circle\n",
    "# var: radius var: pi=3.14\n",
    "# formulae: pi*radius*radius\n",
    "# print the answer using f string and format\n",
    "\n",
    "# wap take the breadth and height of the right angle triangle\n",
    "# calculate the area\n",
    "# var1: breadth var2: height\n",
    "# formulae: 0.5*breadth*height\n",
    "\n",
    "# wap take the bill amounnt and tip amount\n",
    "# calculate total bill\n",
    "# var1: bill amount var2: tip amount\n",
    "# formulae\n",
    "\n",
    "# wap take the length and breadth of a rectangle calculate area\n",
    "# var 1: length var2: breadth\n",
    "# formulae:lenght*breadth"
   ]
  },
  {
   "cell_type": "code",
   "execution_count": 9,
   "id": "9bd717c8-d147-47fa-bd9c-3028b2a83c27",
   "metadata": {},
   "outputs": [
    {
     "name": "stdout",
     "output_type": "stream",
     "text": [
      "Area of the circle: 28.26\n"
     ]
    }
   ],
   "source": [
    "rad=3\n",
    "pi=3.14\n",
    "area=(pi*rad**2)\n",
    "print(\"Area of the circle: {}\".format(area))"
   ]
  },
  {
   "cell_type": "code",
   "execution_count": 10,
   "id": "4dabddc0-6047-44ab-9da8-6e80183f83de",
   "metadata": {},
   "outputs": [
    {
     "name": "stdout",
     "output_type": "stream",
     "text": [
      "Area of the circle :113.03999999999999\n"
     ]
    }
   ],
   "source": [
    "rad=6\n",
    "pi=3.14\n",
    "area=(pi*rad*rad)\n",
    "print(f\"Area of the circle :{area}\")"
   ]
  },
  {
   "cell_type": "code",
   "execution_count": 6,
   "id": "5c78a232-df65-426a-826e-2a35ab6f0b97",
   "metadata": {},
   "outputs": [
    {
     "name": "stdout",
     "output_type": "stream",
     "text": [
      "Area of right angle triangle: 300.0\n"
     ]
    }
   ],
   "source": [
    "breadth=20\n",
    "length=30\n",
    "area=(0.5*breadth*length)\n",
    "print(\"Area of right angle triangle: {}\".format(area))"
   ]
  },
  {
   "cell_type": "code",
   "execution_count": 4,
   "id": "9cba9298-4e64-4f29-9194-7b8d90feae8b",
   "metadata": {},
   "outputs": [
    {
     "name": "stdout",
     "output_type": "stream",
     "text": [
      "Area of right angle triangle : 300.0\n"
     ]
    }
   ],
   "source": [
    "breadth=20\n",
    "var2=30\n",
    "area=(0.5*breadth*var2)\n",
    "print(f\"Area of right angle triangle : {area}\")"
   ]
  },
  {
   "cell_type": "code",
   "execution_count": 7,
   "id": "587c1923-1d99-440f-bba8-c05724312a00",
   "metadata": {},
   "outputs": [
    {
     "name": "stdout",
     "output_type": "stream",
     "text": [
      "The total bill is 5200\n"
     ]
    }
   ],
   "source": [
    "bill_amount=5000\n",
    "tip_amount=200\n",
    "total_bill=bill_amount+tip_amount\n",
    "print(\"The total bill is {}\".format(total_bill))"
   ]
  },
  {
   "cell_type": "code",
   "execution_count": 8,
   "id": "bd1af5d9-4e24-4947-bbf0-7a82ad45636f",
   "metadata": {},
   "outputs": [
    {
     "name": "stdout",
     "output_type": "stream",
     "text": [
      "The total bill is 5200\n"
     ]
    }
   ],
   "source": [
    "bill_amount=5000\n",
    "tip_amount=200\n",
    "total_bill=bill_amount+tip_amount\n",
    "print(f\"The total bill is {total_bill}\")"
   ]
  },
  {
   "cell_type": "code",
   "execution_count": 10,
   "id": "fd2a0240-2922-452b-bcea-5d3ceae05904",
   "metadata": {},
   "outputs": [
    {
     "name": "stdout",
     "output_type": "stream",
     "text": [
      "Area of rectangle: 200\n"
     ]
    }
   ],
   "source": [
    "length=10\n",
    "breadth=20\n",
    "area=length*breadth\n",
    "print(\"Area of rectangle: {}\".format(area))"
   ]
  },
  {
   "cell_type": "code",
   "execution_count": 11,
   "id": "1b02e679-f081-4a74-88bf-c5b6906094c1",
   "metadata": {},
   "outputs": [
    {
     "name": "stdout",
     "output_type": "stream",
     "text": [
      "Area of rectangle is 200\n"
     ]
    }
   ],
   "source": [
    "length=10\n",
    "breadth=20\n",
    "area=length*breadth\n",
    "print(f\"Area of rectangle is {area}\")"
   ]
  },
  {
   "cell_type": "markdown",
   "id": "87c08cd8-aa36-476c-93dd-8f9a01db66d2",
   "metadata": {},
   "source": [
    "**Input**\n",
    "\n",
    "- in the above provided value\n",
    "\n",
    "- input is the inbuilt function\n",
    "\n",
    "- using input the user can provide any value"
   ]
  },
  {
   "cell_type": "code",
   "execution_count": 12,
   "id": "60e67610-1017-4a26-8240-66264e9249c3",
   "metadata": {},
   "outputs": [
    {
     "data": {
      "text/plain": [
       "<bound method Kernel.raw_input of <ipykernel.ipkernel.IPythonKernel object at 0x0000017EDA0C88C0>>"
      ]
     },
     "execution_count": 12,
     "metadata": {},
     "output_type": "execute_result"
    }
   ],
   "source": [
    "input\n"
   ]
  },
  {
   "cell_type": "markdown",
   "id": "91503620-4a7e-49fe-8dd0-2063882feb15",
   "metadata": {},
   "source": [
    "**Note**\n",
    "\n",
    "- whenever if we see bound method or function which indicates we forget the brackets"
   ]
  },
  {
   "cell_type": "code",
   "execution_count": 2,
   "id": "780dfe5e-e47d-4b8f-8c2f-9036659862df",
   "metadata": {},
   "outputs": [
    {
     "name": "stdin",
     "output_type": "stream",
     "text": [
      " 50\n"
     ]
    },
    {
     "data": {
      "text/plain": [
       "'50'"
      ]
     },
     "execution_count": 2,
     "metadata": {},
     "output_type": "execute_result"
    }
   ],
   "source": [
    "input()"
   ]
  },
  {
   "cell_type": "code",
   "execution_count": 15,
   "id": "35b046b8-ddf7-437f-956d-a267dee4fd6e",
   "metadata": {},
   "outputs": [
    {
     "name": "stdin",
     "output_type": "stream",
     "text": [
      " python\n"
     ]
    },
    {
     "data": {
      "text/plain": [
       "'python'"
      ]
     },
     "execution_count": 15,
     "metadata": {},
     "output_type": "execute_result"
    }
   ],
   "source": [
    "input()\n"
   ]
  },
  {
   "cell_type": "code",
   "execution_count": 16,
   "id": "9a4ce67f-aa89-4037-bcfd-9cbda196155a",
   "metadata": {},
   "outputs": [
    {
     "data": {
      "text/plain": [
       "int"
      ]
     },
     "execution_count": 16,
     "metadata": {},
     "output_type": "execute_result"
    }
   ],
   "source": [
    "a=100\n",
    "type(a)"
   ]
  },
  {
   "cell_type": "code",
   "execution_count": 3,
   "id": "2c28cd5f-bf4b-4705-9ab9-1fa2fa8a5f57",
   "metadata": {},
   "outputs": [
    {
     "name": "stdin",
     "output_type": "stream",
     "text": [
      " Bomb\n"
     ]
    }
   ],
   "source": [
    "name=input()"
   ]
  },
  {
   "cell_type": "code",
   "execution_count": 4,
   "id": "d3e9dc84-78ee-4c95-8c93-1eae4aa4a78a",
   "metadata": {},
   "outputs": [
    {
     "data": {
      "text/plain": [
       "'Bomb'"
      ]
     },
     "execution_count": 4,
     "metadata": {},
     "output_type": "execute_result"
    }
   ],
   "source": [
    "name"
   ]
  },
  {
   "cell_type": "code",
   "execution_count": 19,
   "id": "63b35855-59c6-44d3-9584-813cc7576bda",
   "metadata": {},
   "outputs": [
    {
     "name": "stdin",
     "output_type": "stream",
     "text": [
      " pycharm\n"
     ]
    }
   ],
   "source": [
    "b=input()\n"
   ]
  },
  {
   "cell_type": "code",
   "execution_count": 20,
   "id": "f9296fb2-0b1e-4e23-af2c-d9f8782cae93",
   "metadata": {},
   "outputs": [
    {
     "data": {
      "text/plain": [
       "'pycharm'"
      ]
     },
     "execution_count": 20,
     "metadata": {},
     "output_type": "execute_result"
    }
   ],
   "source": [
    "b"
   ]
  },
  {
   "cell_type": "code",
   "execution_count": 12,
   "id": "ce179d42-4643-410d-821f-d38f33c96435",
   "metadata": {},
   "outputs": [
    {
     "name": "stdin",
     "output_type": "stream",
     "text": [
      " 100\n",
      " 200\n",
      " 30\n"
     ]
    }
   ],
   "source": [
    "a=input() #a=100\n",
    "b=input() #b=200\n",
    "c=input() #c=300"
   ]
  },
  {
   "cell_type": "code",
   "execution_count": 13,
   "id": "e32b9aea-b37d-48f6-9d7d-cb460142ab53",
   "metadata": {},
   "outputs": [
    {
     "data": {
      "text/plain": [
       "('100', '200', '30')"
      ]
     },
     "execution_count": 13,
     "metadata": {},
     "output_type": "execute_result"
    }
   ],
   "source": [
    "a,b,c"
   ]
  },
  {
   "cell_type": "code",
   "execution_count": 27,
   "id": "496e9391-eba7-4cef-a626-1a644172f730",
   "metadata": {},
   "outputs": [
    {
     "name": "stdin",
     "output_type": "stream",
     "text": [
      "enter the number1: 40\n",
      "enter the number2: 20\n"
     ]
    }
   ],
   "source": [
    "n1=input(\"enter the number1:\") #n1='40'\n",
    "n2=input(\"enter the number2:\") #n2='20'"
   ]
  },
  {
   "cell_type": "code",
   "execution_count": 28,
   "id": "acb47023-80ed-4a55-9a60-dcb1f5c00bb6",
   "metadata": {},
   "outputs": [
    {
     "name": "stdin",
     "output_type": "stream",
     "text": [
      "enter the number1: 10\n",
      "enter the number2: 20\n"
     ]
    },
    {
     "data": {
      "text/plain": [
       "'1020'"
      ]
     },
     "execution_count": 28,
     "metadata": {},
     "output_type": "execute_result"
    }
   ],
   "source": [
    "n1=input(\"enter the number1:\") #n1='10'\n",
    "n2=input(\"enter the number2:\") #n2='20'\n",
    "n1+n2 #'10'+'20'='1020'"
   ]
  },
  {
   "cell_type": "markdown",
   "id": "bba4cc60-b1e5-4325-ab63-23b771e66324",
   "metadata": {},
   "source": [
    "**input values by default string types**"
   ]
  },
  {
   "cell_type": "code",
   "execution_count": null,
   "id": "cdbe36e9-ea86-47c0-9449-49f03099d5d4",
   "metadata": {},
   "outputs": [],
   "source": [
    "# str1='apple'\n",
    "# str2='is'\n",
    "# str3='fruit'"
   ]
  },
  {
   "cell_type": "code",
   "execution_count": 8,
   "id": "e7e3ab8a-8abd-4f61-9517-b8b84345a6d3",
   "metadata": {},
   "outputs": [
    {
     "name": "stdin",
     "output_type": "stream",
     "text": [
      "enter the str1: Apple\n",
      "enter the str2:  is a\n",
      "enter the str3:  friut\n"
     ]
    },
    {
     "data": {
      "text/plain": [
       "'Apple is a friut'"
      ]
     },
     "execution_count": 8,
     "metadata": {},
     "output_type": "execute_result"
    }
   ],
   "source": [
    "str1=input(\"enter the str1:\")\n",
    "str2=input(\"enter the str2:\")\n",
    "str3=input(\"enter the str3:\")\n",
    "str1+str2+str3"
   ]
  },
  {
   "cell_type": "code",
   "execution_count": 17,
   "id": "8ba5da8b-a356-404c-874e-d5e544a7ecd3",
   "metadata": {},
   "outputs": [
    {
     "name": "stdin",
     "output_type": "stream",
     "text": [
      "enter the number1: 10\n",
      "enter the number2: 20\n"
     ]
    },
    {
     "data": {
      "text/plain": [
       "30"
      ]
     },
     "execution_count": 17,
     "metadata": {},
     "output_type": "execute_result"
    }
   ],
   "source": [
    "n1=int(input(\"enter the number1:\")) #n1=int('10')=10\n",
    "n2=int(input(\"enter the number2:\")) #n2=int('20')=20\n",
    "n1+n2 #int('10')+int('20')='30'"
   ]
  },
  {
   "cell_type": "code",
   "execution_count": 2,
   "id": "12a48932-316b-45a3-b42f-e28b2654968f",
   "metadata": {},
   "outputs": [
    {
     "name": "stdin",
     "output_type": "stream",
     "text": [
      "enter the number1: 22.5\n",
      "enter the number2: 30\n"
     ]
    },
    {
     "data": {
      "text/plain": [
       "52.5"
      ]
     },
     "execution_count": 2,
     "metadata": {},
     "output_type": "execute_result"
    }
   ],
   "source": [
    "n1=float(input(\"enter the number1:\")) \n",
    "n2=int(input(\"enter the number2:\")) \n",
    "n1+n2 "
   ]
  },
  {
   "cell_type": "markdown",
   "id": "aa1cbc67-b647-45e7-bd42-e3e8af1b6cc0",
   "metadata": {},
   "source": [
    "**Eval**\n",
    "\n",
    "- eval means evaluate\n",
    "\n",
    "- it is related to math family\n",
    "\n",
    "- which means it works only number represent as strings\n",
    "\n",
    "- it will not works on english letters\n",
    "\n",
    "- eval will convert the respective data type which is user enter\n",
    "\n",
    "- if user enter 10 in quotes it will convert into 10\n",
    "\n",
    "- if user enter 10.5 in quotes it will convert into 10.5"
   ]
  },
  {
   "cell_type": "code",
   "execution_count": null,
   "id": "1d9e9b0e-0809-48d3-8197-f5f9d682dccc",
   "metadata": {},
   "outputs": [],
   "source": [
    "int('10') # 10\n",
    "int('10.5') # error\n",
    "\n",
    "float('10') # 10.0\n",
    "float('10.5') # 10.5"
   ]
  },
  {
   "cell_type": "code",
   "execution_count": 4,
   "id": "c8c39cca-6242-4fcc-86e8-b57a95850ac4",
   "metadata": {},
   "outputs": [
    {
     "data": {
      "text/plain": [
       "(10, 10.5)"
      ]
     },
     "execution_count": 4,
     "metadata": {},
     "output_type": "execute_result"
    }
   ],
   "source": [
    "eval('10'),eval('10.5')"
   ]
  },
  {
   "cell_type": "code",
   "execution_count": 5,
   "id": "43a69852-2b1a-4b46-9df7-0f2636dc9d6a",
   "metadata": {},
   "outputs": [
    {
     "name": "stdin",
     "output_type": "stream",
     "text": [
      "enter the number1: 10\n",
      "enter the number2: 20\n"
     ]
    },
    {
     "data": {
      "text/plain": [
       "30"
      ]
     },
     "execution_count": 5,
     "metadata": {},
     "output_type": "execute_result"
    }
   ],
   "source": [
    "n1=eval(input(\"enter the number1:\")) #n1=int('10')=10\n",
    "n2=eval(input(\"enter the number2:\")) #n2=int('20')=20\n",
    "n1+n2"
   ]
  },
  {
   "cell_type": "code",
   "execution_count": 7,
   "id": "b5ae90d8-e5fa-47a1-97a3-22d8774eb5d2",
   "metadata": {},
   "outputs": [
    {
     "name": "stdin",
     "output_type": "stream",
     "text": [
      "enter the number1: 22.666\n",
      "enter the number2: 33.8\n"
     ]
    },
    {
     "data": {
      "text/plain": [
       "56.465999999999994"
      ]
     },
     "execution_count": 7,
     "metadata": {},
     "output_type": "execute_result"
    }
   ],
   "source": [
    "n1=eval(input(\"enter the number1:\")) #n1=int('10')=10\n",
    "n2=eval(input(\"enter the number2:\")) #n2=int('20')=20\n",
    "n1+n2"
   ]
  },
  {
   "cell_type": "code",
   "execution_count": null,
   "id": "2da60626-6fea-4a2b-81c1-0f15086251f7",
   "metadata": {},
   "outputs": [],
   "source": [
    "#1) wap ask user enter 3 numbers n1,n2,n3\n",
    "# wap take the radius of a circle calculating area of circle\n",
    "# var: radius var: pi=3.14\n",
    "# formulae: pi*radius*radius\n",
    "# print the answer using f string and format\n",
    "\n",
    "# wap take the breadth and height of the right angle triangle\n",
    "# calculate the area\n",
    "# var1: breadth var2: height\n",
    "# formulae: 0.5*breadth*height\n",
    "\n",
    "# wap take the bill amounnt and tip amount\n",
    "# calculate total bill\n",
    "# var1: bill amount var2: tip amount\n",
    "# formulae\n",
    "\n",
    "# wap take the length and breadth of a rectangle calculate area\n",
    "# var 1: length var2: breadth\n",
    "# formulae:lenght*breadth"
   ]
  },
  {
   "cell_type": "code",
   "execution_count": 8,
   "id": "085d447e-eb73-4f7c-8b17-b2cdcd9e1911",
   "metadata": {},
   "outputs": [
    {
     "name": "stdin",
     "output_type": "stream",
     "text": [
      "enter n1: 100\n",
      "enter n2: 200\n",
      "enter n3: 300\n"
     ]
    },
    {
     "name": "stdout",
     "output_type": "stream",
     "text": [
      "Average:200.0\n"
     ]
    }
   ],
   "source": [
    "n1=eval(input(\"enter n1:\"))\n",
    "n2=eval(input(\"enter n2:\"))\n",
    "n3=eval(input(\"enter n3:\"))\n",
    "avg=(n1+n2+n3)/3\n",
    "print(f\"Average:{avg}\")"
   ]
  },
  {
   "cell_type": "code",
   "execution_count": 11,
   "id": "60525f41-262c-4a4c-b24b-a2c57b56ec04",
   "metadata": {},
   "outputs": [
    {
     "name": "stdin",
     "output_type": "stream",
     "text": [
      "enter name: python\n",
      "enter age: 10\n",
      "enter city: hyd\n"
     ]
    },
    {
     "name": "stdout",
     "output_type": "stream",
     "text": [
      "my name is python im 10 years old and came from hyd\n"
     ]
    }
   ],
   "source": [
    "name=(input(\"enter name:\"))\n",
    "age=eval(input(\"enter age:\"))\n",
    "city=(input(\"enter city:\"))\n",
    "print(f\"my name is {name} im {age} years old and came from {city}\")"
   ]
  },
  {
   "cell_type": "code",
   "execution_count": 18,
   "id": "4aa6a73e-e169-49a0-9c8d-b4512e922de0",
   "metadata": {},
   "outputs": [
    {
     "name": "stdin",
     "output_type": "stream",
     "text": [
      "enter radius: 2\n"
     ]
    },
    {
     "name": "stdout",
     "output_type": "stream",
     "text": [
      "Area of the circle: 12.56\n",
      "Area of circle:12.56\n"
     ]
    }
   ],
   "source": [
    "rad=eval(input(\"enter radius:\"))\n",
    "pi=3.14\n",
    "area=(pi*rad*rad)\n",
    "print(f\"Area of the circle: {area}\")\n",
    "print(\"Area of circle:{}\".format(area))"
   ]
  },
  {
   "cell_type": "code",
   "execution_count": 17,
   "id": "ebbdb874-fce0-4d21-b50b-8aed7bbfba42",
   "metadata": {},
   "outputs": [
    {
     "name": "stdin",
     "output_type": "stream",
     "text": [
      "enter the breadth: 10\n",
      "enter the length: 20\n"
     ]
    },
    {
     "name": "stdout",
     "output_type": "stream",
     "text": [
      "Area of right angle triangle: 100.0\n",
      "Area of right angle triangle: 100.0\n"
     ]
    }
   ],
   "source": [
    "breadth=eval(input(\"enter the breadth:\"))\n",
    "length=eval(input(\"enter the length:\"))\n",
    "area=(0.5*breadth*length)\n",
    "print(\"Area of right angle triangle: {}\".format(area))\n",
    "print(f\"Area of right angle triangle: {area}\")"
   ]
  },
  {
   "cell_type": "code",
   "execution_count": null,
   "id": "1fe483af-a0bd-4c23-802b-48c5f7883ac8",
   "metadata": {},
   "outputs": [],
   "source": []
  }
 ],
 "metadata": {
  "kernelspec": {
   "display_name": "Python 3 (ipykernel)",
   "language": "python",
   "name": "python3"
  },
  "language_info": {
   "codemirror_mode": {
    "name": "ipython",
    "version": 3
   },
   "file_extension": ".py",
   "mimetype": "text/x-python",
   "name": "python",
   "nbconvert_exporter": "python",
   "pygments_lexer": "ipython3",
   "version": "3.12.7"
  }
 },
 "nbformat": 4,
 "nbformat_minor": 5
}
