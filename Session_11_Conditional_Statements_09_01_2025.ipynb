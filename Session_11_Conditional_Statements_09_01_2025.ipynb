{
 "cells": [
  {
   "cell_type": "code",
   "execution_count": null,
   "id": "84018324-7c1a-429a-bd9f-0e98027424e9",
   "metadata": {},
   "outputs": [],
   "source": [
    "if <condition>:\n",
    "    <write your code here>"
   ]
  },
  {
   "cell_type": "markdown",
   "id": "f3f5a3a7-6cf3-4088-99a8-3032da65ac2e",
   "metadata": {},
   "source": [
    "**Case-2:if-else**"
   ]
  },
  {
   "cell_type": "markdown",
   "id": "27af7832-caca-4559-9aa3-6db09e912c28",
   "metadata": {},
   "source": [
    "- if condition is True then if statements will execute\n",
    "\n",
    "- if condition is False then else statements will execute\n",
    "\n",
    "- one condition two outputs\n",
    "\n",
    "- if needs condition but not else\n"
   ]
  },
  {
   "cell_type": "code",
   "execution_count": null,
   "id": "f144f9fa-66e2-458b-b4c1-dad6233cae0b",
   "metadata": {},
   "outputs": [],
   "source": [
    "#syntax\n",
    "if <condition>:\n",
    "    <write your code here>\n",
    "else:\n",
    "    <write your code here>"
   ]
  },
  {
   "cell_type": "code",
   "execution_count": 1,
   "id": "9af425f1-298e-405c-b23e-c8b8cf000de1",
   "metadata": {},
   "outputs": [
    {
     "name": "stdout",
     "output_type": "stream",
     "text": [
      "positive  number\n"
     ]
    }
   ],
   "source": [
    "if 100>0:\n",
    "    print('positive  number')\n",
    "else:\n",
    "    print('negative number')"
   ]
  },
  {
   "cell_type": "code",
   "execution_count": 3,
   "id": "cb3dc078-f66e-434b-a31f-2173135d0398",
   "metadata": {},
   "outputs": [
    {
     "name": "stdout",
     "output_type": "stream",
     "text": [
      "positive number\n",
      "positive number\n"
     ]
    },
    {
     "name": "stdin",
     "output_type": "stream",
     "text": [
      "enter the number 20\n"
     ]
    },
    {
     "name": "stdout",
     "output_type": "stream",
     "text": [
      "positive number\n",
      "-70 is a negative number\n"
     ]
    }
   ],
   "source": [
    "if 100>0:\n",
    "    print('positive number')\n",
    "else:\n",
    "    print('negative number')\n",
    "##########################################\n",
    "n=100\n",
    "if n>0:\n",
    "    print('positive number')\n",
    "else:\n",
    "    print('negative number')\n",
    "################################################\n",
    "n=eval(input(\"enter the number\"))\n",
    "if n>0:\n",
    "    print('positive number')\n",
    "else:\n",
    "    print('negative number')\n",
    "###############################################\n",
    "import random\n",
    "n=random.randint(-100,100)\n",
    "if n>0:\n",
    "    print(f'{n} is a positive number')\n",
    "else:\n",
    "    print(f'{n} is a negative number')"
   ]
  },
  {
   "cell_type": "code",
   "execution_count": 4,
   "id": "b12f9e7a-5d6e-40b6-a328-591d31ecef5d",
   "metadata": {},
   "outputs": [
    {
     "name": "stdout",
     "output_type": "stream",
     "text": [
      "hello\n",
      "positive number\n",
      "Condition is true\n"
     ]
    }
   ],
   "source": [
    "print('hello')\n",
    "if 100>0:\n",
    "    print('positive number')\n",
    "    print('Condition is true')\n",
    "else:\n",
    "    print('negative number')\n",
    "    print('condition is false')"
   ]
  },
  {
   "cell_type": "code",
   "execution_count": 5,
   "id": "de224b5a-b934-4d99-a3ab-6667d618c995",
   "metadata": {},
   "outputs": [
    {
     "name": "stdout",
     "output_type": "stream",
     "text": [
      "hello\n",
      "positive number\n",
      "Condition is true\n",
      "bye\n"
     ]
    }
   ],
   "source": [
    "print('hello')\n",
    "if 100>0:\n",
    "    print('positive number')\n",
    "    print('Condition is true')\n",
    "else:\n",
    "    print('negative number')\n",
    "    print('condition is false')\n",
    "print('bye')"
   ]
  },
  {
   "cell_type": "code",
   "execution_count": 6,
   "id": "ad7e0519-01b0-4790-92c7-d6bd349ecbc2",
   "metadata": {},
   "outputs": [
    {
     "ename": "SyntaxError",
     "evalue": "invalid syntax (1602777905.py, line 6)",
     "output_type": "error",
     "traceback": [
      "\u001b[1;36m  Cell \u001b[1;32mIn[6], line 6\u001b[1;36m\u001b[0m\n\u001b[1;33m    else:\u001b[0m\n\u001b[1;37m    ^\u001b[0m\n\u001b[1;31mSyntaxError\u001b[0m\u001b[1;31m:\u001b[0m invalid syntax\n"
     ]
    }
   ],
   "source": [
    "print('hello')\n",
    "if 100>0:\n",
    "    print('positive number')\n",
    "    print('Condition is true')\n",
    "print('why are you in middle')\n",
    "else:\n",
    "    print('negative number')\n",
    "    print('condition is false')\n",
    "print('bye')\n",
    "\n",
    "# if-else should come together"
   ]
  },
  {
   "cell_type": "code",
   "execution_count": 1,
   "id": "78f25c93-687f-44dd-987c-5e2ef83879e0",
   "metadata": {},
   "outputs": [
    {
     "name": "stdin",
     "output_type": "stream",
     "text": [
      "enter n1: 10\n",
      "enter n2: 20\n"
     ]
    },
    {
     "name": "stdout",
     "output_type": "stream",
     "text": [
      "20 is greater\n"
     ]
    }
   ],
   "source": [
    "#wap ask the user enter two numbers\n",
    "# find the greatest number\n",
    "\n",
    "# idea\n",
    "# n1=eval(input())\n",
    "# n2=eval(input())\n",
    "# if <condition>:\n",
    "#      print(n1 greater)\n",
    "# else:\n",
    "#      print(n2 greater)\n",
    "import random\n",
    "n1=eval(input(\"enter n1:\"))\n",
    "n2=eval(input(\"enter n2:\"))\n",
    "if n1>n2:\n",
    "    print(f\"{n1} is greater\")\n",
    "else:\n",
    "    print(f\"{n2} is greater\")\n",
    "        "
   ]
  },
  {
   "cell_type": "code",
   "execution_count": 5,
   "id": "53429c18-62dd-484c-ac78-840f85b1a169",
   "metadata": {},
   "outputs": [
    {
     "name": "stdout",
     "output_type": "stream",
     "text": [
      "44\n",
      "83\n",
      "n2:83 is greater\n"
     ]
    }
   ],
   "source": [
    "import random\n",
    "n1=random.randint(1,100)\n",
    "n2=random.randint(1,100)\n",
    "print(n1)\n",
    "print(n2)\n",
    "if n1>n2:\n",
    "    print(f\"n1:{n1} is greater\")\n",
    "else:\n",
    "    print(f\"n2:{n2} is greater\")"
   ]
  },
  {
   "cell_type": "code",
   "execution_count": 7,
   "id": "1156e49d-8308-477d-9191-050f3aa8ffac",
   "metadata": {},
   "outputs": [
    {
     "name": "stdin",
     "output_type": "stream",
     "text": [
      "enter the distance in km: 60\n"
     ]
    },
    {
     "name": "stdout",
     "output_type": "stream",
     "text": [
      "total charge:600 INR\n"
     ]
    }
   ],
   "source": [
    "# wap ask the user enter the distance\n",
    "# if distance greater than 25km\n",
    "# then ask the charge per km\n",
    "# then calculate total charge\n",
    "# otherwise print free ride\n",
    "\n",
    "distance=eval(input(\"enter the distance in km:\"))\n",
    "charge_per_km=10\n",
    "if distance>25:\n",
    "    total_charge=distance*charge_per_km\n",
    "    print(f\"total charge:{total_charge} INR\")\n",
    "else:\n",
    "    print('free ride')"
   ]
  },
  {
   "cell_type": "code",
   "execution_count": 8,
   "id": "2175a544-7bbd-4f2b-a67c-7ab48c1b9bb4",
   "metadata": {},
   "outputs": [
    {
     "name": "stdin",
     "output_type": "stream",
     "text": [
      "enter the distance in km: 60\n",
      "enter the charge per km: 5\n",
      "enter the free distance: 20\n"
     ]
    },
    {
     "name": "stdout",
     "output_type": "stream",
     "text": [
      "total charge:200 INR\n"
     ]
    }
   ],
   "source": [
    "# wap ask the user enter distance\n",
    "#enter the free_distance (assume that 25km)\n",
    "\n",
    "distance=eval(input(\"enter the distance in km:\"))\n",
    "charge_per_km=eval(input(\"enter the charge per km:\"))\n",
    "free_distance=eval(input(\"enter the free distance:\"))\n",
    "if distance>25:\n",
    "    total_charge=(distance-free_distance)*charge_per_km\n",
    "    print(f\"total charge:{total_charge} INR\")\n",
    "else:\n",
    "    print('free ride')"
   ]
  },
  {
   "cell_type": "code",
   "execution_count": 9,
   "id": "01567014-626f-423a-b320-c28f606121ad",
   "metadata": {},
   "outputs": [
    {
     "name": "stdin",
     "output_type": "stream",
     "text": [
      "enter n1: 5\n"
     ]
    },
    {
     "name": "stdout",
     "output_type": "stream",
     "text": [
      "You lost\n"
     ]
    }
   ],
   "source": [
    "## wap ask the user enter a number fron keyboard n1\n",
    "# ask a user get a random number between 1,10  n2\n",
    "# if n1 equal to n2 print you won\n",
    "# otherwise print you lost\n",
    "\n",
    "import random\n",
    "n1=eval(input(\"enter n1:\"))\n",
    "n2=random.randint(1,10)\n",
    "if n1==n2:\n",
    "    print(\"You won\")\n",
    "else:\n",
    "    print(\"You lost\")"
   ]
  },
  {
   "cell_type": "code",
   "execution_count": 11,
   "id": "621e0e94-53a2-448d-82b9-bb8ea190af61",
   "metadata": {},
   "outputs": [
    {
     "name": "stdin",
     "output_type": "stream",
     "text": [
      "Enter course name: data science\n",
      "Enter institute name: naresh it\n"
     ]
    },
    {
     "name": "stdout",
     "output_type": "stream",
     "text": [
      "You are at safe place\n"
     ]
    }
   ],
   "source": [
    "# course name= Data science\n",
    "# insti name= Naresh IT\n",
    "\n",
    "#ask user enter course_name\n",
    "#    user enter inst_name\n",
    "# if course name equal to data science and insti name naresh it\n",
    "# then print you are at safe place\n",
    "# otherwise print katham zindagi\n",
    "\n",
    "course_name=input(\"Enter course name:\")\n",
    "insti_name=input(\"Enter institute name:\")\n",
    "if course_name=='data science' and insti_name=='naresh it':\n",
    "    print(\"You are at safe place\")\n",
    "else:\n",
    "    print(\"Katham Zindagi\")"
   ]
  },
  {
   "cell_type": "code",
   "execution_count": 13,
   "id": "f1f0fe9e-926a-4279-890e-ac11d5d65f12",
   "metadata": {},
   "outputs": [
    {
     "name": "stdin",
     "output_type": "stream",
     "text": [
      "Enter course name: whddd\n",
      "Enter institute name: naresh it\n"
     ]
    },
    {
     "name": "stdout",
     "output_type": "stream",
     "text": [
      "You are at safe place\n"
     ]
    }
   ],
   "source": [
    "course_name=input(\"Enter course name:\")\n",
    "insti_name=input(\"Enter institute name:\")\n",
    "if course_name=='data science' or insti_name=='naresh it':\n",
    "    print(\"You are at safe place\")\n",
    "else:\n",
    "    print(\"Katham Zindagi\")"
   ]
  },
  {
   "cell_type": "code",
   "execution_count": 52,
   "id": "c2ff326f-55df-494e-a167-4e5f29441ed8",
   "metadata": {},
   "outputs": [
    {
     "data": {
      "text/plain": [
       "'DATA SCIENCE'"
      ]
     },
     "execution_count": 52,
     "metadata": {},
     "output_type": "execute_result"
    }
   ],
   "source": [
    "'data science'.upper()\n"
   ]
  },
  {
   "cell_type": "code",
   "execution_count": 54,
   "id": "2c4828c6-32f8-42b8-8a69-3b2a494d201b",
   "metadata": {},
   "outputs": [
    {
     "name": "stdin",
     "output_type": "stream",
     "text": [
      "enter the number: 23\n"
     ]
    },
    {
     "name": "stdout",
     "output_type": "stream",
     "text": [
      "23 is odd number\n"
     ]
    }
   ],
   "source": [
    "# even-odd\n",
    "# ask user enter a number\n",
    "# print if it is even number or odd number\n",
    "\n",
    "num=eval(input(\"enter the number:\"))\n",
    "if num%2==0:\n",
    "    print(f\"{num} is even number\")\n",
    "else:\n",
    "    print(f\"{num} is odd number\")"
   ]
  },
  {
   "cell_type": "code",
   "execution_count": null,
   "id": "cd73ff3b-0afb-4aa4-874f-416105ec1ed2",
   "metadata": {},
   "outputs": [],
   "source": [
    "modulus:%\n",
    "division: /\n",
    "floor division: //"
   ]
  },
  {
   "cell_type": "code",
   "execution_count": 56,
   "id": "6607792d-aec1-4dcd-abc6-69100d354683",
   "metadata": {},
   "outputs": [
    {
     "data": {
      "text/plain": [
       "1"
      ]
     },
     "execution_count": 56,
     "metadata": {},
     "output_type": "execute_result"
    }
   ],
   "source": [
    "11%2 #remainder"
   ]
  },
  {
   "cell_type": "code",
   "execution_count": 57,
   "id": "bc86176b-de5a-405e-af1d-4113111a5ea7",
   "metadata": {},
   "outputs": [
    {
     "data": {
      "text/plain": [
       "5.5"
      ]
     },
     "execution_count": 57,
     "metadata": {},
     "output_type": "execute_result"
    }
   ],
   "source": [
    "11/2 # normal division"
   ]
  },
  {
   "cell_type": "code",
   "execution_count": 58,
   "id": "bfc8fc23-6887-4035-8546-156c40ede368",
   "metadata": {},
   "outputs": [
    {
     "data": {
      "text/plain": [
       "5"
      ]
     },
     "execution_count": 58,
     "metadata": {},
     "output_type": "execute_result"
    }
   ],
   "source": [
    "11//2 # quotient"
   ]
  },
  {
   "cell_type": "code",
   "execution_count": null,
   "id": "9ede4329-0a1a-45bf-8600-81c605bc64a9",
   "metadata": {},
   "outputs": [],
   "source": []
  }
 ],
 "metadata": {
  "kernelspec": {
   "display_name": "Python 3 (ipykernel)",
   "language": "python",
   "name": "python3"
  },
  "language_info": {
   "codemirror_mode": {
    "name": "ipython",
    "version": 3
   },
   "file_extension": ".py",
   "mimetype": "text/x-python",
   "name": "python",
   "nbconvert_exporter": "python",
   "pygments_lexer": "ipython3",
   "version": "3.12.7"
  }
 },
 "nbformat": 4,
 "nbformat_minor": 5
}
