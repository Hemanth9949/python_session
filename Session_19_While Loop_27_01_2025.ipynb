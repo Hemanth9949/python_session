{
 "cells": [
  {
   "cell_type": "markdown",
   "id": "de05f200-bd93-4bf7-b721-a7bbad56f2ad",
   "metadata": {},
   "source": [
    "**WHILE LOOP**"
   ]
  },
  {
   "cell_type": "markdown",
   "id": "8f359dd7-6dd0-4b16-9235-c5652f0d09f6",
   "metadata": {},
   "source": [
    "- intialize to start\n",
    "\n",
    "- increment or decrement\n",
    "\n",
    "- condition to stop"
   ]
  },
  {
   "cell_type": "code",
   "execution_count": 1,
   "id": "60f5392d-37c1-480e-8a4f-4091e2c030c6",
   "metadata": {},
   "outputs": [
    {
     "ename": "IndentationError",
     "evalue": "expected an indented block after 'for' statement on line 1 (1220080336.py, line 2)",
     "output_type": "error",
     "traceback": [
      "\u001b[1;36m  Cell \u001b[1;32mIn[1], line 2\u001b[1;36m\u001b[0m\n\u001b[1;33m    in a single line we have start=1 increment +1 stop 10-1=9\u001b[0m\n\u001b[1;37m    ^\u001b[0m\n\u001b[1;31mIndentationError\u001b[0m\u001b[1;31m:\u001b[0m expected an indented block after 'for' statement on line 1\n"
     ]
    }
   ],
   "source": [
    "for i in range(1,10):\n",
    "in a single line we have start=1 increment +1 stop 10-1=9 "
   ]
  },
  {
   "cell_type": "code",
   "execution_count": null,
   "id": "a23235bf-fd7e-46cb-8262-f42875ae18e0",
   "metadata": {},
   "outputs": [],
   "source": [
    "<intialization>\n",
    "\n",
    "while <condition>:\n",
    "    #   python code\n",
    "\n",
    "    increment/decrement"
   ]
  },
  {
   "cell_type": "code",
   "execution_count": 3,
   "id": "6e6fed27-615b-44b8-8ae5-6832418ebf27",
   "metadata": {},
   "outputs": [
    {
     "name": "stdout",
     "output_type": "stream",
     "text": [
      "1 2 3 4 5 6 7 8 9 "
     ]
    }
   ],
   "source": [
    "for i in range(1,10):\n",
    "    print(i,end=' ')"
   ]
  },
  {
   "cell_type": "code",
   "execution_count": 4,
   "id": "f7b1004f-036f-4a63-a5c7-af7ccf81cd7b",
   "metadata": {},
   "outputs": [
    {
     "name": "stdout",
     "output_type": "stream",
     "text": [
      "1 2 3 4 5 6 7 8 9 "
     ]
    }
   ],
   "source": [
    "# for i in range(1,10):\n",
    "#     print(i,end=' ')\n",
    "\n",
    "i=1\n",
    "while i<10:\n",
    "    print(i,end=' ')\n",
    "    i=i+1\n",
    "\n",
    "# 1 : i=1 while 1<3 True print(1) i=1+1=2\n",
    "# 2 : i=2 while 2<3 True print(2) i=2+1=3\n",
    "# 3 : 1=3 while 3<3 False"
   ]
  },
  {
   "cell_type": "code",
   "execution_count": 9,
   "id": "a89da748-76c1-4868-b1e0-986b2fdfc298",
   "metadata": {},
   "outputs": [
    {
     "name": "stdout",
     "output_type": "stream",
     "text": [
      "10 9 8 7 6 5 4 3 2 1 "
     ]
    }
   ],
   "source": [
    "# Q1) print 1 to 10\n",
    "# Q2) print 10 to 1\n",
    "# Q3) print -1 to -10\n",
    "# Q4) print -10 to -1\n",
    "\n",
    "i=10\n",
    "while i>=1:\n",
    "    print(i,end=' ')\n",
    "    i=i-1               # i-=1"
   ]
  },
  {
   "cell_type": "code",
   "execution_count": 10,
   "id": "cdc6f9d5-dad4-4ffe-a8f0-48f6874d8907",
   "metadata": {},
   "outputs": [
    {
     "name": "stdout",
     "output_type": "stream",
     "text": [
      "10 9 8 7 6 5 4 3 2 1 "
     ]
    }
   ],
   "source": [
    "i=10\n",
    "while True:\n",
    "    print(i,end=' ')\n",
    "    i=i-1\n",
    "    if i==0:\n",
    "        break\n",
    "    "
   ]
  },
  {
   "cell_type": "code",
   "execution_count": 7,
   "id": "bc963103-5a91-455f-992d-f830b9608f93",
   "metadata": {},
   "outputs": [
    {
     "name": "stdout",
     "output_type": "stream",
     "text": [
      "-1 -2 -3 -4 -5 -6 -7 -8 -9 "
     ]
    }
   ],
   "source": [
    "i=-1\n",
    "while i>-10:\n",
    "    print(i,end=' ')\n",
    "    i=i-1"
   ]
  },
  {
   "cell_type": "code",
   "execution_count": 6,
   "id": "61b46e04-2d4a-4a80-ab2c-b7da9d12c9e8",
   "metadata": {},
   "outputs": [
    {
     "name": "stdout",
     "output_type": "stream",
     "text": [
      "-10 -9 -8 -7 -6 -5 -4 -3 -2 "
     ]
    }
   ],
   "source": [
    "i=-10\n",
    "while i<-1:\n",
    "    print(i,end=' ')\n",
    "    i=i+1"
   ]
  },
  {
   "cell_type": "code",
   "execution_count": null,
   "id": "7c4669b3-04f5-4339-a918-efc2332d9c71",
   "metadata": {},
   "outputs": [],
   "source": []
  }
 ],
 "metadata": {
  "kernelspec": {
   "display_name": "Python 3 (ipykernel)",
   "language": "python",
   "name": "python3"
  },
  "language_info": {
   "codemirror_mode": {
    "name": "ipython",
    "version": 3
   },
   "file_extension": ".py",
   "mimetype": "text/x-python",
   "name": "python",
   "nbconvert_exporter": "python",
   "pygments_lexer": "ipython3",
   "version": "3.12.7"
  }
 },
 "nbformat": 4,
 "nbformat_minor": 5
}
