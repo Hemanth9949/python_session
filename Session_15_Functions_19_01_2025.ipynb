{
 "cells": [
  {
   "cell_type": "markdown",
   "id": "2f701fc7-20e1-4a75-a8ce-74a2dcebd869",
   "metadata": {},
   "source": [
    "**Functions with arguments**\n",
    "==============================================="
   ]
  },
  {
   "cell_type": "markdown",
   "id": "699f7dbd-7987-44de-a76c-9f261b1fbe7b",
   "metadata": {},
   "source": [
    "**======================================================================================**"
   ]
  },
  {
   "cell_type": "markdown",
   "id": "bed31e8b-2ae5-45d1-a304-5ac419f58995",
   "metadata": {},
   "source": [
    "- 1. how many variable in there inside the function\n",
    "    - in above addition function there are 3 variables are there : n1,n2,add\n",
    "- 2. how many input variable are there\n",
    "    - input variable means the variables acess the values from user as input : n1,n2\n",
    "- 3. how many output variable are there\n",
    "    - output variable means the variables created because of some operations : add"
   ]
  },
  {
   "cell_type": "markdown",
   "id": "97c58809-7996-45cb-8750-6ff4e46a88a6",
   "metadata": {},
   "source": [
    "**donot touch the output**"
   ]
  },
  {
   "cell_type": "code",
   "execution_count": 3,
   "id": "0bc780f2-5e85-460e-a8c8-27eee484776b",
   "metadata": {},
   "outputs": [],
   "source": [
    "def addition4(n1,n2):\n",
    "        add2=n1+n2\n",
    "        print(f'the add of {n1} and {n2} is : {add2}')"
   ]
  },
  {
   "cell_type": "code",
   "execution_count": 4,
   "id": "74eea934-00b5-4a9e-8d93-334e64fd45e3",
   "metadata": {},
   "outputs": [
    {
     "name": "stdout",
     "output_type": "stream",
     "text": [
      "the add of 100 and 200 is : 300\n"
     ]
    }
   ],
   "source": [
    "addition4(100,200)\n"
   ]
  },
  {
   "cell_type": "code",
   "execution_count": 5,
   "id": "10cce576-f328-4ee9-a13e-b9aa91447050",
   "metadata": {},
   "outputs": [
    {
     "ename": "TypeError",
     "evalue": "addition4() missing 2 required positional arguments: 'n1' and 'n2'",
     "output_type": "error",
     "traceback": [
      "\u001b[1;31m---------------------------------------------------------------------------\u001b[0m",
      "\u001b[1;31mTypeError\u001b[0m                                 Traceback (most recent call last)",
      "Cell \u001b[1;32mIn[5], line 1\u001b[0m\n\u001b[1;32m----> 1\u001b[0m addition4()\n",
      "\u001b[1;31mTypeError\u001b[0m: addition4() missing 2 required positional arguments: 'n1' and 'n2'"
     ]
    }
   ],
   "source": [
    "addition4()"
   ]
  },
  {
   "cell_type": "code",
   "execution_count": 6,
   "id": "d8da4bad-ab73-439c-8018-d838cf818dac",
   "metadata": {},
   "outputs": [
    {
     "ename": "TypeError",
     "evalue": "addition4() missing 1 required positional argument: 'n2'",
     "output_type": "error",
     "traceback": [
      "\u001b[1;31m---------------------------------------------------------------------------\u001b[0m",
      "\u001b[1;31mTypeError\u001b[0m                                 Traceback (most recent call last)",
      "Cell \u001b[1;32mIn[6], line 1\u001b[0m\n\u001b[1;32m----> 1\u001b[0m addition4(\u001b[38;5;241m100\u001b[39m)\n",
      "\u001b[1;31mTypeError\u001b[0m: addition4() missing 1 required positional argument: 'n2'"
     ]
    }
   ],
   "source": [
    "addition4(100)"
   ]
  },
  {
   "cell_type": "code",
   "execution_count": 1,
   "id": "75533726-094d-4077-af8b-04f69066736a",
   "metadata": {},
   "outputs": [],
   "source": [
    "def addition():\n",
    "    n1 = eval(input('enter n1 :'))\n",
    "    n2 = eval(input('enter n2 :'))\n",
    "    add = n1+n2\n",
    "    print(f'the add of {n1} and {n2} is : {add2}')\n",
    "def addition1(n1,n2):\n",
    "    add = n1+n1\n",
    "    print(f'the add of {n1} and {n2} is : {add2}')\n",
    "def addition2(n1):\n",
    "    n2 = eval(input('enter n2 :'))\n",
    "    add = n1+n2\n",
    "    print(f'the add of {n1} and {n2} is : {add2}')"
   ]
  },
  {
   "cell_type": "code",
   "execution_count": 9,
   "id": "428b2572-f2cc-4796-a5db-985225704f9d",
   "metadata": {},
   "outputs": [
    {
     "name": "stdout",
     "output_type": "stream",
     "text": [
      "average of 10 ,20, 30 is : 20.0\n"
     ]
    },
    {
     "name": "stdin",
     "output_type": "stream",
     "text": [
      "enter n3 : 30\n"
     ]
    },
    {
     "name": "stdout",
     "output_type": "stream",
     "text": [
      "average of 10 ,20, 30 is : 20.0\n"
     ]
    },
    {
     "name": "stdin",
     "output_type": "stream",
     "text": [
      "enter n2 : 20\n",
      "enter n3 : 30\n"
     ]
    },
    {
     "name": "stdout",
     "output_type": "stream",
     "text": [
      "average of 10 ,20, 30 is : 20.0\n"
     ]
    }
   ],
   "source": [
    "def AVG(n1,n2,n3):  # ================= function with 3 argument ===============\n",
    "    avg = (n1+n2+n3)/3\n",
    "    print(f'average of {n1} ,{n2}, {n3} is : {avg}')\n",
    "AVG(10,20,30)\n",
    "def AVG1(n1,n2):    # ================= function with 2 argument ===============\n",
    "    n3 = eval(input('enter n3 :'))\n",
    "    avg = (n1+n2+n3)/3\n",
    "    print(f'average of {n1} ,{n2}, {n3} is : {avg}')\n",
    "AVG1(10,20)\n",
    "def AVG2(n1):      # ================= function with 1 argument ================\n",
    "    n2 = eval(input('enter n2 :'))\n",
    "    n3 = eval(input('enter n3 :'))\n",
    "    avg = (n1+n2+n3)/3\n",
    "    print(f'average of {n1} ,{n2}, {n3} is : {avg}')\n",
    "AVG2(10)"
   ]
  },
  {
   "cell_type": "markdown",
   "id": "84940d06-846b-448d-84e2-28e87a5886dc",
   "metadata": {},
   "source": [
    "**Function with default argument** \n",
    "=================================="
   ]
  },
  {
   "cell_type": "markdown",
   "id": "6582ac70-418d-45be-89aa-e1d893704e9c",
   "metadata": {},
   "source": [
    "**=======================================================================**"
   ]
  },
  {
   "cell_type": "code",
   "execution_count": 10,
   "id": "35e87192-b5af-490e-895b-c4cde98730df",
   "metadata": {},
   "outputs": [
    {
     "name": "stdout",
     "output_type": "stream",
     "text": [
      "1200.0\n"
     ]
    }
   ],
   "source": [
    "def bill_amount(bill_amount,tip_per=20):\n",
    "    total_bill = bill_amount + bill_amount*tip_per/100\n",
    "    print(total_bill)\n",
    "bill_amount(1000)"
   ]
  },
  {
   "cell_type": "code",
   "execution_count": 11,
   "id": "37d583cc-4b6e-4705-9f1b-bcb2e8e4dd87",
   "metadata": {},
   "outputs": [
    {
     "name": "stdout",
     "output_type": "stream",
     "text": [
      "1500.0\n"
     ]
    }
   ],
   "source": [
    "def bill_amount(bill_amount,tip_per=20):\n",
    "    total_bill = bill_amount + bill_amount*tip_per/100\n",
    "    print(total_bill)\n",
    "bill_amount(1000,50)  # tip_per will change now"
   ]
  },
  {
   "cell_type": "markdown",
   "id": "c780fa21-bb41-4a87-b39a-f9bf64ea216c",
   "metadata": {},
   "source": [
    "- in above function the tip_per is fixed as 20\n",
    "\n",
    "- this is called default aarguments\n",
    "\n",
    "- while calling the function no need to provide tip_per again\n",
    "\n",
    "- if you provide again the tip_per will change"
   ]
  },
  {
   "cell_type": "code",
   "execution_count": 12,
   "id": "51c9d1d7-bd79-4fdf-862b-19c3fba66206",
   "metadata": {},
   "outputs": [
    {
     "name": "stdout",
     "output_type": "stream",
     "text": [
      "average of 100 ,200, 300 is : 200.0\n"
     ]
    }
   ],
   "source": [
    "def AVG(n1,n2,n3=300): \n",
    "    avg = (n1+n2+n3)/3\n",
    "    print(f'average of {n1} ,{n2}, {n3} is : {avg}')\n",
    "AVG(100,200)"
   ]
  },
  {
   "cell_type": "code",
   "execution_count": 13,
   "id": "38867045-82ad-4ecf-a072-f9f33f7e02f7",
   "metadata": {},
   "outputs": [
    {
     "ename": "SyntaxError",
     "evalue": "parameter without a default follows parameter with a default (2549740879.py, line 1)",
     "output_type": "error",
     "traceback": [
      "\u001b[1;36m  Cell \u001b[1;32mIn[13], line 1\u001b[1;36m\u001b[0m\n\u001b[1;33m    def AVG1(n1,n2=20,n3):    # gives error because default argument is in middle\u001b[0m\n\u001b[1;37m                      ^\u001b[0m\n\u001b[1;31mSyntaxError\u001b[0m\u001b[1;31m:\u001b[0m parameter without a default follows parameter with a default\n"
     ]
    }
   ],
   "source": [
    "def AVG1(n1,n2=20,n3):    # gives error because default argument is in middle\n",
    "    avg = (n1+n2+n3)/3\n",
    "    print(f'average of {n1} ,{n2}, {n3} is : {avg}')\n",
    "AVG1(100,200)"
   ]
  },
  {
   "cell_type": "markdown",
   "id": "d03621c5-4c64-4029-b238-2b248a9748ad",
   "metadata": {},
   "source": [
    "**Note - default arguments always at last**"
   ]
  },
  {
   "cell_type": "code",
   "execution_count": 15,
   "id": "531ed943-2d70-4976-86b1-a30db80c0cc5",
   "metadata": {},
   "outputs": [
    {
     "name": "stdout",
     "output_type": "stream",
     "text": [
      "average of 100 ,20, 200 is : 107\n"
     ]
    }
   ],
   "source": [
    "def AVG1(n1,n3,n2=20): \n",
    "    avg = (n1+n2+n3)/3\n",
    "    avg1 = round(avg)\n",
    "    print(f'average of {n1} ,{n2}, {n3} is : {avg1}')\n",
    "AVG1(100,200)"
   ]
  },
  {
   "cell_type": "code",
   "execution_count": null,
   "id": "6fb66e8c-cc3c-4ddb-9d15-a49c5dddf100",
   "metadata": {},
   "outputs": [],
   "source": [
    "n1,n2,n3=100          # w\n",
    "n1,n2=100,n3          # f\n",
    "n1=100,n2,n3          # f\n",
    "n1,n2=100,n3=100      # w\n",
    "n1=100,n2,n3=100      # f\n",
    "n1=100,n2=100,n3      # f\n",
    "n1=100,n2=100,n3=100  # w"
   ]
  }
 ],
 "metadata": {
  "kernelspec": {
   "display_name": "Python 3 (ipykernel)",
   "language": "python",
   "name": "python3"
  },
  "language_info": {
   "codemirror_mode": {
    "name": "ipython",
    "version": 3
   },
   "file_extension": ".py",
   "mimetype": "text/x-python",
   "name": "python",
   "nbconvert_exporter": "python",
   "pygments_lexer": "ipython3",
   "version": "3.12.7"
  }
 },
 "nbformat": 4,
 "nbformat_minor": 5
}
