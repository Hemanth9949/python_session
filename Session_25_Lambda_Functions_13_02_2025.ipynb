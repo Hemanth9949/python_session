{
 "cells": [
  {
   "cell_type": "markdown",
   "id": "5a12f3ad-7fe6-4606-8989-6a4c9b23065c",
   "metadata": {},
   "source": [
    "**Lambda Functions**\n",
    "\n",
    "- lambda functions represents functions in a single line\n",
    "\n",
    "- it is similar analogy to list comprehension\n",
    "\n",
    "- to reduce the time complexity will go for lambda functions"
   ]
  },
  {
   "cell_type": "markdown",
   "id": "e222b416-965e-458e-aa87-86a621dc026f",
   "metadata": {},
   "source": [
    "$Pattern-1$ **function  with  one  argument**"
   ]
  },
  {
   "cell_type": "code",
   "execution_count": 4,
   "id": "4e590a08-f574-438d-b6a7-cf6089bb2aeb",
   "metadata": {},
   "outputs": [
    {
     "data": {
      "text/plain": [
       "100"
      ]
     },
     "execution_count": 4,
     "metadata": {},
     "output_type": "execute_result"
    }
   ],
   "source": [
    "def mul(a):\n",
    "    return(a*a)\n",
    "ans=mul(10)\n",
    "ans"
   ]
  },
  {
   "cell_type": "code",
   "execution_count": 6,
   "id": "fcfe6b24-cf2b-4bec-b581-8f6ccbe8ce93",
   "metadata": {},
   "outputs": [
    {
     "data": {
      "text/plain": [
       "900"
      ]
     },
     "execution_count": 6,
     "metadata": {},
     "output_type": "execute_result"
    }
   ],
   "source": [
    "#syntax\n",
    "#function_name=lambda <argument >:<return output>\n",
    "#in the above\n",
    "# func_name= mul\n",
    "# argument= a\n",
    "# return output=a*a\n",
    "mul=lambda a:a*a\n",
    "mul(30)"
   ]
  },
  {
   "cell_type": "code",
   "execution_count": 7,
   "id": "2240d47c-3deb-4442-825c-53101959095d",
   "metadata": {},
   "outputs": [
    {
     "data": {
      "text/plain": [
       "1000000"
      ]
     },
     "execution_count": 7,
     "metadata": {},
     "output_type": "execute_result"
    }
   ],
   "source": [
    "def cube(a):\n",
    "    return(a*a*a)\n",
    "cube(100)"
   ]
  },
  {
   "cell_type": "code",
   "execution_count": 8,
   "id": "a40e56dd-623a-4f7b-b450-6c0f8b840a8e",
   "metadata": {},
   "outputs": [
    {
     "data": {
      "text/plain": [
       "1000000"
      ]
     },
     "execution_count": 8,
     "metadata": {},
     "output_type": "execute_result"
    }
   ],
   "source": [
    "cube=lambda a:a*a*a\n",
    "cube(100)"
   ]
  },
  {
   "cell_type": "markdown",
   "id": "70fc4d5a-b5b6-4b08-9641-d9f6fec8ed1d",
   "metadata": {},
   "source": [
    "$Pattern-2$: **Function with two arguments**"
   ]
  },
  {
   "cell_type": "code",
   "execution_count": 9,
   "id": "c11b8218-abbb-4c9d-a3bd-bee826adb231",
   "metadata": {},
   "outputs": [
    {
     "data": {
      "text/plain": [
       "30"
      ]
     },
     "execution_count": 9,
     "metadata": {},
     "output_type": "execute_result"
    }
   ],
   "source": [
    "def add(a,b):\n",
    "    return(a+b)\n",
    "add(10,20)"
   ]
  },
  {
   "cell_type": "code",
   "execution_count": 10,
   "id": "ef046dc1-caae-4c1d-84ef-6b8df88340e3",
   "metadata": {},
   "outputs": [
    {
     "data": {
      "text/plain": [
       "40"
      ]
     },
     "execution_count": 10,
     "metadata": {},
     "output_type": "execute_result"
    }
   ],
   "source": [
    "#syntax\n",
    "#func_name=lambda arg1,arg2:return statement\n",
    "add=lambda a,b:a+b\n",
    "add(10,30)"
   ]
  },
  {
   "cell_type": "markdown",
   "id": "be1356b5-7478-4963-8552-6b8a5ebd05ac",
   "metadata": {},
   "source": [
    "$Pattern-3$: **Function with three arguments**"
   ]
  },
  {
   "cell_type": "code",
   "execution_count": 13,
   "id": "9e9d81f1-fc5a-4eca-b8d9-acef124cb344",
   "metadata": {},
   "outputs": [
    {
     "data": {
      "text/plain": [
       "(21, 2)"
      ]
     },
     "execution_count": 13,
     "metadata": {},
     "output_type": "execute_result"
    }
   ],
   "source": [
    "def avg(a,b,c):\n",
    "    return(round((a+b+c)/3),2)\n",
    "avg(11,20,32)"
   ]
  },
  {
   "cell_type": "code",
   "execution_count": 12,
   "id": "1bd35c68-58bf-406a-ba23-0b546535b2b4",
   "metadata": {},
   "outputs": [
    {
     "data": {
      "text/plain": [
       "20.0"
      ]
     },
     "execution_count": 12,
     "metadata": {},
     "output_type": "execute_result"
    }
   ],
   "source": [
    "avg=lambda a,b,c:(a+b+c)/3\n",
    "avg(10,20,30)"
   ]
  },
  {
   "cell_type": "markdown",
   "id": "38210433-a5c3-4c1d-8ad2-bf4700209810",
   "metadata": {},
   "source": [
    "$Pattern-4$: **Function with default arguments**"
   ]
  },
  {
   "cell_type": "code",
   "execution_count": 14,
   "id": "f1775c5c-0622-47c5-9e2c-34a820e9a2c5",
   "metadata": {},
   "outputs": [
    {
     "data": {
      "text/plain": [
       "40.0"
      ]
     },
     "execution_count": 14,
     "metadata": {},
     "output_type": "execute_result"
    }
   ],
   "source": [
    "avg=lambda a,b,c=30:round((a+b+c)/3,2)\n",
    "avg(40,50)"
   ]
  },
  {
   "cell_type": "code",
   "execution_count": 15,
   "id": "d7060c38-ffb9-49cc-bcf6-f0bd109f9628",
   "metadata": {},
   "outputs": [
    {
     "data": {
      "text/plain": [
       "25"
      ]
     },
     "execution_count": 15,
     "metadata": {},
     "output_type": "execute_result"
    }
   ],
   "source": [
    "mul=lambda a:a*a\n",
    "mul(5)"
   ]
  },
  {
   "cell_type": "code",
   "execution_count": 16,
   "id": "6fa6ff13-b4f4-4140-8fda-c5de678c43f0",
   "metadata": {},
   "outputs": [
    {
     "data": {
      "text/plain": [
       "60"
      ]
     },
     "execution_count": 16,
     "metadata": {},
     "output_type": "execute_result"
    }
   ],
   "source": [
    "add=lambda a,b:(a+b)\n",
    "add(10,50)"
   ]
  },
  {
   "cell_type": "code",
   "execution_count": 18,
   "id": "57b51612-a10c-43f3-89ab-d6d43ac399a7",
   "metadata": {},
   "outputs": [
    {
     "data": {
      "text/plain": [
       "54.33"
      ]
     },
     "execution_count": 18,
     "metadata": {},
     "output_type": "execute_result"
    }
   ],
   "source": [
    "avg=lambda a,b,c:round((a+b+c)/3,2)\n",
    "avg(11,55,97)"
   ]
  },
  {
   "cell_type": "code",
   "execution_count": 19,
   "id": "82c79976-36cd-4765-8e75-3c61eacb9d2d",
   "metadata": {},
   "outputs": [
    {
     "data": {
      "text/plain": [
       "32.0"
      ]
     },
     "execution_count": 19,
     "metadata": {},
     "output_type": "execute_result"
    }
   ],
   "source": [
    "avg=lambda a,b,c=30:round((a+b+c)/3,2)\n",
    "avg(11,55)"
   ]
  },
  {
   "cell_type": "markdown",
   "id": "710adbb7-bd6a-4507-9e23-178a055067c9",
   "metadata": {},
   "source": [
    "$Patten-5$ **List cases**"
   ]
  },
  {
   "cell_type": "code",
   "execution_count": 4,
   "id": "9ef7d669-083e-40fe-8172-1f3cdaaf6717",
   "metadata": {},
   "outputs": [
    {
     "data": {
      "text/plain": [
       "['Hyd', 'Bengaluru', 'Mumbai', 'Pune']"
      ]
     },
     "execution_count": 4,
     "metadata": {},
     "output_type": "execute_result"
    }
   ],
   "source": [
    "input=['hyd','bengaluru','mumbai','pune']\n",
    "#output=['Hyd','Bengaluru','Mumbai','Pune']\n",
    "output=[]\n",
    "for i in input:\n",
    "    output.append(i.capitalize())\n",
    "output"
   ]
  },
  {
   "cell_type": "code",
   "execution_count": 5,
   "id": "135b2cac-ecd8-4e25-9ff5-bbe446e3996f",
   "metadata": {},
   "outputs": [
    {
     "data": {
      "text/plain": [
       "<function __main__.<lambda>(i)>"
      ]
     },
     "execution_count": 5,
     "metadata": {},
     "output_type": "execute_result"
    }
   ],
   "source": [
    "#step-1 lambda <varaible>: <output>\n",
    "lambda i:i.capitalize()"
   ]
  },
  {
   "cell_type": "code",
   "execution_count": 8,
   "id": "e6cfd552-5314-4bad-9aaf-a0c3fd9cefff",
   "metadata": {},
   "outputs": [
    {
     "data": {
      "text/plain": [
       "(<function __main__.<lambda>(i)>, ['hyd', 'bengaluru', 'mumbai', 'pune'])"
      ]
     },
     "execution_count": 8,
     "metadata": {},
     "output_type": "execute_result"
    }
   ],
   "source": [
    "#step:2 lambda <varaible>: <output> <iterator>\n",
    "lambda i: i.capitalize(),input"
   ]
  },
  {
   "cell_type": "code",
   "execution_count": 9,
   "id": "4b0c0273-a61e-4b7d-8025-421ad683859b",
   "metadata": {},
   "outputs": [
    {
     "data": {
      "text/plain": [
       "<map at 0x2c96f1e1720>"
      ]
     },
     "execution_count": 9,
     "metadata": {},
     "output_type": "execute_result"
    }
   ],
   "source": [
    "#step:3 map(lambda <varaible>: <output>, <iterator>)\n",
    "map(lambda i: i.capitalize(),input)"
   ]
  },
  {
   "cell_type": "markdown",
   "id": "a120cb73-7fcc-4681-a04d-82d74f025a67",
   "metadata": {},
   "source": [
    "**map**"
   ]
  },
  {
   "cell_type": "code",
   "execution_count": 10,
   "id": "98c6755c-24cd-4dcf-817c-dc8b0246ffad",
   "metadata": {},
   "outputs": [
    {
     "data": {
      "text/plain": [
       "['Hyd', 'Bengaluru', 'Mumbai', 'Pune']"
      ]
     },
     "execution_count": 10,
     "metadata": {},
     "output_type": "execute_result"
    }
   ],
   "source": [
    "#step:4 list(map(lambda <varaible>: <output>, <iterator>))\n",
    "list(map(lambda i: i.capitalize(),input))"
   ]
  },
  {
   "cell_type": "code",
   "execution_count": 11,
   "id": "7f949f30-147a-491d-a97d-4e9129cfd85a",
   "metadata": {},
   "outputs": [
    {
     "data": {
      "text/plain": [
       "['Hyd', 'Bengaluru', 'Mumbai', 'Pune']"
      ]
     },
     "execution_count": 11,
     "metadata": {},
     "output_type": "execute_result"
    }
   ],
   "source": [
    "lambda i:i.capitalize()\n",
    "lambda i: i.capitalize(),input\n",
    "map(lambda i: i.capitalize(),input)\n",
    "list(map(lambda i: i.capitalize(),input))"
   ]
  },
  {
   "cell_type": "code",
   "execution_count": 12,
   "id": "85790a6a-ea06-414f-9844-0786b51b95aa",
   "metadata": {},
   "outputs": [
    {
     "data": {
      "text/plain": [
       "['HYD', 'BENGALURU', 'MUMBAI', 'PUNE']"
      ]
     },
     "execution_count": 12,
     "metadata": {},
     "output_type": "execute_result"
    }
   ],
   "source": [
    "input=['hyd','bengaluru','mumbai','pune']\n",
    "#output=['HYD','BENGALURU','MUMBAI','PUNE']\n",
    "list(map(lambda i:i.upper(),input))"
   ]
  },
  {
   "cell_type": "code",
   "execution_count": 30,
   "id": "11b39405-1576-4bef-ba93-8a1777414055",
   "metadata": {},
   "outputs": [
    {
     "data": {
      "text/plain": [
       "[0, 1, 2, 3]"
      ]
     },
     "execution_count": 30,
     "metadata": {},
     "output_type": "execute_result"
    }
   ],
   "source": [
    "input=['hyd','bengaluru','mumbai','pune']\n",
    "#output=[0,1,2,3]\n",
    "list(map(lambda i:i,range(len(input))))"
   ]
  },
  {
   "cell_type": "code",
   "execution_count": 33,
   "id": "50e4cb94-7779-4153-ac25-7eb087bc53d4",
   "metadata": {},
   "outputs": [
    {
     "data": {
      "text/plain": [
       "[0, 1, 2, 3]"
      ]
     },
     "execution_count": 33,
     "metadata": {},
     "output_type": "execute_result"
    }
   ],
   "source": [
    "input=['hyd','bengaluru','mumbai','pune']\n",
    "list(map(lambda i: input.index(i),input))"
   ]
  },
  {
   "cell_type": "code",
   "execution_count": 27,
   "id": "ce53a185-9cbc-44f7-a131-19dd7c483e59",
   "metadata": {},
   "outputs": [
    {
     "ename": "ValueError",
     "evalue": "substring not found",
     "output_type": "error",
     "traceback": [
      "\u001b[1;31m---------------------------------------------------------------------------\u001b[0m",
      "\u001b[1;31mValueError\u001b[0m                                Traceback (most recent call last)",
      "Cell \u001b[1;32mIn[27], line 4\u001b[0m\n\u001b[0;32m      2\u001b[0m output\u001b[38;5;241m=\u001b[39m[]\n\u001b[0;32m      3\u001b[0m \u001b[38;5;28;01mfor\u001b[39;00m i \u001b[38;5;129;01min\u001b[39;00m \u001b[38;5;28minput\u001b[39m:\n\u001b[1;32m----> 4\u001b[0m     output\u001b[38;5;241m.\u001b[39mappend(i\u001b[38;5;241m.\u001b[39mindex(\u001b[38;5;124m'\u001b[39m\u001b[38;5;124m1\u001b[39m\u001b[38;5;124m'\u001b[39m))\n\u001b[0;32m      5\u001b[0m output\n",
      "\u001b[1;31mValueError\u001b[0m: substring not found"
     ]
    }
   ],
   "source": [
    "input=['hyd','bengaluru','mumbai','pune']\n",
    "output=[]\n",
    "for i in input:\n",
    "    output.append(i.index())\n",
    "output"
   ]
  },
  {
   "cell_type": "code",
   "execution_count": 36,
   "id": "72ffec14-05a9-45e4-8b68-661570e3b461",
   "metadata": {},
   "outputs": [
    {
     "data": {
      "text/plain": [
       "['Hello', 'How', 'Are', 'You']"
      ]
     },
     "execution_count": 36,
     "metadata": {},
     "output_type": "execute_result"
    }
   ],
   "source": [
    "input='hello how are you'\n",
    "#output=['Hello','How','Are','You']\n",
    "list(map(lambda i: i.capitalize(),input.split()))"
   ]
  },
  {
   "cell_type": "code",
   "execution_count": 37,
   "id": "7b05c357-7f2d-4f38-b156-1d4772cb19fd",
   "metadata": {},
   "outputs": [
    {
     "name": "stdout",
     "output_type": "stream",
     "text": [
      "beng#uluru\n",
      "pu#ne\n"
     ]
    }
   ],
   "source": [
    "input=['hyd','beng#uluru','mumbai','pu#ne']\n",
    "#output=['beng#uluru','pu#ne']\n",
    "for i in input:\n",
    "    if '#' in i:\n",
    "        print(i)"
   ]
  },
  {
   "cell_type": "code",
   "execution_count": 38,
   "id": "756b74c5-24c2-4734-9b7b-9101ce5f46fc",
   "metadata": {},
   "outputs": [
    {
     "data": {
      "text/plain": [
       "[False, True, False, True]"
      ]
     },
     "execution_count": 38,
     "metadata": {},
     "output_type": "execute_result"
    }
   ],
   "source": [
    "input=['hyd','beng#uluru','mumbai','pu#ne']\n",
    "list(map(lambda i:'#' in i,input))"
   ]
  },
  {
   "cell_type": "markdown",
   "id": "8e9b3b52-e364-43ca-9765-e62ede024ddd",
   "metadata": {},
   "source": [
    "**Filter**\n",
    "\n",
    "- filter is applied on lambda functions to retrive the true output\n",
    "\n",
    "- map will just map the function and iterator\n",
    "\n",
    "- when we apply condition map will give True False\n",
    "\n",
    "- filter will use instead of map"
   ]
  },
  {
   "cell_type": "code",
   "execution_count": 39,
   "id": "156a237d-f311-4e6e-8e72-ecd3867604b6",
   "metadata": {},
   "outputs": [
    {
     "data": {
      "text/plain": [
       "['beng#uluru', 'pu#ne']"
      ]
     },
     "execution_count": 39,
     "metadata": {},
     "output_type": "execute_result"
    }
   ],
   "source": [
    "input=['hyd','beng#uluru','mumbai','pu#ne']\n",
    "list(filter(lambda i:'#' in i,input))"
   ]
  },
  {
   "cell_type": "code",
   "execution_count": 40,
   "id": "16496562-1dd7-4548-88cf-97accbaf013a",
   "metadata": {},
   "outputs": [
    {
     "data": {
      "text/plain": [
       "['hyd', 'mumbai']"
      ]
     },
     "execution_count": 40,
     "metadata": {},
     "output_type": "execute_result"
    }
   ],
   "source": [
    "input=['hyd','beng#uluru','mumbai','pu#ne']\n",
    "list(filter(lambda i: '#' not in i,input))"
   ]
  },
  {
   "cell_type": "markdown",
   "id": "eecc3c07-4463-4f61-9b1b-43b1e1d512d2",
   "metadata": {},
   "source": [
    "**Reduce**\n",
    "\n",
    "- reduce will helpful to perform math operations using lambda functions\n",
    "\n",
    "- it is a method under a package called: **functools**"
   ]
  },
  {
   "cell_type": "code",
   "execution_count": 41,
   "id": "bd81030a-6e3e-4364-8f71-b18f450fc17d",
   "metadata": {},
   "outputs": [
    {
     "data": {
      "text/plain": [
       "21"
      ]
     },
     "execution_count": 41,
     "metadata": {},
     "output_type": "execute_result"
    }
   ],
   "source": [
    "list1=[1,2,3,4,5,6]\n",
    "sum(list1)"
   ]
  },
  {
   "cell_type": "code",
   "execution_count": 42,
   "id": "4cc95fa3-0c28-4fd7-bb85-67c0fc19f23e",
   "metadata": {},
   "outputs": [
    {
     "name": "stdout",
     "output_type": "stream",
     "text": [
      "21\n"
     ]
    }
   ],
   "source": [
    "list1=[1,2,3,4,5,6]\n",
    "summ=0\n",
    "for i in list1:\n",
    "    summ=summ+i\n",
    "print(summ)"
   ]
  },
  {
   "cell_type": "code",
   "execution_count": 58,
   "id": "9ac13fd7-32d3-4fc3-9d67-bcc65763d3b2",
   "metadata": {},
   "outputs": [
    {
     "name": "stdout",
     "output_type": "stream",
     "text": [
      "21\n"
     ]
    }
   ],
   "source": [
    "# walrus operator\n",
    "summ=0\n",
    "[summ:=summ+i for i in list1]\n",
    "print(summ)"
   ]
  },
  {
   "cell_type": "code",
   "execution_count": 43,
   "id": "a62572cd-1463-4831-b3ac-cb207e93803e",
   "metadata": {},
   "outputs": [],
   "source": [
    "import functools"
   ]
  },
  {
   "cell_type": "code",
   "execution_count": 44,
   "id": "3caf4de3-73bd-44d5-8bf7-f15ecbf9f5d0",
   "metadata": {},
   "outputs": [
    {
     "data": {
      "text/plain": [
       "['GenericAlias',\n",
       " 'RLock',\n",
       " 'WRAPPER_ASSIGNMENTS',\n",
       " 'WRAPPER_UPDATES',\n",
       " '_CacheInfo',\n",
       " '_HashedSeq',\n",
       " '_NOT_FOUND',\n",
       " '__all__',\n",
       " '__builtins__',\n",
       " '__cached__',\n",
       " '__doc__',\n",
       " '__file__',\n",
       " '__loader__',\n",
       " '__name__',\n",
       " '__package__',\n",
       " '__spec__',\n",
       " '_c3_merge',\n",
       " '_c3_mro',\n",
       " '_compose_mro',\n",
       " '_convert',\n",
       " '_find_impl',\n",
       " '_ge_from_gt',\n",
       " '_ge_from_le',\n",
       " '_ge_from_lt',\n",
       " '_gt_from_ge',\n",
       " '_gt_from_le',\n",
       " '_gt_from_lt',\n",
       " '_initial_missing',\n",
       " '_le_from_ge',\n",
       " '_le_from_gt',\n",
       " '_le_from_lt',\n",
       " '_lru_cache_wrapper',\n",
       " '_lt_from_ge',\n",
       " '_lt_from_gt',\n",
       " '_lt_from_le',\n",
       " '_make_key',\n",
       " '_unwrap_partial',\n",
       " 'cache',\n",
       " 'cached_property',\n",
       " 'cmp_to_key',\n",
       " 'get_cache_token',\n",
       " 'lru_cache',\n",
       " 'namedtuple',\n",
       " 'partial',\n",
       " 'partialmethod',\n",
       " 'recursive_repr',\n",
       " 'reduce',\n",
       " 'singledispatch',\n",
       " 'singledispatchmethod',\n",
       " 'total_ordering',\n",
       " 'update_wrapper',\n",
       " 'wraps']"
      ]
     },
     "execution_count": 44,
     "metadata": {},
     "output_type": "execute_result"
    }
   ],
   "source": [
    "dir(functools)"
   ]
  },
  {
   "cell_type": "code",
   "execution_count": 49,
   "id": "21e037c9-3346-40ea-ad1b-73fe78829662",
   "metadata": {},
   "outputs": [
    {
     "data": {
      "text/plain": [
       "<function __main__.<lambda>(summ, i)>"
      ]
     },
     "execution_count": 49,
     "metadata": {},
     "output_type": "execute_result"
    }
   ],
   "source": [
    "#step:1\n",
    "from functools import reduce\n",
    "lambda summ,i:summ+i"
   ]
  },
  {
   "cell_type": "code",
   "execution_count": 50,
   "id": "2ed1fdf5-8003-47d4-a9cc-133f312bc32c",
   "metadata": {},
   "outputs": [
    {
     "data": {
      "text/plain": [
       "(<function __main__.<lambda>(summ, i)>, [1, 2, 3, 4, 5, 6])"
      ]
     },
     "execution_count": 50,
     "metadata": {},
     "output_type": "execute_result"
    }
   ],
   "source": [
    "#step:2\n",
    "lambda summ,i:summ+i,list1"
   ]
  },
  {
   "cell_type": "code",
   "execution_count": 51,
   "id": "0c003f43-eb58-474d-a7dd-30a52f344810",
   "metadata": {},
   "outputs": [
    {
     "data": {
      "text/plain": [
       "21"
      ]
     },
     "execution_count": 51,
     "metadata": {},
     "output_type": "execute_result"
    }
   ],
   "source": [
    "#step:3 apply reduce\n",
    "reduce(lambda summ,i:summ+i,list1)\n"
   ]
  },
  {
   "cell_type": "code",
   "execution_count": 53,
   "id": "95bd33e9-cc3e-45af-879d-f529f2a56d71",
   "metadata": {},
   "outputs": [
    {
     "data": {
      "text/plain": [
       "121"
      ]
     },
     "execution_count": 53,
     "metadata": {},
     "output_type": "execute_result"
    }
   ],
   "source": [
    "from functools import reduce\n",
    "\n",
    "lambda summ,i:summ+i\n",
    "\n",
    "lambda summ,i:summ+i,list1   # by default 0 will take\n",
    "\n",
    "lambda summ,i:summ+i,list1,100\n",
    "\n",
    "reduce(lambda summ,i:summ+i,list1,100)"
   ]
  },
  {
   "cell_type": "code",
   "execution_count": null,
   "id": "c9413c0e-070d-40a2-ba46-67559b144062",
   "metadata": {},
   "outputs": [],
   "source": []
  }
 ],
 "metadata": {
  "kernelspec": {
   "display_name": "Python 3 (ipykernel)",
   "language": "python",
   "name": "python3"
  },
  "language_info": {
   "codemirror_mode": {
    "name": "ipython",
    "version": 3
   },
   "file_extension": ".py",
   "mimetype": "text/x-python",
   "name": "python",
   "nbconvert_exporter": "python",
   "pygments_lexer": "ipython3",
   "version": "3.12.7"
  }
 },
 "nbformat": 4,
 "nbformat_minor": 5
}
