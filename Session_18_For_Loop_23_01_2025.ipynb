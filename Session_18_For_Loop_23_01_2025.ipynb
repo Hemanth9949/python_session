{
 "cells": [
  {
   "cell_type": "markdown",
   "id": "1e15af63-1165-4e97-85f9-d8fff2e8def4",
   "metadata": {},
   "source": [
    "**LOOPS**\n",
    "\n",
    "- Loops are used to iterate the code multiple times\n",
    "\n",
    "- Functions are used to reuse the code block\n",
    "\n",
    "- that code block can be repeated multiple times\n",
    "\n",
    "- whenever you are doing same task multiple times then think about loop\n",
    "\n",
    "- we have two loops\n",
    "\n",
    "     - for loop\n",
    "\n",
    "     - while loop\n",
    " \n",
    "- any loop we need three things\n",
    "\n",
    "   - initialization (start point)\n",
    "     \n",
    "   - increment or decrement\n",
    " \n",
    "   - condition to stop"
   ]
  },
  {
   "cell_type": "markdown",
   "id": "7bb66698-5737-4421-a6f8-05b711e5a05e",
   "metadata": {},
   "source": [
    "**For Loop**"
   ]
  },
  {
   "cell_type": "code",
   "execution_count": null,
   "id": "a5121299-4e9d-44a4-be51-536463353942",
   "metadata": {},
   "outputs": [],
   "source": [
    "for <variable> in range(<number>):\n",
    "    <write your code here>"
   ]
  },
  {
   "cell_type": "code",
   "execution_count": 2,
   "id": "bec96cf1-227b-44a3-8a9f-3c2026b9e6e5",
   "metadata": {},
   "outputs": [
    {
     "name": "stdout",
     "output_type": "stream",
     "text": [
      "0\n",
      "1\n",
      "2\n",
      "3\n",
      "4\n"
     ]
    }
   ],
   "source": [
    "for i in range(5):\n",
    "    print(i)"
   ]
  },
  {
   "cell_type": "code",
   "execution_count": 3,
   "id": "8d14efb7-4299-4125-bb5d-3f7d2fc62edf",
   "metadata": {},
   "outputs": [
    {
     "name": "stdout",
     "output_type": "stream",
     "text": [
      "0\n",
      "1\n",
      "2\n"
     ]
    }
   ],
   "source": [
    "#print(0)\n",
    "#print(1)\n",
    "#print(2)\n",
    "for trump in range(3):\n",
    "    print(trump)"
   ]
  },
  {
   "cell_type": "code",
   "execution_count": 51,
   "id": "66a7d710-eb73-4ab7-8877-0ec6edeaf363",
   "metadata": {},
   "outputs": [
    {
     "name": "stdout",
     "output_type": "stream",
     "text": [
      "0 1 2 "
     ]
    }
   ],
   "source": [
    "#print(0)\n",
    "#print(1)\n",
    "#print(2)\n",
    "for i in range(3):\n",
    "    print(i,end=' ')"
   ]
  },
  {
   "cell_type": "markdown",
   "id": "5c3a502d-454d-4d48-bab0-5e515518e84c",
   "metadata": {},
   "source": [
    "**case-1:range(stop)**\n",
    "\n",
    "- start=0: python index always starts with zero\n",
    "\n",
    "- increment by 1\n",
    "\n",
    "- last=stop-1"
   ]
  },
  {
   "cell_type": "code",
   "execution_count": 52,
   "id": "199c3b48-a25f-48c5-9175-1a0d31da73a0",
   "metadata": {},
   "outputs": [
    {
     "name": "stdout",
     "output_type": "stream",
     "text": [
      "10 11 12 13 14 15 16 17 18 19 "
     ]
    }
   ],
   "source": [
    "for i in range(10,20):\n",
    "    print(i,end=' ')"
   ]
  },
  {
   "cell_type": "code",
   "execution_count": 6,
   "id": "ca36ef91-e8a9-4f66-ae72-efff18cb7d79",
   "metadata": {},
   "outputs": [
    {
     "name": "stdout",
     "output_type": "stream",
     "text": [
      "good night\n",
      "good night\n",
      "good night\n"
     ]
    }
   ],
   "source": [
    "print('good night')\n",
    "print('good night')\n",
    "print('good night')"
   ]
  },
  {
   "cell_type": "code",
   "execution_count": 7,
   "id": "bc1f82b8-8df5-41aa-b0f5-d147f775f4dc",
   "metadata": {},
   "outputs": [
    {
     "name": "stdout",
     "output_type": "stream",
     "text": [
      "good morning\n",
      "good morning\n",
      "good morning\n"
     ]
    }
   ],
   "source": [
    "for i in range(3):\n",
    "    print('good morning')"
   ]
  },
  {
   "cell_type": "markdown",
   "id": "7437e8ed-3238-4c4d-8713-8c2af8f27e59",
   "metadata": {},
   "source": [
    "**case-2:range(start,stop)**\n",
    "\n",
    "- suppose i want to start my loop with a particular number\n",
    "\n",
    "- then add start also inside range\n",
    "\n",
    "- start=start\n",
    "\n",
    "- increment by 1\n",
    "\n",
    "- last=stop-1\n",
    "\n",
    "range(10,20)\n",
    "\n",
    "- start=10,increment by 1, last=20-1=19\n"
   ]
  },
  {
   "cell_type": "code",
   "execution_count": 8,
   "id": "86c8b889-bdb9-49ee-8cdc-a1f5dd8ecfef",
   "metadata": {},
   "outputs": [
    {
     "name": "stdout",
     "output_type": "stream",
     "text": [
      "10 11 12 13 14 15 16 17 18 19 "
     ]
    }
   ],
   "source": [
    "for i in range(10,20):\n",
    "    print(i,end=' ')"
   ]
  },
  {
   "cell_type": "code",
   "execution_count": 13,
   "id": "762135eb-ee1b-4e58-8a62-db2f00f57446",
   "metadata": {},
   "outputs": [
    {
     "name": "stdout",
     "output_type": "stream",
     "text": [
      "the square of 1 is :1\n",
      "the square of 2 is :4\n",
      "the square of 3 is :9\n",
      "the square of 4 is :16\n",
      "the square of 5 is :25\n"
     ]
    }
   ],
   "source": [
    "# wap ask the user print the square first 5 number\n",
    "# square of 1 is 1\n",
    "# square of 2 is 4\n",
    "#so on\n",
    "\n",
    "for i in range(1,6):\n",
    "    print(f'the square of {i} is :{i*i}')"
   ]
  },
  {
   "cell_type": "code",
   "execution_count": 15,
   "id": "ced76840-0570-48f2-87a6-8b76ef602316",
   "metadata": {},
   "outputs": [
    {
     "name": "stdin",
     "output_type": "stream",
     "text": [
      "enter the number:  20\n"
     ]
    },
    {
     "name": "stdout",
     "output_type": "stream",
     "text": [
      "the square of 20 is:400\n"
     ]
    },
    {
     "name": "stdin",
     "output_type": "stream",
     "text": [
      "enter the number:  30\n"
     ]
    },
    {
     "name": "stdout",
     "output_type": "stream",
     "text": [
      "the square of 30 is:900\n"
     ]
    },
    {
     "name": "stdin",
     "output_type": "stream",
     "text": [
      "enter the number:  90\n"
     ]
    },
    {
     "name": "stdout",
     "output_type": "stream",
     "text": [
      "the square of 90 is:8100\n"
     ]
    },
    {
     "name": "stdin",
     "output_type": "stream",
     "text": [
      "enter the number:  50\n"
     ]
    },
    {
     "name": "stdout",
     "output_type": "stream",
     "text": [
      "the square of 50 is:2500\n"
     ]
    },
    {
     "name": "stdin",
     "output_type": "stream",
     "text": [
      "enter the number:  60\n"
     ]
    },
    {
     "name": "stdout",
     "output_type": "stream",
     "text": [
      "the square of 60 is:3600\n"
     ]
    }
   ],
   "source": [
    "# wap ask user enter a number the prompt should happen 5 times\n",
    "# and print the square of the number\n",
    "\n",
    "for i in range(5):\n",
    "    num=eval(input(\"enter the number: \"))\n",
    "    print(f'the square of {num} is:{num*num}')\n",
    "                   "
   ]
  },
  {
   "cell_type": "code",
   "execution_count": 18,
   "id": "dc3e787d-bacd-4c58-82cd-d2b6773c7a3e",
   "metadata": {},
   "outputs": [
    {
     "name": "stdin",
     "output_type": "stream",
     "text": [
      "enter the number: 20\n"
     ]
    },
    {
     "name": "stdout",
     "output_type": "stream",
     "text": [
      "the square of 20 is:400\n"
     ]
    },
    {
     "name": "stdin",
     "output_type": "stream",
     "text": [
      "enter the number: 30\n"
     ]
    },
    {
     "name": "stdout",
     "output_type": "stream",
     "text": [
      "the square of 30 is:900\n"
     ]
    },
    {
     "name": "stdin",
     "output_type": "stream",
     "text": [
      "enter the number: 10\n"
     ]
    },
    {
     "name": "stdout",
     "output_type": "stream",
     "text": [
      "the square of 10 is:100\n"
     ]
    }
   ],
   "source": [
    "def square():\n",
    "    num=eval(input('enter the number:'))\n",
    "    print(f'the square of {num} is:{num*num}')\n",
    "\n",
    "for i in range(3):\n",
    "    square()\n"
   ]
  },
  {
   "cell_type": "markdown",
   "id": "bf966f51-6314-424f-91c9-1874a075f308",
   "metadata": {},
   "source": [
    "**case-3:range(start,stop,step)**\n",
    "\n",
    "- start=start only\n",
    "\n",
    "- step:\n",
    "\n",
    "  - look about step sign is it positive or negative sign\n",
    "\n",
    "       - positive means increment\n",
    "\n",
    "           - last:stop-1\n",
    "\n",
    "       - negative means decrement\n",
    "\n",
    "           - last:stop+1\n"
   ]
  },
  {
   "cell_type": "code",
   "execution_count": 19,
   "id": "7390bb8c-0149-40a4-9ac9-43d87caa3254",
   "metadata": {},
   "outputs": [
    {
     "name": "stdout",
     "output_type": "stream",
     "text": [
      "3 5 7 9 11 13 15 17 "
     ]
    }
   ],
   "source": [
    "#ex1: range(3,19,2)\n",
    "#start=3\n",
    "#step=+2 positive direction\n",
    "# last= 19-1=18\n",
    "#1,3,5,7,9,11,13,15,17\n",
    "for i in range(3,19,2):\n",
    "    print(i,end=' ')"
   ]
  },
  {
   "cell_type": "code",
   "execution_count": 1,
   "id": "a3d6432d-62fe-40fa-b092-b74806ac847e",
   "metadata": {},
   "outputs": [],
   "source": [
    "# ex2: range(3,19,-2)\n",
    "#start=3\n",
    "#step=-2 negative direction\n",
    "# last= 19+1=20\n",
    "for i in range(3,19,-2):\n",
    "    print(i)"
   ]
  },
  {
   "cell_type": "code",
   "execution_count": 22,
   "id": "5b9bce18-9e7b-44f2-b2d3-ed20d1ddac9b",
   "metadata": {},
   "outputs": [
    {
     "name": "stdout",
     "output_type": "stream",
     "text": [
      "3 1 -1 -3 -5 -7 -9 -11 -13 -15 -17 "
     ]
    }
   ],
   "source": [
    "for i in range(3,-19,-2):\n",
    "    print(i,end=' ')"
   ]
  },
  {
   "cell_type": "code",
   "execution_count": 23,
   "id": "701a2266-f2fa-4bef-9a4f-13ccd193d810",
   "metadata": {},
   "outputs": [],
   "source": [
    "for i in range(3,-19,2):\n",
    "    print(i,end=' ')"
   ]
  },
  {
   "cell_type": "code",
   "execution_count": 1,
   "id": "5b140890-e12c-423d-b3a2-e7620072ae55",
   "metadata": {},
   "outputs": [
    {
     "name": "stdout",
     "output_type": "stream",
     "text": [
      "20\n",
      "10\n",
      "0\n",
      "-10\n"
     ]
    }
   ],
   "source": [
    "for i in range(20,-20,-10):\n",
    "    print(i)\n",
    "\n",
    "# start = 20\n",
    "# "
   ]
  },
  {
   "cell_type": "code",
   "execution_count": 5,
   "id": "1f360c4a-0771-4017-97c3-f7f548ea5ab6",
   "metadata": {},
   "outputs": [
    {
     "name": "stdin",
     "output_type": "stream",
     "text": [
      "enter number: 7\n"
     ]
    },
    {
     "name": "stdout",
     "output_type": "stream",
     "text": [
      "7x1=7\n",
      "7x2=14\n",
      "7x3=21\n",
      "7x4=28\n",
      "7x5=35\n",
      "7x6=42\n",
      "7x7=49\n",
      "7x8=56\n",
      "7x9=63\n",
      "7x10=70\n"
     ]
    }
   ],
   "source": [
    "# 4) print the 7th table\n",
    "# 7x1=7\n",
    "# 7x2=14\n",
    "\n",
    "number=eval(input(\"enter number:\"))\n",
    "for i in range(1,11):\n",
    "    multiply=i*number\n",
    "    print(f'{number}x{i}={multiply}')\n",
    "    "
   ]
  },
  {
   "cell_type": "code",
   "execution_count": 54,
   "id": "d11a6be0-b7e0-449a-9c54-c242a31a7b8f",
   "metadata": {},
   "outputs": [
    {
     "name": "stdin",
     "output_type": "stream",
     "text": [
      "enter number: 75\n"
     ]
    },
    {
     "name": "stdout",
     "output_type": "stream",
     "text": [
      "1 is the divisor of 75\n",
      "3 is the divisor of 75\n",
      "5 is the divisor of 75\n",
      "15 is the divisor of 75\n",
      "25 is the divisor of 75\n",
      "75 is the divisor of 75\n"
     ]
    }
   ],
   "source": [
    "# 5) find the number of divisors of 75\n",
    "# if you divide 75 with any number the remainder should be zero\n",
    "\n",
    "num=eval(input(\"enter number:\"))\n",
    "for i in range(1,num+1):\n",
    "    if num%i==0:\n",
    "        print(f'{i} is the divisor of {num}')\n",
    "        \n",
    "    "
   ]
  },
  {
   "cell_type": "code",
   "execution_count": 12,
   "id": "1f410484-7fc4-4728-9151-0f0ed772ce9e",
   "metadata": {},
   "outputs": [
    {
     "name": "stdin",
     "output_type": "stream",
     "text": [
      "enter natural number: 10\n"
     ]
    },
    {
     "name": "stdout",
     "output_type": "stream",
     "text": [
      "Sum of first 10 natural numbers is : 55\n"
     ]
    }
   ],
   "source": [
    "# 6) sum of first 10 natural numbers\n",
    "num=eval(input(\"enter natural number:\"))\n",
    "summ=0\n",
    "for i in range(1,num+1):\n",
    "    summ=summ+i\n",
    "print(f'Sum of first 10 natural numbers is : {summ}')\n",
    "    "
   ]
  },
  {
   "cell_type": "markdown",
   "id": "ba52f531-fa7e-4722-be4f-50170e267e7b",
   "metadata": {},
   "source": [
    "**Summation Wrapper**\n",
    "\n",
    "- starting we intialise the sum value: summ=0\n",
    "\n",
    "- inside loop we will add a simple line: summ=summ+i\n",
    "\n",
    "- summ=0\n",
    "\n",
    "- for loop\n",
    "\n",
    "     - summ=summ+i\n"
   ]
  },
  {
   "cell_type": "code",
   "execution_count": 15,
   "id": "a63bca38-8ec5-48dd-a148-cce6b818caf1",
   "metadata": {},
   "outputs": [
    {
     "name": "stdout",
     "output_type": "stream",
     "text": [
      "1\n",
      "3\n",
      "6\n",
      "10\n",
      "15\n",
      "21\n",
      "28\n",
      "36\n",
      "45\n",
      "55\n"
     ]
    }
   ],
   "source": [
    "summ=0\n",
    "for i in range(1,11):\n",
    "    summ=summ+i\n",
    "    print(summ)"
   ]
  },
  {
   "cell_type": "code",
   "execution_count": 16,
   "id": "3e103858-91c7-4e91-92c1-f9121229eec4",
   "metadata": {},
   "outputs": [
    {
     "data": {
      "text/plain": [
       "55"
      ]
     },
     "execution_count": 16,
     "metadata": {},
     "output_type": "execute_result"
    }
   ],
   "source": [
    "summ"
   ]
  },
  {
   "cell_type": "code",
   "execution_count": 55,
   "id": "96a28ae1-b340-4a32-b6fa-0a36690735e1",
   "metadata": {},
   "outputs": [
    {
     "name": "stdin",
     "output_type": "stream",
     "text": [
      "enter number: 75\n"
     ]
    },
    {
     "name": "stdout",
     "output_type": "stream",
     "text": [
      "124\n"
     ]
    }
   ],
   "source": [
    "# 7) find the divisors of 75\n",
    "# 75: 1,3,5,15,25,75\n",
    "\n",
    "num=eval(input(\"enter number:\"))\n",
    "summ=0\n",
    "for i in range(1,num+1):\n",
    "    if num%i==0:\n",
    "        summ=summ+i\n",
    "print(summ)\n",
    "        "
   ]
  },
  {
   "cell_type": "markdown",
   "id": "a931fb60-7aa8-4ff6-86aa-3fd6306af250",
   "metadata": {},
   "source": [
    "**Counter Wrapper**\n",
    "\n",
    "- Counter means counting the success ones\n",
    "\n",
    "- count=0\n",
    "\n",
    "- for loop \n",
    "\n",
    "   - count=count+1\n"
   ]
  },
  {
   "cell_type": "code",
   "execution_count": 22,
   "id": "af56cbd8-d84a-4211-9fa1-1009e231ab5e",
   "metadata": {},
   "outputs": [
    {
     "name": "stdin",
     "output_type": "stream",
     "text": [
      "enter number: 75\n"
     ]
    },
    {
     "name": "stdout",
     "output_type": "stream",
     "text": [
      "the number of divisors:6\n"
     ]
    }
   ],
   "source": [
    "# 7) find the number of divisors of 75\n",
    "count=0\n",
    "num=eval(input(\"enter number:\"))\n",
    "for i in range(1,num+1):\n",
    "    if num%i==0:\n",
    "        count=count+1\n",
    "print(f'the number of divisors:{count}')"
   ]
  },
  {
   "cell_type": "code",
   "execution_count": 1,
   "id": "55ba676a-bb14-4baf-90ae-93a84ae2df9f",
   "metadata": {},
   "outputs": [
    {
     "name": "stdout",
     "output_type": "stream",
     "text": [
      "42 is even\n",
      "68 is even\n",
      "32 is even\n",
      "31 is odd\n",
      "70 is even\n",
      "number of evens:4\n",
      "number of odds:1\n",
      "sum of evens:212\n",
      "sum of odds:31\n"
     ]
    }
   ],
   "source": [
    "# 8) ask the user get 5 random numbers\n",
    "# means you need to get a random number inside for loop\n",
    "# the loop should run 5 times\n",
    "# now perform the even and odd operation\n",
    "# 1) even count # 2) sum of even numbers 3)odd count  4)sum of odd count\n",
    "\n",
    "import random\n",
    "even_count,odd_count=0,0\n",
    "even_sum,odd_sum=0,0\n",
    "for i in range(5):\n",
    "    num=random.randint(1,100)\n",
    "    if num%2==0:\n",
    "        print(f'{num} is even')\n",
    "        even_count=even_count+1\n",
    "        even_sum=even_sum+num\n",
    "    else:\n",
    "        print(f'{num} is odd')\n",
    "        odd_count=odd_count+1\n",
    "        odd_sum=odd_sum+num\n",
    "\n",
    "print(f'number of evens:{even_count}')\n",
    "print(f'number of odds:{odd_count}')\n",
    "print(f'sum of evens:{even_sum}')\n",
    "print(f'sum of odds:{odd_sum}')"
   ]
  },
  {
   "cell_type": "code",
   "execution_count": 26,
   "id": "5da8a2ed-5888-42fc-8bbf-8f00eb8d9e18",
   "metadata": {},
   "outputs": [
    {
     "name": "stdin",
     "output_type": "stream",
     "text": [
      "enter num2: 5\n"
     ]
    },
    {
     "name": "stdout",
     "output_type": "stream",
     "text": [
      "you lost\n"
     ]
    },
    {
     "name": "stdin",
     "output_type": "stream",
     "text": [
      "enter num2: 6\n"
     ]
    },
    {
     "name": "stdout",
     "output_type": "stream",
     "text": [
      "you lost\n"
     ]
    },
    {
     "name": "stdin",
     "output_type": "stream",
     "text": [
      "enter num2: 8\n"
     ]
    },
    {
     "name": "stdout",
     "output_type": "stream",
     "text": [
      "you lost\n"
     ]
    }
   ],
   "source": [
    "# 9) Game program\n",
    "# user enter one num\n",
    "# another num will generate randomly\n",
    "# if both numbers are equal then you won\n",
    "# otherwise lost\n",
    "# i wnat to give 3 chances\n",
    "\n",
    "for i in range(3):\n",
    "    num1=random.randint(1,10)\n",
    "    num2=eval(input(\"enter num2:\"))\n",
    "    if num1==num2:\n",
    "        print(\"you won\")\n",
    "    else:\n",
    "        print(\"you lost\")\n",
    "    "
   ]
  },
  {
   "cell_type": "code",
   "execution_count": 29,
   "id": "f8edfdb3-cf3e-402c-b487-5149815701f0",
   "metadata": {},
   "outputs": [
    {
     "name": "stdout",
     "output_type": "stream",
     "text": [
      "9\n"
     ]
    },
    {
     "name": "stdin",
     "output_type": "stream",
     "text": [
      "enter num2: 5\n"
     ]
    },
    {
     "name": "stdout",
     "output_type": "stream",
     "text": [
      "you lost\n",
      "5\n"
     ]
    },
    {
     "name": "stdin",
     "output_type": "stream",
     "text": [
      "enter num2: 5\n"
     ]
    },
    {
     "name": "stdout",
     "output_type": "stream",
     "text": [
      "you won\n"
     ]
    }
   ],
   "source": [
    "# case:1: we apply the break  ==== completed\n",
    "for i in range(3):\n",
    "    num1=random.randint(1,10)\n",
    "    print(num1)\n",
    "    num2=eval(input(\"enter num2:\"))\n",
    "    if num1==num2:\n",
    "        print(\"you won\")\n",
    "        break\n",
    "    else:\n",
    "        print(\"you lost\")"
   ]
  },
  {
   "cell_type": "code",
   "execution_count": 4,
   "id": "02010f9f-aa74-46bc-85de-6485d1f92663",
   "metadata": {},
   "outputs": [
    {
     "name": "stdin",
     "output_type": "stream",
     "text": [
      "enter num2: 4\n"
     ]
    },
    {
     "name": "stdout",
     "output_type": "stream",
     "text": [
      "better luck next time\n",
      "2 chances are left\n"
     ]
    },
    {
     "name": "stdin",
     "output_type": "stream",
     "text": [
      "enter num2: 5\n"
     ]
    },
    {
     "name": "stdout",
     "output_type": "stream",
     "text": [
      "better luck next time\n",
      "1 chances are left\n"
     ]
    },
    {
     "name": "stdin",
     "output_type": "stream",
     "text": [
      "enter num2: 6\n"
     ]
    },
    {
     "name": "stdout",
     "output_type": "stream",
     "text": [
      "better luck next time\n",
      "0 chances are left\n"
     ]
    }
   ],
   "source": [
    "# case2: whenever the user enter the wrong answer\n",
    "#        better luck next time\n",
    "#        how many chances you left\n",
    "\n",
    "import random\n",
    "for i in range(3):\n",
    "    count=2\n",
    "    num1=random.randint(1,10)\n",
    "    num2=eval(input(\"enter num2:\"))\n",
    "    if num1==num2:\n",
    "        print(\"Won\")\n",
    "    else:\n",
    "        count=count-i\n",
    "        print(\"better luck next time\")\n",
    "        print(f'{count} chances are left')  "
   ]
  },
  {
   "cell_type": "code",
   "execution_count": 6,
   "id": "452ab5f7-2a01-4b03-b54a-e2a4e7516b62",
   "metadata": {},
   "outputs": [
    {
     "name": "stdout",
     "output_type": "stream",
     "text": [
      "You have only 3 chances\n"
     ]
    },
    {
     "name": "stdin",
     "output_type": "stream",
     "text": [
      "enter num2: 5\n"
     ]
    },
    {
     "name": "stdout",
     "output_type": "stream",
     "text": [
      "better luck next time\n",
      "2 chances are left\n"
     ]
    },
    {
     "name": "stdin",
     "output_type": "stream",
     "text": [
      "enter num2: 6\n"
     ]
    },
    {
     "name": "stdout",
     "output_type": "stream",
     "text": [
      "better luck next time\n",
      "1 chances are left\n"
     ]
    },
    {
     "name": "stdin",
     "output_type": "stream",
     "text": [
      "enter num2: 8\n"
     ]
    },
    {
     "name": "stdout",
     "output_type": "stream",
     "text": [
      "better luck next time\n",
      "0 chances are left\n",
      "Try after 24 hours\n"
     ]
    }
   ],
   "source": [
    "# case-3: if you lost all the chances\n",
    "#       print try after 24hours time\n",
    "#       dont give time.sleep 24hours katam your zindagi\n",
    "# whatsapp group online and offline\n",
    "\n",
    "import random\n",
    "print(\"You have only 3 chances\")\n",
    "for i in range(3):\n",
    "    count=2\n",
    "    num1=random.randint(1,10)\n",
    "    num2=eval(input(\"enter num2:\"))\n",
    "    if num1==num2:\n",
    "        print(\"Won\")\n",
    "        break\n",
    "    else:\n",
    "        count=count-i\n",
    "        print(\"better luck next time\")\n",
    "        print(f'{count} chances are left')\n",
    "print(\"Try after 24 hours\")\n",
    "    "
   ]
  },
  {
   "cell_type": "markdown",
   "id": "899fc000-90cf-4c37-9c69-a400476f22ae",
   "metadata": {},
   "source": [
    "**IN operator**"
   ]
  },
  {
   "cell_type": "markdown",
   "id": "36add6cb-9081-4248-b4a2-5b8128178d87",
   "metadata": {},
   "source": [
    "- in for loop we have range and in operators\n",
    "\n",
    "- range is math related word, whenever we use range it expects a number inside range\n",
    "\n",
    "- in operator expects a string"
   ]
  },
  {
   "cell_type": "code",
   "execution_count": 3,
   "id": "7bdc62cc-3cc1-4e8c-99cf-22fa4fc20f2c",
   "metadata": {},
   "outputs": [
    {
     "name": "stdout",
     "output_type": "stream",
     "text": [
      "0 1 2 3 4 5 6 7 8 9 "
     ]
    }
   ],
   "source": [
    "for i in range(10):\n",
    "    print(i,end=' ')"
   ]
  },
  {
   "cell_type": "code",
   "execution_count": 4,
   "id": "282fbb6d-201f-4f5f-81e2-cfee3d408549",
   "metadata": {},
   "outputs": [
    {
     "ename": "TypeError",
     "evalue": "'str' object cannot be interpreted as an integer",
     "output_type": "error",
     "traceback": [
      "\u001b[1;31m---------------------------------------------------------------------------\u001b[0m",
      "\u001b[1;31mTypeError\u001b[0m                                 Traceback (most recent call last)",
      "Cell \u001b[1;32mIn[4], line 1\u001b[0m\n\u001b[1;32m----> 1\u001b[0m \u001b[38;5;28;01mfor\u001b[39;00m i \u001b[38;5;129;01min\u001b[39;00m \u001b[38;5;28mrange\u001b[39m(\u001b[38;5;124m'\u001b[39m\u001b[38;5;124mpython\u001b[39m\u001b[38;5;124m'\u001b[39m):\n\u001b[0;32m      2\u001b[0m     \u001b[38;5;28mprint\u001b[39m(i,end\u001b[38;5;241m=\u001b[39m\u001b[38;5;124m\"\u001b[39m\u001b[38;5;124m \u001b[39m\u001b[38;5;124m\"\u001b[39m)\n",
      "\u001b[1;31mTypeError\u001b[0m: 'str' object cannot be interpreted as an integer"
     ]
    }
   ],
   "source": [
    "for i in range('python'):\n",
    "    print(i,end=\" \")"
   ]
  },
  {
   "cell_type": "code",
   "execution_count": 5,
   "id": "99cc0748-ad22-4996-8d6c-31f45dd806fc",
   "metadata": {},
   "outputs": [
    {
     "name": "stdout",
     "output_type": "stream",
     "text": [
      "p y t h o n "
     ]
    }
   ],
   "source": [
    "for i in('python'):\n",
    "    print(i,end=\" \")"
   ]
  },
  {
   "cell_type": "code",
   "execution_count": 6,
   "id": "d985c730-d25f-4304-96d3-5c3147a82628",
   "metadata": {},
   "outputs": [
    {
     "data": {
      "text/plain": [
       "True"
      ]
     },
     "execution_count": 6,
     "metadata": {},
     "output_type": "execute_result"
    }
   ],
   "source": [
    "'p' in 'python'\n",
    "\n",
    "'y' in 'python'\n",
    "\n",
    "'t' in 'python'\n",
    "\n",
    "'h' in 'python'\n",
    "\n",
    "'o' in 'python'\n",
    "\n",
    "'n' in 'python'\n",
    "\n",
    "i in 'python'"
   ]
  },
  {
   "cell_type": "code",
   "execution_count": null,
   "id": "26dba45b-5337-4035-bd99-3cf947bb78df",
   "metadata": {},
   "outputs": [],
   "source": [
    "'A'=='a'   # T \n",
    "'A'>'a'    # F\n",
    "'A'<'a'    # F"
   ]
  },
  {
   "cell_type": "markdown",
   "id": "23139760-d73a-42ab-a8f0-f1a37d0ef0f1",
   "metadata": {},
   "source": [
    "**ASCII**\n",
    "\n",
    "- AMERICAN STANDARD CODE FOR INFORMATION INTERCHANGE"
   ]
  },
  {
   "cell_type": "code",
   "execution_count": 7,
   "id": "93fc75a3-b64c-429f-91bd-3393d25e8215",
   "metadata": {},
   "outputs": [
    {
     "data": {
      "text/plain": [
       "False"
      ]
     },
     "execution_count": 7,
     "metadata": {},
     "output_type": "execute_result"
    }
   ],
   "source": [
    "#'A'  ====== 65\n",
    "#'a'  ======97\n",
    "\n",
    "\"A\">'a'"
   ]
  },
  {
   "cell_type": "markdown",
   "id": "299fbd82-0493-426a-af3b-6d39539fe06c",
   "metadata": {},
   "source": [
    "- How to convert char to number\n",
    "\n",
    "- How to convert number to char"
   ]
  },
  {
   "cell_type": "markdown",
   "id": "8d0ef326-0b7c-4191-a9fb-86ddff0d9308",
   "metadata": {},
   "source": [
    "**Char-Ord**"
   ]
  },
  {
   "cell_type": "code",
   "execution_count": null,
   "id": "3f165e1d-a911-4f62-b29a-b8c7d2883a87",
   "metadata": {},
   "outputs": [],
   "source": [
    "char('a') char(97)   # chr takes the numbers\n",
    "ord('a') ord(97)     # ord takes the strings"
   ]
  },
  {
   "cell_type": "code",
   "execution_count": 8,
   "id": "2e2dacb4-b2aa-41a8-abf6-c0a9345f531a",
   "metadata": {},
   "outputs": [
    {
     "data": {
      "text/plain": [
       "65"
      ]
     },
     "execution_count": 8,
     "metadata": {},
     "output_type": "execute_result"
    }
   ],
   "source": [
    "ord('A')"
   ]
  },
  {
   "cell_type": "code",
   "execution_count": 10,
   "id": "72997733-ca87-495e-b7a2-fc6f3c332563",
   "metadata": {},
   "outputs": [
    {
     "data": {
      "text/plain": [
       "'A'"
      ]
     },
     "execution_count": 10,
     "metadata": {},
     "output_type": "execute_result"
    }
   ],
   "source": [
    "chr(65)"
   ]
  },
  {
   "cell_type": "code",
   "execution_count": 11,
   "id": "020d996b-04c3-4acf-bdd2-6f2ba4a02f00",
   "metadata": {},
   "outputs": [
    {
     "ename": "TypeError",
     "evalue": "'str' object cannot be interpreted as an integer",
     "output_type": "error",
     "traceback": [
      "\u001b[1;31m---------------------------------------------------------------------------\u001b[0m",
      "\u001b[1;31mTypeError\u001b[0m                                 Traceback (most recent call last)",
      "Cell \u001b[1;32mIn[11], line 1\u001b[0m\n\u001b[1;32m----> 1\u001b[0m \u001b[38;5;28mchr\u001b[39m(\u001b[38;5;124m'\u001b[39m\u001b[38;5;124mA\u001b[39m\u001b[38;5;124m'\u001b[39m)\n",
      "\u001b[1;31mTypeError\u001b[0m: 'str' object cannot be interpreted as an integer"
     ]
    }
   ],
   "source": [
    "chr('A')"
   ]
  },
  {
   "cell_type": "code",
   "execution_count": 12,
   "id": "c3d3ee17-7d77-4746-832f-e8c2060ca916",
   "metadata": {},
   "outputs": [
    {
     "ename": "TypeError",
     "evalue": "ord() expected string of length 1, but int found",
     "output_type": "error",
     "traceback": [
      "\u001b[1;31m---------------------------------------------------------------------------\u001b[0m",
      "\u001b[1;31mTypeError\u001b[0m                                 Traceback (most recent call last)",
      "Cell \u001b[1;32mIn[12], line 1\u001b[0m\n\u001b[1;32m----> 1\u001b[0m \u001b[38;5;28mord\u001b[39m(\u001b[38;5;241m65\u001b[39m)\n",
      "\u001b[1;31mTypeError\u001b[0m: ord() expected string of length 1, but int found"
     ]
    }
   ],
   "source": [
    "ord(65)"
   ]
  },
  {
   "cell_type": "markdown",
   "id": "ee308998-bfe8-40fa-8f71-45eb4e2a3c29",
   "metadata": {},
   "source": [
    "- **ord** converting chr to number\n",
    "\n",
    "- **chr** converting number to chr"
   ]
  },
  {
   "cell_type": "code",
   "execution_count": 21,
   "id": "7be72758-c8fb-4ec5-ab75-f17f635bdf76",
   "metadata": {},
   "outputs": [
    {
     "name": "stdout",
     "output_type": "stream",
     "text": [
      "A:65\n",
      "B:66\n",
      "C:67\n",
      "D:68\n",
      "E:69\n",
      "F:70\n",
      "G:71\n",
      "H:72\n",
      "I:73\n",
      "J:74\n",
      "K:75\n",
      "L:76\n",
      "M:77\n",
      "N:78\n",
      "O:79\n",
      "P:80\n",
      "Q:81\n",
      "R:82\n",
      "S:83\n",
      "T:84\n",
      "U:85\n",
      "V:86\n",
      "W:87\n",
      "X:88\n",
      "Y:89\n",
      "Z:90\n"
     ]
    }
   ],
   "source": [
    "# wap ask the user get the ASCII numbers from A to Z\n",
    "# print: A:65\n",
    "#        B:66\n",
    "\n",
    "for i in 'ABCDEFGHIJKLMNOPQRSTUVWXYZ':\n",
    "    print(f'{i}:{ord(i)}')"
   ]
  },
  {
   "cell_type": "markdown",
   "id": "aeacc993-59b4-4f22-b4ce-cc05439427af",
   "metadata": {},
   "source": [
    "**Package:String**"
   ]
  },
  {
   "cell_type": "code",
   "execution_count": null,
   "id": "9c3ce2f5-1261-47a1-be2a-86e7f0d1ab18",
   "metadata": {},
   "outputs": [],
   "source": [
    "import <packagename>\n",
    "dir(<packagename>)\n",
    "in that A to Z will be given by one method tell me that"
   ]
  },
  {
   "cell_type": "code",
   "execution_count": 23,
   "id": "99a31882-9b2d-4965-96f0-5086613bba3e",
   "metadata": {},
   "outputs": [
    {
     "data": {
      "text/plain": [
       "['Formatter',\n",
       " 'Template',\n",
       " '_ChainMap',\n",
       " '__all__',\n",
       " '__builtins__',\n",
       " '__cached__',\n",
       " '__doc__',\n",
       " '__file__',\n",
       " '__loader__',\n",
       " '__name__',\n",
       " '__package__',\n",
       " '__spec__',\n",
       " '_re',\n",
       " '_sentinel_dict',\n",
       " '_string',\n",
       " 'ascii_letters',\n",
       " 'ascii_lowercase',\n",
       " 'ascii_uppercase',\n",
       " 'capwords',\n",
       " 'digits',\n",
       " 'hexdigits',\n",
       " 'octdigits',\n",
       " 'printable',\n",
       " 'punctuation',\n",
       " 'whitespace']"
      ]
     },
     "execution_count": 23,
     "metadata": {},
     "output_type": "execute_result"
    }
   ],
   "source": [
    "import string\n",
    "dir(string)"
   ]
  },
  {
   "cell_type": "code",
   "execution_count": 24,
   "id": "5157f58b-6050-4d8e-893c-b5f9aa63566d",
   "metadata": {},
   "outputs": [
    {
     "data": {
      "text/plain": [
       "'abcdefghijklmnopqrstuvwxyzABCDEFGHIJKLMNOPQRSTUVWXYZ'"
      ]
     },
     "execution_count": 24,
     "metadata": {},
     "output_type": "execute_result"
    }
   ],
   "source": [
    "string.ascii_letters"
   ]
  },
  {
   "cell_type": "code",
   "execution_count": 25,
   "id": "5a45a8e7-29e4-4091-a2d4-92cdcb96b24d",
   "metadata": {},
   "outputs": [
    {
     "data": {
      "text/plain": [
       "'abcdefghijklmnopqrstuvwxyz'"
      ]
     },
     "execution_count": 25,
     "metadata": {},
     "output_type": "execute_result"
    }
   ],
   "source": [
    "string.ascii_lowercase"
   ]
  },
  {
   "cell_type": "code",
   "execution_count": 26,
   "id": "0644eae4-15fe-4491-8f39-c0b5b39dc3d3",
   "metadata": {},
   "outputs": [
    {
     "data": {
      "text/plain": [
       "'ABCDEFGHIJKLMNOPQRSTUVWXYZ'"
      ]
     },
     "execution_count": 26,
     "metadata": {},
     "output_type": "execute_result"
    }
   ],
   "source": [
    "string.ascii_uppercase"
   ]
  },
  {
   "cell_type": "code",
   "execution_count": 27,
   "id": "06a1ad71-7b55-409b-b40b-54532af4e853",
   "metadata": {},
   "outputs": [
    {
     "data": {
      "text/plain": [
       "'0123456789'"
      ]
     },
     "execution_count": 27,
     "metadata": {},
     "output_type": "execute_result"
    }
   ],
   "source": [
    "string.digits"
   ]
  },
  {
   "cell_type": "code",
   "execution_count": 28,
   "id": "fa4980e7-e3b1-4a82-836a-e8935bf0c271",
   "metadata": {},
   "outputs": [
    {
     "data": {
      "text/plain": [
       "'!\"#$%&\\'()*+,-./:;<=>?@[\\\\]^_`{|}~'"
      ]
     },
     "execution_count": 28,
     "metadata": {},
     "output_type": "execute_result"
    }
   ],
   "source": [
    "string.punctuation"
   ]
  },
  {
   "cell_type": "code",
   "execution_count": 29,
   "id": "a247eb25-7979-4abd-9ef2-213e13795325",
   "metadata": {},
   "outputs": [
    {
     "data": {
      "text/plain": [
       "<function string.capwords(s, sep=None)>"
      ]
     },
     "execution_count": 29,
     "metadata": {},
     "output_type": "execute_result"
    }
   ],
   "source": [
    "string.capwords"
   ]
  },
  {
   "cell_type": "code",
   "execution_count": 30,
   "id": "dec25a66-5f1a-409e-9c9b-4fce4136a348",
   "metadata": {},
   "outputs": [
    {
     "name": "stdout",
     "output_type": "stream",
     "text": [
      "A:65 B:66 C:67 D:68 E:69 F:70 G:71 H:72 I:73 J:74 K:75 L:76 M:77 N:78 O:79 P:80 Q:81 R:82 S:83 T:84 U:85 V:86 W:87 X:88 Y:89 Z:90 "
     ]
    }
   ],
   "source": [
    "for i in string.ascii_uppercase:\n",
    "    print(f'{i}:{ord(i)}', end=\" \" )"
   ]
  },
  {
   "cell_type": "code",
   "execution_count": 31,
   "id": "3edad697-231b-4300-bdb5-f9d100472bf1",
   "metadata": {},
   "outputs": [
    {
     "name": "stdout",
     "output_type": "stream",
     "text": [
      "a:97 b:98 c:99 d:100 e:101 f:102 g:103 h:104 i:105 j:106 k:107 l:108 m:109 n:110 o:111 p:112 q:113 r:114 s:115 t:116 u:117 v:118 w:119 x:120 y:121 z:122 "
     ]
    }
   ],
   "source": [
    "for i in string.ascii_lowercase:\n",
    "    print(f'{i}:{ord(i)}', end=\" \" )"
   ]
  },
  {
   "cell_type": "code",
   "execution_count": 32,
   "id": "918068c6-cfa6-4d28-b7da-1200143d8551",
   "metadata": {},
   "outputs": [
    {
     "name": "stdout",
     "output_type": "stream",
     "text": [
      "!:33 \":34 #:35 $:36 %:37 &:38 ':39 (:40 ):41 *:42 +:43 ,:44 -:45 .:46 /:47 ::58 ;:59 <:60 =:61 >:62 ?:63 @:64 [:91 \\:92 ]:93 ^:94 _:95 `:96 {:123 |:124 }:125 ~:126 "
     ]
    }
   ],
   "source": [
    "for i in string.punctuation:\n",
    "    print(f'{i}:{ord(i)}', end=\" \" )"
   ]
  },
  {
   "cell_type": "code",
   "execution_count": 33,
   "id": "beafb618-603f-4220-9d48-d1d265134185",
   "metadata": {},
   "outputs": [
    {
     "name": "stdout",
     "output_type": "stream",
     "text": [
      "a:97 b:98 c:99 d:100 e:101 f:102 g:103 h:104 i:105 j:106 k:107 l:108 m:109 n:110 o:111 p:112 q:113 r:114 s:115 t:116 u:117 v:118 w:119 x:120 y:121 z:122 A:65 B:66 C:67 D:68 E:69 F:70 G:71 H:72 I:73 J:74 K:75 L:76 M:77 N:78 O:79 P:80 Q:81 R:82 S:83 T:84 U:85 V:86 W:87 X:88 Y:89 Z:90 "
     ]
    }
   ],
   "source": [
    "for i in string.ascii_letters:\n",
    "    print(f'{i}:{ord(i)}', end=\" \" )"
   ]
  },
  {
   "cell_type": "code",
   "execution_count": 34,
   "id": "7171fa5b-9d3e-478b-af2f-39d94c657e59",
   "metadata": {},
   "outputs": [
    {
     "data": {
      "text/plain": [
       "range(33, 127)"
      ]
     },
     "execution_count": 34,
     "metadata": {},
     "output_type": "execute_result"
    }
   ],
   "source": [
    "range(33,127)"
   ]
  },
  {
   "cell_type": "code",
   "execution_count": 36,
   "id": "13481f7c-7438-4575-ae4e-a923f9b69ba0",
   "metadata": {},
   "outputs": [
    {
     "name": "stdout",
     "output_type": "stream",
     "text": [
      "33:! 34:\" 35:# 36:$ 37:% 38:& 39:' 40:( 41:) 42:* 43:+ 44:, 45:- 46:. 47:/ 48:0 49:1 50:2 51:3 52:4 53:5 54:6 55:7 56:8 57:9 58:: 59:; 60:< 61:= 62:> 63:? 64:@ 65:A 66:B 67:C 68:D 69:E 70:F 71:G 72:H 73:I 74:J 75:K 76:L 77:M 78:N 79:O 80:P 81:Q 82:R 83:S 84:T 85:U 86:V 87:W 88:X 89:Y 90:Z 91:[ 92:\\ 93:] 94:^ 95:_ 96:` 97:a 98:b 99:c 100:d 101:e 102:f 103:g 104:h 105:i 106:j 107:k 108:l 109:m 110:n 111:o 112:p 113:q 114:r 115:s 116:t 117:u 118:v 119:w 120:x 121:y 122:z 123:{ 124:| 125:} 126:~ "
     ]
    }
   ],
   "source": [
    "for i in range(33,127):\n",
    "     print(f'{i}:{chr(i)}', end=\" \" )\n",
    "    "
   ]
  },
  {
   "cell_type": "code",
   "execution_count": 1,
   "id": "8c21d1ba-e1bd-4a42-b155-b0efde024408",
   "metadata": {},
   "outputs": [
    {
     "name": "stdout",
     "output_type": "stream",
     "text": [
      "127: 126:~ 125:} 124:| 123:{ 122:z 121:y 120:x 119:w 118:v 117:u 116:t 115:s 114:r 113:q 112:p 111:o 110:n 109:m 108:l 107:k 106:j 105:i 104:h 103:g 102:f 101:e 100:d 99:c 98:b 97:a 96:` 95:_ 94:^ 93:] 92:\\ 91:[ 90:Z 89:Y 88:X 87:W 86:V 85:U 84:T 83:S 82:R 81:Q 80:P 79:O 78:N 77:M 76:L 75:K 74:J 73:I 72:H 71:G 70:F 69:E 68:D 67:C 66:B 65:A 64:@ 63:? 62:> 61:= 60:< 59:; 58:: 57:9 56:8 55:7 54:6 53:5 52:4 51:3 50:2 49:1 48:0 47:/ 46:. 45:- 44:, 43:+ 42:* 41:) 40:( 39:' 38:& 37:% 36:$ 35:# 34:\" 33:! "
     ]
    }
   ],
   "source": [
    "for i in range(127,32,-1):\n",
    "     print(f'{i}:{chr(i)}', end=\" \" )"
   ]
  },
  {
   "cell_type": "code",
   "execution_count": 43,
   "id": "64c6b9d0-aef8-41b2-9447-728aa6b42869",
   "metadata": {},
   "outputs": [
    {
     "name": "stdout",
     "output_type": "stream",
     "text": [
      "200:È 201:É 202:Ê 203:Ë 204:Ì 205:Í 206:Î 207:Ï 208:Ð 209:Ñ 210:Ò 211:Ó 212:Ô 213:Õ 214:Ö 215:× 216:Ø 217:Ù 218:Ú 219:Û 220:Ü 221:Ý 222:Þ 223:ß 224:à 225:á 226:â 227:ã 228:ä 229:å 230:æ 231:ç 232:è 233:é 234:ê 235:ë 236:ì 237:í 238:î 239:ï 240:ð 241:ñ 242:ò 243:ó 244:ô 245:õ 246:ö 247:÷ 248:ø 249:ù 250:ú 251:û 252:ü 253:ý 254:þ 255:ÿ 256:Ā 257:ā 258:Ă 259:ă 260:Ą 261:ą 262:Ć 263:ć 264:Ĉ 265:ĉ 266:Ċ 267:ċ 268:Č 269:č 270:Ď 271:ď 272:Đ 273:đ 274:Ē 275:ē 276:Ĕ 277:ĕ 278:Ė 279:ė 280:Ę 281:ę 282:Ě 283:ě 284:Ĝ 285:ĝ 286:Ğ 287:ğ 288:Ġ 289:ġ 290:Ģ 291:ģ 292:Ĥ 293:ĥ 294:Ħ 295:ħ 296:Ĩ 297:ĩ 298:Ī 299:ī 300:Ĭ 301:ĭ 302:Į 303:į 304:İ 305:ı 306:Ĳ 307:ĳ 308:Ĵ 309:ĵ 310:Ķ 311:ķ 312:ĸ 313:Ĺ 314:ĺ 315:Ļ 316:ļ 317:Ľ 318:ľ 319:Ŀ 320:ŀ 321:Ł 322:ł 323:Ń 324:ń 325:Ņ 326:ņ 327:Ň 328:ň 329:ŉ 330:Ŋ 331:ŋ 332:Ō 333:ō 334:Ŏ 335:ŏ 336:Ő 337:ő 338:Œ 339:œ 340:Ŕ 341:ŕ 342:Ŗ 343:ŗ 344:Ř 345:ř 346:Ś 347:ś 348:Ŝ 349:ŝ 350:Ş 351:ş 352:Š 353:š 354:Ţ 355:ţ 356:Ť 357:ť 358:Ŧ 359:ŧ 360:Ũ 361:ũ 362:Ū 363:ū 364:Ŭ 365:ŭ 366:Ů 367:ů 368:Ű 369:ű 370:Ų 371:ų 372:Ŵ 373:ŵ 374:Ŷ 375:ŷ 376:Ÿ 377:Ź 378:ź 379:Ż 380:ż 381:Ž 382:ž 383:ſ 384:ƀ 385:Ɓ 386:Ƃ 387:ƃ 388:Ƅ 389:ƅ 390:Ɔ 391:Ƈ 392:ƈ 393:Ɖ 394:Ɗ 395:Ƌ 396:ƌ 397:ƍ 398:Ǝ 399:Ə 400:Ɛ 401:Ƒ 402:ƒ 403:Ɠ 404:Ɣ 405:ƕ 406:Ɩ 407:Ɨ 408:Ƙ 409:ƙ 410:ƚ 411:ƛ 412:Ɯ 413:Ɲ 414:ƞ 415:Ɵ 416:Ơ 417:ơ 418:Ƣ 419:ƣ 420:Ƥ 421:ƥ 422:Ʀ 423:Ƨ 424:ƨ 425:Ʃ 426:ƪ 427:ƫ 428:Ƭ 429:ƭ 430:Ʈ 431:Ư 432:ư 433:Ʊ 434:Ʋ 435:Ƴ 436:ƴ 437:Ƶ 438:ƶ 439:Ʒ 440:Ƹ 441:ƹ 442:ƺ 443:ƻ 444:Ƽ 445:ƽ 446:ƾ 447:ƿ 448:ǀ 449:ǁ 450:ǂ 451:ǃ 452:Ǆ 453:ǅ 454:ǆ 455:Ǉ 456:ǈ 457:ǉ 458:Ǌ 459:ǋ 460:ǌ 461:Ǎ 462:ǎ 463:Ǐ 464:ǐ 465:Ǒ 466:ǒ 467:Ǔ 468:ǔ 469:Ǖ 470:ǖ 471:Ǘ 472:ǘ 473:Ǚ 474:ǚ 475:Ǜ 476:ǜ 477:ǝ 478:Ǟ 479:ǟ 480:Ǡ 481:ǡ 482:Ǣ 483:ǣ 484:Ǥ 485:ǥ 486:Ǧ 487:ǧ 488:Ǩ 489:ǩ 490:Ǫ 491:ǫ 492:Ǭ 493:ǭ 494:Ǯ 495:ǯ 496:ǰ 497:Ǳ 498:ǲ 499:ǳ "
     ]
    }
   ],
   "source": [
    "for i in range(200,500):\n",
    "     print(f'{i}:{chr(i)}', end=\" \" )"
   ]
  },
  {
   "cell_type": "code",
   "execution_count": 44,
   "id": "9271a513-3687-4350-ad50-fe614defcd63",
   "metadata": {},
   "outputs": [
    {
     "name": "stdout",
     "output_type": "stream",
     "text": [
      "500:Ǵ 501:ǵ 502:Ƕ 503:Ƿ 504:Ǹ 505:ǹ 506:Ǻ 507:ǻ 508:Ǽ 509:ǽ 510:Ǿ 511:ǿ 512:Ȁ 513:ȁ 514:Ȃ 515:ȃ 516:Ȅ 517:ȅ 518:Ȇ 519:ȇ 520:Ȉ 521:ȉ 522:Ȋ 523:ȋ 524:Ȍ 525:ȍ 526:Ȏ 527:ȏ 528:Ȑ 529:ȑ 530:Ȓ 531:ȓ 532:Ȕ 533:ȕ 534:Ȗ 535:ȗ 536:Ș 537:ș 538:Ț 539:ț 540:Ȝ 541:ȝ 542:Ȟ 543:ȟ 544:Ƞ 545:ȡ 546:Ȣ 547:ȣ 548:Ȥ 549:ȥ 550:Ȧ 551:ȧ 552:Ȩ 553:ȩ 554:Ȫ 555:ȫ 556:Ȭ 557:ȭ 558:Ȯ 559:ȯ 560:Ȱ 561:ȱ 562:Ȳ 563:ȳ 564:ȴ 565:ȵ 566:ȶ 567:ȷ 568:ȸ 569:ȹ 570:Ⱥ 571:Ȼ 572:ȼ 573:Ƚ 574:Ⱦ 575:ȿ 576:ɀ 577:Ɂ 578:ɂ 579:Ƀ 580:Ʉ 581:Ʌ 582:Ɇ 583:ɇ 584:Ɉ 585:ɉ 586:Ɋ 587:ɋ 588:Ɍ 589:ɍ 590:Ɏ 591:ɏ 592:ɐ 593:ɑ 594:ɒ 595:ɓ 596:ɔ 597:ɕ 598:ɖ 599:ɗ 600:ɘ 601:ə 602:ɚ 603:ɛ 604:ɜ 605:ɝ 606:ɞ 607:ɟ 608:ɠ 609:ɡ 610:ɢ 611:ɣ 612:ɤ 613:ɥ 614:ɦ 615:ɧ 616:ɨ 617:ɩ 618:ɪ 619:ɫ 620:ɬ 621:ɭ 622:ɮ 623:ɯ 624:ɰ 625:ɱ 626:ɲ 627:ɳ 628:ɴ 629:ɵ 630:ɶ 631:ɷ 632:ɸ 633:ɹ 634:ɺ 635:ɻ 636:ɼ 637:ɽ 638:ɾ 639:ɿ 640:ʀ 641:ʁ 642:ʂ 643:ʃ 644:ʄ 645:ʅ 646:ʆ 647:ʇ 648:ʈ 649:ʉ 650:ʊ 651:ʋ 652:ʌ 653:ʍ 654:ʎ 655:ʏ 656:ʐ 657:ʑ 658:ʒ 659:ʓ 660:ʔ 661:ʕ 662:ʖ 663:ʗ 664:ʘ 665:ʙ 666:ʚ 667:ʛ 668:ʜ 669:ʝ 670:ʞ 671:ʟ 672:ʠ 673:ʡ 674:ʢ 675:ʣ 676:ʤ 677:ʥ 678:ʦ 679:ʧ 680:ʨ 681:ʩ 682:ʪ 683:ʫ 684:ʬ 685:ʭ 686:ʮ 687:ʯ 688:ʰ 689:ʱ 690:ʲ 691:ʳ 692:ʴ 693:ʵ 694:ʶ 695:ʷ 696:ʸ 697:ʹ 698:ʺ 699:ʻ 700:ʼ 701:ʽ 702:ʾ 703:ʿ 704:ˀ 705:ˁ 706:˂ 707:˃ 708:˄ 709:˅ 710:ˆ 711:ˇ 712:ˈ 713:ˉ 714:ˊ 715:ˋ 716:ˌ 717:ˍ 718:ˎ 719:ˏ 720:ː 721:ˑ 722:˒ 723:˓ 724:˔ 725:˕ 726:˖ 727:˗ 728:˘ 729:˙ 730:˚ 731:˛ 732:˜ 733:˝ 734:˞ 735:˟ 736:ˠ 737:ˡ 738:ˢ 739:ˣ 740:ˤ 741:˥ 742:˦ 743:˧ 744:˨ 745:˩ 746:˪ 747:˫ 748:ˬ 749:˭ 750:ˮ 751:˯ 752:˰ 753:˱ 754:˲ 755:˳ 756:˴ 757:˵ 758:˶ 759:˷ 760:˸ 761:˹ 762:˺ 763:˻ 764:˼ 765:˽ 766:˾ 767:˿ 768:̀ 769:́ 770:̂ 771:̃ 772:̄ 773:̅ 774:̆ 775:̇ 776:̈ 777:̉ 778:̊ 779:̋ 780:̌ 781:̍ 782:̎ 783:̏ 784:̐ 785:̑ 786:̒ 787:̓ 788:̔ 789:̕ 790:̖ 791:̗ 792:̘ 793:̙ 794:̚ 795:̛ 796:̜ 797:̝ 798:̞ 799:̟ 800:̠ 801:̡ 802:̢ 803:̣ 804:̤ 805:̥ 806:̦ 807:̧ 808:̨ 809:̩ 810:̪ 811:̫ 812:̬ 813:̭ 814:̮ 815:̯ 816:̰ 817:̱ 818:̲ 819:̳ 820:̴ 821:̵ 822:̶ 823:̷ 824:̸ 825:̹ 826:̺ 827:̻ 828:̼ 829:̽ 830:̾ 831:̿ 832:̀ 833:́ 834:͂ 835:̓ 836:̈́ 837:ͅ 838:͆ 839:͇ 840:͈ 841:͉ 842:͊ 843:͋ 844:͌ 845:͍ 846:͎ 847:͏ 848:͐ 849:͑ 850:͒ 851:͓ 852:͔ 853:͕ 854:͖ 855:͗ 856:͘ 857:͙ 858:͚ 859:͛ 860:͜ 861:͝ 862:͞ 863:͟ 864:͠ 865:͡ 866:͢ 867:ͣ 868:ͤ 869:ͥ 870:ͦ 871:ͧ 872:ͨ 873:ͩ 874:ͪ 875:ͫ 876:ͬ 877:ͭ 878:ͮ 879:ͯ 880:Ͱ 881:ͱ 882:Ͳ 883:ͳ 884:ʹ 885:͵ 886:Ͷ 887:ͷ 888:͸ 889:͹ 890:ͺ 891:ͻ 892:ͼ 893:ͽ 894:; 895:Ϳ 896:΀ 897:΁ 898:΂ 899:΃ 900:΄ 901:΅ 902:Ά 903:· 904:Έ 905:Ή 906:Ί 907:΋ 908:Ό 909:΍ 910:Ύ 911:Ώ 912:ΐ 913:Α 914:Β 915:Γ 916:Δ 917:Ε 918:Ζ 919:Η 920:Θ 921:Ι 922:Κ 923:Λ 924:Μ 925:Ν 926:Ξ 927:Ο 928:Π 929:Ρ 930:΢ 931:Σ 932:Τ 933:Υ 934:Φ 935:Χ 936:Ψ 937:Ω 938:Ϊ 939:Ϋ 940:ά 941:έ 942:ή 943:ί 944:ΰ 945:α 946:β 947:γ 948:δ 949:ε 950:ζ 951:η 952:θ 953:ι 954:κ 955:λ 956:μ 957:ν 958:ξ 959:ο 960:π 961:ρ 962:ς 963:σ 964:τ 965:υ 966:φ 967:χ 968:ψ 969:ω 970:ϊ 971:ϋ 972:ό 973:ύ 974:ώ 975:Ϗ 976:ϐ 977:ϑ 978:ϒ 979:ϓ 980:ϔ 981:ϕ 982:ϖ 983:ϗ 984:Ϙ 985:ϙ 986:Ϛ 987:ϛ 988:Ϝ 989:ϝ 990:Ϟ 991:ϟ 992:Ϡ 993:ϡ 994:Ϣ 995:ϣ 996:Ϥ 997:ϥ 998:Ϧ 999:ϧ "
     ]
    }
   ],
   "source": [
    "for i in range(500,1000):\n",
    "     print(f'{i}:{chr(i)}', end=\" \" )"
   ]
  },
  {
   "cell_type": "code",
   "execution_count": 45,
   "id": "330974ad-07ed-4c90-b0b3-ab8fef7f0185",
   "metadata": {},
   "outputs": [
    {
     "name": "stdout",
     "output_type": "stream",
     "text": [
      "1000:Ϩ 1001:ϩ 1002:Ϫ 1003:ϫ 1004:Ϭ 1005:ϭ 1006:Ϯ 1007:ϯ 1008:ϰ 1009:ϱ 1010:ϲ 1011:ϳ 1012:ϴ 1013:ϵ 1014:϶ 1015:Ϸ 1016:ϸ 1017:Ϲ 1018:Ϻ 1019:ϻ 1020:ϼ 1021:Ͻ 1022:Ͼ 1023:Ͽ 1024:Ѐ 1025:Ё 1026:Ђ 1027:Ѓ 1028:Є 1029:Ѕ 1030:І 1031:Ї 1032:Ј 1033:Љ 1034:Њ 1035:Ћ 1036:Ќ 1037:Ѝ 1038:Ў 1039:Џ 1040:А 1041:Б 1042:В 1043:Г 1044:Д 1045:Е 1046:Ж 1047:З 1048:И 1049:Й 1050:К 1051:Л 1052:М 1053:Н 1054:О 1055:П 1056:Р 1057:С 1058:Т 1059:У 1060:Ф 1061:Х 1062:Ц 1063:Ч 1064:Ш 1065:Щ 1066:Ъ 1067:Ы 1068:Ь 1069:Э 1070:Ю 1071:Я 1072:а 1073:б 1074:в 1075:г 1076:д 1077:е 1078:ж 1079:з 1080:и 1081:й 1082:к 1083:л 1084:м 1085:н 1086:о 1087:п 1088:р 1089:с 1090:т 1091:у 1092:ф 1093:х 1094:ц 1095:ч 1096:ш 1097:щ 1098:ъ 1099:ы 1100:ь 1101:э 1102:ю 1103:я 1104:ѐ 1105:ё 1106:ђ 1107:ѓ 1108:є 1109:ѕ 1110:і 1111:ї 1112:ј 1113:љ 1114:њ 1115:ћ 1116:ќ 1117:ѝ 1118:ў 1119:џ 1120:Ѡ 1121:ѡ 1122:Ѣ 1123:ѣ 1124:Ѥ 1125:ѥ 1126:Ѧ 1127:ѧ 1128:Ѩ 1129:ѩ 1130:Ѫ 1131:ѫ 1132:Ѭ 1133:ѭ 1134:Ѯ 1135:ѯ 1136:Ѱ 1137:ѱ 1138:Ѳ 1139:ѳ 1140:Ѵ 1141:ѵ 1142:Ѷ 1143:ѷ 1144:Ѹ 1145:ѹ 1146:Ѻ 1147:ѻ 1148:Ѽ 1149:ѽ 1150:Ѿ 1151:ѿ 1152:Ҁ 1153:ҁ 1154:҂ 1155:҃ 1156:҄ 1157:҅ 1158:҆ 1159:҇ 1160:҈ 1161:҉ 1162:Ҋ 1163:ҋ 1164:Ҍ 1165:ҍ 1166:Ҏ 1167:ҏ 1168:Ґ 1169:ґ 1170:Ғ 1171:ғ 1172:Ҕ 1173:ҕ 1174:Җ 1175:җ 1176:Ҙ 1177:ҙ 1178:Қ 1179:қ 1180:Ҝ 1181:ҝ 1182:Ҟ 1183:ҟ 1184:Ҡ 1185:ҡ 1186:Ң 1187:ң 1188:Ҥ 1189:ҥ 1190:Ҧ 1191:ҧ 1192:Ҩ 1193:ҩ 1194:Ҫ 1195:ҫ 1196:Ҭ 1197:ҭ 1198:Ү 1199:ү 1200:Ұ 1201:ұ 1202:Ҳ 1203:ҳ 1204:Ҵ 1205:ҵ 1206:Ҷ 1207:ҷ 1208:Ҹ 1209:ҹ 1210:Һ 1211:һ 1212:Ҽ 1213:ҽ 1214:Ҿ 1215:ҿ 1216:Ӏ 1217:Ӂ 1218:ӂ 1219:Ӄ 1220:ӄ 1221:Ӆ 1222:ӆ 1223:Ӈ 1224:ӈ 1225:Ӊ 1226:ӊ 1227:Ӌ 1228:ӌ 1229:Ӎ 1230:ӎ 1231:ӏ 1232:Ӑ 1233:ӑ 1234:Ӓ 1235:ӓ 1236:Ӕ 1237:ӕ 1238:Ӗ 1239:ӗ 1240:Ә 1241:ә 1242:Ӛ 1243:ӛ 1244:Ӝ 1245:ӝ 1246:Ӟ 1247:ӟ 1248:Ӡ 1249:ӡ 1250:Ӣ 1251:ӣ 1252:Ӥ 1253:ӥ 1254:Ӧ 1255:ӧ 1256:Ө 1257:ө 1258:Ӫ 1259:ӫ 1260:Ӭ 1261:ӭ 1262:Ӯ 1263:ӯ 1264:Ӱ 1265:ӱ 1266:Ӳ 1267:ӳ 1268:Ӵ 1269:ӵ 1270:Ӷ 1271:ӷ 1272:Ӹ 1273:ӹ 1274:Ӻ 1275:ӻ 1276:Ӽ 1277:ӽ 1278:Ӿ 1279:ӿ 1280:Ԁ 1281:ԁ 1282:Ԃ 1283:ԃ 1284:Ԅ 1285:ԅ 1286:Ԇ 1287:ԇ 1288:Ԉ 1289:ԉ 1290:Ԋ 1291:ԋ 1292:Ԍ 1293:ԍ 1294:Ԏ 1295:ԏ 1296:Ԑ 1297:ԑ 1298:Ԓ 1299:ԓ 1300:Ԕ 1301:ԕ 1302:Ԗ 1303:ԗ 1304:Ԙ 1305:ԙ 1306:Ԛ 1307:ԛ 1308:Ԝ 1309:ԝ 1310:Ԟ 1311:ԟ 1312:Ԡ 1313:ԡ 1314:Ԣ 1315:ԣ 1316:Ԥ 1317:ԥ 1318:Ԧ 1319:ԧ 1320:Ԩ 1321:ԩ 1322:Ԫ 1323:ԫ 1324:Ԭ 1325:ԭ 1326:Ԯ 1327:ԯ 1328:԰ 1329:Ա 1330:Բ 1331:Գ 1332:Դ 1333:Ե 1334:Զ 1335:Է 1336:Ը 1337:Թ 1338:Ժ 1339:Ի 1340:Լ 1341:Խ 1342:Ծ 1343:Կ 1344:Հ 1345:Ձ 1346:Ղ 1347:Ճ 1348:Մ 1349:Յ 1350:Ն 1351:Շ 1352:Ո 1353:Չ 1354:Պ 1355:Ջ 1356:Ռ 1357:Ս 1358:Վ 1359:Տ 1360:Ր 1361:Ց 1362:Ւ 1363:Փ 1364:Ք 1365:Օ 1366:Ֆ 1367:՗ 1368:՘ 1369:ՙ 1370:՚ 1371:՛ 1372:՜ 1373:՝ 1374:՞ 1375:՟ 1376:ՠ 1377:ա 1378:բ 1379:գ 1380:դ 1381:ե 1382:զ 1383:է 1384:ը 1385:թ 1386:ժ 1387:ի 1388:լ 1389:խ 1390:ծ 1391:կ 1392:հ 1393:ձ 1394:ղ 1395:ճ 1396:մ 1397:յ 1398:ն 1399:շ 1400:ո 1401:չ 1402:պ 1403:ջ 1404:ռ 1405:ս 1406:վ 1407:տ 1408:ր 1409:ց 1410:ւ 1411:փ 1412:ք 1413:օ 1414:ֆ 1415:և 1416:ֈ 1417:։ 1418:֊ 1419:֋ 1420:֌ 1421:֍ 1422:֎ 1423:֏ 1424:֐ 1425:֑ 1426:֒ 1427:֓ 1428:֔ 1429:֕ 1430:֖ 1431:֗ 1432:֘ 1433:֙ 1434:֚ 1435:֛ 1436:֜ 1437:֝ 1438:֞ 1439:֟ 1440:֠ 1441:֡ 1442:֢ 1443:֣ 1444:֤ 1445:֥ 1446:֦ 1447:֧ 1448:֨ 1449:֩ 1450:֪ 1451:֫ 1452:֬ 1453:֭ 1454:֮ 1455:֯ 1456:ְ 1457:ֱ 1458:ֲ 1459:ֳ 1460:ִ 1461:ֵ 1462:ֶ 1463:ַ 1464:ָ 1465:ֹ 1466:ֺ 1467:ֻ 1468:ּ 1469:ֽ 1470:־ 1471:ֿ 1472:׀ 1473:ׁ 1474:ׂ 1475:׃ 1476:ׄ 1477:ׅ 1478:׆ 1479:ׇ 1480:׈ 1481:׉ 1482:׊ 1483:׋ 1484:׌ 1485:׍ 1486:׎ 1487:׏ 1488:א 1489:ב 1490:ג 1491:ד 1492:ה 1493:ו 1494:ז 1495:ח 1496:ט 1497:י 1498:ך 1499:כ "
     ]
    }
   ],
   "source": [
    "for i in range(1000,1500):\n",
    "     print(f'{i}:{chr(i)}', end=\" \" )"
   ]
  },
  {
   "cell_type": "code",
   "execution_count": 46,
   "id": "899299df-2f77-4974-a407-4079cc41a006",
   "metadata": {},
   "outputs": [
    {
     "name": "stdout",
     "output_type": "stream",
     "text": [
      "1500:ל 1501:ם 1502:מ 1503:ן 1504:נ 1505:ס 1506:ע 1507:ף 1508:פ 1509:ץ 1510:צ 1511:ק 1512:ר 1513:ש 1514:ת 1515:׫ 1516:׬ 1517:׭ 1518:׮ 1519:ׯ 1520:װ 1521:ױ 1522:ײ 1523:׳ 1524:״ 1525:׵ 1526:׶ 1527:׷ 1528:׸ 1529:׹ 1530:׺ 1531:׻ 1532:׼ 1533:׽ 1534:׾ 1535:׿ 1536:؀ 1537:؁ 1538:؂ 1539:؃ 1540:؄ 1541:؅ 1542:؆ 1543:؇ 1544:؈ 1545:؉ 1546:؊ 1547:؋ 1548:، 1549:؍ 1550:؎ 1551:؏ 1552:ؐ 1553:ؑ 1554:ؒ 1555:ؓ 1556:ؔ 1557:ؕ 1558:ؖ 1559:ؗ 1560:ؘ 1561:ؙ 1562:ؚ 1563:؛ 1564:؜ 1565:؝ 1566:؞ 1567:؟ 1568:ؠ 1569:ء 1570:آ 1571:أ 1572:ؤ 1573:إ 1574:ئ 1575:ا 1576:ب 1577:ة 1578:ت 1579:ث 1580:ج 1581:ح 1582:خ 1583:د 1584:ذ 1585:ر 1586:ز 1587:س 1588:ش 1589:ص 1590:ض 1591:ط 1592:ظ 1593:ع 1594:غ 1595:ػ 1596:ؼ 1597:ؽ 1598:ؾ 1599:ؿ 1600:ـ 1601:ف 1602:ق 1603:ك 1604:ل 1605:م 1606:ن 1607:ه 1608:و 1609:ى 1610:ي 1611:ً 1612:ٌ 1613:ٍ 1614:َ 1615:ُ 1616:ِ 1617:ّ 1618:ْ 1619:ٓ 1620:ٔ 1621:ٕ 1622:ٖ 1623:ٗ 1624:٘ 1625:ٙ 1626:ٚ 1627:ٛ 1628:ٜ 1629:ٝ 1630:ٞ 1631:ٟ 1632:٠ 1633:١ 1634:٢ 1635:٣ 1636:٤ 1637:٥ 1638:٦ 1639:٧ 1640:٨ 1641:٩ 1642:٪ 1643:٫ 1644:٬ 1645:٭ 1646:ٮ 1647:ٯ 1648:ٰ 1649:ٱ 1650:ٲ 1651:ٳ 1652:ٴ 1653:ٵ 1654:ٶ 1655:ٷ 1656:ٸ 1657:ٹ 1658:ٺ 1659:ٻ 1660:ټ 1661:ٽ 1662:پ 1663:ٿ 1664:ڀ 1665:ځ 1666:ڂ 1667:ڃ 1668:ڄ 1669:څ 1670:چ 1671:ڇ 1672:ڈ 1673:ډ 1674:ڊ 1675:ڋ 1676:ڌ 1677:ڍ 1678:ڎ 1679:ڏ 1680:ڐ 1681:ڑ 1682:ڒ 1683:ړ 1684:ڔ 1685:ڕ 1686:ږ 1687:ڗ 1688:ژ 1689:ڙ 1690:ښ 1691:ڛ 1692:ڜ 1693:ڝ 1694:ڞ 1695:ڟ 1696:ڠ 1697:ڡ 1698:ڢ 1699:ڣ 1700:ڤ 1701:ڥ 1702:ڦ 1703:ڧ 1704:ڨ 1705:ک 1706:ڪ 1707:ګ 1708:ڬ 1709:ڭ 1710:ڮ 1711:گ 1712:ڰ 1713:ڱ 1714:ڲ 1715:ڳ 1716:ڴ 1717:ڵ 1718:ڶ 1719:ڷ 1720:ڸ 1721:ڹ 1722:ں 1723:ڻ 1724:ڼ 1725:ڽ 1726:ھ 1727:ڿ 1728:ۀ 1729:ہ 1730:ۂ 1731:ۃ 1732:ۄ 1733:ۅ 1734:ۆ 1735:ۇ 1736:ۈ 1737:ۉ 1738:ۊ 1739:ۋ 1740:ی 1741:ۍ 1742:ێ 1743:ۏ 1744:ې 1745:ۑ 1746:ے 1747:ۓ 1748:۔ 1749:ە 1750:ۖ 1751:ۗ 1752:ۘ 1753:ۙ 1754:ۚ 1755:ۛ 1756:ۜ 1757:۝ 1758:۞ 1759:۟ 1760:۠ 1761:ۡ 1762:ۢ 1763:ۣ 1764:ۤ 1765:ۥ 1766:ۦ 1767:ۧ 1768:ۨ 1769:۩ 1770:۪ 1771:۫ 1772:۬ 1773:ۭ 1774:ۮ 1775:ۯ 1776:۰ 1777:۱ 1778:۲ 1779:۳ 1780:۴ 1781:۵ 1782:۶ 1783:۷ 1784:۸ 1785:۹ 1786:ۺ 1787:ۻ 1788:ۼ 1789:۽ 1790:۾ 1791:ۿ 1792:܀ 1793:܁ 1794:܂ 1795:܃ 1796:܄ 1797:܅ 1798:܆ 1799:܇ 1800:܈ 1801:܉ 1802:܊ 1803:܋ 1804:܌ 1805:܍ 1806:܎ 1807:܏ 1808:ܐ 1809:ܑ 1810:ܒ 1811:ܓ 1812:ܔ 1813:ܕ 1814:ܖ 1815:ܗ 1816:ܘ 1817:ܙ 1818:ܚ 1819:ܛ 1820:ܜ 1821:ܝ 1822:ܞ 1823:ܟ 1824:ܠ 1825:ܡ 1826:ܢ 1827:ܣ 1828:ܤ 1829:ܥ 1830:ܦ 1831:ܧ 1832:ܨ 1833:ܩ 1834:ܪ 1835:ܫ 1836:ܬ 1837:ܭ 1838:ܮ 1839:ܯ 1840:ܰ 1841:ܱ 1842:ܲ 1843:ܳ 1844:ܴ 1845:ܵ 1846:ܶ 1847:ܷ 1848:ܸ 1849:ܹ 1850:ܺ 1851:ܻ 1852:ܼ 1853:ܽ 1854:ܾ 1855:ܿ 1856:݀ 1857:݁ 1858:݂ 1859:݃ 1860:݄ 1861:݅ 1862:݆ 1863:݇ 1864:݈ 1865:݉ 1866:݊ 1867:݋ 1868:݌ 1869:ݍ 1870:ݎ 1871:ݏ 1872:ݐ 1873:ݑ 1874:ݒ 1875:ݓ 1876:ݔ 1877:ݕ 1878:ݖ 1879:ݗ 1880:ݘ 1881:ݙ 1882:ݚ 1883:ݛ 1884:ݜ 1885:ݝ 1886:ݞ 1887:ݟ 1888:ݠ 1889:ݡ 1890:ݢ 1891:ݣ 1892:ݤ 1893:ݥ 1894:ݦ 1895:ݧ 1896:ݨ 1897:ݩ 1898:ݪ 1899:ݫ 1900:ݬ 1901:ݭ 1902:ݮ 1903:ݯ 1904:ݰ 1905:ݱ 1906:ݲ 1907:ݳ 1908:ݴ 1909:ݵ 1910:ݶ 1911:ݷ 1912:ݸ 1913:ݹ 1914:ݺ 1915:ݻ 1916:ݼ 1917:ݽ 1918:ݾ 1919:ݿ 1920:ހ 1921:ށ 1922:ނ 1923:ރ 1924:ބ 1925:ޅ 1926:ކ 1927:އ 1928:ވ 1929:މ 1930:ފ 1931:ދ 1932:ތ 1933:ލ 1934:ގ 1935:ޏ 1936:ސ 1937:ޑ 1938:ޒ 1939:ޓ 1940:ޔ 1941:ޕ 1942:ޖ 1943:ޗ 1944:ޘ 1945:ޙ 1946:ޚ 1947:ޛ 1948:ޜ 1949:ޝ 1950:ޞ 1951:ޟ 1952:ޠ 1953:ޡ 1954:ޢ 1955:ޣ 1956:ޤ 1957:ޥ 1958:ަ 1959:ާ 1960:ި 1961:ީ 1962:ު 1963:ޫ 1964:ެ 1965:ޭ 1966:ޮ 1967:ޯ 1968:ް 1969:ޱ 1970:޲ 1971:޳ 1972:޴ 1973:޵ 1974:޶ 1975:޷ 1976:޸ 1977:޹ 1978:޺ 1979:޻ 1980:޼ 1981:޽ 1982:޾ 1983:޿ 1984:߀ 1985:߁ 1986:߂ 1987:߃ 1988:߄ 1989:߅ 1990:߆ 1991:߇ 1992:߈ 1993:߉ 1994:ߊ 1995:ߋ 1996:ߌ 1997:ߍ 1998:ߎ 1999:ߏ "
     ]
    }
   ],
   "source": [
    "for i in range(1500,2000):\n",
    "     print(f'{i}:{chr(i)}', end=\" \" )"
   ]
  },
  {
   "cell_type": "code",
   "execution_count": 47,
   "id": "108a1b33-388d-49fc-8814-3c7c64e41eff",
   "metadata": {},
   "outputs": [
    {
     "name": "stdout",
     "output_type": "stream",
     "text": [
      "2000:ߐ 2001:ߑ 2002:ߒ 2003:ߓ 2004:ߔ 2005:ߕ 2006:ߖ 2007:ߗ 2008:ߘ 2009:ߙ 2010:ߚ 2011:ߛ 2012:ߜ 2013:ߝ 2014:ߞ 2015:ߟ 2016:ߠ 2017:ߡ 2018:ߢ 2019:ߣ 2020:ߤ 2021:ߥ 2022:ߦ 2023:ߧ 2024:ߨ 2025:ߩ 2026:ߪ 2027:߫ 2028:߬ 2029:߭ 2030:߮ 2031:߯ 2032:߰ 2033:߱ 2034:߲ 2035:߳ 2036:ߴ 2037:ߵ 2038:߶ 2039:߷ 2040:߸ 2041:߹ 2042:ߺ 2043:߻ 2044:߼ 2045:߽ 2046:߾ 2047:߿ 2048:ࠀ 2049:ࠁ 2050:ࠂ 2051:ࠃ 2052:ࠄ 2053:ࠅ 2054:ࠆ 2055:ࠇ 2056:ࠈ 2057:ࠉ 2058:ࠊ 2059:ࠋ 2060:ࠌ 2061:ࠍ 2062:ࠎ 2063:ࠏ 2064:ࠐ 2065:ࠑ 2066:ࠒ 2067:ࠓ 2068:ࠔ 2069:ࠕ 2070:ࠖ 2071:ࠗ 2072:࠘ 2073:࠙ 2074:ࠚ 2075:ࠛ 2076:ࠜ 2077:ࠝ 2078:ࠞ 2079:ࠟ 2080:ࠠ 2081:ࠡ 2082:ࠢ 2083:ࠣ 2084:ࠤ 2085:ࠥ 2086:ࠦ 2087:ࠧ 2088:ࠨ 2089:ࠩ 2090:ࠪ 2091:ࠫ 2092:ࠬ 2093:࠭ 2094:࠮ 2095:࠯ 2096:࠰ 2097:࠱ 2098:࠲ 2099:࠳ 2100:࠴ 2101:࠵ 2102:࠶ 2103:࠷ 2104:࠸ 2105:࠹ 2106:࠺ 2107:࠻ 2108:࠼ 2109:࠽ 2110:࠾ 2111:࠿ 2112:ࡀ 2113:ࡁ 2114:ࡂ 2115:ࡃ 2116:ࡄ 2117:ࡅ 2118:ࡆ 2119:ࡇ 2120:ࡈ 2121:ࡉ 2122:ࡊ 2123:ࡋ 2124:ࡌ 2125:ࡍ 2126:ࡎ 2127:ࡏ 2128:ࡐ 2129:ࡑ 2130:ࡒ 2131:ࡓ 2132:ࡔ 2133:ࡕ 2134:ࡖ 2135:ࡗ 2136:ࡘ 2137:࡙ 2138:࡚ 2139:࡛ 2140:࡜ 2141:࡝ 2142:࡞ 2143:࡟ 2144:ࡠ 2145:ࡡ 2146:ࡢ 2147:ࡣ 2148:ࡤ 2149:ࡥ 2150:ࡦ 2151:ࡧ 2152:ࡨ 2153:ࡩ 2154:ࡪ 2155:࡫ 2156:࡬ 2157:࡭ 2158:࡮ 2159:࡯ 2160:ࡰ 2161:ࡱ 2162:ࡲ 2163:ࡳ 2164:ࡴ 2165:ࡵ 2166:ࡶ 2167:ࡷ 2168:ࡸ 2169:ࡹ 2170:ࡺ 2171:ࡻ 2172:ࡼ 2173:ࡽ 2174:ࡾ 2175:ࡿ 2176:ࢀ 2177:ࢁ 2178:ࢂ 2179:ࢃ 2180:ࢄ 2181:ࢅ 2182:ࢆ 2183:ࢇ 2184:࢈ 2185:ࢉ 2186:ࢊ 2187:ࢋ 2188:ࢌ 2189:ࢍ 2190:ࢎ 2191:࢏ 2192:࢐ 2193:࢑ 2194:࢒ 2195:࢓ 2196:࢔ 2197:࢕ 2198:࢖ 2199:ࢗ 2200:࢘ 2201:࢙ 2202:࢚ 2203:࢛ 2204:࢜ 2205:࢝ 2206:࢞ 2207:࢟ 2208:ࢠ 2209:ࢡ 2210:ࢢ 2211:ࢣ 2212:ࢤ 2213:ࢥ 2214:ࢦ 2215:ࢧ 2216:ࢨ 2217:ࢩ 2218:ࢪ 2219:ࢫ 2220:ࢬ 2221:ࢭ 2222:ࢮ 2223:ࢯ 2224:ࢰ 2225:ࢱ 2226:ࢲ 2227:ࢳ 2228:ࢴ 2229:ࢵ 2230:ࢶ 2231:ࢷ 2232:ࢸ 2233:ࢹ 2234:ࢺ 2235:ࢻ 2236:ࢼ 2237:ࢽ 2238:ࢾ 2239:ࢿ 2240:ࣀ 2241:ࣁ 2242:ࣂ 2243:ࣃ 2244:ࣄ 2245:ࣅ 2246:ࣆ 2247:ࣇ 2248:ࣈ 2249:ࣉ 2250:࣊ 2251:࣋ 2252:࣌ 2253:࣍ 2254:࣎ 2255:࣏ 2256:࣐ 2257:࣑ 2258:࣒ 2259:࣓ 2260:ࣔ 2261:ࣕ 2262:ࣖ 2263:ࣗ 2264:ࣘ 2265:ࣙ 2266:ࣚ 2267:ࣛ 2268:ࣜ 2269:ࣝ 2270:ࣞ 2271:ࣟ 2272:࣠ 2273:࣡ 2274:࣢ 2275:ࣣ 2276:ࣤ 2277:ࣥ 2278:ࣦ 2279:ࣧ 2280:ࣨ 2281:ࣩ 2282:࣪ 2283:࣫ 2284:࣬ 2285:࣭ 2286:࣮ 2287:࣯ 2288:ࣰ 2289:ࣱ 2290:ࣲ 2291:ࣳ 2292:ࣴ 2293:ࣵ 2294:ࣶ 2295:ࣷ 2296:ࣸ 2297:ࣹ 2298:ࣺ 2299:ࣻ 2300:ࣼ 2301:ࣽ 2302:ࣾ 2303:ࣿ 2304:ऀ 2305:ँ 2306:ं 2307:ः 2308:ऄ 2309:अ 2310:आ 2311:इ 2312:ई 2313:उ 2314:ऊ 2315:ऋ 2316:ऌ 2317:ऍ 2318:ऎ 2319:ए 2320:ऐ 2321:ऑ 2322:ऒ 2323:ओ 2324:औ 2325:क 2326:ख 2327:ग 2328:घ 2329:ङ 2330:च 2331:छ 2332:ज 2333:झ 2334:ञ 2335:ट 2336:ठ 2337:ड 2338:ढ 2339:ण 2340:त 2341:थ 2342:द 2343:ध 2344:न 2345:ऩ 2346:प 2347:फ 2348:ब 2349:भ 2350:म 2351:य 2352:र 2353:ऱ 2354:ल 2355:ळ 2356:ऴ 2357:व 2358:श 2359:ष 2360:स 2361:ह 2362:ऺ 2363:ऻ 2364:़ 2365:ऽ 2366:ा 2367:ि 2368:ी 2369:ु 2370:ू 2371:ृ 2372:ॄ 2373:ॅ 2374:ॆ 2375:े 2376:ै 2377:ॉ 2378:ॊ 2379:ो 2380:ौ 2381:् 2382:ॎ 2383:ॏ 2384:ॐ 2385:॑ 2386:॒ 2387:॓ 2388:॔ 2389:ॕ 2390:ॖ 2391:ॗ 2392:क़ 2393:ख़ 2394:ग़ 2395:ज़ 2396:ड़ 2397:ढ़ 2398:फ़ 2399:य़ 2400:ॠ 2401:ॡ 2402:ॢ 2403:ॣ 2404:। 2405:॥ 2406:० 2407:१ 2408:२ 2409:३ 2410:४ 2411:५ 2412:६ 2413:७ 2414:८ 2415:९ 2416:॰ 2417:ॱ 2418:ॲ 2419:ॳ 2420:ॴ 2421:ॵ 2422:ॶ 2423:ॷ 2424:ॸ 2425:ॹ 2426:ॺ 2427:ॻ 2428:ॼ 2429:ॽ 2430:ॾ 2431:ॿ 2432:ঀ 2433:ঁ 2434:ং 2435:ঃ 2436:঄ 2437:অ 2438:আ 2439:ই 2440:ঈ 2441:উ 2442:ঊ 2443:ঋ 2444:ঌ 2445:঍ 2446:঎ 2447:এ 2448:ঐ 2449:঑ 2450:঒ 2451:ও 2452:ঔ 2453:ক 2454:খ 2455:গ 2456:ঘ 2457:ঙ 2458:চ 2459:ছ 2460:জ 2461:ঝ 2462:ঞ 2463:ট 2464:ঠ 2465:ড 2466:ঢ 2467:ণ 2468:ত 2469:থ 2470:দ 2471:ধ 2472:ন 2473:঩ 2474:প 2475:ফ 2476:ব 2477:ভ 2478:ম 2479:য 2480:র 2481:঱ 2482:ল 2483:঳ 2484:঴ 2485:঵ 2486:শ 2487:ষ 2488:স 2489:হ 2490:঺ 2491:঻ 2492:় 2493:ঽ 2494:া 2495:ি 2496:ী 2497:ু 2498:ূ 2499:ৃ 2500:ৄ 2501:৅ 2502:৆ 2503:ে 2504:ৈ 2505:৉ 2506:৊ 2507:ো 2508:ৌ 2509:্ 2510:ৎ 2511:৏ 2512:৐ 2513:৑ 2514:৒ 2515:৓ 2516:৔ 2517:৕ 2518:৖ 2519:ৗ 2520:৘ 2521:৙ 2522:৚ 2523:৛ 2524:ড় 2525:ঢ় 2526:৞ 2527:য় 2528:ৠ 2529:ৡ 2530:ৢ 2531:ৣ 2532:৤ 2533:৥ 2534:০ 2535:১ 2536:২ 2537:৩ 2538:৪ 2539:৫ 2540:৬ 2541:৭ 2542:৮ 2543:৯ 2544:ৰ 2545:ৱ 2546:৲ 2547:৳ 2548:৴ 2549:৵ 2550:৶ 2551:৷ 2552:৸ 2553:৹ 2554:৺ 2555:৻ 2556:ৼ 2557:৽ 2558:৾ 2559:৿ 2560:਀ 2561:ਁ 2562:ਂ 2563:ਃ 2564:਄ 2565:ਅ 2566:ਆ 2567:ਇ 2568:ਈ 2569:ਉ 2570:ਊ 2571:਋ 2572:਌ 2573:਍ 2574:਎ 2575:ਏ 2576:ਐ 2577:਑ 2578:਒ 2579:ਓ 2580:ਔ 2581:ਕ 2582:ਖ 2583:ਗ 2584:ਘ 2585:ਙ 2586:ਚ 2587:ਛ 2588:ਜ 2589:ਝ 2590:ਞ 2591:ਟ 2592:ਠ 2593:ਡ 2594:ਢ 2595:ਣ 2596:ਤ 2597:ਥ 2598:ਦ 2599:ਧ 2600:ਨ 2601:਩ 2602:ਪ 2603:ਫ 2604:ਬ 2605:ਭ 2606:ਮ 2607:ਯ 2608:ਰ 2609:਱ 2610:ਲ 2611:ਲ਼ 2612:਴ 2613:ਵ 2614:ਸ਼ 2615:਷ 2616:ਸ 2617:ਹ 2618:਺ 2619:਻ 2620:਼ 2621:਽ 2622:ਾ 2623:ਿ 2624:ੀ 2625:ੁ 2626:ੂ 2627:੃ 2628:੄ 2629:੅ 2630:੆ 2631:ੇ 2632:ੈ 2633:੉ 2634:੊ 2635:ੋ 2636:ੌ 2637:੍ 2638:੎ 2639:੏ 2640:੐ 2641:ੑ 2642:੒ 2643:੓ 2644:੔ 2645:੕ 2646:੖ 2647:੗ 2648:੘ 2649:ਖ਼ 2650:ਗ਼ 2651:ਜ਼ 2652:ੜ 2653:੝ 2654:ਫ਼ 2655:੟ 2656:੠ 2657:੡ 2658:੢ 2659:੣ 2660:੤ 2661:੥ 2662:੦ 2663:੧ 2664:੨ 2665:੩ 2666:੪ 2667:੫ 2668:੬ 2669:੭ 2670:੮ 2671:੯ 2672:ੰ 2673:ੱ 2674:ੲ 2675:ੳ 2676:ੴ 2677:ੵ 2678:੶ 2679:੷ 2680:੸ 2681:੹ 2682:੺ 2683:੻ 2684:੼ 2685:੽ 2686:੾ 2687:੿ 2688:઀ 2689:ઁ 2690:ં 2691:ઃ 2692:઄ 2693:અ 2694:આ 2695:ઇ 2696:ઈ 2697:ઉ 2698:ઊ 2699:ઋ 2700:ઌ 2701:ઍ 2702:઎ 2703:એ 2704:ઐ 2705:ઑ 2706:઒ 2707:ઓ 2708:ઔ 2709:ક 2710:ખ 2711:ગ 2712:ઘ 2713:ઙ 2714:ચ 2715:છ 2716:જ 2717:ઝ 2718:ઞ 2719:ટ 2720:ઠ 2721:ડ 2722:ઢ 2723:ણ 2724:ત 2725:થ 2726:દ 2727:ધ 2728:ન 2729:઩ 2730:પ 2731:ફ 2732:બ 2733:ભ 2734:મ 2735:ય 2736:ર 2737:઱ 2738:લ 2739:ળ 2740:઴ 2741:વ 2742:શ 2743:ષ 2744:સ 2745:હ 2746:઺ 2747:઻ 2748:઼ 2749:ઽ 2750:ા 2751:િ 2752:ી 2753:ુ 2754:ૂ 2755:ૃ 2756:ૄ 2757:ૅ 2758:૆ 2759:ે 2760:ૈ 2761:ૉ 2762:૊ 2763:ો 2764:ૌ 2765:્ 2766:૎ 2767:૏ 2768:ૐ 2769:૑ 2770:૒ 2771:૓ 2772:૔ 2773:૕ 2774:૖ 2775:૗ 2776:૘ 2777:૙ 2778:૚ 2779:૛ 2780:૜ 2781:૝ 2782:૞ 2783:૟ 2784:ૠ 2785:ૡ 2786:ૢ 2787:ૣ 2788:૤ 2789:૥ 2790:૦ 2791:૧ 2792:૨ 2793:૩ 2794:૪ 2795:૫ 2796:૬ 2797:૭ 2798:૮ 2799:૯ 2800:૰ 2801:૱ 2802:૲ 2803:૳ 2804:૴ 2805:૵ 2806:૶ 2807:૷ 2808:૸ 2809:ૹ 2810:ૺ 2811:ૻ 2812:ૼ 2813:૽ 2814:૾ 2815:૿ 2816:଀ 2817:ଁ 2818:ଂ 2819:ଃ 2820:଄ 2821:ଅ 2822:ଆ 2823:ଇ 2824:ଈ 2825:ଉ 2826:ଊ 2827:ଋ 2828:ଌ 2829:଍ 2830:଎ 2831:ଏ 2832:ଐ 2833:଑ 2834:଒ 2835:ଓ 2836:ଔ 2837:କ 2838:ଖ 2839:ଗ 2840:ଘ 2841:ଙ 2842:ଚ 2843:ଛ 2844:ଜ 2845:ଝ 2846:ଞ 2847:ଟ 2848:ଠ 2849:ଡ 2850:ଢ 2851:ଣ 2852:ତ 2853:ଥ 2854:ଦ 2855:ଧ 2856:ନ 2857:଩ 2858:ପ 2859:ଫ 2860:ବ 2861:ଭ 2862:ମ 2863:ଯ 2864:ର 2865:଱ 2866:ଲ 2867:ଳ 2868:଴ 2869:ଵ 2870:ଶ 2871:ଷ 2872:ସ 2873:ହ 2874:଺ 2875:଻ 2876:଼ 2877:ଽ 2878:ା 2879:ି 2880:ୀ 2881:ୁ 2882:ୂ 2883:ୃ 2884:ୄ 2885:୅ 2886:୆ 2887:େ 2888:ୈ 2889:୉ 2890:୊ 2891:ୋ 2892:ୌ 2893:୍ 2894:୎ 2895:୏ 2896:୐ 2897:୑ 2898:୒ 2899:୓ 2900:୔ 2901:୕ 2902:ୖ 2903:ୗ 2904:୘ 2905:୙ 2906:୚ 2907:୛ 2908:ଡ଼ 2909:ଢ଼ 2910:୞ 2911:ୟ 2912:ୠ 2913:ୡ 2914:ୢ 2915:ୣ 2916:୤ 2917:୥ 2918:୦ 2919:୧ 2920:୨ 2921:୩ 2922:୪ 2923:୫ 2924:୬ 2925:୭ 2926:୮ 2927:୯ 2928:୰ 2929:ୱ 2930:୲ 2931:୳ 2932:୴ 2933:୵ 2934:୶ 2935:୷ 2936:୸ 2937:୹ 2938:୺ 2939:୻ 2940:୼ 2941:୽ 2942:୾ 2943:୿ 2944:஀ 2945:஁ 2946:ஂ 2947:ஃ 2948:஄ 2949:அ 2950:ஆ 2951:இ 2952:ஈ 2953:உ 2954:ஊ 2955:஋ 2956:஌ 2957:஍ 2958:எ 2959:ஏ 2960:ஐ 2961:஑ 2962:ஒ 2963:ஓ 2964:ஔ 2965:க 2966:஖ 2967:஗ 2968:஘ 2969:ங 2970:ச 2971:஛ 2972:ஜ 2973:஝ 2974:ஞ 2975:ட 2976:஠ 2977:஡ 2978:஢ 2979:ண 2980:த 2981:஥ 2982:஦ 2983:஧ 2984:ந 2985:ன 2986:ப 2987:஫ 2988:஬ 2989:஭ 2990:ம 2991:ய 2992:ர 2993:ற 2994:ல 2995:ள 2996:ழ 2997:வ 2998:ஶ 2999:ஷ "
     ]
    }
   ],
   "source": [
    "for i in range(2000,3000):\n",
    "     print(f'{i}:{chr(i)}', end=\" \" )"
   ]
  },
  {
   "cell_type": "code",
   "execution_count": 48,
   "id": "0f9d1d09-7109-461c-b7b7-fd42b4635d52",
   "metadata": {},
   "outputs": [
    {
     "name": "stdout",
     "output_type": "stream",
     "text": [
      "3000:ஸ 3001:ஹ 3002:஺ 3003:஻ 3004:஼ 3005:஽ 3006:ா 3007:ி 3008:ீ 3009:ு 3010:ூ 3011:௃ 3012:௄ 3013:௅ 3014:ெ 3015:ே 3016:ை 3017:௉ 3018:ொ 3019:ோ 3020:ௌ 3021:் 3022:௎ 3023:௏ 3024:ௐ 3025:௑ 3026:௒ 3027:௓ 3028:௔ 3029:௕ 3030:௖ 3031:ௗ 3032:௘ 3033:௙ 3034:௚ 3035:௛ 3036:௜ 3037:௝ 3038:௞ 3039:௟ 3040:௠ 3041:௡ 3042:௢ 3043:௣ 3044:௤ 3045:௥ 3046:௦ 3047:௧ 3048:௨ 3049:௩ 3050:௪ 3051:௫ 3052:௬ 3053:௭ 3054:௮ 3055:௯ 3056:௰ 3057:௱ 3058:௲ 3059:௳ 3060:௴ 3061:௵ 3062:௶ 3063:௷ 3064:௸ 3065:௹ 3066:௺ 3067:௻ 3068:௼ 3069:௽ 3070:௾ 3071:௿ 3072:ఀ 3073:ఁ 3074:ం 3075:ః 3076:ఄ 3077:అ 3078:ఆ 3079:ఇ 3080:ఈ 3081:ఉ 3082:ఊ 3083:ఋ 3084:ఌ 3085:఍ 3086:ఎ 3087:ఏ 3088:ఐ 3089:఑ 3090:ఒ 3091:ఓ 3092:ఔ 3093:క 3094:ఖ 3095:గ 3096:ఘ 3097:ఙ 3098:చ 3099:ఛ 3100:జ 3101:ఝ 3102:ఞ 3103:ట 3104:ఠ 3105:డ 3106:ఢ 3107:ణ 3108:త 3109:థ 3110:ద 3111:ధ 3112:న 3113:఩ 3114:ప 3115:ఫ 3116:బ 3117:భ 3118:మ 3119:య 3120:ర 3121:ఱ 3122:ల 3123:ళ 3124:ఴ 3125:వ 3126:శ 3127:ష 3128:స 3129:హ 3130:఺ 3131:఻ 3132:఼ 3133:ఽ 3134:ా 3135:ి 3136:ీ 3137:ు 3138:ూ 3139:ృ 3140:ౄ 3141:౅ 3142:ె 3143:ే 3144:ై 3145:౉ 3146:ొ 3147:ో 3148:ౌ 3149:్ 3150:౎ 3151:౏ 3152:౐ 3153:౑ 3154:౒ 3155:౓ 3156:౔ 3157:ౕ 3158:ౖ 3159:౗ 3160:ౘ 3161:ౙ 3162:ౚ 3163:౛ 3164:౜ 3165:ౝ 3166:౞ 3167:౟ 3168:ౠ 3169:ౡ 3170:ౢ 3171:ౣ 3172:౤ 3173:౥ 3174:౦ 3175:౧ 3176:౨ 3177:౩ 3178:౪ 3179:౫ 3180:౬ 3181:౭ 3182:౮ 3183:౯ 3184:౰ 3185:౱ 3186:౲ 3187:౳ 3188:౴ 3189:౵ 3190:౶ 3191:౷ 3192:౸ 3193:౹ 3194:౺ 3195:౻ 3196:౼ 3197:౽ 3198:౾ 3199:౿ 3200:ಀ 3201:ಁ 3202:ಂ 3203:ಃ 3204:಄ 3205:ಅ 3206:ಆ 3207:ಇ 3208:ಈ 3209:ಉ 3210:ಊ 3211:ಋ 3212:ಌ 3213:಍ 3214:ಎ 3215:ಏ 3216:ಐ 3217:಑ 3218:ಒ 3219:ಓ 3220:ಔ 3221:ಕ 3222:ಖ 3223:ಗ 3224:ಘ 3225:ಙ 3226:ಚ 3227:ಛ 3228:ಜ 3229:ಝ 3230:ಞ 3231:ಟ 3232:ಠ 3233:ಡ 3234:ಢ 3235:ಣ 3236:ತ 3237:ಥ 3238:ದ 3239:ಧ 3240:ನ 3241:಩ 3242:ಪ 3243:ಫ 3244:ಬ 3245:ಭ 3246:ಮ 3247:ಯ 3248:ರ 3249:ಱ 3250:ಲ 3251:ಳ 3252:಴ 3253:ವ 3254:ಶ 3255:ಷ 3256:ಸ 3257:ಹ 3258:಺ 3259:಻ 3260:಼ 3261:ಽ 3262:ಾ 3263:ಿ 3264:ೀ 3265:ು 3266:ೂ 3267:ೃ 3268:ೄ 3269:೅ 3270:ೆ 3271:ೇ 3272:ೈ 3273:೉ 3274:ೊ 3275:ೋ 3276:ೌ 3277:್ 3278:೎ 3279:೏ 3280:೐ 3281:೑ 3282:೒ 3283:೓ 3284:೔ 3285:ೕ 3286:ೖ 3287:೗ 3288:೘ 3289:೙ 3290:೚ 3291:೛ 3292:೜ 3293:ೝ 3294:ೞ 3295:೟ 3296:ೠ 3297:ೡ 3298:ೢ 3299:ೣ 3300:೤ 3301:೥ 3302:೦ 3303:೧ 3304:೨ 3305:೩ 3306:೪ 3307:೫ 3308:೬ 3309:೭ 3310:೮ 3311:೯ 3312:೰ 3313:ೱ 3314:ೲ 3315:ೳ 3316:೴ 3317:೵ 3318:೶ 3319:೷ 3320:೸ 3321:೹ 3322:೺ 3323:೻ 3324:೼ 3325:೽ 3326:೾ 3327:೿ 3328:ഀ 3329:ഁ 3330:ം 3331:ഃ 3332:ഄ 3333:അ 3334:ആ 3335:ഇ 3336:ഈ 3337:ഉ 3338:ഊ 3339:ഋ 3340:ഌ 3341:഍ 3342:എ 3343:ഏ 3344:ഐ 3345:഑ 3346:ഒ 3347:ഓ 3348:ഔ 3349:ക 3350:ഖ 3351:ഗ 3352:ഘ 3353:ങ 3354:ച 3355:ഛ 3356:ജ 3357:ഝ 3358:ഞ 3359:ട 3360:ഠ 3361:ഡ 3362:ഢ 3363:ണ 3364:ത 3365:ഥ 3366:ദ 3367:ധ 3368:ന 3369:ഩ 3370:പ 3371:ഫ 3372:ബ 3373:ഭ 3374:മ 3375:യ 3376:ര 3377:റ 3378:ല 3379:ള 3380:ഴ 3381:വ 3382:ശ 3383:ഷ 3384:സ 3385:ഹ 3386:ഺ 3387:഻ 3388:഼ 3389:ഽ 3390:ാ 3391:ി 3392:ീ 3393:ു 3394:ൂ 3395:ൃ 3396:ൄ 3397:൅ 3398:െ 3399:േ 3400:ൈ 3401:൉ 3402:ൊ 3403:ോ 3404:ൌ 3405:് 3406:ൎ 3407:൏ 3408:൐ 3409:൑ 3410:൒ 3411:൓ 3412:ൔ 3413:ൕ 3414:ൖ 3415:ൗ 3416:൘ 3417:൙ 3418:൚ 3419:൛ 3420:൜ 3421:൝ 3422:൞ 3423:ൟ 3424:ൠ 3425:ൡ 3426:ൢ 3427:ൣ 3428:൤ 3429:൥ 3430:൦ 3431:൧ 3432:൨ 3433:൩ 3434:൪ 3435:൫ 3436:൬ 3437:൭ 3438:൮ 3439:൯ 3440:൰ 3441:൱ 3442:൲ 3443:൳ 3444:൴ 3445:൵ 3446:൶ 3447:൷ 3448:൸ 3449:൹ 3450:ൺ 3451:ൻ 3452:ർ 3453:ൽ 3454:ൾ 3455:ൿ 3456:඀ 3457:ඁ 3458:ං 3459:ඃ 3460:඄ 3461:අ 3462:ආ 3463:ඇ 3464:ඈ 3465:ඉ 3466:ඊ 3467:උ 3468:ඌ 3469:ඍ 3470:ඎ 3471:ඏ 3472:ඐ 3473:එ 3474:ඒ 3475:ඓ 3476:ඔ 3477:ඕ 3478:ඖ 3479:඗ 3480:඘ 3481:඙ 3482:ක 3483:ඛ 3484:ග 3485:ඝ 3486:ඞ 3487:ඟ 3488:ච 3489:ඡ 3490:ජ 3491:ඣ 3492:ඤ 3493:ඥ 3494:ඦ 3495:ට 3496:ඨ 3497:ඩ 3498:ඪ 3499:ණ "
     ]
    }
   ],
   "source": [
    "for i in range(3000,3500):\n",
    "     print(f'{i}:{chr(i)}', end=\" \" )"
   ]
  },
  {
   "cell_type": "code",
   "execution_count": 49,
   "id": "dc6cdb51-c7f3-4e8a-9555-bec45a4c08b7",
   "metadata": {},
   "outputs": [
    {
     "name": "stdout",
     "output_type": "stream",
     "text": [
      "3077:అ 3078:ఆ 3079:ఇ 3080:ఈ 3081:ఉ 3082:ఊ 3083:ఋ 3084:ఌ 3085:఍ 3086:ఎ 3087:ఏ 3088:ఐ 3089:఑ 3090:ఒ 3091:ఓ 3092:ఔ 3093:క 3094:ఖ 3095:గ 3096:ఘ 3097:ఙ 3098:చ 3099:ఛ 3100:జ 3101:ఝ 3102:ఞ 3103:ట 3104:ఠ 3105:డ 3106:ఢ 3107:ణ 3108:త 3109:థ 3110:ద 3111:ధ 3112:న 3113:఩ 3114:ప 3115:ఫ 3116:బ 3117:భ 3118:మ 3119:య 3120:ర 3121:ఱ 3122:ల 3123:ళ 3124:ఴ 3125:వ 3126:శ 3127:ష 3128:స 3129:హ 3130:఺ 3131:఻ 3132:఼ 3133:ఽ 3134:ా 3135:ి 3136:ీ 3137:ు 3138:ూ 3139:ృ 3140:ౄ 3141:౅ 3142:ె 3143:ే 3144:ై 3145:౉ 3146:ొ 3147:ో 3148:ౌ 3149:్ "
     ]
    }
   ],
   "source": [
    "for i in range(3077,3150):\n",
    "     print(f'{i}:{chr(i)}', end=\" \" )"
   ]
  },
  {
   "cell_type": "code",
   "execution_count": null,
   "id": "61cdb33a-55d1-4452-a739-1071bf16fad0",
   "metadata": {},
   "outputs": [],
   "source": []
  }
 ],
 "metadata": {
  "kernelspec": {
   "display_name": "Python 3 (ipykernel)",
   "language": "python",
   "name": "python3"
  },
  "language_info": {
   "codemirror_mode": {
    "name": "ipython",
    "version": 3
   },
   "file_extension": ".py",
   "mimetype": "text/x-python",
   "name": "python",
   "nbconvert_exporter": "python",
   "pygments_lexer": "ipython3",
   "version": "3.12.7"
  }
 },
 "nbformat": 4,
 "nbformat_minor": 5
}
