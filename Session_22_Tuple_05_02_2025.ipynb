{
 "cells": [
  {
   "cell_type": "markdown",
   "id": "f72b6e78-58f8-4b0f-9927-e3a7bfda3cd8",
   "metadata": {},
   "source": [
    "**Tuple**"
   ]
  },
  {
   "cell_type": "markdown",
   "id": "2760cde3-b9d7-492a-aaa8-8d40b5bf7c43",
   "metadata": {},
   "source": [
    "- tuple is a collection of data type which is ordered and immutable\n",
    "\n",
    "- once tuple is created, its elements cannot be changed,added or removed\n",
    "\n",
    "- tuples are defined by enclosing the elements in parentheses **()** and separating them with commas.\n"
   ]
  },
  {
   "cell_type": "markdown",
   "id": "b4cf0f1e-5968-46fe-8fdd-d4c678d197d5",
   "metadata": {},
   "source": [
    "- To craete a tuple with only one item, you have to add a comma after the item , otherwise python will not recognize it as tuple\n",
    "\n",
    "- we can also write without parentheses it by default convert into tuple\n",
    "\n",
    "- "
   ]
  },
  {
   "cell_type": "code",
   "execution_count": null,
   "id": "48b60788-2244-4b13-8efa-c8a7262d41b4",
   "metadata": {},
   "outputs": [],
   "source": []
  },
  {
   "cell_type": "markdown",
   "id": "b2769221-95b5-42b2-9dce-a42b4cd58141",
   "metadata": {},
   "source": [
    "- Basic representations\n",
    "\n",
    "- Inbuilt functions\n",
    "\n",
    "   - print\n",
    "\n",
    "   - type\n",
    "\n",
    "   - len\n",
    "\n",
    "   - sum\n",
    "\n",
    "   - max and min\n",
    "\n",
    "   - sorted\n",
    "\n",
    "   - reversed\n",
    "\n",
    "- concatenation\n",
    "\n",
    "- indexing\n",
    "\n",
    "- mutable or immutable concepts\n",
    "\n",
    "- slicing\n",
    "\n",
    "- methods"
   ]
  },
  {
   "cell_type": "code",
   "execution_count": 1,
   "id": "be01f70e-c3f1-4ecd-93a3-7eb7d145f147",
   "metadata": {},
   "outputs": [
    {
     "name": "stdout",
     "output_type": "stream",
     "text": [
      "2\n",
      "5\n",
      "(1, 2, 3, 4, 2, 3)\n"
     ]
    },
    {
     "ename": "TypeError",
     "evalue": "'tuple' object does not support item assignment",
     "output_type": "error",
     "traceback": [
      "\u001b[1;31m---------------------------------------------------------------------------\u001b[0m",
      "\u001b[1;31mTypeError\u001b[0m                                 Traceback (most recent call last)",
      "Cell \u001b[1;32mIn[1], line 12\u001b[0m\n\u001b[0;32m      9\u001b[0m \u001b[38;5;28mprint\u001b[39m(t)\n\u001b[0;32m     11\u001b[0m \u001b[38;5;66;03m# updating an element\u001b[39;00m\n\u001b[1;32m---> 12\u001b[0m t[\u001b[38;5;241m1\u001b[39m] \u001b[38;5;241m=\u001b[39m \u001b[38;5;241m100\u001b[39m\n\u001b[0;32m     13\u001b[0m \u001b[38;5;28mprint\u001b[39m(t)\n",
      "\u001b[1;31mTypeError\u001b[0m: 'tuple' object does not support item assignment"
     ]
    }
   ],
   "source": [
    "t = (1, 2, 3, 4, 5)\n",
    "\n",
    "# tuples are indexed\n",
    "print(t[1])\n",
    "print(t[4])\n",
    "\n",
    "# tuples contain duplicate elements\n",
    "t = (1, 2, 3, 4, 2, 3)\n",
    "print(t)\n",
    "\n",
    "# updating an element\n",
    "t[1] = 100\n",
    "print(t)"
   ]
  },
  {
   "cell_type": "code",
   "execution_count": 2,
   "id": "8d36f418-9f60-4202-9033-8327894aac9e",
   "metadata": {},
   "outputs": [
    {
     "data": {
      "text/plain": [
       "''"
      ]
     },
     "execution_count": 2,
     "metadata": {},
     "output_type": "execute_result"
    }
   ],
   "source": [
    "tuple=(_)\n",
    "tuple"
   ]
  },
  {
   "cell_type": "code",
   "execution_count": 13,
   "id": "3f70bfa3-ab86-4b4f-b374-6a2124260945",
   "metadata": {},
   "outputs": [
    {
     "name": "stdout",
     "output_type": "stream",
     "text": [
      "5\n"
     ]
    }
   ],
   "source": [
    "t=(1,2,3,4,5,6,7,8,9)\n",
    "print(t[4])"
   ]
  },
  {
   "cell_type": "code",
   "execution_count": 14,
   "id": "0e74673a-deea-423a-bbec-d97344b2a36c",
   "metadata": {},
   "outputs": [
    {
     "data": {
      "text/plain": [
       "(4, 7, 8)"
      ]
     },
     "execution_count": 14,
     "metadata": {},
     "output_type": "execute_result"
    }
   ],
   "source": [
    "t[3],t[6],t[7]"
   ]
  },
  {
   "cell_type": "code",
   "execution_count": 15,
   "id": "196ec57a-93d9-4bcf-a2a5-21eee37052e2",
   "metadata": {},
   "outputs": [
    {
     "data": {
      "text/plain": [
       "(9, 4, 8)"
      ]
     },
     "execution_count": 15,
     "metadata": {},
     "output_type": "execute_result"
    }
   ],
   "source": [
    "t[-1],t[-6],t[-2]"
   ]
  },
  {
   "cell_type": "code",
   "execution_count": 18,
   "id": "17936c8c-3fc3-4ee1-bee4-9eb377ded363",
   "metadata": {},
   "outputs": [
    {
     "name": "stdout",
     "output_type": "stream",
     "text": [
      "cherry\n"
     ]
    }
   ],
   "source": [
    "my_tuple = ('apple', 'banana', 'cherry')  # accessing elements\n",
    "print(my_tuple[2]) "
   ]
  },
  {
   "cell_type": "code",
   "execution_count": 19,
   "id": "b0c4e6f9-5705-481a-96e4-c8af0e1c364d",
   "metadata": {},
   "outputs": [
    {
     "name": "stdout",
     "output_type": "stream",
     "text": [
      "(3, 4)\n"
     ]
    }
   ],
   "source": [
    "x=(1,2,(3,4),5)   # nested tuple\n",
    "print(x[2])"
   ]
  },
  {
   "cell_type": "code",
   "execution_count": 23,
   "id": "aa66aa39-69f7-4c8f-8ce0-e16fdd71c8e6",
   "metadata": {},
   "outputs": [
    {
     "name": "stdout",
     "output_type": "stream",
     "text": [
      "hello\n"
     ]
    }
   ],
   "source": [
    "y=(1,100,3.14,'hello','bye','$')\n",
    "print(y[3])"
   ]
  },
  {
   "cell_type": "code",
   "execution_count": 24,
   "id": "53308b4e-6411-4683-ad34-134b20d420ea",
   "metadata": {},
   "outputs": [
    {
     "name": "stdout",
     "output_type": "stream",
     "text": [
      "(1, 100, 3.14, 'hello', 'bye', '$')\n"
     ]
    }
   ],
   "source": [
    "# accessing the tuple\n",
    "y=(1,100,3.14,'hello','bye','$')\n",
    "print(y)"
   ]
  },
  {
   "cell_type": "code",
   "execution_count": 29,
   "id": "f5f4f780-5972-4f71-b57f-165f78e14290",
   "metadata": {},
   "outputs": [
    {
     "name": "stdout",
     "output_type": "stream",
     "text": [
      "True\n"
     ]
    }
   ],
   "source": [
    "t=(1,2,3,4)\n",
    "print(t[0]==1)"
   ]
  },
  {
   "cell_type": "code",
   "execution_count": 30,
   "id": "acd06a38-c1d5-4343-9cd6-20a5e799c6b9",
   "metadata": {},
   "outputs": [
    {
     "name": "stdout",
     "output_type": "stream",
     "text": [
      "False\n"
     ]
    }
   ],
   "source": [
    "t=(1,2,3,4)\n",
    "print(t[0]==8)"
   ]
  },
  {
   "cell_type": "code",
   "execution_count": 31,
   "id": "c4d99d8d-8726-4e50-8e27-bcbeda20adb5",
   "metadata": {},
   "outputs": [
    {
     "ename": "TypeError",
     "evalue": "'tuple' object does not support item assignment",
     "output_type": "error",
     "traceback": [
      "\u001b[1;31m---------------------------------------------------------------------------\u001b[0m",
      "\u001b[1;31mTypeError\u001b[0m                                 Traceback (most recent call last)",
      "Cell \u001b[1;32mIn[31], line 2\u001b[0m\n\u001b[0;32m      1\u001b[0m my_tuple \u001b[38;5;241m=\u001b[39m (\u001b[38;5;241m1\u001b[39m, \u001b[38;5;241m2\u001b[39m, \u001b[38;5;241m3\u001b[39m)\n\u001b[1;32m----> 2\u001b[0m my_tuple[\u001b[38;5;241m0\u001b[39m] \u001b[38;5;241m=\u001b[39m \u001b[38;5;241m1\u001b[39m\n",
      "\u001b[1;31mTypeError\u001b[0m: 'tuple' object does not support item assignment"
     ]
    }
   ],
   "source": [
    "my_tuple = (1, 2, 3)\n",
    "my_tuple[0] = 4  # This will raise a TypeError\n"
   ]
  },
  {
   "cell_type": "code",
   "execution_count": 32,
   "id": "0997cb3c-aea6-49b6-b481-15bf44cb0539",
   "metadata": {},
   "outputs": [
    {
     "ename": "TypeError",
     "evalue": "'tuple' object does not support item assignment",
     "output_type": "error",
     "traceback": [
      "\u001b[1;31m---------------------------------------------------------------------------\u001b[0m",
      "\u001b[1;31mTypeError\u001b[0m                                 Traceback (most recent call last)",
      "Cell \u001b[1;32mIn[32], line 2\u001b[0m\n\u001b[0;32m      1\u001b[0m n\u001b[38;5;241m=\u001b[39m(\u001b[38;5;241m1\u001b[39m,\u001b[38;5;241m2\u001b[39m,\u001b[38;5;241m3\u001b[39m,\u001b[38;5;241m4\u001b[39m)\n\u001b[1;32m----> 2\u001b[0m n[\u001b[38;5;241m0\u001b[39m]\u001b[38;5;241m=\u001b[39m\u001b[38;5;241m6\u001b[39m\n",
      "\u001b[1;31mTypeError\u001b[0m: 'tuple' object does not support item assignment"
     ]
    }
   ],
   "source": [
    "n=(1,2,3,4)\n",
    "n[0]=6"
   ]
  },
  {
   "cell_type": "code",
   "execution_count": 38,
   "id": "e20a8d76-11fb-4afe-9e82-43330e690ca2",
   "metadata": {},
   "outputs": [
    {
     "name": "stdout",
     "output_type": "stream",
     "text": [
      "(4, 5, 6, 7, 8, 9)\n",
      "4 5 6 7 8 9 "
     ]
    }
   ],
   "source": [
    "#transverse through a tuple using for loop\n",
    "x=(4,5,6,7,8,9)\n",
    "print(x)\n",
    "for i in x:\n",
    "    print(i, end=' ')"
   ]
  },
  {
   "cell_type": "code",
   "execution_count": 40,
   "id": "0dcba53d-b83d-424f-a461-6b6e34ccd3b2",
   "metadata": {},
   "outputs": [
    {
     "name": "stdout",
     "output_type": "stream",
     "text": [
      "((1, 2, 3, 4, 5, 6), ('hi', 'hello', 'bye'))\n"
     ]
    }
   ],
   "source": [
    "# nesting\n",
    "t1=(1,2,3,4,5,6)   \n",
    "t2=('hi','hello','bye')\n",
    "t3=(t1,t2)\n",
    "print(t3)"
   ]
  },
  {
   "cell_type": "code",
   "execution_count": 45,
   "id": "b55529de-d73e-4a90-8761-0a007bc76373",
   "metadata": {},
   "outputs": [
    {
     "name": "stdout",
     "output_type": "stream",
     "text": [
      "('python', 'python')\n"
     ]
    }
   ],
   "source": [
    "t=('python',)*2\n",
    "print(t)"
   ]
  },
  {
   "cell_type": "code",
   "execution_count": 46,
   "id": "97504829-4adc-41f0-a9fe-6ca3ee280adf",
   "metadata": {},
   "outputs": [
    {
     "data": {
      "text/plain": [
       "(1, 2, 3, 4, 5, 6, 7, 8, 9)"
      ]
     },
     "execution_count": 46,
     "metadata": {},
     "output_type": "execute_result"
    }
   ],
   "source": [
    "# slicing\n",
    "t=(1,2,3,4,5,6,7,8,9)\n",
    "t[0:]"
   ]
  },
  {
   "cell_type": "code",
   "execution_count": 48,
   "id": "e35678ef-f790-43e0-a0de-7a291c48a1eb",
   "metadata": {},
   "outputs": [
    {
     "data": {
      "text/plain": [
       "(1, 2, 3, 4, 5, 6, 7, 8, 9)"
      ]
     },
     "execution_count": 48,
     "metadata": {},
     "output_type": "execute_result"
    }
   ],
   "source": [
    "t=(1,2,3,4,5,6,7,8,9)\n",
    "t[:]"
   ]
  },
  {
   "cell_type": "code",
   "execution_count": 49,
   "id": "61dbb85f-58fb-40fe-92fb-52edfce83746",
   "metadata": {},
   "outputs": [
    {
     "data": {
      "text/plain": [
       "(2, 3, 4, 5)"
      ]
     },
     "execution_count": 49,
     "metadata": {},
     "output_type": "execute_result"
    }
   ],
   "source": [
    "t[1:5]"
   ]
  },
  {
   "cell_type": "code",
   "execution_count": 50,
   "id": "0e042a66-4221-4b6c-9d68-b86f399bb6d5",
   "metadata": {},
   "outputs": [
    {
     "data": {
      "text/plain": [
       "(6, 7, 8, 9)"
      ]
     },
     "execution_count": 50,
     "metadata": {},
     "output_type": "execute_result"
    }
   ],
   "source": [
    "t[5:12]"
   ]
  },
  {
   "cell_type": "code",
   "execution_count": 51,
   "id": "106a8a72-2966-4b26-821c-63a8d1490208",
   "metadata": {},
   "outputs": [
    {
     "data": {
      "text/plain": [
       "(6, 7, 8)"
      ]
     },
     "execution_count": 51,
     "metadata": {},
     "output_type": "execute_result"
    }
   ],
   "source": [
    "t[5:8]"
   ]
  },
  {
   "cell_type": "code",
   "execution_count": 57,
   "id": "2419fe0b-4025-41db-b3a9-48bb6a6de38e",
   "metadata": {},
   "outputs": [
    {
     "ename": "NameError",
     "evalue": "name 'l' is not defined",
     "output_type": "error",
     "traceback": [
      "\u001b[1;31m---------------------------------------------------------------------------\u001b[0m",
      "\u001b[1;31mNameError\u001b[0m                                 Traceback (most recent call last)",
      "Cell \u001b[1;32mIn[57], line 4\u001b[0m\n\u001b[0;32m      2\u001b[0m l\u001b[38;5;241m=\u001b[39m(\u001b[38;5;241m1\u001b[39m,\u001b[38;5;241m2\u001b[39m,\u001b[38;5;241m3\u001b[39m,\u001b[38;5;241m4\u001b[39m)\n\u001b[0;32m      3\u001b[0m \u001b[38;5;28;01mdel\u001b[39;00m(l)\n\u001b[1;32m----> 4\u001b[0m \u001b[38;5;28mprint\u001b[39m(l)\n",
      "\u001b[1;31mNameError\u001b[0m: name 'l' is not defined"
     ]
    }
   ],
   "source": [
    "# delete\n",
    "l=(1,2,3,4)\n",
    "del(l)\n",
    "print(l)"
   ]
  },
  {
   "cell_type": "code",
   "execution_count": 54,
   "id": "4ddc7b0b-d768-4cd5-9ecb-2fd9e16ab658",
   "metadata": {},
   "outputs": [
    {
     "ename": "NameError",
     "evalue": "name 't' is not defined",
     "output_type": "error",
     "traceback": [
      "\u001b[1;31m---------------------------------------------------------------------------\u001b[0m",
      "\u001b[1;31mNameError\u001b[0m                                 Traceback (most recent call last)",
      "Cell \u001b[1;32mIn[54], line 5\u001b[0m\n\u001b[0;32m      2\u001b[0m t \u001b[38;5;241m=\u001b[39m ( \u001b[38;5;241m0\u001b[39m, \u001b[38;5;241m1\u001b[39m)\n\u001b[0;32m      4\u001b[0m \u001b[38;5;28;01mdel\u001b[39;00m t\n\u001b[1;32m----> 5\u001b[0m \u001b[38;5;28mprint\u001b[39m(t)\n",
      "\u001b[1;31mNameError\u001b[0m: name 't' is not defined"
     ]
    }
   ],
   "source": [
    "# Code for deleting a tuple\n",
    "t = ( 0, 1)\n",
    "\n",
    "del t\n",
    "print(t)"
   ]
  },
  {
   "cell_type": "code",
   "execution_count": 58,
   "id": "226f386b-c058-462f-b743-c85b60579ffc",
   "metadata": {},
   "outputs": [
    {
     "name": "stdout",
     "output_type": "stream",
     "text": [
      "7\n"
     ]
    }
   ],
   "source": [
    "# length of the tuple\n",
    "t=(1,2,3,4,'apple','grapes','banana')\n",
    "print(len(t))"
   ]
  },
  {
   "cell_type": "code",
   "execution_count": 1,
   "id": "7c4b6da2-974e-4cab-902a-67436bea3a40",
   "metadata": {},
   "outputs": [
    {
     "name": "stdout",
     "output_type": "stream",
     "text": [
      "<class 'tuple'>\n"
     ]
    }
   ],
   "source": [
    "t=(1,2,3,4,'apple','grapes','banana')\n",
    "print(type(t))"
   ]
  },
  {
   "cell_type": "code",
   "execution_count": 60,
   "id": "3630199f-4253-47ba-90f5-a47446d7c1ad",
   "metadata": {},
   "outputs": [
    {
     "data": {
      "text/plain": [
       "('hello', True, 20.123)"
      ]
     },
     "execution_count": 60,
     "metadata": {},
     "output_type": "execute_result"
    }
   ],
   "source": [
    "# tuple with multiple data types\n",
    "t=('hello',True,20.123)\n",
    "t"
   ]
  },
  {
   "cell_type": "code",
   "execution_count": 61,
   "id": "4bc8a7a7-dca8-4a50-ad42-620e6a61a0fc",
   "metadata": {},
   "outputs": [
    {
     "data": {
      "text/plain": [
       "()"
      ]
     },
     "execution_count": 61,
     "metadata": {},
     "output_type": "execute_result"
    }
   ],
   "source": [
    "t=()\n",
    "t"
   ]
  },
  {
   "cell_type": "code",
   "execution_count": 62,
   "id": "2c769274-3c3b-4d55-b8a7-00063f4ce412",
   "metadata": {},
   "outputs": [
    {
     "data": {
      "text/plain": [
       "(1, 2, 3, 4)"
      ]
     },
     "execution_count": 62,
     "metadata": {},
     "output_type": "execute_result"
    }
   ],
   "source": [
    "t=1,2,3,4\n",
    "t"
   ]
  },
  {
   "cell_type": "code",
   "execution_count": 1,
   "id": "524f065c-2994-4531-aa0f-46e5a03d52a2",
   "metadata": {},
   "outputs": [
    {
     "name": "stdout",
     "output_type": "stream",
     "text": [
      "(7, 8, 9)\n"
     ]
    }
   ],
   "source": [
    "# tuple constructor\n",
    "t = tuple([7, 8, 9])\n",
    "print(t) "
   ]
  },
  {
   "cell_type": "code",
   "execution_count": 2,
   "id": "acfa560c-b6c1-4720-99f2-f5c7853bca27",
   "metadata": {},
   "outputs": [
    {
     "name": "stdout",
     "output_type": "stream",
     "text": [
      "<class 'int'>\n"
     ]
    }
   ],
   "source": [
    "t=(10)\n",
    "print(type(t))"
   ]
  },
  {
   "cell_type": "code",
   "execution_count": 3,
   "id": "f830f365-9db5-4ca3-a830-fa5eaa991959",
   "metadata": {},
   "outputs": [
    {
     "data": {
      "text/plain": [
       "(1, 2, 3)"
      ]
     },
     "execution_count": 3,
     "metadata": {},
     "output_type": "execute_result"
    }
   ],
   "source": [
    "# tuple packing\n",
    "a,b,c=1,2,3\n",
    "t=a,b,c\n",
    "t"
   ]
  },
  {
   "cell_type": "code",
   "execution_count": 4,
   "id": "1eda7e3b-911e-487a-8f6a-53c6cc364eb6",
   "metadata": {},
   "outputs": [
    {
     "name": "stdout",
     "output_type": "stream",
     "text": [
      "45\n"
     ]
    }
   ],
   "source": [
    "# sum\n",
    "t=(1,2,3,4,5,6,7,8,9)\n",
    "x=sum(t)\n",
    "print(x)"
   ]
  },
  {
   "cell_type": "code",
   "execution_count": 5,
   "id": "960e99d1-71f3-4315-9791-7883b2d03de3",
   "metadata": {},
   "outputs": [
    {
     "name": "stdout",
     "output_type": "stream",
     "text": [
      "Max:450\n",
      "Min:10\n"
     ]
    }
   ],
   "source": [
    "# max and min\n",
    "t=(10,50,100,12,84,128,450)\n",
    "i=max(t)\n",
    "j=min(t)\n",
    "print(f'Max:{i}')\n",
    "print(f'Min:{j}')\n"
   ]
  },
  {
   "cell_type": "code",
   "execution_count": 6,
   "id": "c0ccbd39-198b-42b7-97c4-0de2b8965a57",
   "metadata": {},
   "outputs": [
    {
     "data": {
      "text/plain": [
       "[10, 12, 50, 84, 100, 128, 450]"
      ]
     },
     "execution_count": 6,
     "metadata": {},
     "output_type": "execute_result"
    }
   ],
   "source": [
    "t=(10,50,100,12,84,128,450)\n",
    "sorted(t)"
   ]
  },
  {
   "cell_type": "code",
   "execution_count": 13,
   "id": "cd0eddc0-e30f-4e2f-812a-6e8043a6f322",
   "metadata": {},
   "outputs": [
    {
     "ename": "TypeError",
     "evalue": "'<' not supported between instances of 'str' and 'int'",
     "output_type": "error",
     "traceback": [
      "\u001b[1;31m---------------------------------------------------------------------------\u001b[0m",
      "\u001b[1;31mTypeError\u001b[0m                                 Traceback (most recent call last)",
      "Cell \u001b[1;32mIn[13], line 2\u001b[0m\n\u001b[0;32m      1\u001b[0m t\u001b[38;5;241m=\u001b[39m(\u001b[38;5;241m10\u001b[39m,\u001b[38;5;241m50\u001b[39m,\u001b[38;5;241m100\u001b[39m,\u001b[38;5;241m12\u001b[39m,\u001b[38;5;241m84\u001b[39m,\u001b[38;5;241m128\u001b[39m,\u001b[38;5;241m450\u001b[39m,\u001b[38;5;124m'\u001b[39m\u001b[38;5;124mhi\u001b[39m\u001b[38;5;124m'\u001b[39m,\u001b[38;5;124m'\u001b[39m\u001b[38;5;124mapple\u001b[39m\u001b[38;5;124m'\u001b[39m,\u001b[38;5;124m'\u001b[39m\u001b[38;5;124mhow\u001b[39m\u001b[38;5;124m'\u001b[39m,\u001b[38;5;124m'\u001b[39m\u001b[38;5;124mare\u001b[39m\u001b[38;5;124m'\u001b[39m,\u001b[38;5;124m'\u001b[39m\u001b[38;5;124myou\u001b[39m\u001b[38;5;124m'\u001b[39m)\n\u001b[1;32m----> 2\u001b[0m \u001b[38;5;28msorted\u001b[39m(t)\n",
      "\u001b[1;31mTypeError\u001b[0m: '<' not supported between instances of 'str' and 'int'"
     ]
    }
   ],
   "source": [
    "t=(10,50,100,12,84,128,450,'hi','apple','how','are','you')\n",
    "sorted(t)"
   ]
  },
  {
   "cell_type": "code",
   "execution_count": 7,
   "id": "2b858787-08ec-4230-8313-e9f04c15479d",
   "metadata": {},
   "outputs": [
    {
     "data": {
      "text/plain": [
       "<reversed at 0x1d5184973a0>"
      ]
     },
     "execution_count": 7,
     "metadata": {},
     "output_type": "execute_result"
    }
   ],
   "source": [
    "t=(10,50,100,12,84,128,450)\n",
    "reversed(t)"
   ]
  },
  {
   "cell_type": "code",
   "execution_count": 9,
   "id": "8d87f223-b321-4475-bb49-55840467b654",
   "metadata": {},
   "outputs": [
    {
     "data": {
      "text/plain": [
       "[450, 128, 84, 12, 100, 50, 10]"
      ]
     },
     "execution_count": 9,
     "metadata": {},
     "output_type": "execute_result"
    }
   ],
   "source": [
    "x=reversed(t)\n",
    "list(x)"
   ]
  },
  {
   "cell_type": "code",
   "execution_count": 12,
   "id": "4fe4ddb9-b9a8-455e-9ee3-9af60a2c0dd5",
   "metadata": {},
   "outputs": [
    {
     "name": "stdout",
     "output_type": "stream",
     "text": [
      "10\n",
      "50\n",
      "100\n",
      "12\n",
      "84\n",
      "128\n",
      "450\n"
     ]
    }
   ],
   "source": [
    "t=(10,50,100,12,84,128,450)\n",
    "t1=reversed(t)\n",
    "for i in t:\n",
    "    print(i)"
   ]
  },
  {
   "cell_type": "code",
   "execution_count": 14,
   "id": "cead2827-2fa1-4f2b-83db-468d84dff9a7",
   "metadata": {},
   "outputs": [
    {
     "name": "stdout",
     "output_type": "stream",
     "text": [
      "(1, 2, 3, 4, 5, 6, 'hi', 'hello', 'bye')\n"
     ]
    }
   ],
   "source": [
    "# concatenation\n",
    "t1=(1,2,3,4,5,6)   \n",
    "t2=('hi','hello','bye')\n",
    "print(t1+t2)"
   ]
  },
  {
   "cell_type": "code",
   "execution_count": 16,
   "id": "dc9fdfb4-2e18-432c-a3da-27642a6a6eea",
   "metadata": {},
   "outputs": [
    {
     "data": {
      "text/plain": [
       "1"
      ]
     },
     "execution_count": 16,
     "metadata": {},
     "output_type": "execute_result"
    }
   ],
   "source": [
    "# index\n",
    "t1=(1,2,3,4,5,6,7,8,9,'hi','hello','bye')\n",
    "t1.index(2)"
   ]
  },
  {
   "cell_type": "code",
   "execution_count": 5,
   "id": "84fd6c77-c358-4295-b90e-d42078cd59f2",
   "metadata": {},
   "outputs": [
    {
     "data": {
      "text/plain": [
       "10"
      ]
     },
     "execution_count": 5,
     "metadata": {},
     "output_type": "execute_result"
    }
   ],
   "source": [
    "t1=(1,2,3,4,5,6,7,8,9,'hi','hello','bye')\n",
    "t1.index('hello')"
   ]
  },
  {
   "cell_type": "code",
   "execution_count": 6,
   "id": "ab282460-03db-47b6-98dd-085ee7dda550",
   "metadata": {},
   "outputs": [
    {
     "ename": "TypeError",
     "evalue": "'tuple' object does not support item assignment",
     "output_type": "error",
     "traceback": [
      "\u001b[1;31m---------------------------------------------------------------------------\u001b[0m",
      "\u001b[1;31mTypeError\u001b[0m                                 Traceback (most recent call last)",
      "Cell \u001b[1;32mIn[6], line 3\u001b[0m\n\u001b[0;32m      1\u001b[0m \u001b[38;5;66;03m# mutable and immutable\u001b[39;00m\n\u001b[0;32m      2\u001b[0m l\u001b[38;5;241m=\u001b[39m(\u001b[38;5;241m9\u001b[39m,\u001b[38;5;241m8\u001b[39m,\u001b[38;5;241m7\u001b[39m,\u001b[38;5;241m6\u001b[39m,\u001b[38;5;241m5\u001b[39m,\u001b[38;5;241m4\u001b[39m,\u001b[38;5;241m3\u001b[39m,\u001b[38;5;241m2\u001b[39m,\u001b[38;5;241m1\u001b[39m)\n\u001b[1;32m----> 3\u001b[0m l[\u001b[38;5;241m1\u001b[39m]\u001b[38;5;241m=\u001b[39m\u001b[38;5;241m50\u001b[39m\n",
      "\u001b[1;31mTypeError\u001b[0m: 'tuple' object does not support item assignment"
     ]
    }
   ],
   "source": [
    "# mutable and immutable\n",
    "l=(9,8,7,6,5,4,3,2,1)\n",
    "l[1]=50\n"
   ]
  },
  {
   "cell_type": "markdown",
   "id": "06cda753-48d2-4104-90e9-cb19475ba3c5",
   "metadata": {},
   "source": [
    "**But tuples can contain mutable elements**\n",
    "\n",
    "- while tuple themselves are immutable, they can hold the mutable objects like lists"
   ]
  },
  {
   "cell_type": "code",
   "execution_count": 9,
   "id": "87d70bbf-0325-4e9b-8519-fef7a84e0e7c",
   "metadata": {},
   "outputs": [
    {
     "name": "stdout",
     "output_type": "stream",
     "text": [
      "(10, 20, [100, 40], 50)\n"
     ]
    }
   ],
   "source": [
    "t=(10,20,[30,40],50)\n",
    "t[2][0]=100\n",
    "print(t)"
   ]
  },
  {
   "cell_type": "code",
   "execution_count": 10,
   "id": "28c10fc8-e285-4ada-9ca2-1308142aeef7",
   "metadata": {},
   "outputs": [
    {
     "name": "stdout",
     "output_type": "stream",
     "text": [
      "(1, 2, 3, 4)\n"
     ]
    }
   ],
   "source": [
    "# converting list into tuple\n",
    "l=[1,2,3,4]\n",
    "t=tuple(l)\n",
    "print(t)"
   ]
  },
  {
   "cell_type": "code",
   "execution_count": 11,
   "id": "3cdbf854-b336-414b-8077-abf5c41f40c5",
   "metadata": {},
   "outputs": [
    {
     "data": {
      "text/plain": [
       "(1, 2, 3, 4, 5, 6, 7, 8, 9)"
      ]
     },
     "execution_count": 11,
     "metadata": {},
     "output_type": "execute_result"
    }
   ],
   "source": [
    "# slicing\n",
    "t=(1,2,3,4,5,6,7,8,9)\n",
    "t[0:]"
   ]
  },
  {
   "cell_type": "code",
   "execution_count": 12,
   "id": "f803e09a-ddf1-4085-9c5e-7ba39be123c8",
   "metadata": {},
   "outputs": [
    {
     "data": {
      "text/plain": [
       "(9, 8, 7, 6, 5, 4, 3, 2, 1)"
      ]
     },
     "execution_count": 12,
     "metadata": {},
     "output_type": "execute_result"
    }
   ],
   "source": [
    "t[::-1]"
   ]
  },
  {
   "cell_type": "code",
   "execution_count": 13,
   "id": "5e388faa-fb2a-48bb-8ae1-783f5143e08c",
   "metadata": {},
   "outputs": [
    {
     "data": {
      "text/plain": [
       "(1, 3, 5, 7)"
      ]
     },
     "execution_count": 13,
     "metadata": {},
     "output_type": "execute_result"
    }
   ],
   "source": [
    "t[0:8:2]"
   ]
  },
  {
   "cell_type": "code",
   "execution_count": 14,
   "id": "617fd039-d357-44e1-a39d-269ccef669ec",
   "metadata": {},
   "outputs": [
    {
     "data": {
      "text/plain": [
       "(1, 3, 5)"
      ]
     },
     "execution_count": 14,
     "metadata": {},
     "output_type": "execute_result"
    }
   ],
   "source": [
    "t[0:6:2]"
   ]
  },
  {
   "cell_type": "code",
   "execution_count": 15,
   "id": "95195301-555f-41c7-9fc6-2875690c446a",
   "metadata": {},
   "outputs": [
    {
     "data": {
      "text/plain": [
       "(9, 7, 5, 3)"
      ]
     },
     "execution_count": 15,
     "metadata": {},
     "output_type": "execute_result"
    }
   ],
   "source": [
    "t[-1:1:-2]"
   ]
  },
  {
   "cell_type": "code",
   "execution_count": 16,
   "id": "3f26ec0c-9c95-4a1f-9560-1ab0ddad046b",
   "metadata": {},
   "outputs": [
    {
     "data": {
      "text/plain": [
       "(5, 6, 7, 8)"
      ]
     },
     "execution_count": 16,
     "metadata": {},
     "output_type": "execute_result"
    }
   ],
   "source": [
    "t[-5:8:]"
   ]
  },
  {
   "cell_type": "code",
   "execution_count": 17,
   "id": "7fa29c25-417c-4964-a817-83cc060a23b5",
   "metadata": {},
   "outputs": [
    {
     "data": {
      "text/plain": [
       "['__add__',\n",
       " '__class__',\n",
       " '__class_getitem__',\n",
       " '__contains__',\n",
       " '__delattr__',\n",
       " '__dir__',\n",
       " '__doc__',\n",
       " '__eq__',\n",
       " '__format__',\n",
       " '__ge__',\n",
       " '__getattribute__',\n",
       " '__getitem__',\n",
       " '__getnewargs__',\n",
       " '__getstate__',\n",
       " '__gt__',\n",
       " '__hash__',\n",
       " '__init__',\n",
       " '__init_subclass__',\n",
       " '__iter__',\n",
       " '__le__',\n",
       " '__len__',\n",
       " '__lt__',\n",
       " '__mul__',\n",
       " '__ne__',\n",
       " '__new__',\n",
       " '__reduce__',\n",
       " '__reduce_ex__',\n",
       " '__repr__',\n",
       " '__rmul__',\n",
       " '__setattr__',\n",
       " '__sizeof__',\n",
       " '__str__',\n",
       " '__subclasshook__',\n",
       " 'count',\n",
       " 'index']"
      ]
     },
     "execution_count": 17,
     "metadata": {},
     "output_type": "execute_result"
    }
   ],
   "source": [
    "# methods\n",
    "dir(())\n",
    "count\n",
    "index"
   ]
  },
  {
   "cell_type": "markdown",
   "id": "a13ec412-df5b-4d6a-a118-46243cd1c7fc",
   "metadata": {},
   "source": [
    "**count**\n",
    "\n",
    "- You can use the .count() method in a tuple to find how many times a specific value appears."
   ]
  },
  {
   "cell_type": "code",
   "execution_count": 20,
   "id": "0744ab3f-9a04-49ff-84f5-2840fb6ae9e2",
   "metadata": {},
   "outputs": [
    {
     "name": "stdout",
     "output_type": "stream",
     "text": [
      "7\n"
     ]
    }
   ],
   "source": [
    "t=(1,2,3,1,3,1,1,2,1,3,1,1)\n",
    "x=t.count(1)\n",
    "print(x)"
   ]
  },
  {
   "cell_type": "code",
   "execution_count": 22,
   "id": "380b0ab8-eff0-4e74-a679-6578b7144a0f",
   "metadata": {},
   "outputs": [
    {
     "name": "stdout",
     "output_type": "stream",
     "text": [
      "2\n"
     ]
    }
   ],
   "source": [
    "t=('A','B','C','D','A','A','B','A','C')\n",
    "y=t.count('C')\n",
    "print(y)"
   ]
  },
  {
   "cell_type": "code",
   "execution_count": 24,
   "id": "716ab759-1d5d-47b0-9fbd-1da132542cdc",
   "metadata": {},
   "outputs": [
    {
     "name": "stdout",
     "output_type": "stream",
     "text": [
      "4\n"
     ]
    }
   ],
   "source": [
    "t=('Apple','Boy','Cat','Dog','Apple','Apple','Boy','Apple','Cat')\n",
    "z=t.count('Apple')\n",
    "print(z)"
   ]
  },
  {
   "cell_type": "markdown",
   "id": "1c9c488c-4d0c-4ad5-82b3-d968abe7253b",
   "metadata": {},
   "source": [
    "**index**\n",
    "\n",
    "- we can use the index method in tuple to find the index of an element in a tuple"
   ]
  },
  {
   "cell_type": "code",
   "execution_count": 25,
   "id": "2e01c9e4-0c82-438e-91ca-3e69f446372e",
   "metadata": {},
   "outputs": [
    {
     "data": {
      "text/plain": [
       "1"
      ]
     },
     "execution_count": 25,
     "metadata": {},
     "output_type": "execute_result"
    }
   ],
   "source": [
    "l=(10,20,30,74,25,68)\n",
    "l.index(20)"
   ]
  },
  {
   "cell_type": "code",
   "execution_count": 26,
   "id": "2f396fd3-8652-46d9-b4fe-e556ea85b9f6",
   "metadata": {},
   "outputs": [
    {
     "ename": "ValueError",
     "evalue": "tuple.index(x): x not in tuple",
     "output_type": "error",
     "traceback": [
      "\u001b[1;31m---------------------------------------------------------------------------\u001b[0m",
      "\u001b[1;31mValueError\u001b[0m                                Traceback (most recent call last)",
      "Cell \u001b[1;32mIn[26], line 2\u001b[0m\n\u001b[0;32m      1\u001b[0m l\u001b[38;5;241m=\u001b[39m(\u001b[38;5;241m10\u001b[39m,\u001b[38;5;241m20\u001b[39m,\u001b[38;5;241m30\u001b[39m,\u001b[38;5;241m74\u001b[39m,\u001b[38;5;241m25\u001b[39m,\u001b[38;5;241m68\u001b[39m)\n\u001b[1;32m----> 2\u001b[0m l\u001b[38;5;241m.\u001b[39mindex(\u001b[38;5;241m50\u001b[39m)\n",
      "\u001b[1;31mValueError\u001b[0m: tuple.index(x): x not in tuple"
     ]
    }
   ],
   "source": [
    "l=(10,20,30,74,25,68)\n",
    "l.index(50)"
   ]
  },
  {
   "cell_type": "code",
   "execution_count": null,
   "id": "4eaedf4d-840a-4fbc-8172-b1ce3ed2fe9d",
   "metadata": {},
   "outputs": [],
   "source": []
  }
 ],
 "metadata": {
  "kernelspec": {
   "display_name": "Python 3 (ipykernel)",
   "language": "python",
   "name": "python3"
  },
  "language_info": {
   "codemirror_mode": {
    "name": "ipython",
    "version": 3
   },
   "file_extension": ".py",
   "mimetype": "text/x-python",
   "name": "python",
   "nbconvert_exporter": "python",
   "pygments_lexer": "ipython3",
   "version": "3.12.7"
  }
 },
 "nbformat": 4,
 "nbformat_minor": 5
}
