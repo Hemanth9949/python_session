{
 "cells": [
  {
   "cell_type": "code",
   "execution_count": 1,
   "id": "5ddcba64-7105-4a4d-817c-038f183fb304",
   "metadata": {},
   "outputs": [
    {
     "name": "stdout",
     "output_type": "stream",
     "text": [
      "Function with out arguments\n"
     ]
    },
    {
     "name": "stdin",
     "output_type": "stream",
     "text": [
      "enter the salary: 20000\n",
      "enter the tax: 10\n"
     ]
    },
    {
     "name": "stdout",
     "output_type": "stream",
     "text": [
      "the total tax pay: 2000.0\n",
      "Function with arguments\n",
      "the total tax pay: 10\n",
      "Function with default arguments\n"
     ]
    },
    {
     "ename": "TypeError",
     "evalue": "tax_cal2() missing 1 required positional argument: 'salary'",
     "output_type": "error",
     "traceback": [
      "\u001b[1;31m---------------------------------------------------------------------------\u001b[0m",
      "\u001b[1;31mTypeError\u001b[0m                                 Traceback (most recent call last)",
      "Cell \u001b[1;32mIn[1], line 22\u001b[0m\n\u001b[0;32m     19\u001b[0m     tax_pay\u001b[38;5;241m=\u001b[39msalary\u001b[38;5;241m*\u001b[39mtax_per\u001b[38;5;241m/\u001b[39m\u001b[38;5;241m100\u001b[39m\n\u001b[0;32m     20\u001b[0m     \u001b[38;5;28mprint\u001b[39m(\u001b[38;5;124m\"\u001b[39m\u001b[38;5;124mthe total tax pay:\u001b[39m\u001b[38;5;124m\"\u001b[39m,tax_per)\n\u001b[1;32m---> 22\u001b[0m tax_cal2()\n",
      "\u001b[1;31mTypeError\u001b[0m: tax_cal2() missing 1 required positional argument: 'salary'"
     ]
    }
   ],
   "source": [
    "print(\"Function with out arguments\")\n",
    "def tax_cal():\n",
    "    salary=eval(input(\"enter the salary:\"))\n",
    "    tax_per=eval(input(\"enter the tax:\"))\n",
    "    tax_pay=salary*tax_per/100\n",
    "    print(\"the total tax pay:\",tax_pay)\n",
    "\n",
    "tax_cal()\n",
    "\n",
    "print(\"Function with arguments\")\n",
    "def tax_cal1(salary,tax_per):\n",
    "    tax_pay=salary*tax_per/100\n",
    "    print(\"the total tax pay:\",tax_per)\n",
    "\n",
    "tax_cal1(20000,10)\n",
    "\n",
    "print(\"Function with default arguments\")\n",
    "def tax_cal2(salary,tax_per=10):\n",
    "    tax_pay=salary*tax_per/100\n",
    "    print(\"the total tax pay:\",tax_per)\n",
    "\n",
    "tax_cal2()"
   ]
  },
  {
   "cell_type": "code",
   "execution_count": 3,
   "id": "2cba182f-cbd9-4e8c-ae60-7f8449dff9ab",
   "metadata": {},
   "outputs": [
    {
     "data": {
      "text/plain": [
       "(3+4j)"
      ]
     },
     "execution_count": 3,
     "metadata": {},
     "output_type": "execute_result"
    }
   ],
   "source": [
    "complex(3,4)   # real=3  imag=4    3+4j"
   ]
  },
  {
   "cell_type": "code",
   "execution_count": 4,
   "id": "a4b48d36-dd4b-4dbd-adbb-61d567b6f6a5",
   "metadata": {},
   "outputs": [
    {
     "data": {
      "text/plain": [
       "(3+0j)"
      ]
     },
     "execution_count": 4,
     "metadata": {},
     "output_type": "execute_result"
    }
   ],
   "source": [
    "complex(3)   #real=3   imag=0   3+0j"
   ]
  },
  {
   "cell_type": "code",
   "execution_count": 6,
   "id": "5996b97b-bab5-4612-93cf-eaa42857acb1",
   "metadata": {},
   "outputs": [
    {
     "data": {
      "text/plain": [
       "0j"
      ]
     },
     "execution_count": 6,
     "metadata": {},
     "output_type": "execute_result"
    }
   ],
   "source": [
    "complex()     #real=0   imag=0    0+0j"
   ]
  },
  {
   "cell_type": "markdown",
   "id": "3daeba0b-9e31-4fa3-96b6-97baeac16cc1",
   "metadata": {},
   "source": [
    "- Now onwards whenever you see any package\n",
    "\n",
    "- always do shift+tab inside the brackets and observe\n",
    "\n",
    "- with or without or default"
   ]
  },
  {
   "cell_type": "markdown",
   "id": "5b8b05dd-829c-4ac7-812e-7d2d6f468596",
   "metadata": {},
   "source": [
    "**case-1**"
   ]
  },
  {
   "cell_type": "code",
   "execution_count": 8,
   "id": "d612b6d1-9ee2-4de2-9c95-bb025ac60d48",
   "metadata": {},
   "outputs": [
    {
     "name": "stdout",
     "output_type": "stream",
     "text": [
      "a: 100\n",
      "b: 200\n",
      "c: 300\n",
      "The summaation of 100, 200 and 300 is : 600\n"
     ]
    }
   ],
   "source": [
    "def add(a,b,c):\n",
    "    print('a:',a)\n",
    "    print('b:',b)\n",
    "    print('c:',c)\n",
    "    summ=a+b+c\n",
    "    print(f'The summaation of {a}, {b} and {c} is : {summ}')\n",
    "\n",
    "add(100,200,300)"
   ]
  },
  {
   "cell_type": "markdown",
   "id": "c9a02c3e-b5f7-4be3-80f1-29edac27e290",
   "metadata": {},
   "source": [
    "- case 2"
   ]
  },
  {
   "cell_type": "code",
   "execution_count": 11,
   "id": "61f4837c-da26-4d2d-a60f-c35a9e1eacce",
   "metadata": {},
   "outputs": [
    {
     "name": "stdout",
     "output_type": "stream",
     "text": [
      "a: 100\n",
      "b: 200\n",
      "c: 600\n",
      "The summaation of 100, 200 and 600 is : 900\n"
     ]
    }
   ],
   "source": [
    "def add(a,b,c=400):\n",
    "    print('a:',a)\n",
    "    print('b:',b)\n",
    "    print('c:',c)\n",
    "    summ=a+b+c\n",
    "    print(f'The summaation of {a}, {b} and {c} is : {summ}')\n",
    "\n",
    "add(100,200,600)"
   ]
  },
  {
   "cell_type": "markdown",
   "id": "844e344d-4f88-4672-80d6-2ed990db3d72",
   "metadata": {},
   "source": [
    "- In above case we already provided default value c=400\n",
    "\n",
    "- but while we call the function c value become=600\n",
    "\n",
    "- step-1: Define the function: while define what is the value: 400\n",
    "\n",
    "- step-2: call the function: while call the function what is the value: 600\n",
    "\n",
    "- step-3: Running the function: while running what is the value: 600"
   ]
  },
  {
   "cell_type": "code",
   "execution_count": 12,
   "id": "2cfef08a-c9ea-4452-9867-78aa0dac1d4a",
   "metadata": {},
   "outputs": [
    {
     "name": "stdout",
     "output_type": "stream",
     "text": [
      "a: 100\n",
      "b: 200\n",
      "c: 1000\n",
      "The summaation of 100, 200 and 1000 is : 1300\n"
     ]
    }
   ],
   "source": [
    "def add(a,b,c=400):\n",
    "    c=1000\n",
    "    print('a:',a)\n",
    "    print('b:',b)\n",
    "    print('c:',c)\n",
    "    summ=a+b+c\n",
    "    print(f'The summaation of {a}, {b} and {c} is : {summ}')\n",
    "\n",
    "add(100,200,600)\n",
    "\n",
    "# while define c=400\n",
    "# while calling c=600\n",
    "# while running c=1000"
   ]
  },
  {
   "cell_type": "code",
   "execution_count": 13,
   "id": "1beec059-7224-4906-97ae-2039af1afb5b",
   "metadata": {},
   "outputs": [
    {
     "name": "stdout",
     "output_type": "stream",
     "text": [
      "a: 100\n",
      "b: 200\n",
      "c: 1000\n",
      "The summaation of 100, 200 and 1000 is : 1300\n"
     ]
    }
   ],
   "source": [
    "def add(a,b,c):\n",
    "    c=1000\n",
    "    print('a:',a)\n",
    "    print('b:',b)\n",
    "    print('c:',c)\n",
    "    summ=a+b+c\n",
    "    print(f'The summaation of {a}, {b} and {c} is : {summ}')\n",
    "\n",
    "add(100,200,600)\n"
   ]
  },
  {
   "cell_type": "markdown",
   "id": "bc9bf4b6-5760-4ae3-9076-699ce4880610",
   "metadata": {},
   "source": [
    "**Global Variable vs Local Variable**\n",
    "\n",
    "- The variables outside the funtion is called as **Global Variable**    # Like pan india star\n",
    "\n",
    "  - Global variables can use anywhere\n",
    "\n",
    "  - Globval variables can be use inside the function also outside the function\n",
    "\n",
    "\n",
    "- The variables inside the function is called as **Local Variable**    # within the state\n",
    "\n",
    "    - local variables can use only inside the function\n",
    "\n",
    "    - local variables can not be use outside the function\n",
    "\n",
    "  "
   ]
  },
  {
   "cell_type": "code",
   "execution_count": 14,
   "id": "71e5bc6d-c7bd-4461-9478-9816b9fe64fa",
   "metadata": {},
   "outputs": [
    {
     "name": "stdout",
     "output_type": "stream",
     "text": [
      "the summation of 100, 200 is : 300\n"
     ]
    }
   ],
   "source": [
    "def addition():\n",
    "    n1=100\n",
    "    n2=200\n",
    "    summ=n1+n2\n",
    "    print(f'the summation of {n1}, {n2} is : {summ}')\n",
    "\n",
    "addition()"
   ]
  },
  {
   "cell_type": "code",
   "execution_count": 15,
   "id": "fa1320b7-8d60-4983-b232-2020411ff9c9",
   "metadata": {},
   "outputs": [
    {
     "ename": "NameError",
     "evalue": "name 'n1' is not defined",
     "output_type": "error",
     "traceback": [
      "\u001b[1;31m---------------------------------------------------------------------------\u001b[0m",
      "\u001b[1;31mNameError\u001b[0m                                 Traceback (most recent call last)",
      "Cell \u001b[1;32mIn[15], line 1\u001b[0m\n\u001b[1;32m----> 1\u001b[0m n1\n",
      "\u001b[1;31mNameError\u001b[0m: name 'n1' is not defined"
     ]
    }
   ],
   "source": [
    "n1"
   ]
  },
  {
   "cell_type": "code",
   "execution_count": 16,
   "id": "b4521079-02b5-404d-90b0-052d08e94326",
   "metadata": {},
   "outputs": [
    {
     "name": "stdout",
     "output_type": "stream",
     "text": [
      "the summation of 1000, 2000 is : 3000\n"
     ]
    }
   ],
   "source": [
    "n1=1000\n",
    "n2=2000\n",
    "def addition():\n",
    "    summ=n1+n2\n",
    "    print(f'the summation of {n1}, {n2} is : {summ}')\n",
    "\n",
    "addition()"
   ]
  },
  {
   "cell_type": "code",
   "execution_count": 17,
   "id": "54b4f9c5-f9ec-4b92-a191-3fd46bbfbd01",
   "metadata": {},
   "outputs": [
    {
     "data": {
      "text/plain": [
       "1000"
      ]
     },
     "execution_count": 17,
     "metadata": {},
     "output_type": "execute_result"
    }
   ],
   "source": [
    "n1"
   ]
  },
  {
   "cell_type": "markdown",
   "id": "fa89abcf-2b9b-42cb-bc35-afecc52021f2",
   "metadata": {},
   "source": [
    "**How to convert local variable to global variable**\n",
    "\n",
    "- if we want to use summ variable outside the function\n",
    "\n",
    "- then intialise summ as global using **Global** keyword"
   ]
  },
  {
   "cell_type": "code",
   "execution_count": 18,
   "id": "b62d6b9e-07cc-43a1-be4b-96f05e473c80",
   "metadata": {},
   "outputs": [
    {
     "name": "stdout",
     "output_type": "stream",
     "text": [
      "the summation of 1000, 2000 is : 3000\n"
     ]
    }
   ],
   "source": [
    "n1=1000\n",
    "n2=2000\n",
    "def addition():\n",
    "    global summ    # by using global keyword we can turn local variable to global variable\n",
    "    summ=n1+n2\n",
    "    print(f'the summation of {n1}, {n2} is : {summ}')\n",
    "\n",
    "addition()"
   ]
  },
  {
   "cell_type": "code",
   "execution_count": 19,
   "id": "88dd0132-69cd-4c26-ac32-d00d8a929fe7",
   "metadata": {},
   "outputs": [
    {
     "data": {
      "text/plain": [
       "3000"
      ]
     },
     "execution_count": 19,
     "metadata": {},
     "output_type": "execute_result"
    }
   ],
   "source": [
    "summ"
   ]
  },
  {
   "cell_type": "markdown",
   "id": "e72029a2-8f12-41f0-bed6-2be15e3dbb59",
   "metadata": {},
   "source": [
    "**Unbound Local Error**"
   ]
  },
  {
   "cell_type": "markdown",
   "id": "9750c3c7-2fba-4250-8506-8895065b18c9",
   "metadata": {},
   "source": [
    "- in below example s is not intialised\n",
    "\n",
    "- we might think name error will come\n",
    "\n",
    "- but inside function we will get unbound local error"
   ]
  },
  {
   "cell_type": "code",
   "execution_count": 20,
   "id": "779d5791-9e06-432d-9e28-b7a1d910dc29",
   "metadata": {},
   "outputs": [
    {
     "ename": "UnboundLocalError",
     "evalue": "cannot access local variable 's' where it is not associated with a value",
     "output_type": "error",
     "traceback": [
      "\u001b[1;31m---------------------------------------------------------------------------\u001b[0m",
      "\u001b[1;31mUnboundLocalError\u001b[0m                         Traceback (most recent call last)",
      "Cell \u001b[1;32mIn[20], line 6\u001b[0m\n\u001b[0;32m      4\u001b[0m     s\u001b[38;5;241m=\u001b[39ms\u001b[38;5;241m+\u001b[39mn1\n\u001b[0;32m      5\u001b[0m     \u001b[38;5;28mprint\u001b[39m(s1)\n\u001b[1;32m----> 6\u001b[0m add1()\n",
      "Cell \u001b[1;32mIn[20], line 4\u001b[0m, in \u001b[0;36madd1\u001b[1;34m()\u001b[0m\n\u001b[0;32m      2\u001b[0m \u001b[38;5;28;01mdef\u001b[39;00m \u001b[38;5;21madd1\u001b[39m():\n\u001b[0;32m      3\u001b[0m     n1\u001b[38;5;241m=\u001b[39m\u001b[38;5;241m100\u001b[39m\n\u001b[1;32m----> 4\u001b[0m     s\u001b[38;5;241m=\u001b[39ms\u001b[38;5;241m+\u001b[39mn1\n\u001b[0;32m      5\u001b[0m     \u001b[38;5;28mprint\u001b[39m(s1)\n",
      "\u001b[1;31mUnboundLocalError\u001b[0m: cannot access local variable 's' where it is not associated with a value"
     ]
    }
   ],
   "source": [
    "s=0\n",
    "def add1():\n",
    "    n1=100\n",
    "    s=s+n1\n",
    "    print(s1)\n",
    "add1()"
   ]
  },
  {
   "cell_type": "code",
   "execution_count": 21,
   "id": "bfcb2aa4-256d-4e42-9b82-2804a1183b7f",
   "metadata": {},
   "outputs": [
    {
     "name": "stdout",
     "output_type": "stream",
     "text": [
      "100\n"
     ]
    }
   ],
   "source": [
    "s=0\n",
    "def add1():\n",
    "    n1=100\n",
    "    s1=s+n1\n",
    "    print(s1)\n",
    "add1()"
   ]
  },
  {
   "cell_type": "code",
   "execution_count": 22,
   "id": "d951168b-9e1e-463e-bcbc-57dc62fc0c69",
   "metadata": {},
   "outputs": [
    {
     "ename": "NameError",
     "evalue": "name 's1' is not defined",
     "output_type": "error",
     "traceback": [
      "\u001b[1;31m---------------------------------------------------------------------------\u001b[0m",
      "\u001b[1;31mNameError\u001b[0m                                 Traceback (most recent call last)",
      "Cell \u001b[1;32mIn[22], line 1\u001b[0m\n\u001b[1;32m----> 1\u001b[0m s1\n",
      "\u001b[1;31mNameError\u001b[0m: name 's1' is not defined"
     ]
    }
   ],
   "source": [
    "s1"
   ]
  },
  {
   "cell_type": "code",
   "execution_count": 23,
   "id": "3d53a0f7-7530-44b9-86bf-ae2440db1f6a",
   "metadata": {},
   "outputs": [
    {
     "ename": "NameError",
     "evalue": "name 'summ1' is not defined",
     "output_type": "error",
     "traceback": [
      "\u001b[1;31m---------------------------------------------------------------------------\u001b[0m",
      "\u001b[1;31mNameError\u001b[0m                                 Traceback (most recent call last)",
      "Cell \u001b[1;32mIn[23], line 5\u001b[0m\n\u001b[0;32m      3\u001b[0m     s1\u001b[38;5;241m=\u001b[39msumm1\u001b[38;5;241m+\u001b[39mn1\n\u001b[0;32m      4\u001b[0m     \u001b[38;5;28mprint\u001b[39m(s1)\n\u001b[1;32m----> 5\u001b[0m add1()\n",
      "Cell \u001b[1;32mIn[23], line 3\u001b[0m, in \u001b[0;36madd1\u001b[1;34m()\u001b[0m\n\u001b[0;32m      1\u001b[0m \u001b[38;5;28;01mdef\u001b[39;00m \u001b[38;5;21madd1\u001b[39m():\n\u001b[0;32m      2\u001b[0m     n1\u001b[38;5;241m=\u001b[39m\u001b[38;5;241m100\u001b[39m\n\u001b[1;32m----> 3\u001b[0m     s1\u001b[38;5;241m=\u001b[39msumm1\u001b[38;5;241m+\u001b[39mn1\n\u001b[0;32m      4\u001b[0m     \u001b[38;5;28mprint\u001b[39m(s1)\n",
      "\u001b[1;31mNameError\u001b[0m: name 'summ1' is not defined"
     ]
    }
   ],
   "source": [
    "def add1():\n",
    "    n1=100\n",
    "    s1=summ1+n1\n",
    "    print(s1)\n",
    "add1()"
   ]
  },
  {
   "cell_type": "code",
   "execution_count": 24,
   "id": "2a78d85c-cda2-45bf-b40d-e6ee600f6d4b",
   "metadata": {},
   "outputs": [
    {
     "ename": "UnboundLocalError",
     "evalue": "cannot access local variable 'summ1' where it is not associated with a value",
     "output_type": "error",
     "traceback": [
      "\u001b[1;31m---------------------------------------------------------------------------\u001b[0m",
      "\u001b[1;31mUnboundLocalError\u001b[0m                         Traceback (most recent call last)",
      "Cell \u001b[1;32mIn[24], line 5\u001b[0m\n\u001b[0;32m      3\u001b[0m     summ1\u001b[38;5;241m=\u001b[39msumm1\u001b[38;5;241m+\u001b[39mn1\n\u001b[0;32m      4\u001b[0m     \u001b[38;5;28mprint\u001b[39m(s1)\n\u001b[1;32m----> 5\u001b[0m add1()\n",
      "Cell \u001b[1;32mIn[24], line 3\u001b[0m, in \u001b[0;36madd1\u001b[1;34m()\u001b[0m\n\u001b[0;32m      1\u001b[0m \u001b[38;5;28;01mdef\u001b[39;00m \u001b[38;5;21madd1\u001b[39m():\n\u001b[0;32m      2\u001b[0m     n1\u001b[38;5;241m=\u001b[39m\u001b[38;5;241m100\u001b[39m\n\u001b[1;32m----> 3\u001b[0m     summ1\u001b[38;5;241m=\u001b[39msumm1\u001b[38;5;241m+\u001b[39mn1\n\u001b[0;32m      4\u001b[0m     \u001b[38;5;28mprint\u001b[39m(s1)\n",
      "\u001b[1;31mUnboundLocalError\u001b[0m: cannot access local variable 'summ1' where it is not associated with a value"
     ]
    }
   ],
   "source": [
    "def add1():\n",
    "    n1=100\n",
    "    summ1=summ1+n1\n",
    "    print(s1)\n",
    "add1()"
   ]
  },
  {
   "cell_type": "code",
   "execution_count": 27,
   "id": "525ea4ca-6e8a-4519-8bb4-fd6196f5a964",
   "metadata": {},
   "outputs": [
    {
     "name": "stdout",
     "output_type": "stream",
     "text": [
      "200\n"
     ]
    }
   ],
   "source": [
    "def add3():\n",
    "    n1=100\n",
    "    summ2=100\n",
    "    summ2=summ2+n1\n",
    "    print(summ2)\n",
    "add3()"
   ]
  },
  {
   "cell_type": "code",
   "execution_count": 28,
   "id": "b382dfc4-81b1-4f22-851d-dfaa3bf82afc",
   "metadata": {},
   "outputs": [
    {
     "name": "stdout",
     "output_type": "stream",
     "text": [
      "60 20.0\n"
     ]
    }
   ],
   "source": [
    "def avg(a,b,c):\n",
    "    ADD=a+b+c\n",
    "    AVG1=ADD/3\n",
    "    print(ADD,AVG1)\n",
    "avg(10,20,30)"
   ]
  },
  {
   "cell_type": "code",
   "execution_count": 29,
   "id": "2467b43d-8116-4986-83bf-6b593b6d343c",
   "metadata": {},
   "outputs": [
    {
     "name": "stdout",
     "output_type": "stream",
     "text": [
      "60 20.0\n"
     ]
    }
   ],
   "source": [
    "def avg(a,b,c):\n",
    "    global ADD,AVG1\n",
    "    ADD=a+b+c\n",
    "    AVG1=ADD/3\n",
    "    print(ADD,AVG1)\n",
    "avg(10,20,30)"
   ]
  },
  {
   "cell_type": "code",
   "execution_count": 30,
   "id": "c1480f8a-004d-4c28-8300-70bddecc2c46",
   "metadata": {},
   "outputs": [
    {
     "data": {
      "text/plain": [
       "(60, 20.0)"
      ]
     },
     "execution_count": 30,
     "metadata": {},
     "output_type": "execute_result"
    }
   ],
   "source": [
    "ADD,AVG1"
   ]
  },
  {
   "cell_type": "code",
   "execution_count": null,
   "id": "303cf327-1d91-40cc-ad3f-65612679303f",
   "metadata": {},
   "outputs": [],
   "source": []
  }
 ],
 "metadata": {
  "kernelspec": {
   "display_name": "Python 3 (ipykernel)",
   "language": "python",
   "name": "python3"
  },
  "language_info": {
   "codemirror_mode": {
    "name": "ipython",
    "version": 3
   },
   "file_extension": ".py",
   "mimetype": "text/x-python",
   "name": "python",
   "nbconvert_exporter": "python",
   "pygments_lexer": "ipython3",
   "version": "3.12.7"
  }
 },
 "nbformat": 4,
 "nbformat_minor": 5
}
