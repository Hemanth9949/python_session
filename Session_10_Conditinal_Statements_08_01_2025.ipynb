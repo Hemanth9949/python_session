{
 "cells": [
  {
   "cell_type": "markdown",
   "id": "a7a9c29e-c3b8-4e50-a2aa-a38a39106950",
   "metadata": {},
   "source": [
    "## Conditional Statements\n",
    "\n",
    "- Conditional statements are used to execute the code based on some condition\n",
    "\n",
    "- assume a statement\n",
    "\n",
    "   - if rain comes i will stay at hostel\n",
    "\n",
    "   - if rain comes i will stay at hostel otherwise i will go to play cricket\n",
    "\n",
    "   - if rain comes i will stay at hostel otherwise i will go to ground but if omkar sir call i will go to naresh it\n",
    "\n",
    "- if rain comes i will stay at hostel else i will go to play cricket\n",
    "\n",
    "- **if**\n",
    "\n",
    "- **if-else**\n",
    "\n",
    "- **if-elif-else**"
   ]
  },
  {
   "cell_type": "markdown",
   "id": "c41c047c-70b0-4065-a58b-4c9a1673e9ff",
   "metadata": {},
   "source": [
    "**case-1:if**"
   ]
  },
  {
   "cell_type": "code",
   "execution_count": null,
   "id": "7b1b4f9c-6df8-4a1f-ae01-80f3b2437cb0",
   "metadata": {},
   "outputs": [],
   "source": [
    "if <condition>:\n",
    "    # write your code here( the gap before it is indentation gap)\n",
    "\n",
    "# whenever the condition is true\n",
    "# then python will go inside the if area then the lines will be executed"
   ]
  },
  {
   "cell_type": "code",
   "execution_count": 5,
   "id": "359f6295-c2e6-4c98-b463-35613c72efd5",
   "metadata": {},
   "outputs": [
    {
     "name": "stdout",
     "output_type": "stream",
     "text": [
      "True\n",
      "False\n",
      "False\n",
      "False\n",
      "True\n",
      "True\n"
     ]
    }
   ],
   "source": [
    "num=10  # assignment 10 is a value stored in a variable num\n",
    "print(num==10) #T condition check num value equal to 10 or not\n",
    "print(num==100) #F\n",
    "print(num>10) #F\n",
    "print(num<10) #F\n",
    "print(num>=10) #T\n",
    "print(num<=10) #T"
   ]
  },
  {
   "cell_type": "code",
   "execution_count": 7,
   "id": "bcdcf600-cf43-41c7-a9cf-7d25010552b3",
   "metadata": {},
   "outputs": [
    {
     "name": "stdout",
     "output_type": "stream",
     "text": [
      "hello\n"
     ]
    }
   ],
   "source": [
    "if 100>10:\n",
    "    print('hello')\n",
    "\n",
    "# step-1: 100>10 True\n",
    "# step-2: hello"
   ]
  },
  {
   "cell_type": "markdown",
   "id": "e078bc2c-8d2d-47f7-b2fa-2c81e330a937",
   "metadata": {},
   "source": [
    "**mistake-1**\n",
    "\n",
    "**indentation error**\n",
    "\n",
    "- whenever a line starts with keyword at last **:** will be there\n",
    "\n",
    "- whenever : is there then we have indentation"
   ]
  },
  {
   "cell_type": "code",
   "execution_count": 9,
   "id": "844b187f-03d1-41d7-9790-585d896235e1",
   "metadata": {},
   "outputs": [
    {
     "name": "stdout",
     "output_type": "stream",
     "text": [
      "hello\n"
     ]
    }
   ],
   "source": [
    "if 100>10:\n",
    "    print('hello')\n",
    "\n",
    "# enter tab\n",
    "# enter space bar 4 times\n",
    "# press enter after colon"
   ]
  },
  {
   "cell_type": "markdown",
   "id": "d1c2357a-5e49-40be-9bf7-dccce37b0ecf",
   "metadata": {},
   "source": [
    "**mistake-2**\n",
    "\n",
    "- colon"
   ]
  },
  {
   "cell_type": "code",
   "execution_count": 10,
   "id": "f49d9a51-f30d-44f5-b6ef-1adb619ab7f7",
   "metadata": {},
   "outputs": [
    {
     "ename": "SyntaxError",
     "evalue": "expected ':' (4081822489.py, line 1)",
     "output_type": "error",
     "traceback": [
      "\u001b[1;36m  Cell \u001b[1;32mIn[10], line 1\u001b[1;36m\u001b[0m\n\u001b[1;33m    if 100>10\u001b[0m\n\u001b[1;37m             ^\u001b[0m\n\u001b[1;31mSyntaxError\u001b[0m\u001b[1;31m:\u001b[0m expected ':'\n"
     ]
    }
   ],
   "source": [
    "if 100>10\n",
    "    print('hello')"
   ]
  },
  {
   "cell_type": "code",
   "execution_count": 1,
   "id": "70a487a1-53b1-44d0-9e9b-852babc88817",
   "metadata": {},
   "outputs": [],
   "source": [
    "if 100<10:\n",
    "    print('hello')\n",
    "\n",
    "# step-1: 100<10 false"
   ]
  },
  {
   "cell_type": "code",
   "execution_count": 12,
   "id": "ca1f9475-ef04-45e0-ab50-609936be265b",
   "metadata": {},
   "outputs": [
    {
     "data": {
      "text/plain": [
       "True"
      ]
     },
     "execution_count": 12,
     "metadata": {},
     "output_type": "execute_result"
    }
   ],
   "source": [
    "100>10"
   ]
  },
  {
   "cell_type": "code",
   "execution_count": 13,
   "id": "7ea9ec09-9f07-4277-a7d2-70fde60868c2",
   "metadata": {},
   "outputs": [
    {
     "name": "stdout",
     "output_type": "stream",
     "text": [
      "hello\n"
     ]
    }
   ],
   "source": [
    "if True:\n",
    "    print('hello')"
   ]
  },
  {
   "cell_type": "code",
   "execution_count": 14,
   "id": "0387a94e-f237-411d-bc26-99bbd5112c4f",
   "metadata": {},
   "outputs": [
    {
     "data": {
      "text/plain": [
       "False"
      ]
     },
     "execution_count": 14,
     "metadata": {},
     "output_type": "execute_result"
    }
   ],
   "source": [
    "bool(0)"
   ]
  },
  {
   "cell_type": "code",
   "execution_count": 15,
   "id": "18f02c67-d920-41f5-af83-d0fa961fe012",
   "metadata": {},
   "outputs": [
    {
     "data": {
      "text/plain": [
       "True"
      ]
     },
     "execution_count": 15,
     "metadata": {},
     "output_type": "execute_result"
    }
   ],
   "source": [
    "bool(100)"
   ]
  },
  {
   "cell_type": "code",
   "execution_count": 16,
   "id": "0f5e479d-78b1-43b9-845a-6aa2123cdaff",
   "metadata": {},
   "outputs": [
    {
     "name": "stdout",
     "output_type": "stream",
     "text": [
      "hello\n",
      "hello\n",
      "hello\n"
     ]
    }
   ],
   "source": [
    "if bool(100):\n",
    "    print('hello')\n",
    "\n",
    "if 100>10:\n",
    "    print('hello')\n",
    "\n",
    "if True:\n",
    "    print('hello')"
   ]
  },
  {
   "cell_type": "code",
   "execution_count": 17,
   "id": "18db0f0a-c245-44ed-8426-ab0295bc24c0",
   "metadata": {},
   "outputs": [
    {
     "name": "stdout",
     "output_type": "stream",
     "text": [
      "hello\n",
      "hai\n",
      "im with condition bye\n",
      "im without condition bye\n"
     ]
    }
   ],
   "source": [
    "if 100>10:\n",
    "    print('hello')\n",
    "    print('hai')\n",
    "    print('im with condition bye')\n",
    "print('im without condition bye')"
   ]
  },
  {
   "cell_type": "code",
   "execution_count": 18,
   "id": "f02e827c-367e-4a9d-b5a4-1841a282453f",
   "metadata": {},
   "outputs": [
    {
     "name": "stdout",
     "output_type": "stream",
     "text": [
      "im without condition bye\n"
     ]
    }
   ],
   "source": [
    "if 100<10:\n",
    "    print('hello')\n",
    "    print('hai')\n",
    "    print('im with condition bye')\n",
    "print('im without condition bye')"
   ]
  },
  {
   "cell_type": "code",
   "execution_count": 19,
   "id": "cbf7c222-cd35-4a97-8d9b-159192407c11",
   "metadata": {},
   "outputs": [
    {
     "name": "stdout",
     "output_type": "stream",
     "text": [
      "1\n",
      "2\n",
      "hello\n",
      "hai\n",
      "im with condition bye\n",
      "im without condition bye\n",
      "im without condition bye\n"
     ]
    }
   ],
   "source": [
    "print(1)\n",
    "print(2)\n",
    "if 100>10:\n",
    "    print('hello')\n",
    "    print('hai')\n",
    "    print('im with condition bye')\n",
    "print('im without condition bye')\n",
    "\n",
    "if 100<10:\n",
    "    print('hello')\n",
    "    print('hai')\n",
    "    print('im with condition bye')\n",
    "print('im without condition bye')"
   ]
  },
  {
   "cell_type": "code",
   "execution_count": null,
   "id": "ec570f68-da4e-44a4-91b3-768e41a46e48",
   "metadata": {},
   "outputs": [],
   "source": []
  }
 ],
 "metadata": {
  "kernelspec": {
   "display_name": "Python 3 (ipykernel)",
   "language": "python",
   "name": "python3"
  },
  "language_info": {
   "codemirror_mode": {
    "name": "ipython",
    "version": 3
   },
   "file_extension": ".py",
   "mimetype": "text/x-python",
   "name": "python",
   "nbconvert_exporter": "python",
   "pygments_lexer": "ipython3",
   "version": "3.12.7"
  }
 },
 "nbformat": 4,
 "nbformat_minor": 5
}
