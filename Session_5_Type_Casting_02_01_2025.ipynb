{
 "cells": [
  {
   "cell_type": "markdown",
   "id": "e3f0538b-3ddd-460a-a287-59bc82b305f6",
   "metadata": {},
   "source": [
    "## Type Casting\n",
    "\n",
    "- Convert one data type to another data type\n",
    "\n",
    "- We learned 4 data types\n",
    "\n",
    "    - integer: int\n",
    "\n",
    "    - float: float\n",
    "\n",
    "    - boolean: bool\n",
    "\n",
    "    - string: str"
   ]
  },
  {
   "cell_type": "markdown",
   "id": "d98c59e7-aa2a-41c0-bbaa-176ff91ce918",
   "metadata": {},
   "source": [
    "**Int to other data types**"
   ]
  },
  {
   "cell_type": "code",
   "execution_count": 2,
   "id": "dfff8703-b6b2-4058-a040-409da57a705a",
   "metadata": {},
   "outputs": [
    {
     "data": {
      "text/plain": [
       "int"
      ]
     },
     "execution_count": 2,
     "metadata": {},
     "output_type": "execute_result"
    }
   ],
   "source": [
    "number=100\n",
    "type(number)"
   ]
  },
  {
   "cell_type": "code",
   "execution_count": 3,
   "id": "3acda95f-7f2a-453f-a0cb-0594f6a4ee41",
   "metadata": {},
   "outputs": [
    {
     "data": {
      "text/plain": [
       "100.0"
      ]
     },
     "execution_count": 3,
     "metadata": {},
     "output_type": "execute_result"
    }
   ],
   "source": [
    "float(number)"
   ]
  },
  {
   "cell_type": "code",
   "execution_count": 4,
   "id": "655d8f2a-74af-47c8-90b0-f64e078c4a9b",
   "metadata": {},
   "outputs": [
    {
     "data": {
      "text/plain": [
       "True"
      ]
     },
     "execution_count": 4,
     "metadata": {},
     "output_type": "execute_result"
    }
   ],
   "source": [
    "bool(number)"
   ]
  },
  {
   "cell_type": "code",
   "execution_count": 5,
   "id": "f93e8c1f-720b-4bbc-9c03-ad82c5b495d5",
   "metadata": {},
   "outputs": [
    {
     "data": {
      "text/plain": [
       "'100'"
      ]
     },
     "execution_count": 5,
     "metadata": {},
     "output_type": "execute_result"
    }
   ],
   "source": [
    "str(number)"
   ]
  },
  {
   "cell_type": "code",
   "execution_count": 7,
   "id": "71ad7429-bb1f-437d-97ba-95072305f555",
   "metadata": {},
   "outputs": [
    {
     "data": {
      "text/plain": [
       "float"
      ]
     },
     "execution_count": 7,
     "metadata": {},
     "output_type": "execute_result"
    }
   ],
   "source": [
    "float_number=float(number)\n",
    "type(float_number)"
   ]
  },
  {
   "cell_type": "code",
   "execution_count": 8,
   "id": "8bbda6bd-388c-4a8c-9aec-b494cd954eba",
   "metadata": {},
   "outputs": [
    {
     "data": {
      "text/plain": [
       "bool"
      ]
     },
     "execution_count": 8,
     "metadata": {},
     "output_type": "execute_result"
    }
   ],
   "source": [
    "bool_number=bool(number)\n",
    "type(bool_number)"
   ]
  },
  {
   "cell_type": "code",
   "execution_count": 10,
   "id": "756656b6-7840-4f0c-834c-7d48c363427d",
   "metadata": {},
   "outputs": [
    {
     "data": {
      "text/plain": [
       "str"
      ]
     },
     "execution_count": 10,
     "metadata": {},
     "output_type": "execute_result"
    }
   ],
   "source": [
    "str_number=str(number)\n",
    "type(str_number)"
   ]
  },
  {
   "cell_type": "code",
   "execution_count": 11,
   "id": "00d5020d-19f3-4b14-96ab-265fc5f37119",
   "metadata": {},
   "outputs": [
    {
     "data": {
      "text/plain": [
       "(100.0, True, '100')"
      ]
     },
     "execution_count": 11,
     "metadata": {},
     "output_type": "execute_result"
    }
   ],
   "source": [
    "float(100),bool(100),str(100)"
   ]
  },
  {
   "cell_type": "code",
   "execution_count": 12,
   "id": "838944c5-2d6a-4b2a-a9bb-f17a5b733be3",
   "metadata": {},
   "outputs": [
    {
     "name": "stdout",
     "output_type": "stream",
     "text": [
      "100.0\n",
      "True\n",
      "100\n"
     ]
    }
   ],
   "source": [
    "print(float(100))\n",
    "print(bool(100))\n",
    "print(str(100))"
   ]
  },
  {
   "cell_type": "code",
   "execution_count": 35,
   "id": "7e93e91e-3014-47b3-91df-dce129ad7264",
   "metadata": {},
   "outputs": [
    {
     "data": {
      "text/plain": [
       "(-100.0, True, '-100')"
      ]
     },
     "execution_count": 35,
     "metadata": {},
     "output_type": "execute_result"
    }
   ],
   "source": [
    "float(-100),bool(-100),str(-100)"
   ]
  },
  {
   "cell_type": "code",
   "execution_count": 13,
   "id": "7e49d56a-2f55-4b7a-840b-10a92aa85b5f",
   "metadata": {},
   "outputs": [
    {
     "name": "stdout",
     "output_type": "stream",
     "text": [
      "-100.0\n",
      "True\n",
      "-100\n"
     ]
    }
   ],
   "source": [
    "print(float(-100))\n",
    "print(bool(-100))\n",
    "print(str(-100))"
   ]
  },
  {
   "cell_type": "code",
   "execution_count": 14,
   "id": "ad7ff39e-477d-4e50-b1ba-b787d2e053c6",
   "metadata": {},
   "outputs": [
    {
     "name": "stdout",
     "output_type": "stream",
     "text": [
      "0.0\n",
      "False\n",
      "0\n"
     ]
    }
   ],
   "source": [
    "print(float(0))\n",
    "print(bool(0))\n",
    "print(str(0))"
   ]
  },
  {
   "cell_type": "markdown",
   "id": "32fe12ea-1a15-496e-999d-44bcd64c4e07",
   "metadata": {},
   "source": [
    "- zero means off\n",
    "\n",
    "- False means off"
   ]
  },
  {
   "cell_type": "markdown",
   "id": "9a672719-2d4e-41bf-87f4-602c2f06f10e",
   "metadata": {},
   "source": [
    "**Float to other data types**"
   ]
  },
  {
   "cell_type": "code",
   "execution_count": 15,
   "id": "98401773-44d9-4498-b6d0-6063b437b4fd",
   "metadata": {},
   "outputs": [
    {
     "data": {
      "text/plain": [
       "200"
      ]
     },
     "execution_count": 15,
     "metadata": {},
     "output_type": "execute_result"
    }
   ],
   "source": [
    "number=200.2\n",
    "int(number)"
   ]
  },
  {
   "cell_type": "code",
   "execution_count": 16,
   "id": "fd76369b-9ab6-4464-82c8-376278cb86f5",
   "metadata": {},
   "outputs": [
    {
     "data": {
      "text/plain": [
       "True"
      ]
     },
     "execution_count": 16,
     "metadata": {},
     "output_type": "execute_result"
    }
   ],
   "source": [
    "bool(number)"
   ]
  },
  {
   "cell_type": "code",
   "execution_count": 17,
   "id": "248d3d83-7b3a-4273-85fe-84e630f325e4",
   "metadata": {},
   "outputs": [
    {
     "data": {
      "text/plain": [
       "'200.2'"
      ]
     },
     "execution_count": 17,
     "metadata": {},
     "output_type": "execute_result"
    }
   ],
   "source": [
    "str(number)"
   ]
  },
  {
   "cell_type": "code",
   "execution_count": 18,
   "id": "80f0d7d2-ea53-4af0-a3ab-1c52fe65e0df",
   "metadata": {},
   "outputs": [
    {
     "data": {
      "text/plain": [
       "(200, True, '200.2')"
      ]
     },
     "execution_count": 18,
     "metadata": {},
     "output_type": "execute_result"
    }
   ],
   "source": [
    "int(200.2),bool(200.2),str(200.2)"
   ]
  },
  {
   "cell_type": "code",
   "execution_count": 37,
   "id": "fc189320-b8f9-48aa-a8a0-69c7a4eb898f",
   "metadata": {},
   "outputs": [
    {
     "name": "stdout",
     "output_type": "stream",
     "text": [
      "200\n",
      "True\n",
      "200.2\n"
     ]
    }
   ],
   "source": [
    "n1=int(200.2)\n",
    "n2=bool(200.2)\n",
    "n3=str(200.2)\n",
    "print(n1)\n",
    "print(n2)\n",
    "print(n3)"
   ]
  },
  {
   "cell_type": "code",
   "execution_count": 3,
   "id": "a1868f76-8ab6-4152-9457-f4e851b0eddf",
   "metadata": {},
   "outputs": [
    {
     "name": "stdout",
     "output_type": "stream",
     "text": [
      "0\n",
      "False\n",
      "0.0\n",
      "True\n"
     ]
    }
   ],
   "source": [
    "n1=int(0.0)\n",
    "n2=bool(0.0)\n",
    "n3=str(0.0)\n",
    "n4=bool('0.0')\n",
    "print(n1)\n",
    "print(n2)\n",
    "print(n3)\n",
    "print(n4)"
   ]
  },
  {
   "cell_type": "markdown",
   "id": "e3d1c540-ff82-43d2-96b2-1e67e5eb913c",
   "metadata": {},
   "source": [
    "**String to other Data Types**"
   ]
  },
  {
   "cell_type": "code",
   "execution_count": null,
   "id": "5b8e4af3-a8c0-44d5-adb8-84897c4d4f8c",
   "metadata": {},
   "outputs": [],
   "source": [
    "int('Apple') #fail\n",
    "float('Apple') #fail\n",
    "bool('Apple') #works"
   ]
  },
  {
   "cell_type": "code",
   "execution_count": 22,
   "id": "c86cf95c-2874-4a31-9f0b-ce64842f3ca0",
   "metadata": {},
   "outputs": [
    {
     "data": {
      "text/plain": [
       "True"
      ]
     },
     "execution_count": 22,
     "metadata": {},
     "output_type": "execute_result"
    }
   ],
   "source": [
    "bool('Apple')"
   ]
  },
  {
   "cell_type": "code",
   "execution_count": 23,
   "id": "aaad5c4a-f625-4f46-9ef6-4a947dbba891",
   "metadata": {},
   "outputs": [
    {
     "data": {
      "text/plain": [
       "True"
      ]
     },
     "execution_count": 23,
     "metadata": {},
     "output_type": "execute_result"
    }
   ],
   "source": [
    "bool('0')"
   ]
  },
  {
   "cell_type": "code",
   "execution_count": 24,
   "id": "9e1ea4e6-82c3-42d6-a1c8-356b444c82e0",
   "metadata": {},
   "outputs": [
    {
     "data": {
      "text/plain": [
       "False"
      ]
     },
     "execution_count": 24,
     "metadata": {},
     "output_type": "execute_result"
    }
   ],
   "source": [
    "bool('')"
   ]
  },
  {
   "cell_type": "code",
   "execution_count": 25,
   "id": "3e274e7d-5028-45a4-948b-902248de9658",
   "metadata": {},
   "outputs": [
    {
     "data": {
      "text/plain": [
       "5"
      ]
     },
     "execution_count": 25,
     "metadata": {},
     "output_type": "execute_result"
    }
   ],
   "source": [
    "len('apple')"
   ]
  },
  {
   "cell_type": "code",
   "execution_count": 26,
   "id": "c5c9ccaf-8c5a-4508-a8b6-dabd1a86b10a",
   "metadata": {},
   "outputs": [
    {
     "data": {
      "text/plain": [
       "1"
      ]
     },
     "execution_count": 26,
     "metadata": {},
     "output_type": "execute_result"
    }
   ],
   "source": [
    "len('0')"
   ]
  },
  {
   "cell_type": "code",
   "execution_count": 27,
   "id": "9220436a-e142-4404-ae86-829976f1f037",
   "metadata": {},
   "outputs": [
    {
     "data": {
      "text/plain": [
       "0"
      ]
     },
     "execution_count": 27,
     "metadata": {},
     "output_type": "execute_result"
    }
   ],
   "source": [
    "len('')"
   ]
  },
  {
   "cell_type": "markdown",
   "id": "14366854-28e1-442b-843f-e8b3f08239d4",
   "metadata": {},
   "source": [
    "- for numbers 0 and 0.0 boolean conversion gives **False**\n",
    "\n",
    "- for strings empty boolean conversion gives **False**"
   ]
  },
  {
   "cell_type": "code",
   "execution_count": 38,
   "id": "454f4dc1-5984-4cf7-b0c8-c5f8beea0266",
   "metadata": {},
   "outputs": [
    {
     "data": {
      "text/plain": [
       "10"
      ]
     },
     "execution_count": 38,
     "metadata": {},
     "output_type": "execute_result"
    }
   ],
   "source": [
    "float('10') # works 10.0\n",
    "bool('10') # works true\n",
    "int('10') # works 10"
   ]
  },
  {
   "cell_type": "code",
   "execution_count": 32,
   "id": "80ee725d-a9eb-4140-bdc7-aea4c203b771",
   "metadata": {},
   "outputs": [
    {
     "data": {
      "text/plain": [
       "(10.0, True, 10)"
      ]
     },
     "execution_count": 32,
     "metadata": {},
     "output_type": "execute_result"
    }
   ],
   "source": [
    "float('10'),bool('10'),int('10')"
   ]
  },
  {
   "cell_type": "markdown",
   "id": "2604b3b4-91c9-4464-a699-8c23922325ed",
   "metadata": {},
   "source": [
    "**Str object not callable**\n",
    "\n",
    "- python magic\n",
    "\n",
    "- either you need to open new notebook\n",
    "\n",
    "- or we need to go to kernel and restart"
   ]
  },
  {
   "cell_type": "code",
   "execution_count": 33,
   "id": "a90bb6cd-4951-4387-8723-ad1a8043ce80",
   "metadata": {},
   "outputs": [
    {
     "ename": "ValueError",
     "evalue": "invalid literal for int() with base 10: '10.5'",
     "output_type": "error",
     "traceback": [
      "\u001b[1;31m---------------------------------------------------------------------------\u001b[0m",
      "\u001b[1;31mValueError\u001b[0m                                Traceback (most recent call last)",
      "Cell \u001b[1;32mIn[33], line 3\u001b[0m\n\u001b[0;32m      1\u001b[0m \u001b[38;5;28mfloat\u001b[39m(\u001b[38;5;124m'\u001b[39m\u001b[38;5;124m10.5\u001b[39m\u001b[38;5;124m'\u001b[39m) \u001b[38;5;66;03m# w 10.5\u001b[39;00m\n\u001b[0;32m      2\u001b[0m \u001b[38;5;28mbool\u001b[39m(\u001b[38;5;124m'\u001b[39m\u001b[38;5;124m10.5\u001b[39m\u001b[38;5;124m'\u001b[39m)  \u001b[38;5;66;03m# w True\u001b[39;00m\n\u001b[1;32m----> 3\u001b[0m \u001b[38;5;28mint\u001b[39m(\u001b[38;5;124m'\u001b[39m\u001b[38;5;124m10.5\u001b[39m\u001b[38;5;124m'\u001b[39m)\n",
      "\u001b[1;31mValueError\u001b[0m: invalid literal for int() with base 10: '10.5'"
     ]
    }
   ],
   "source": [
    "float('10.5') # w 10.5\n",
    "bool('10.5')  # w True\n",
    "int('10.5')  ##### fail"
   ]
  },
  {
   "cell_type": "code",
   "execution_count": null,
   "id": "fe3527dc-a21e-4768-b696-d73b6d1335bc",
   "metadata": {},
   "outputs": [],
   "source": [
    "**FLoat is the Boss**  # Highest representaion of the number system\n",
    "\n",
    "float('10') # w\n",
    "float('10.5') # w\n",
    "\n",
    "int('10') # w\n",
    "int('10.5') # Fail"
   ]
  },
  {
   "cell_type": "markdown",
   "id": "70737de3-965b-47bd-9a3f-a917fc197c33",
   "metadata": {},
   "source": [
    "**Boolean to other Data types**\n"
   ]
  },
  {
   "cell_type": "code",
   "execution_count": 39,
   "id": "11d50275-f605-4ce3-8f4e-c3b1073b8103",
   "metadata": {},
   "outputs": [
    {
     "name": "stdout",
     "output_type": "stream",
     "text": [
      "1\n",
      "1.0\n",
      "True\n",
      "0\n",
      "0.0\n",
      "False\n"
     ]
    }
   ],
   "source": [
    "print(int(True)) # w   1\n",
    "print(float(True)) # w 1.0\n",
    "print(str(True)) # 'True'\n",
    "print(int(False)) # 0\n",
    "print(float(False)) # 0.0\n",
    "print(str(False)) # 'False'"
   ]
  },
  {
   "cell_type": "code",
   "execution_count": 3,
   "id": "87eb4e47-c2a7-4131-943b-9206f0116604",
   "metadata": {},
   "outputs": [
    {
     "ename": "ValueError",
     "evalue": "invalid literal for int() with base 10: 'Apple'",
     "output_type": "error",
     "traceback": [
      "\u001b[1;31m---------------------------------------------------------------------------\u001b[0m",
      "\u001b[1;31mValueError\u001b[0m                                Traceback (most recent call last)",
      "Cell \u001b[1;32mIn[3], line 7\u001b[0m\n\u001b[0;32m      5\u001b[0m \u001b[38;5;28mstr\u001b[39m(\u001b[38;5;241m10.5\u001b[39m)\n\u001b[0;32m      6\u001b[0m \u001b[38;5;28mbool\u001b[39m(\u001b[38;5;241m10.5\u001b[39m)\n\u001b[1;32m----> 7\u001b[0m \u001b[38;5;28mint\u001b[39m(\u001b[38;5;124m'\u001b[39m\u001b[38;5;124mApple\u001b[39m\u001b[38;5;124m'\u001b[39m)\n",
      "\u001b[1;31mValueError\u001b[0m: invalid literal for int() with base 10: 'Apple'"
     ]
    }
   ],
   "source": [
    "float(10)\n",
    "str(10)\n",
    "bool(10)\n",
    "int(10.5)\n",
    "str(10.5)\n",
    "bool(10.5)\n",
    "int('Apple')\n"
   ]
  },
  {
   "cell_type": "code",
   "execution_count": null,
   "id": "329b00aa-ec1d-4dc6-bd36-29a1bdff3769",
   "metadata": {},
   "outputs": [],
   "source": []
  }
 ],
 "metadata": {
  "kernelspec": {
   "display_name": "Python 3 (ipykernel)",
   "language": "python",
   "name": "python3"
  },
  "language_info": {
   "codemirror_mode": {
    "name": "ipython",
    "version": 3
   },
   "file_extension": ".py",
   "mimetype": "text/x-python",
   "name": "python",
   "nbconvert_exporter": "python",
   "pygments_lexer": "ipython3",
   "version": "3.12.7"
  }
 },
 "nbformat": 4,
 "nbformat_minor": 5
}
