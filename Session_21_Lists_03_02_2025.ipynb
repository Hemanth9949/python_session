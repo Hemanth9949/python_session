{
 "cells": [
  {
   "cell_type": "markdown",
   "id": "943c767c-e9d9-4caa-a2c8-6de6858fa959",
   "metadata": {},
   "source": [
    "**Lists**"
   ]
  },
  {
   "cell_type": "markdown",
   "id": "b3eb6919-fd47-4892-b21e-b99f1c3bc6be",
   "metadata": {},
   "source": [
    "**Basic Representation**"
   ]
  },
  {
   "cell_type": "markdown",
   "id": "b2161422-612b-4a11-ba74-76c0667f784d",
   "metadata": {},
   "source": [
    "- strings will use in quotes\n",
    "\n",
    "- list elements is in square brackets"
   ]
  },
  {
   "cell_type": "code",
   "execution_count": 1,
   "id": "a1781542-8285-4c3e-8c77-029777b2be9b",
   "metadata": {},
   "outputs": [
    {
     "data": {
      "text/plain": [
       "[1, 2, 3, 4, 5]"
      ]
     },
     "execution_count": 1,
     "metadata": {},
     "output_type": "execute_result"
    }
   ],
   "source": [
    "list1=[1,2,3,4,5]\n",
    "list1"
   ]
  },
  {
   "cell_type": "code",
   "execution_count": 2,
   "id": "445215bb-1a64-4e7e-8a83-a29b56585c80",
   "metadata": {},
   "outputs": [
    {
     "name": "stdout",
     "output_type": "stream",
     "text": [
      "[1, 2, 3, 4, 5]\n"
     ]
    }
   ],
   "source": [
    "print(list1)"
   ]
  },
  {
   "cell_type": "code",
   "execution_count": 3,
   "id": "9733ca12-b92b-456d-a747-16d5b894b0e7",
   "metadata": {},
   "outputs": [
    {
     "data": {
      "text/plain": [
       "list"
      ]
     },
     "execution_count": 3,
     "metadata": {},
     "output_type": "execute_result"
    }
   ],
   "source": [
    "type(list1)\n",
    "# for strings ===== str\n",
    "# we will say strings ==== but type is str\n",
    "# we will say list ==== type also list"
   ]
  },
  {
   "cell_type": "code",
   "execution_count": 4,
   "id": "15e7f0f9-d84d-43f4-916c-6d7fffc5cdee",
   "metadata": {},
   "outputs": [
    {
     "data": {
      "text/plain": [
       "['A', 'B', 'C']"
      ]
     },
     "execution_count": 4,
     "metadata": {},
     "output_type": "execute_result"
    }
   ],
   "source": [
    "list2=['A','B','C']\n",
    "list2"
   ]
  },
  {
   "cell_type": "code",
   "execution_count": 5,
   "id": "c90a6b94-7770-4697-9bf0-6d0a207f6eb9",
   "metadata": {},
   "outputs": [
    {
     "data": {
      "text/plain": [
       "[1, 2, 3, 'A', 'B', 'C']"
      ]
     },
     "execution_count": 5,
     "metadata": {},
     "output_type": "execute_result"
    }
   ],
   "source": [
    "list3=[1,2,3,'A','B','C']\n",
    "list3"
   ]
  },
  {
   "cell_type": "code",
   "execution_count": 6,
   "id": "44943099-0eab-4b60-abad-a5374fdf2358",
   "metadata": {},
   "outputs": [
    {
     "data": {
      "text/plain": [
       "[1, 2, 3, 'A', 'B', 'C', 0.2, 5.1, 'a', 'b']"
      ]
     },
     "execution_count": 6,
     "metadata": {},
     "output_type": "execute_result"
    }
   ],
   "source": [
    "list3=[1,2,3,'A','B','C',0.2,5.1,'a','b']\n",
    "list3"
   ]
  },
  {
   "cell_type": "code",
   "execution_count": 7,
   "id": "9c3cbf95-d232-47a3-b126-3e683b42c43f",
   "metadata": {},
   "outputs": [
    {
     "ename": "TypeError",
     "evalue": "int() argument must be a string, a bytes-like object or a real number, not 'list'",
     "output_type": "error",
     "traceback": [
      "\u001b[1;31m---------------------------------------------------------------------------\u001b[0m",
      "\u001b[1;31mTypeError\u001b[0m                                 Traceback (most recent call last)",
      "Cell \u001b[1;32mIn[7], line 1\u001b[0m\n\u001b[1;32m----> 1\u001b[0m \u001b[38;5;28mint\u001b[39m(list3)\n",
      "\u001b[1;31mTypeError\u001b[0m: int() argument must be a string, a bytes-like object or a real number, not 'list'"
     ]
    }
   ],
   "source": [
    "int(list3)"
   ]
  },
  {
   "cell_type": "code",
   "execution_count": 8,
   "id": "88d67b6e-7cfc-4b79-809f-c69ecafb3cfb",
   "metadata": {},
   "outputs": [
    {
     "data": {
      "text/plain": [
       "list"
      ]
     },
     "execution_count": 8,
     "metadata": {},
     "output_type": "execute_result"
    }
   ],
   "source": [
    "type(list3)"
   ]
  },
  {
   "cell_type": "code",
   "execution_count": 9,
   "id": "a14556b8-9c8d-4199-92a4-7ed7c5dfb80e",
   "metadata": {},
   "outputs": [
    {
     "data": {
      "text/plain": [
       "\"[1, 2, 3, 'A', 'B', 'C', 0.2, 5.1, 'a', 'b']\""
      ]
     },
     "execution_count": 9,
     "metadata": {},
     "output_type": "execute_result"
    }
   ],
   "source": [
    "str(list3)"
   ]
  },
  {
   "cell_type": "code",
   "execution_count": 10,
   "id": "e4814ca9-26ad-4d48-8900-80b8d80ae516",
   "metadata": {},
   "outputs": [
    {
     "ename": "TypeError",
     "evalue": "float() argument must be a string or a real number, not 'list'",
     "output_type": "error",
     "traceback": [
      "\u001b[1;31m---------------------------------------------------------------------------\u001b[0m",
      "\u001b[1;31mTypeError\u001b[0m                                 Traceback (most recent call last)",
      "Cell \u001b[1;32mIn[10], line 1\u001b[0m\n\u001b[1;32m----> 1\u001b[0m \u001b[38;5;28mfloat\u001b[39m(list3)\n",
      "\u001b[1;31mTypeError\u001b[0m: float() argument must be a string or a real number, not 'list'"
     ]
    }
   ],
   "source": [
    "float(list3)"
   ]
  },
  {
   "cell_type": "code",
   "execution_count": 13,
   "id": "8f2ac755-7697-4c7b-943c-f7cc1a42f555",
   "metadata": {},
   "outputs": [
    {
     "data": {
      "text/plain": [
       "[' ', ' ']"
      ]
     },
     "execution_count": 13,
     "metadata": {},
     "output_type": "execute_result"
    }
   ],
   "source": [
    "l1=[' ',' ']\n",
    "l1"
   ]
  },
  {
   "cell_type": "code",
   "execution_count": 15,
   "id": "9b78bcef-1991-411d-8179-fdad37d326fb",
   "metadata": {},
   "outputs": [
    {
     "data": {
      "text/plain": [
       "[123]"
      ]
     },
     "execution_count": 15,
     "metadata": {},
     "output_type": "execute_result"
    }
   ],
   "source": [
    "list4=[123]\n",
    "list4\n"
   ]
  },
  {
   "cell_type": "code",
   "execution_count": 16,
   "id": "ecf4f1d8-f989-4d4b-b5f2-b0833a6332af",
   "metadata": {},
   "outputs": [
    {
     "data": {
      "text/plain": [
       "[10, 10, 10]"
      ]
     },
     "execution_count": 16,
     "metadata": {},
     "output_type": "execute_result"
    }
   ],
   "source": [
    "l2=[10,10,10]\n",
    "l2"
   ]
  },
  {
   "cell_type": "code",
   "execution_count": 1,
   "id": "71012c92-bdb3-466d-9b89-e0ecab3ddaa9",
   "metadata": {},
   "outputs": [
    {
     "data": {
      "text/plain": [
       "['']"
      ]
     },
     "execution_count": 1,
     "metadata": {},
     "output_type": "execute_result"
    }
   ],
   "source": [
    "list9=[_]\n",
    "list9"
   ]
  },
  {
   "cell_type": "code",
   "execution_count": 9,
   "id": "d200802e-2db3-4290-8094-3fb1f4e3377e",
   "metadata": {},
   "outputs": [
    {
     "name": "stdout",
     "output_type": "stream",
     "text": [
      "5 75 2 112\n",
      "4 cherry Apple\n",
      "9\n"
     ]
    }
   ],
   "source": [
    "list1=[10,20,2,5,75]\n",
    "list2=['Apple','apple','cherry','banana']\n",
    "list3=[10,20,2,5,75,'Apple','apple','Cherry','banana']\n",
    "print(len(list1),max(list1),min(list1),sum(list1))\n",
    "print(len(list2),max(list2),min(list2))\n",
    "print(len(list3))"
   ]
  },
  {
   "cell_type": "code",
   "execution_count": 21,
   "id": "897eb280-f9ef-47cd-b4d8-a655b3aa9914",
   "metadata": {},
   "outputs": [
    {
     "data": {
      "text/plain": [
       "4"
      ]
     },
     "execution_count": 21,
     "metadata": {},
     "output_type": "execute_result"
    }
   ],
   "source": [
    "len(list2)"
   ]
  },
  {
   "cell_type": "code",
   "execution_count": 22,
   "id": "777cbdd5-2fc1-4aa3-ab7a-139ac5c25e0c",
   "metadata": {},
   "outputs": [
    {
     "data": {
      "text/plain": [
       "9"
      ]
     },
     "execution_count": 22,
     "metadata": {},
     "output_type": "execute_result"
    }
   ],
   "source": [
    "len(list3)"
   ]
  },
  {
   "cell_type": "code",
   "execution_count": 23,
   "id": "70dd048d-13c0-4cb2-a970-53cd6d4ac549",
   "metadata": {},
   "outputs": [
    {
     "data": {
      "text/plain": [
       "75"
      ]
     },
     "execution_count": 23,
     "metadata": {},
     "output_type": "execute_result"
    }
   ],
   "source": [
    "max(list1)"
   ]
  },
  {
   "cell_type": "code",
   "execution_count": 24,
   "id": "1d4e36b1-d0b7-4c0e-9b19-e83ca207c234",
   "metadata": {},
   "outputs": [
    {
     "data": {
      "text/plain": [
       "'banana'"
      ]
     },
     "execution_count": 24,
     "metadata": {},
     "output_type": "execute_result"
    }
   ],
   "source": [
    "max(list2)"
   ]
  },
  {
   "cell_type": "code",
   "execution_count": 25,
   "id": "a3bacd00-05f4-4597-b76c-580f22993fd7",
   "metadata": {},
   "outputs": [
    {
     "ename": "TypeError",
     "evalue": "'>' not supported between instances of 'str' and 'int'",
     "output_type": "error",
     "traceback": [
      "\u001b[1;31m---------------------------------------------------------------------------\u001b[0m",
      "\u001b[1;31mTypeError\u001b[0m                                 Traceback (most recent call last)",
      "Cell \u001b[1;32mIn[25], line 1\u001b[0m\n\u001b[1;32m----> 1\u001b[0m \u001b[38;5;28mmax\u001b[39m(list3)\n",
      "\u001b[1;31mTypeError\u001b[0m: '>' not supported between instances of 'str' and 'int'"
     ]
    }
   ],
   "source": [
    "max(list3)"
   ]
  },
  {
   "cell_type": "code",
   "execution_count": 26,
   "id": "a9600c10-4381-429f-813d-76079c8e8f3e",
   "metadata": {},
   "outputs": [
    {
     "data": {
      "text/plain": [
       "2"
      ]
     },
     "execution_count": 26,
     "metadata": {},
     "output_type": "execute_result"
    }
   ],
   "source": [
    "min(list1)"
   ]
  },
  {
   "cell_type": "code",
   "execution_count": 27,
   "id": "13b247d3-a3e1-4aa1-87b6-3dbaa14b26a4",
   "metadata": {},
   "outputs": [
    {
     "data": {
      "text/plain": [
       "'Apple'"
      ]
     },
     "execution_count": 27,
     "metadata": {},
     "output_type": "execute_result"
    }
   ],
   "source": [
    "min(list2)"
   ]
  },
  {
   "cell_type": "code",
   "execution_count": 28,
   "id": "cc6838df-e8dd-43fc-b152-f80142806596",
   "metadata": {},
   "outputs": [
    {
     "ename": "TypeError",
     "evalue": "'<' not supported between instances of 'str' and 'int'",
     "output_type": "error",
     "traceback": [
      "\u001b[1;31m---------------------------------------------------------------------------\u001b[0m",
      "\u001b[1;31mTypeError\u001b[0m                                 Traceback (most recent call last)",
      "Cell \u001b[1;32mIn[28], line 1\u001b[0m\n\u001b[1;32m----> 1\u001b[0m \u001b[38;5;28mmin\u001b[39m(list3)\n",
      "\u001b[1;31mTypeError\u001b[0m: '<' not supported between instances of 'str' and 'int'"
     ]
    }
   ],
   "source": [
    "min(list3)"
   ]
  },
  {
   "cell_type": "code",
   "execution_count": 29,
   "id": "062cb7bc-09cb-45b9-bde4-021a7921108d",
   "metadata": {},
   "outputs": [
    {
     "data": {
      "text/plain": [
       "112"
      ]
     },
     "execution_count": 29,
     "metadata": {},
     "output_type": "execute_result"
    }
   ],
   "source": [
    "sum(list1)"
   ]
  },
  {
   "cell_type": "code",
   "execution_count": 30,
   "id": "656c8fcb-a5ae-4499-853f-e42a3d51ea3a",
   "metadata": {},
   "outputs": [
    {
     "ename": "TypeError",
     "evalue": "unsupported operand type(s) for +: 'int' and 'str'",
     "output_type": "error",
     "traceback": [
      "\u001b[1;31m---------------------------------------------------------------------------\u001b[0m",
      "\u001b[1;31mTypeError\u001b[0m                                 Traceback (most recent call last)",
      "Cell \u001b[1;32mIn[30], line 1\u001b[0m\n\u001b[1;32m----> 1\u001b[0m \u001b[38;5;28msum\u001b[39m(list2)\n",
      "\u001b[1;31mTypeError\u001b[0m: unsupported operand type(s) for +: 'int' and 'str'"
     ]
    }
   ],
   "source": [
    "sum(list2)"
   ]
  },
  {
   "cell_type": "code",
   "execution_count": 31,
   "id": "82874317-07d3-4577-b018-9a4cbfb81233",
   "metadata": {},
   "outputs": [
    {
     "ename": "TypeError",
     "evalue": "unsupported operand type(s) for +: 'int' and 'str'",
     "output_type": "error",
     "traceback": [
      "\u001b[1;31m---------------------------------------------------------------------------\u001b[0m",
      "\u001b[1;31mTypeError\u001b[0m                                 Traceback (most recent call last)",
      "Cell \u001b[1;32mIn[31], line 1\u001b[0m\n\u001b[1;32m----> 1\u001b[0m \u001b[38;5;28msum\u001b[39m(list3)\n",
      "\u001b[1;31mTypeError\u001b[0m: unsupported operand type(s) for +: 'int' and 'str'"
     ]
    }
   ],
   "source": [
    "sum(list3)"
   ]
  },
  {
   "cell_type": "code",
   "execution_count": 32,
   "id": "b0086369-cffc-4e1f-9522-c3a379912a74",
   "metadata": {},
   "outputs": [
    {
     "data": {
      "text/plain": [
       "[2, 5, 10, 20, 75]"
      ]
     },
     "execution_count": 32,
     "metadata": {},
     "output_type": "execute_result"
    }
   ],
   "source": [
    "sorted(list1)"
   ]
  },
  {
   "cell_type": "code",
   "execution_count": 33,
   "id": "7d2fb9ba-7725-4000-98a2-fd236982679a",
   "metadata": {},
   "outputs": [
    {
     "data": {
      "text/plain": [
       "['Apple', 'Cherry', 'apple', 'banana']"
      ]
     },
     "execution_count": 33,
     "metadata": {},
     "output_type": "execute_result"
    }
   ],
   "source": [
    "sorted(list2)"
   ]
  },
  {
   "cell_type": "code",
   "execution_count": 34,
   "id": "ef5707c0-f4b5-4998-85a4-a8662b2d92ca",
   "metadata": {},
   "outputs": [
    {
     "ename": "TypeError",
     "evalue": "'<' not supported between instances of 'str' and 'int'",
     "output_type": "error",
     "traceback": [
      "\u001b[1;31m---------------------------------------------------------------------------\u001b[0m",
      "\u001b[1;31mTypeError\u001b[0m                                 Traceback (most recent call last)",
      "Cell \u001b[1;32mIn[34], line 1\u001b[0m\n\u001b[1;32m----> 1\u001b[0m \u001b[38;5;28msorted\u001b[39m(list3)\n",
      "\u001b[1;31mTypeError\u001b[0m: '<' not supported between instances of 'str' and 'int'"
     ]
    }
   ],
   "source": [
    "sorted(list3)"
   ]
  },
  {
   "cell_type": "code",
   "execution_count": 35,
   "id": "84adab9a-954e-452a-b07f-fd3b8b478542",
   "metadata": {},
   "outputs": [
    {
     "data": {
      "text/plain": [
       "<list_reverseiterator at 0x1f719241210>"
      ]
     },
     "execution_count": 35,
     "metadata": {},
     "output_type": "execute_result"
    }
   ],
   "source": [
    "reversed(list1)"
   ]
  },
  {
   "cell_type": "code",
   "execution_count": 44,
   "id": "41a8119a-c4a0-4600-9219-210611d7f59e",
   "metadata": {},
   "outputs": [
    {
     "data": {
      "text/plain": [
       "[75, 5, 2, 20, 10]"
      ]
     },
     "execution_count": 44,
     "metadata": {},
     "output_type": "execute_result"
    }
   ],
   "source": [
    "#method-1 : apply list\n",
    "list(reversed(list1))"
   ]
  },
  {
   "cell_type": "code",
   "execution_count": null,
   "id": "dd582f51-8652-46cb-b1e0-485ce8a115a6",
   "metadata": {},
   "outputs": [],
   "source": [
    "#method-2 : iterate through for loop\n",
    "for i in "
   ]
  },
  {
   "cell_type": "code",
   "execution_count": 36,
   "id": "0e32fac9-48f2-462f-ab76-687bd7c16e87",
   "metadata": {},
   "outputs": [
    {
     "data": {
      "text/plain": [
       "<list_reverseiterator at 0x1f719241570>"
      ]
     },
     "execution_count": 36,
     "metadata": {},
     "output_type": "execute_result"
    }
   ],
   "source": [
    "reversed(list2)"
   ]
  },
  {
   "cell_type": "code",
   "execution_count": 42,
   "id": "4d569dc7-174e-4691-9f9b-bed9ae07b355",
   "metadata": {},
   "outputs": [
    {
     "data": {
      "text/plain": [
       "<list_reverseiterator at 0x1f7186acf70>"
      ]
     },
     "execution_count": 42,
     "metadata": {},
     "output_type": "execute_result"
    }
   ],
   "source": [
    "reversed(list3)"
   ]
  },
  {
   "cell_type": "code",
   "execution_count": 40,
   "id": "63d9b3f6-17fc-4108-b27c-cef3a13bfc37",
   "metadata": {},
   "outputs": [
    {
     "data": {
      "text/plain": [
       "[75, 5, 2, 20, 10]"
      ]
     },
     "execution_count": 40,
     "metadata": {},
     "output_type": "execute_result"
    }
   ],
   "source": [
    "ans=reversed(list1)\n",
    "list(ans)"
   ]
  },
  {
   "cell_type": "code",
   "execution_count": 41,
   "id": "280eba66-619e-4549-a15d-da3cfb1d2a5b",
   "metadata": {},
   "outputs": [
    {
     "data": {
      "text/plain": [
       "['banana', 'Cherry', 'apple', 'Apple']"
      ]
     },
     "execution_count": 41,
     "metadata": {},
     "output_type": "execute_result"
    }
   ],
   "source": [
    "ans=reversed(list2)\n",
    "list(ans)"
   ]
  },
  {
   "cell_type": "code",
   "execution_count": 43,
   "id": "b8d4cab6-0434-4807-82fc-965a19b856fa",
   "metadata": {},
   "outputs": [
    {
     "data": {
      "text/plain": [
       "['banana', 'Cherry', 'apple', 'Apple', 75, 5, 2, 20, 10]"
      ]
     },
     "execution_count": 43,
     "metadata": {},
     "output_type": "execute_result"
    }
   ],
   "source": [
    "ans=reversed(list3)\n",
    "list(ans)"
   ]
  },
  {
   "cell_type": "code",
   "execution_count": 45,
   "id": "595dfa1f-6ec6-41c1-953a-dc6a9adbd1db",
   "metadata": {},
   "outputs": [
    {
     "data": {
      "text/plain": [
       "([2, 5, 10, 20, 75], [75, 20, 10, 5, 2])"
      ]
     },
     "execution_count": 45,
     "metadata": {},
     "output_type": "execute_result"
    }
   ],
   "source": [
    "sorted(list1),sorted(list1,reverse=True)"
   ]
  },
  {
   "cell_type": "code",
   "execution_count": null,
   "id": "89dc58c8-5b05-4efe-8f48-1c462ca4ee27",
   "metadata": {},
   "outputs": [],
   "source": [
    "# in the interview\n",
    "# list1=[10,20,2,5,75]\n",
    "# Q1) sort the list with out sorted function\n",
    "# Q2) find the max value wthout max function\n",
    "# Q3) find the min value with out min function\n",
    "# Q4) reverse the elements with out reversed function\n",
    "# Q5) sum the elements with out sum functions\n",
    "# Q6) find the second min and second max"
   ]
  },
  {
   "cell_type": "markdown",
   "id": "bc4cf321-ec82-4743-882a-af5e5e086f1a",
   "metadata": {},
   "source": [
    "**Concatenation**"
   ]
  },
  {
   "cell_type": "code",
   "execution_count": 47,
   "id": "4763540f-794d-4531-a7ba-e9ef54a35783",
   "metadata": {},
   "outputs": [
    {
     "data": {
      "text/plain": [
       "[10, 20, 2, 5, 75, 'Apple', 'apple', 'Cherry', 'banana']"
      ]
     },
     "execution_count": 47,
     "metadata": {},
     "output_type": "execute_result"
    }
   ],
   "source": [
    "list1=[10,20,2,5,75]\n",
    "list2=['Apple','apple','Cherry','banana']\n",
    "list1+list2"
   ]
  },
  {
   "cell_type": "code",
   "execution_count": 48,
   "id": "4393c107-9b06-4cf3-8ada-a325505d8ab2",
   "metadata": {},
   "outputs": [
    {
     "ename": "TypeError",
     "evalue": "unsupported operand type(s) for -: 'list' and 'list'",
     "output_type": "error",
     "traceback": [
      "\u001b[1;31m---------------------------------------------------------------------------\u001b[0m",
      "\u001b[1;31mTypeError\u001b[0m                                 Traceback (most recent call last)",
      "Cell \u001b[1;32mIn[48], line 1\u001b[0m\n\u001b[1;32m----> 1\u001b[0m list1\u001b[38;5;241m-\u001b[39mlist2\n",
      "\u001b[1;31mTypeError\u001b[0m: unsupported operand type(s) for -: 'list' and 'list'"
     ]
    }
   ],
   "source": [
    "list1-list2"
   ]
  },
  {
   "cell_type": "code",
   "execution_count": 49,
   "id": "89583780-0745-4afb-8ae7-60c838c123d9",
   "metadata": {},
   "outputs": [
    {
     "ename": "TypeError",
     "evalue": "can't multiply sequence by non-int of type 'list'",
     "output_type": "error",
     "traceback": [
      "\u001b[1;31m---------------------------------------------------------------------------\u001b[0m",
      "\u001b[1;31mTypeError\u001b[0m                                 Traceback (most recent call last)",
      "Cell \u001b[1;32mIn[49], line 1\u001b[0m\n\u001b[1;32m----> 1\u001b[0m list1\u001b[38;5;241m*\u001b[39mlist2\n",
      "\u001b[1;31mTypeError\u001b[0m: can't multiply sequence by non-int of type 'list'"
     ]
    }
   ],
   "source": [
    "list1*list2"
   ]
  },
  {
   "cell_type": "code",
   "execution_count": 50,
   "id": "60e8c874-7a0d-41c4-90ea-2bfbe9098059",
   "metadata": {},
   "outputs": [
    {
     "ename": "TypeError",
     "evalue": "unsupported operand type(s) for /: 'list' and 'list'",
     "output_type": "error",
     "traceback": [
      "\u001b[1;31m---------------------------------------------------------------------------\u001b[0m",
      "\u001b[1;31mTypeError\u001b[0m                                 Traceback (most recent call last)",
      "Cell \u001b[1;32mIn[50], line 1\u001b[0m\n\u001b[1;32m----> 1\u001b[0m list1\u001b[38;5;241m/\u001b[39mlist2\n",
      "\u001b[1;31mTypeError\u001b[0m: unsupported operand type(s) for /: 'list' and 'list'"
     ]
    }
   ],
   "source": [
    "list1/list2"
   ]
  },
  {
   "cell_type": "code",
   "execution_count": 51,
   "id": "910b52de-d434-43b0-8b9f-8f54ce719d0e",
   "metadata": {},
   "outputs": [
    {
     "data": {
      "text/plain": [
       "[10, 20, 2, 5, 75, 10, 20, 2, 5, 75]"
      ]
     },
     "execution_count": 51,
     "metadata": {},
     "output_type": "execute_result"
    }
   ],
   "source": [
    "list1*2"
   ]
  },
  {
   "cell_type": "markdown",
   "id": "9c51527f-0470-4a10-ae38-a89b343db3e0",
   "metadata": {},
   "source": [
    "**Index**"
   ]
  },
  {
   "cell_type": "code",
   "execution_count": 52,
   "id": "372bbf4d-7b31-46c0-a95a-0e8f958e3490",
   "metadata": {},
   "outputs": [
    {
     "data": {
      "text/plain": [
       "(10, 10)"
      ]
     },
     "execution_count": 52,
     "metadata": {},
     "output_type": "execute_result"
    }
   ],
   "source": [
    "# -6  -5  -4  -3 -2 -1\n",
    "# 10  20  30  A  B  C\n",
    "# 0   1   2   3  4  5\n",
    "list1=[10,20,33,'A','B','C']\n",
    "list1[0],list1[-6]\n"
   ]
  },
  {
   "cell_type": "code",
   "execution_count": 2,
   "id": "1c4d7a12-f5c5-41a5-8781-85fad05ef2b4",
   "metadata": {},
   "outputs": [
    {
     "name": "stdout",
     "output_type": "stream",
     "text": [
      "The positive index of 10 is 0 and the negative index of 10 is -6\n",
      "The positive index of 20 is 1 and the negative index of 20 is -5\n",
      "The positive index of 33 is 2 and the negative index of 33 is -4\n",
      "The positive index of A is 3 and the negative index of A is -3\n",
      "The positive index of B is 4 and the negative index of B is -2\n",
      "The positive index of C is 5 and the negative index of C is -1\n"
     ]
    }
   ],
   "source": [
    "list1=[10,20,33,'A','B','C']\n",
    "n=len(list1)\n",
    "for i in range(0,n):\n",
    "    print(f'The positive index of {list1[i]} is {i} and the negative index of {list1[i]} is {i-n}')"
   ]
  },
  {
   "cell_type": "code",
   "execution_count": 95,
   "id": "943930bc-6dd3-4b56-9599-635332ecee74",
   "metadata": {},
   "outputs": [
    {
     "data": {
      "text/plain": [
       "[[10]]"
      ]
     },
     "execution_count": 95,
     "metadata": {},
     "output_type": "execute_result"
    }
   ],
   "source": [
    "list1=[[10]]\n",
    "list1"
   ]
  },
  {
   "cell_type": "code",
   "execution_count": 68,
   "id": "ec6a1a7a-74b9-4173-84f2-4cf543579905",
   "metadata": {},
   "outputs": [
    {
     "data": {
      "text/plain": [
       "[10]"
      ]
     },
     "execution_count": 68,
     "metadata": {},
     "output_type": "execute_result"
    }
   ],
   "source": [
    "list1=[[10]]\n",
    "list1[0]"
   ]
  },
  {
   "cell_type": "code",
   "execution_count": 69,
   "id": "d0a58569-d099-4f0b-ac86-b8d524bcd2e1",
   "metadata": {},
   "outputs": [
    {
     "data": {
      "text/plain": [
       "10"
      ]
     },
     "execution_count": 69,
     "metadata": {},
     "output_type": "execute_result"
    }
   ],
   "source": [
    "list1[0][0]"
   ]
  },
  {
   "cell_type": "code",
   "execution_count": 75,
   "id": "a5972c98-5520-438b-82c8-2b738e20c809",
   "metadata": {},
   "outputs": [
    {
     "data": {
      "text/plain": [
       "([10, 20], 1)"
      ]
     },
     "execution_count": 75,
     "metadata": {},
     "output_type": "execute_result"
    }
   ],
   "source": [
    "list2=[[10,20]]\n",
    "list2[0],len(list2)"
   ]
  },
  {
   "cell_type": "code",
   "execution_count": 73,
   "id": "ec4b6e3c-493f-48e2-a0bd-815e0ebe3554",
   "metadata": {},
   "outputs": [
    {
     "data": {
      "text/plain": [
       "10"
      ]
     },
     "execution_count": 73,
     "metadata": {},
     "output_type": "execute_result"
    }
   ],
   "source": [
    "list2[0][0]"
   ]
  },
  {
   "cell_type": "code",
   "execution_count": 76,
   "id": "1444b91d-8fa7-4b7a-87de-611f6d14a08e",
   "metadata": {},
   "outputs": [
    {
     "data": {
      "text/plain": [
       "(20, 2)"
      ]
     },
     "execution_count": 76,
     "metadata": {},
     "output_type": "execute_result"
    }
   ],
   "source": [
    "list3=[10,20]\n",
    "list3[1], len(list3)"
   ]
  },
  {
   "cell_type": "code",
   "execution_count": 77,
   "id": "bfdd1315-62e3-432f-934a-53421d55d848",
   "metadata": {},
   "outputs": [
    {
     "data": {
      "text/plain": [
       "2"
      ]
     },
     "execution_count": 77,
     "metadata": {},
     "output_type": "execute_result"
    }
   ],
   "source": [
    "list4=[10,[20]]\n",
    "len(list4)"
   ]
  },
  {
   "cell_type": "code",
   "execution_count": 80,
   "id": "2ba172c9-3bea-4f2b-b994-ddab064baede",
   "metadata": {},
   "outputs": [
    {
     "data": {
      "text/plain": [
       "20"
      ]
     },
     "execution_count": 80,
     "metadata": {},
     "output_type": "execute_result"
    }
   ],
   "source": [
    "list4[1][0]"
   ]
  },
  {
   "cell_type": "code",
   "execution_count": 81,
   "id": "e9587840-cc95-46cb-8f1c-c8e1f6da54d6",
   "metadata": {},
   "outputs": [
    {
     "data": {
      "text/plain": [
       "'Cherry'"
      ]
     },
     "execution_count": 81,
     "metadata": {},
     "output_type": "execute_result"
    }
   ],
   "source": [
    "list1=[10,20,30,'A',['Banana','Cherry']]\n",
    "list1[4][1]"
   ]
  },
  {
   "cell_type": "code",
   "execution_count": 83,
   "id": "cabeda16-cb07-45bd-bb60-d7d9f70089c0",
   "metadata": {},
   "outputs": [
    {
     "data": {
      "text/plain": [
       "'Cherry'"
      ]
     },
     "execution_count": 83,
     "metadata": {},
     "output_type": "execute_result"
    }
   ],
   "source": [
    "list1=['A',['Apple','B',['Banana'],'C',['Cherry']]]\n",
    "list1[1][4][0]"
   ]
  },
  {
   "cell_type": "code",
   "execution_count": 84,
   "id": "0a4740a8-8b34-49a2-9766-09d9ec443f78",
   "metadata": {},
   "outputs": [
    {
     "data": {
      "text/plain": [
       "'Dragon'"
      ]
     },
     "execution_count": 84,
     "metadata": {},
     "output_type": "execute_result"
    }
   ],
   "source": [
    "list2=['A',['Apple','B',['Banana','C',['Cherry','D',['Dragon']]]]]\n",
    "list2[1][2][2][2][0]"
   ]
  },
  {
   "cell_type": "code",
   "execution_count": 85,
   "id": "54a8db07-f598-4f16-a84d-c249ded6ec10",
   "metadata": {},
   "outputs": [
    {
     "data": {
      "text/plain": [
       "3"
      ]
     },
     "execution_count": 85,
     "metadata": {},
     "output_type": "execute_result"
    }
   ],
   "source": [
    "list2=['A',['Apple','B',['Banana','C',['Cherry','D',['Dragon']]]]]\n",
    "len(list2[1])"
   ]
  },
  {
   "cell_type": "code",
   "execution_count": 86,
   "id": "b4c5dbb5-744a-432f-8708-f516aa999996",
   "metadata": {},
   "outputs": [
    {
     "data": {
      "text/plain": [
       "'bat'"
      ]
     },
     "execution_count": 86,
     "metadata": {},
     "output_type": "execute_result"
    }
   ],
   "source": [
    "list3=['Apple',['kashmir',['India',['cricket',['bat']]]]]\n",
    "list3[1][1][1][1][0]"
   ]
  },
  {
   "cell_type": "code",
   "execution_count": 87,
   "id": "c76ef955-1814-4fa9-93c3-4a123609e158",
   "metadata": {},
   "outputs": [
    {
     "data": {
      "text/plain": [
       "'vicky'"
      ]
     },
     "execution_count": 87,
     "metadata": {},
     "output_type": "execute_result"
    }
   ],
   "source": [
    "list5=['orange',['nagpur',['MH',['Shivaji',['shambaji',['vicky']]]]]]\n",
    "list5[1][1][1][1][1][0]"
   ]
  },
  {
   "cell_type": "code",
   "execution_count": 88,
   "id": "dd77b976-a5c0-429f-aafd-a4235a13db4d",
   "metadata": {},
   "outputs": [
    {
     "data": {
      "text/plain": [
       "'apple'"
      ]
     },
     "execution_count": 88,
     "metadata": {},
     "output_type": "execute_result"
    }
   ],
   "source": [
    "list6=[[[[[[[['apple']]]]]]]]\n",
    "list6[0][0][0][0][0][0][0][0]"
   ]
  },
  {
   "cell_type": "code",
   "execution_count": null,
   "id": "f3b0ad74-86a3-42b8-a9ba-ffc410bce8b6",
   "metadata": {},
   "outputs": [],
   "source": [
    "# in the interview\n",
    "# list1=[10,20,2,5,75]\n",
    "# Q1) sort the list with out sorted function\n",
    "# Q2) find the max value wthout max function\n",
    "# Q3) find the min value with out min function\n",
    "# Q4) reverse the elements with out reversed function\n",
    "# Q5) sum the elements with out sum functions\n",
    "# Q6) find the second min and second max"
   ]
  },
  {
   "cell_type": "code",
   "execution_count": 9,
   "id": "c09ab1d6-962f-4470-a698-48c979571a85",
   "metadata": {},
   "outputs": [
    {
     "name": "stdout",
     "output_type": "stream",
     "text": [
      "[2, 5, 10, 20, 75]\n"
     ]
    }
   ],
   "source": [
    "# Q1) sort the list with out sorted function\n",
    "list1=[10,20,2,5,75]\n",
    "n=len(list1)\n",
    "for i in range(0,n):\n",
    "    for j in range(0,n-1):\n",
    "        if list1[j]>list1[j+1]:\n",
    "            list1[j],list1[j+1]=list1[j+1],list1[j]\n",
    "print(list1)                   "
   ]
  },
  {
   "cell_type": "code",
   "execution_count": 11,
   "id": "c66df085-40aa-4d46-b9fa-46413a128e2c",
   "metadata": {},
   "outputs": [
    {
     "name": "stdout",
     "output_type": "stream",
     "text": [
      "5\n"
     ]
    }
   ],
   "source": [
    "n=len(list1)\n",
    "print(n)"
   ]
  },
  {
   "cell_type": "code",
   "execution_count": 13,
   "id": "20deec31-49df-4307-8ec5-7656487cab46",
   "metadata": {},
   "outputs": [
    {
     "data": {
      "text/plain": [
       "[2, 5, 10, 20, 75]"
      ]
     },
     "execution_count": 13,
     "metadata": {},
     "output_type": "execute_result"
    }
   ],
   "source": [
    "list1=[10,20,2,5,75]\n",
    "sorted(list1)"
   ]
  },
  {
   "cell_type": "code",
   "execution_count": 19,
   "id": "8e2df167-a38f-4ba1-9381-5fa695857dc1",
   "metadata": {},
   "outputs": [
    {
     "name": "stdout",
     "output_type": "stream",
     "text": [
      "674\n"
     ]
    }
   ],
   "source": [
    "list1=[10,20,2,5,75,674]\n",
    "# Q2) find the max value wthout max function\n",
    "max=list1[0]\n",
    "for i in list1:\n",
    "    if i>max:\n",
    "        max=i\n",
    "print(max)"
   ]
  },
  {
   "cell_type": "code",
   "execution_count": 21,
   "id": "03ebb898-3517-4867-8180-617953cbbae6",
   "metadata": {},
   "outputs": [
    {
     "name": "stdout",
     "output_type": "stream",
     "text": [
      "2\n"
     ]
    }
   ],
   "source": [
    "list1=[10,20,2,5,75,674]\n",
    "# Q3) find the min value with out min function\n",
    "min=list1[0]\n",
    "for i in list1:\n",
    "    if i<min:\n",
    "        min=i\n",
    "print(min)"
   ]
  },
  {
   "cell_type": "code",
   "execution_count": 24,
   "id": "1bb9de65-ab2a-45bd-be33-3aaec2eb76da",
   "metadata": {},
   "outputs": [
    {
     "name": "stdout",
     "output_type": "stream",
     "text": [
      "[75, 5, 2, 20, 10]\n"
     ]
    }
   ],
   "source": [
    "list1=[10,20,2,5,75]\n",
    "# Q4) reverse the elements with out reversed function\n",
    "reversed_list=list1[::-1]   # by list slicing\n",
    "print(reversed_list)"
   ]
  },
  {
   "cell_type": "code",
   "execution_count": 48,
   "id": "07f75373-b2e1-4471-abbe-5174680c1e2b",
   "metadata": {},
   "outputs": [
    {
     "name": "stdout",
     "output_type": "stream",
     "text": [
      "[75, 5, 2, 20, 10]\n"
     ]
    }
   ],
   "source": [
    "x=[10,20,2,5,75]\n",
    "n=len(x)\n",
    "i=0\n",
    "j=n-1\n",
    "while i<j:\n",
    "    x[i],x[j]=x[j],x[i]\n",
    "    i=i+1\n",
    "    j=j-1\n",
    "print(x)"
   ]
  },
  {
   "cell_type": "code",
   "execution_count": 25,
   "id": "0b958d09-0370-4f70-9348-0533cbd9ebef",
   "metadata": {},
   "outputs": [
    {
     "data": {
      "text/plain": [
       "<list_reverseiterator at 0x1f8f42e2b90>"
      ]
     },
     "execution_count": 25,
     "metadata": {},
     "output_type": "execute_result"
    }
   ],
   "source": [
    "reversed(list1)"
   ]
  },
  {
   "cell_type": "code",
   "execution_count": 28,
   "id": "b2167a88-8c9e-4998-8b10-2f389aa5dfc0",
   "metadata": {},
   "outputs": [
    {
     "data": {
      "text/plain": [
       "[75, 5, 2, 20, 10]"
      ]
     },
     "execution_count": 28,
     "metadata": {},
     "output_type": "execute_result"
    }
   ],
   "source": [
    "ans=reversed(list1)\n",
    "list(ans)"
   ]
  },
  {
   "cell_type": "code",
   "execution_count": 35,
   "id": "4bed36f6-fd89-4acf-8df2-68c0ebd1d23c",
   "metadata": {},
   "outputs": [
    {
     "name": "stdout",
     "output_type": "stream",
     "text": [
      "112\n"
     ]
    }
   ],
   "source": [
    "list1=[10,20,2,5,75]\n",
    "# Q5) sum the elements with out sum functions\n",
    "summ=0\n",
    "for i in list1:   # using loop\n",
    "    summ=summ+i\n",
    "print(summ)\n",
    "    "
   ]
  },
  {
   "cell_type": "code",
   "execution_count": 4,
   "id": "5d973504-4b57-48e2-878a-12d2ddc3fbd3",
   "metadata": {},
   "outputs": [
    {
     "name": "stdout",
     "output_type": "stream",
     "text": [
      "Second maximum number of the list is:20\n"
     ]
    }
   ],
   "source": [
    "a=[10,20,2,5,75]\n",
    "# Q6) find the second min and second max\n",
    "n=len(a)\n",
    "for i in range(0,n):\n",
    "    for j in range(i+1,n):\n",
    "        if a[i]<a[j]:\n",
    "            a[i],a[j]=a[j],a[i]\n",
    "\n",
    "print(f'Second maximum number of the list is:{a[1]}')"
   ]
  },
  {
   "cell_type": "code",
   "execution_count": 5,
   "id": "0df4accb-8c94-46bd-8270-646ca127fa03",
   "metadata": {},
   "outputs": [
    {
     "name": "stdout",
     "output_type": "stream",
     "text": [
      "Second minimum number of the list is:5\n"
     ]
    }
   ],
   "source": [
    "# second min\n",
    "a=[10,20,2,5,75]\n",
    "n=len(a)\n",
    "for i in range(0,n):\n",
    "    for i in range(i+1,n):\n",
    "        if a[i]<a[j]:\n",
    "            a[i],a[j]=a[j],a[i]\n",
    "\n",
    "print(f'Second minimum number of the list is:{a[-2]}')"
   ]
  },
  {
   "cell_type": "markdown",
   "id": "0325001e-8780-47a2-97ca-ff938a38c0c1",
   "metadata": {},
   "source": [
    "**in**"
   ]
  },
  {
   "cell_type": "code",
   "execution_count": 2,
   "id": "7f874335-a42f-42fa-92b1-7f50c20502fc",
   "metadata": {},
   "outputs": [
    {
     "data": {
      "text/plain": [
       "True"
      ]
     },
     "execution_count": 2,
     "metadata": {},
     "output_type": "execute_result"
    }
   ],
   "source": [
    "list1='p','y','t','h','o','n'\n",
    "str1='python'\n",
    "'p' in str1\n",
    "'p' in list1"
   ]
  },
  {
   "cell_type": "markdown",
   "id": "21140b3f-183c-4064-9f0c-6cffa42e2ecb",
   "metadata": {},
   "source": [
    "**range vs in**"
   ]
  },
  {
   "cell_type": "markdown",
   "id": "132a9bde-d7e6-4d0b-809c-1701082206c9",
   "metadata": {},
   "source": [
    "- when we have use with index then go for range\n",
    "\n",
    "- when we have use with only element go for in\n"
   ]
  },
  {
   "cell_type": "markdown",
   "id": "23e8a4a5-bdba-4970-b363-e59d762373ef",
   "metadata": {},
   "source": [
    "**mutable vs immutable**"
   ]
  },
  {
   "cell_type": "code",
   "execution_count": 5,
   "id": "f9f05e74-6cc0-47f9-870a-7d3db51a0dfa",
   "metadata": {},
   "outputs": [
    {
     "name": "stdout",
     "output_type": "stream",
     "text": [
      "[8, 2, 3, 4, 5]\n"
     ]
    }
   ],
   "source": [
    "list1=[1,2,3,4,5]\n",
    "list1[0]=8\n",
    "print(list1)"
   ]
  },
  {
   "cell_type": "markdown",
   "id": "c47fa9ac-f248-4479-95ba-b9241914e1b5",
   "metadata": {},
   "source": [
    "**list are mutable**"
   ]
  },
  {
   "cell_type": "markdown",
   "id": "6bc8cbbd-dbc5-46cc-b0a4-92039b96bdd2",
   "metadata": {},
   "source": [
    "**slice**"
   ]
  },
  {
   "cell_type": "code",
   "execution_count": null,
   "id": "1fdd921d-5aba-452b-b6c1-f42bfc544ba1",
   "metadata": {},
   "outputs": [],
   "source": [
    "l1=[10,20,30,40,50,'A','B','C','D','E','apple','banana']\n",
    "l1[:]\n",
    "l1[::]\n",
    "l1[::-1]\n",
    "l1[2:10:2]\n",
    "l1[2:10:-2]\n",
    "l1[2:-10:2]\n",
    "l1[-2:10:2]\n",
    "l1[2:-10:-2]\n",
    "l1[-2:10:-2]\n",
    "l1[-2:-10:2]\n",
    "l1[-2:-10:-2]\n",
    "l1[10:2:2]\n",
    "l1[10:2:-2]"
   ]
  },
  {
   "cell_type": "code",
   "execution_count": 59,
   "id": "50ff7128-09a7-4dba-9386-9365804a95f0",
   "metadata": {},
   "outputs": [
    {
     "data": {
      "text/plain": [
       "[10, 20, 30, 40, 50, 'A', 'B', 'C', 'D', 'E', 'apple', 'banana']"
      ]
     },
     "execution_count": 59,
     "metadata": {},
     "output_type": "execute_result"
    }
   ],
   "source": [
    "l1=[10,20,30,40,50,'A','B','C','D','E','apple','banana']\n",
    "l1[:]"
   ]
  },
  {
   "cell_type": "code",
   "execution_count": 8,
   "id": "3abe43be-2506-492d-8142-3a56b26cf3db",
   "metadata": {},
   "outputs": [
    {
     "data": {
      "text/plain": [
       "[10, 20, 30, 40, 50, 'A', 'B', 'C', 'D', 'E', 'apple', 'banana']"
      ]
     },
     "execution_count": 8,
     "metadata": {},
     "output_type": "execute_result"
    }
   ],
   "source": [
    "l1[::]"
   ]
  },
  {
   "cell_type": "code",
   "execution_count": 9,
   "id": "182fd3be-05e2-463c-baf3-196433b0e347",
   "metadata": {},
   "outputs": [
    {
     "data": {
      "text/plain": [
       "['banana', 'apple', 'E', 'D', 'C', 'B', 'A', 50, 40, 30, 20, 10]"
      ]
     },
     "execution_count": 9,
     "metadata": {},
     "output_type": "execute_result"
    }
   ],
   "source": [
    "l1[::-1]"
   ]
  },
  {
   "cell_type": "code",
   "execution_count": 60,
   "id": "596770ab-845a-44a3-9e44-ca96dacc9d42",
   "metadata": {},
   "outputs": [
    {
     "data": {
      "text/plain": [
       "[30, 50, 'B', 'D']"
      ]
     },
     "execution_count": 60,
     "metadata": {},
     "output_type": "execute_result"
    }
   ],
   "source": [
    "l1[2:10:2]"
   ]
  },
  {
   "cell_type": "code",
   "execution_count": 61,
   "id": "266011f7-8a0d-494b-b973-c1a2b1de93d5",
   "metadata": {},
   "outputs": [
    {
     "data": {
      "text/plain": [
       "[]"
      ]
     },
     "execution_count": 61,
     "metadata": {},
     "output_type": "execute_result"
    }
   ],
   "source": [
    "l1[2:10:-2]"
   ]
  },
  {
   "cell_type": "code",
   "execution_count": 63,
   "id": "335635b7-af44-4cdc-95ce-486d53d66b61",
   "metadata": {},
   "outputs": [
    {
     "data": {
      "text/plain": [
       "[30, 50, 'B', 'D']"
      ]
     },
     "execution_count": 63,
     "metadata": {},
     "output_type": "execute_result"
    }
   ],
   "source": [
    "l1=[10,20,30,40,50,'A','B','C','D','E','apple','banana']\n",
    "l1[2:-2:2]"
   ]
  },
  {
   "cell_type": "code",
   "execution_count": 13,
   "id": "32126a7d-c6a3-4a15-8615-6d6448491637",
   "metadata": {},
   "outputs": [
    {
     "data": {
      "text/plain": [
       "[]"
      ]
     },
     "execution_count": 13,
     "metadata": {},
     "output_type": "execute_result"
    }
   ],
   "source": [
    "l1[-2:10:2]"
   ]
  },
  {
   "cell_type": "code",
   "execution_count": 14,
   "id": "45e4e48c-40dc-41b8-b228-8d5d739d56b2",
   "metadata": {},
   "outputs": [
    {
     "data": {
      "text/plain": [
       "[]"
      ]
     },
     "execution_count": 14,
     "metadata": {},
     "output_type": "execute_result"
    }
   ],
   "source": [
    "l1[2:-10:-2]"
   ]
  },
  {
   "cell_type": "code",
   "execution_count": 15,
   "id": "04d6104f-d4c6-44a7-90fa-e10d111c0aba",
   "metadata": {},
   "outputs": [
    {
     "data": {
      "text/plain": [
       "[]"
      ]
     },
     "execution_count": 15,
     "metadata": {},
     "output_type": "execute_result"
    }
   ],
   "source": [
    "l1[-2:10:-2]"
   ]
  },
  {
   "cell_type": "code",
   "execution_count": 16,
   "id": "45142131-14a7-4788-87fb-ff4cb6453cb9",
   "metadata": {},
   "outputs": [
    {
     "data": {
      "text/plain": [
       "[]"
      ]
     },
     "execution_count": 16,
     "metadata": {},
     "output_type": "execute_result"
    }
   ],
   "source": [
    "l1[-2:-10:2]"
   ]
  },
  {
   "cell_type": "code",
   "execution_count": 17,
   "id": "94ace273-7655-4020-963b-a249719d29bf",
   "metadata": {},
   "outputs": [
    {
     "data": {
      "text/plain": [
       "['apple', 'D', 'B', 50]"
      ]
     },
     "execution_count": 17,
     "metadata": {},
     "output_type": "execute_result"
    }
   ],
   "source": [
    "l1[-2:-10:-2]"
   ]
  },
  {
   "cell_type": "code",
   "execution_count": 18,
   "id": "7f7bc5fe-a918-4796-bdf7-909d1d32b57d",
   "metadata": {},
   "outputs": [
    {
     "data": {
      "text/plain": [
       "[]"
      ]
     },
     "execution_count": 18,
     "metadata": {},
     "output_type": "execute_result"
    }
   ],
   "source": [
    "l1[10:2:2]\n"
   ]
  },
  {
   "cell_type": "code",
   "execution_count": 19,
   "id": "190c4195-b754-4bc5-9c4f-6c9160f93ba1",
   "metadata": {},
   "outputs": [
    {
     "data": {
      "text/plain": [
       "['apple', 'D', 'B', 50]"
      ]
     },
     "execution_count": 19,
     "metadata": {},
     "output_type": "execute_result"
    }
   ],
   "source": [
    "l1[10:2:-2]"
   ]
  },
  {
   "cell_type": "markdown",
   "id": "921099dd-be1a-42be-8709-daa2be2959e7",
   "metadata": {},
   "source": [
    "**methods**"
   ]
  },
  {
   "cell_type": "code",
   "execution_count": 21,
   "id": "f2b2a8e0-b6e7-4179-8803-d3cab4e59d47",
   "metadata": {},
   "outputs": [
    {
     "data": {
      "text/plain": [
       "['__add__',\n",
       " '__class__',\n",
       " '__class_getitem__',\n",
       " '__contains__',\n",
       " '__delattr__',\n",
       " '__delitem__',\n",
       " '__dir__',\n",
       " '__doc__',\n",
       " '__eq__',\n",
       " '__format__',\n",
       " '__ge__',\n",
       " '__getattribute__',\n",
       " '__getitem__',\n",
       " '__getstate__',\n",
       " '__gt__',\n",
       " '__hash__',\n",
       " '__iadd__',\n",
       " '__imul__',\n",
       " '__init__',\n",
       " '__init_subclass__',\n",
       " '__iter__',\n",
       " '__le__',\n",
       " '__len__',\n",
       " '__lt__',\n",
       " '__mul__',\n",
       " '__ne__',\n",
       " '__new__',\n",
       " '__reduce__',\n",
       " '__reduce_ex__',\n",
       " '__repr__',\n",
       " '__reversed__',\n",
       " '__rmul__',\n",
       " '__setattr__',\n",
       " '__setitem__',\n",
       " '__sizeof__',\n",
       " '__str__',\n",
       " '__subclasshook__',\n",
       " 'append',\n",
       " 'clear',\n",
       " 'copy',\n",
       " 'count',\n",
       " 'extend',\n",
       " 'index',\n",
       " 'insert',\n",
       " 'pop',\n",
       " 'remove',\n",
       " 'reverse',\n",
       " 'sort']"
      ]
     },
     "execution_count": 21,
     "metadata": {},
     "output_type": "execute_result"
    }
   ],
   "source": [
    "dir([])"
   ]
  },
  {
   "cell_type": "code",
   "execution_count": null,
   "id": "f7215238-9a3e-422c-98e1-aa1c1a973db2",
   "metadata": {},
   "outputs": [],
   "source": [
    "'append',\n",
    " 'clear',\n",
    " 'copy',\n",
    " 'count',\n",
    " 'extend',\n",
    " 'index',\n",
    " 'insert',\n",
    " 'pop',\n",
    " 'remove',\n",
    " 'reverse',\n",
    " 'sort'"
   ]
  },
  {
   "cell_type": "markdown",
   "id": "63c1de2c-dae8-4bf8-a8da-1960aefb47e1",
   "metadata": {},
   "source": [
    "- clear\n",
    "\n",
    "- copy\n",
    "\n",
    "- count\n"
   ]
  },
  {
   "cell_type": "code",
   "execution_count": 24,
   "id": "23ed002c-6c16-42a9-b4c5-fe08f486de35",
   "metadata": {},
   "outputs": [
    {
     "data": {
      "text/plain": [
       "[]"
      ]
     },
     "execution_count": 24,
     "metadata": {},
     "output_type": "execute_result"
    }
   ],
   "source": [
    "l1=[1,2,3,4,5,6,7,8,9]\n",
    "l1.clear()\n",
    "l1"
   ]
  },
  {
   "cell_type": "code",
   "execution_count": 29,
   "id": "9ac9587c-b187-4cdd-b7ea-9e891f579f57",
   "metadata": {},
   "outputs": [
    {
     "name": "stdout",
     "output_type": "stream",
     "text": [
      "[]\n",
      "[1, 2, 3, 4, 5, 6, 7, 8, 9]\n"
     ]
    }
   ],
   "source": [
    "l1=[1,2,3,4,5,6,7,8,9]\n",
    "l2=l1.copy()\n",
    "l1.clear()\n",
    "print(l1)\n",
    "print(l2)"
   ]
  },
  {
   "cell_type": "code",
   "execution_count": 31,
   "id": "48d204da-dc17-42a7-90b1-e68215d5b0b2",
   "metadata": {},
   "outputs": [
    {
     "data": {
      "text/plain": [
       "[1, 2, 3, 4, 5, 6, 7, 8, 9]"
      ]
     },
     "execution_count": 31,
     "metadata": {},
     "output_type": "execute_result"
    }
   ],
   "source": [
    "l1=[1,2,3,4,5,6,7,8,9]\n",
    "l2=l1\n",
    "l2"
   ]
  },
  {
   "cell_type": "code",
   "execution_count": 32,
   "id": "76250596-fbbc-479b-b7f4-8ab3101ee545",
   "metadata": {},
   "outputs": [
    {
     "data": {
      "text/plain": [
       "2"
      ]
     },
     "execution_count": 32,
     "metadata": {},
     "output_type": "execute_result"
    }
   ],
   "source": [
    "l1=[1,2,3,4,5,6,7,8,9,1,'A','B','C',1]\n",
    "l1.count(1)\n"
   ]
  },
  {
   "cell_type": "code",
   "execution_count": 33,
   "id": "70b46527-99a4-4e95-ab2e-f389d2bbe85c",
   "metadata": {},
   "outputs": [
    {
     "data": {
      "text/plain": [
       "3"
      ]
     },
     "execution_count": 33,
     "metadata": {},
     "output_type": "execute_result"
    }
   ],
   "source": [
    "str1='ola ola ola'\n",
    "str1.count('o')"
   ]
  },
  {
   "cell_type": "markdown",
   "id": "5a8bde7e-53ac-486a-8407-db2af767032c",
   "metadata": {},
   "source": [
    "**append**"
   ]
  },
  {
   "cell_type": "markdown",
   "id": "62fd1576-3415-4810-b3ef-dbf75f3039dd",
   "metadata": {},
   "source": [
    "- append is very very important method in the entire list\n",
    "\n",
    "- in our life we will use this method very very frequently\n",
    "\n",
    "- append means adding an element at last"
   ]
  },
  {
   "cell_type": "code",
   "execution_count": 34,
   "id": "415bf4e4-73f6-4243-a0af-7b08a289028c",
   "metadata": {},
   "outputs": [
    {
     "data": {
      "text/plain": [
       "[10, 20, 30, 'apple']"
      ]
     },
     "execution_count": 34,
     "metadata": {},
     "output_type": "execute_result"
    }
   ],
   "source": [
    "l1=[10,20,30]\n",
    "l1.append('apple')\n",
    "l1"
   ]
  },
  {
   "cell_type": "code",
   "execution_count": 35,
   "id": "e16d0182-3066-429f-9b26-7eb7a3689866",
   "metadata": {},
   "outputs": [
    {
     "data": {
      "text/plain": [
       "[10, 20, 30, 'apple', 'banana']"
      ]
     },
     "execution_count": 35,
     "metadata": {},
     "output_type": "execute_result"
    }
   ],
   "source": [
    "l1=[10,20,30]\n",
    "l1.append('apple')\n",
    "l1.append('banana')\n",
    "l1"
   ]
  },
  {
   "cell_type": "code",
   "execution_count": 36,
   "id": "a9933f6f-c988-4d7e-a597-ee691e42ea48",
   "metadata": {},
   "outputs": [
    {
     "ename": "TypeError",
     "evalue": "list.append() takes exactly one argument (2 given)",
     "output_type": "error",
     "traceback": [
      "\u001b[1;31m---------------------------------------------------------------------------\u001b[0m",
      "\u001b[1;31mTypeError\u001b[0m                                 Traceback (most recent call last)",
      "Cell \u001b[1;32mIn[36], line 2\u001b[0m\n\u001b[0;32m      1\u001b[0m l1\u001b[38;5;241m=\u001b[39m[\u001b[38;5;241m10\u001b[39m,\u001b[38;5;241m20\u001b[39m,\u001b[38;5;241m30\u001b[39m]\n\u001b[1;32m----> 2\u001b[0m l1\u001b[38;5;241m.\u001b[39mappend(\u001b[38;5;124m'\u001b[39m\u001b[38;5;124mapple\u001b[39m\u001b[38;5;124m'\u001b[39m,\u001b[38;5;124m'\u001b[39m\u001b[38;5;124mbanana\u001b[39m\u001b[38;5;124m'\u001b[39m)\n\u001b[0;32m      3\u001b[0m l1\n",
      "\u001b[1;31mTypeError\u001b[0m: list.append() takes exactly one argument (2 given)"
     ]
    }
   ],
   "source": [
    "l1=[10,20,30]\n",
    "l1.append('apple','banana')\n",
    "l1"
   ]
  },
  {
   "cell_type": "code",
   "execution_count": 37,
   "id": "92be0ff4-1b35-45a9-8107-fb1cdce01745",
   "metadata": {},
   "outputs": [
    {
     "data": {
      "text/plain": [
       "[10, 20, 30, ['apple', 'banana']]"
      ]
     },
     "execution_count": 37,
     "metadata": {},
     "output_type": "execute_result"
    }
   ],
   "source": [
    "l1=[10,20,30]\n",
    "l1.append(['apple','banana'])\n",
    "l1"
   ]
  },
  {
   "cell_type": "markdown",
   "id": "14fb24a8-9390-4353-b1f5-b8442041c8d0",
   "metadata": {},
   "source": [
    "**always recall if you see anywhere multiple values means most of the time we will keep those values in a list**"
   ]
  },
  {
   "cell_type": "code",
   "execution_count": 38,
   "id": "ee1d5a6c-e1e4-4e7b-bab3-a60fea77cf8f",
   "metadata": {},
   "outputs": [
    {
     "data": {
      "text/plain": [
       "[10, 20, 30, 'apple']"
      ]
     },
     "execution_count": 38,
     "metadata": {},
     "output_type": "execute_result"
    }
   ],
   "source": [
    "l1=[10,20,30]\n",
    "l1.append('apple')\n",
    "l1"
   ]
  },
  {
   "cell_type": "code",
   "execution_count": 39,
   "id": "b88475cf-52ec-4ba6-b78d-d88b1cff67b8",
   "metadata": {},
   "outputs": [
    {
     "data": {
      "text/plain": [
       "[10, 20, 30, 'apple', 'banana']"
      ]
     },
     "execution_count": 39,
     "metadata": {},
     "output_type": "execute_result"
    }
   ],
   "source": [
    "l1=[10,20,30]\n",
    "l1.append('apple')\n",
    "l1.append('banana')\n",
    "l1"
   ]
  },
  {
   "cell_type": "code",
   "execution_count": 40,
   "id": "27d19813-a708-4e41-a06a-19fe07bbc889",
   "metadata": {},
   "outputs": [
    {
     "ename": "TypeError",
     "evalue": "list.append() takes exactly one argument (2 given)",
     "output_type": "error",
     "traceback": [
      "\u001b[1;31m---------------------------------------------------------------------------\u001b[0m",
      "\u001b[1;31mTypeError\u001b[0m                                 Traceback (most recent call last)",
      "Cell \u001b[1;32mIn[40], line 2\u001b[0m\n\u001b[0;32m      1\u001b[0m l1\u001b[38;5;241m=\u001b[39m[\u001b[38;5;241m10\u001b[39m,\u001b[38;5;241m20\u001b[39m,\u001b[38;5;241m30\u001b[39m]\n\u001b[1;32m----> 2\u001b[0m l1\u001b[38;5;241m.\u001b[39mappend(\u001b[38;5;124m'\u001b[39m\u001b[38;5;124mapple\u001b[39m\u001b[38;5;124m'\u001b[39m,\u001b[38;5;124m'\u001b[39m\u001b[38;5;124mbanana\u001b[39m\u001b[38;5;124m'\u001b[39m)\n\u001b[0;32m      3\u001b[0m l1\n",
      "\u001b[1;31mTypeError\u001b[0m: list.append() takes exactly one argument (2 given)"
     ]
    }
   ],
   "source": [
    "l1=[10,20,30]\n",
    "l1.append('apple','banana')\n",
    "l1"
   ]
  },
  {
   "cell_type": "code",
   "execution_count": 41,
   "id": "b884f132-bc1c-498b-a26d-047a81227abf",
   "metadata": {},
   "outputs": [
    {
     "data": {
      "text/plain": [
       "[10, 20, 30, ['apple', 'banana']]"
      ]
     },
     "execution_count": 41,
     "metadata": {},
     "output_type": "execute_result"
    }
   ],
   "source": [
    "l1=[10,20,30]\n",
    "l1.append(['apple','banana'])\n",
    "l1"
   ]
  },
  {
   "cell_type": "markdown",
   "id": "493daebf-3845-4538-a066-d9caba956233",
   "metadata": {},
   "source": [
    "- append method is used to store the outputs"
   ]
  },
  {
   "cell_type": "code",
   "execution_count": 42,
   "id": "dcd719bb-80e2-499d-aa1d-7fd66a3da6d6",
   "metadata": {},
   "outputs": [
    {
     "data": {
      "text/plain": [
       "[1, 2, 3, 4, 5]"
      ]
     },
     "execution_count": 42,
     "metadata": {},
     "output_type": "execute_result"
    }
   ],
   "source": [
    "# example: i wamt to append a numbers from 1 to 5\n",
    "# l=[1,2,3,4,5]\n",
    "\n",
    "l=[]\n",
    "######################\n",
    "l.append(1)\n",
    "l.append(2)\n",
    "l.append(3)\n",
    "l.append(4)\n",
    "l.append(5)\n",
    "#####################\n",
    "l"
   ]
  },
  {
   "cell_type": "code",
   "execution_count": 44,
   "id": "0d9b0cba-0c54-4e6d-8341-de91b8fc4cbb",
   "metadata": {},
   "outputs": [
    {
     "name": "stdout",
     "output_type": "stream",
     "text": [
      "[1, 2, 3, 4, 5]\n"
     ]
    }
   ],
   "source": [
    "l=[]\n",
    "for i in range(1,6):\n",
    "    l.append(i)\n",
    "print(l)"
   ]
  },
  {
   "cell_type": "code",
   "execution_count": 54,
   "id": "d459e993-d137-40f0-aa5e-53bf74fea5f1",
   "metadata": {},
   "outputs": [
    {
     "name": "stdout",
     "output_type": "stream",
     "text": [
      "['48:2304', '38:1444', '83:6889']\n"
     ]
    }
   ],
   "source": [
    "# wap ask the user enter 3 random numbers\n",
    "# perform square of the numbers, save those squares in a list\n",
    "\n",
    "import random\n",
    "l=[]\n",
    "for i in range(3):\n",
    "    n=random.randint(1,100)\n",
    "    l.append(f'{n}:{n**2}')\n",
    "print(l)"
   ]
  },
  {
   "cell_type": "code",
   "execution_count": 1,
   "id": "d8aca16f-3c11-4f8a-8f67-a9b98508b3d3",
   "metadata": {},
   "outputs": [
    {
     "name": "stdout",
     "output_type": "stream",
     "text": [
      "even_list:[10, 12]\n",
      "odd_list:[47, 53, 27]\n"
     ]
    }
   ],
   "source": [
    "# Q2) i already have a list of numbers \n",
    "# l=[10,47,53,12,27]\n",
    "# from above list i want to get a even list and odd list\n",
    "# output will be even_list=[10,12]\n",
    "# odd_list=[47,53,27]\n",
    "\n",
    "l=[10,47,53,12,27]\n",
    "even_list=[]\n",
    "odd_list=[]\n",
    "for i in l:\n",
    "    if i%2==0:\n",
    "        even_list.append(i)\n",
    "    else:\n",
    "        odd_list.append(i)\n",
    "print(f'even_list:{even_list}')\n",
    "print(f'odd_list:{odd_list}')"
   ]
  },
  {
   "cell_type": "code",
   "execution_count": null,
   "id": "a3b84133-0095-40da-83e6-5431d883c54b",
   "metadata": {},
   "outputs": [],
   "source": [
    "# Q3) input=['hyd','bengaluru','pune','mumbai']\n",
    "#     output=['Hyd','Bengaluru','Pune','Mumbai']\n",
    "\n",
    "# Q4) input=['hyd','bengaluru','pune','mumbai']\n",
    "#     output=['HYD','BENGALURU','PUNE','MUMBAI']\n",
    "\n",
    "# Q5) input=['hyd','ben#galuru','pune','mu#mbai']\n",
    "#     output=[ben#galuru',mu#mbai']\n",
    "\n",
    "# Q6) input=['hyd','ben#galuru','pune','mu#mbai']\n",
    "#     output=[hyd,pune]\n",
    "\n",
    "# Q7) input = 'hai how are you'\n",
    "#     output=['HAI','HOW','ARE','YOU']\n",
    "\n",
    "# Q8) input='virat.kohli@rcb.com;rohit.sharma@mi.com;ms.dhoni@csk.com'\n",
    "#     fname=['virat','rohit'.'ms']\n",
    "#     sname=['kohli','sharma','dhoni']\n",
    "#     cname=['rcb','mi','csk']\n",
    "\n",
    "# Q9) input='can canner can you can not canner with you but you can the canner'\n",
    "#     output=['can'-4,'canner'-3,'you'-3,'not'-1,'with'-1,'but'-1,'the'-1]\n",
    "\n",
    "# Q10) input = 'can canner can you can not canner with you but you can the canner'\n",
    "#      stopwords=['not','you','but','with']\n",
    "#      using stopwords remove those words from input\n",
    "#     output='can canner can can canner can canner'\n",
    "\n",
    "# Q11) take a string find the most repeated word from string\n",
    "\n",
    "# Q12) take a string find the longest length of the word from string\n",
    "\n",
    "# Q13) take a string find the lowest length of the word from string\n",
    "\n",
    "# Q14) you have some qns list is there\n",
    "#      also you have answers list also there\n",
    "#     qns=['who is PM of india',\n",
    "#       'what is the capital of india', who is ICT MENS captain]\n",
    "#    ans=['Modi','Delhi','Rohit']\n",
    "#    whenerver correct answer marks +10\n",
    "#    print you got total"
   ]
  },
  {
   "cell_type": "code",
   "execution_count": 2,
   "id": "d8677e7e-59f4-4697-8a24-a998d09e0a00",
   "metadata": {},
   "outputs": [
    {
     "data": {
      "text/plain": [
       "['__add__',\n",
       " '__class__',\n",
       " '__class_getitem__',\n",
       " '__contains__',\n",
       " '__delattr__',\n",
       " '__delitem__',\n",
       " '__dir__',\n",
       " '__doc__',\n",
       " '__eq__',\n",
       " '__format__',\n",
       " '__ge__',\n",
       " '__getattribute__',\n",
       " '__getitem__',\n",
       " '__getstate__',\n",
       " '__gt__',\n",
       " '__hash__',\n",
       " '__iadd__',\n",
       " '__imul__',\n",
       " '__init__',\n",
       " '__init_subclass__',\n",
       " '__iter__',\n",
       " '__le__',\n",
       " '__len__',\n",
       " '__lt__',\n",
       " '__mul__',\n",
       " '__ne__',\n",
       " '__new__',\n",
       " '__reduce__',\n",
       " '__reduce_ex__',\n",
       " '__repr__',\n",
       " '__reversed__',\n",
       " '__rmul__',\n",
       " '__setattr__',\n",
       " '__setitem__',\n",
       " '__sizeof__',\n",
       " '__str__',\n",
       " '__subclasshook__',\n",
       " 'append',\n",
       " 'clear',\n",
       " 'copy',\n",
       " 'count',\n",
       " 'extend',\n",
       " 'index',\n",
       " 'insert',\n",
       " 'pop',\n",
       " 'remove',\n",
       " 'reverse',\n",
       " 'sort']"
      ]
     },
     "execution_count": 2,
     "metadata": {},
     "output_type": "execute_result"
    }
   ],
   "source": [
    "dir([])"
   ]
  },
  {
   "cell_type": "markdown",
   "id": "e56795a3-4676-47ba-b8fc-1c03452df609",
   "metadata": {},
   "source": [
    "**Extend**"
   ]
  },
  {
   "cell_type": "code",
   "execution_count": 4,
   "id": "3f6f3c2e-daeb-4407-bc26-e0bf130db521",
   "metadata": {},
   "outputs": [
    {
     "data": {
      "text/plain": [
       "[1, 2, 3, 4, 5, 'A', 'B', 'C', 'D']"
      ]
     },
     "execution_count": 4,
     "metadata": {},
     "output_type": "execute_result"
    }
   ],
   "source": [
    "l1=[1,2,3,4,5]\n",
    "l2=['A','B','C','D']\n",
    "l1.extend(l2)\n",
    "l1\n"
   ]
  },
  {
   "cell_type": "code",
   "execution_count": 5,
   "id": "77733391-1d0f-4e29-b15a-c21a99c0690d",
   "metadata": {},
   "outputs": [
    {
     "data": {
      "text/plain": [
       "['A', 'B', 'C', 'D', 1, 2, 3, 4, 5]"
      ]
     },
     "execution_count": 5,
     "metadata": {},
     "output_type": "execute_result"
    }
   ],
   "source": [
    "l1=[1,2,3,4,5]\n",
    "l2=['A','B','C','D']\n",
    "l2.extend(l1)\n",
    "l2\n",
    "\n",
    "# find the diff between append extend concatenation"
   ]
  },
  {
   "cell_type": "code",
   "execution_count": 7,
   "id": "31d09117-aca0-495e-9e8e-034d8992adf5",
   "metadata": {},
   "outputs": [
    {
     "data": {
      "text/plain": [
       "[1, 2, 3, 4, 5, 'A', 'B', 'C', 'D']"
      ]
     },
     "execution_count": 7,
     "metadata": {},
     "output_type": "execute_result"
    }
   ],
   "source": [
    "l1=[1,2,3,4,5]\n",
    "l2=['A','B','C','D']\n",
    "l3=l1+l2\n",
    "l3"
   ]
  },
  {
   "cell_type": "code",
   "execution_count": 9,
   "id": "290e07bc-c5d4-4890-abf8-9c5a3015c860",
   "metadata": {},
   "outputs": [
    {
     "data": {
      "text/plain": [
       "['A', 'B', 'C', 'D', [1, 2, 3, 4, 5]]"
      ]
     },
     "execution_count": 9,
     "metadata": {},
     "output_type": "execute_result"
    }
   ],
   "source": [
    "l1=[1,2,3,4,5]\n",
    "l2=['A','B','C','D']\n",
    "l2.append(l1)\n",
    "l2"
   ]
  },
  {
   "cell_type": "code",
   "execution_count": 10,
   "id": "da20e749-6764-43e4-a8eb-e8046b15fdda",
   "metadata": {},
   "outputs": [
    {
     "name": "stdout",
     "output_type": "stream",
     "text": [
      "[1, 2, 3, 4, 5, 'A', 'B', 'C', 'D']\n",
      "[1, 2, 3, 4, 5]\n",
      "['A', 'B', 'C', 'D']\n",
      "l1 will be overwrite if we use extend\n",
      "[1, 2, 3, 4, 5, 'A', 'B', 'C', 'D']\n"
     ]
    }
   ],
   "source": [
    "l1=[1,2,3,4,5]\n",
    "l2=['A','B','C','D']\n",
    "print(l1+l2)\n",
    "print(l1)\n",
    "print(l2)\n",
    "print('l1 will be overwrite if we use extend')\n",
    "l1.extend(l2)\n",
    "print(l1)"
   ]
  },
  {
   "cell_type": "markdown",
   "id": "193f6047-3549-42ee-81b6-09da5e3636c4",
   "metadata": {},
   "source": [
    "**Index**"
   ]
  },
  {
   "cell_type": "code",
   "execution_count": null,
   "id": "eb4083e1-ccf9-4a42-89d3-266ce71a4827",
   "metadata": {},
   "outputs": [],
   "source": [
    "- strings we have index and find\n",
    "\n",
    "- but in list we have only index\n",
    "\n",
    "- same as strings concept"
   ]
  },
  {
   "cell_type": "code",
   "execution_count": 15,
   "id": "eca18586-cfad-4d15-9ec3-942d49e70c68",
   "metadata": {},
   "outputs": [
    {
     "data": {
      "text/plain": [
       "1"
      ]
     },
     "execution_count": 15,
     "metadata": {},
     "output_type": "execute_result"
    }
   ],
   "source": [
    "l1=[1,2,3,4,5,'Apple','banana','cherry']\n",
    "l2=['A','B','C','D']\n",
    "l1.index(2)\n"
   ]
  },
  {
   "cell_type": "code",
   "execution_count": 16,
   "id": "389b3a6f-b4f1-417d-a445-af2594482d90",
   "metadata": {},
   "outputs": [
    {
     "name": "stdout",
     "output_type": "stream",
     "text": [
      "10\n"
     ]
    }
   ],
   "source": [
    "l1=[1,2,3,4,5,'Apple','banana','cherry',3,4,5,6]\n",
    "m=l1.index(5)\n",
    "print(l1.index(5,m+1))"
   ]
  },
  {
   "cell_type": "markdown",
   "id": "53295670-8ddb-4e75-8422-e52dcbe57ecb",
   "metadata": {},
   "source": [
    "**insert**"
   ]
  },
  {
   "cell_type": "markdown",
   "id": "b0b050a7-68ae-46e4-a3e9-1e2ce1f5ee34",
   "metadata": {},
   "source": [
    "- difference between insert and append\n"
   ]
  },
  {
   "cell_type": "code",
   "execution_count": 20,
   "id": "7eece2c4-ad0f-4cf6-97e8-4023c05de7ec",
   "metadata": {},
   "outputs": [
    {
     "data": {
      "text/plain": [
       "[1, 2, 3, 4, 5, 100, 'Apple', 'banana', 'cherry', 3, 4, 5, 6]"
      ]
     },
     "execution_count": 20,
     "metadata": {},
     "output_type": "execute_result"
    }
   ],
   "source": [
    "l1=[1,2,3,4,5,'Apple','banana','cherry',3,4,5,6]\n",
    "m=l1.index('Apple')\n",
    "l1.insert(m,100)\n",
    "l1"
   ]
  },
  {
   "cell_type": "code",
   "execution_count": 21,
   "id": "0e45d730-8e63-4459-9e2e-c465e35c2383",
   "metadata": {},
   "outputs": [
    {
     "data": {
      "text/plain": [
       "[1, 2, 3, 4, 5, 'Apple', 100, 'banana', 'cherry', 3, 4, 5, 6]"
      ]
     },
     "execution_count": 21,
     "metadata": {},
     "output_type": "execute_result"
    }
   ],
   "source": [
    "l1=[1,2,3,4,5,'Apple','banana','cherry',3,4,5,6]\n",
    "m=l1.index('Apple')\n",
    "l1.insert(m+1,100)\n",
    "l1"
   ]
  },
  {
   "cell_type": "code",
   "execution_count": 23,
   "id": "aa4aa7d1-1171-45db-a950-53ab458c6c5f",
   "metadata": {},
   "outputs": [
    {
     "data": {
      "text/plain": [
       "[1, 2, 3, 4, 5, 'Apple', 'banana', 'cherry', 3, 4, 5, 6, 100]"
      ]
     },
     "execution_count": 23,
     "metadata": {},
     "output_type": "execute_result"
    }
   ],
   "source": [
    "l1=[1,2,3,4,5,'Apple','banana','cherry',3,4,5,6]\n",
    "l1.append(100)\n",
    "l1"
   ]
  },
  {
   "cell_type": "markdown",
   "id": "a46937b4-b0e3-4585-99bf-c5fdff1d9983",
   "metadata": {},
   "source": [
    "**pop vs remove**"
   ]
  },
  {
   "cell_type": "code",
   "execution_count": 31,
   "id": "646888aa-6a8b-47c1-8053-1560ddf16200",
   "metadata": {},
   "outputs": [
    {
     "data": {
      "text/plain": [
       "[1, 2, 3, 4, 5, 'Apple', 'banana', 'cherry', 3, 4, 5]"
      ]
     },
     "execution_count": 31,
     "metadata": {},
     "output_type": "execute_result"
    }
   ],
   "source": [
    "l1=[1,2,3,4,5,'Apple','banana','cherry',3,4,5,6]\n",
    "l1.pop()\n",
    "l1"
   ]
  },
  {
   "cell_type": "code",
   "execution_count": 29,
   "id": "44a86f7a-7cb5-4c38-bd2b-b660b61dc611",
   "metadata": {},
   "outputs": [
    {
     "data": {
      "text/plain": [
       "[1, 2, 3, 4, 5, 'banana', 'cherry', 3, 4, 5, 6]"
      ]
     },
     "execution_count": 29,
     "metadata": {},
     "output_type": "execute_result"
    }
   ],
   "source": [
    "l1=[1,2,3,4,5,'Apple','banana','cherry',3,4,5,6]\n",
    "l1.pop(5)\n",
    "l1"
   ]
  },
  {
   "cell_type": "code",
   "execution_count": 30,
   "id": "68ec92cd-3bb1-4cc8-96de-e9c63de17df2",
   "metadata": {},
   "outputs": [
    {
     "data": {
      "text/plain": [
       "[1, 2, 3, 4, 5, 'banana', 'cherry', 3, 4, 5, 6]"
      ]
     },
     "execution_count": 30,
     "metadata": {},
     "output_type": "execute_result"
    }
   ],
   "source": [
    "l1=[1,2,3,4,5,'Apple','banana','cherry',3,4,5,6]\n",
    "l1.remove('Apple')\n",
    "l1"
   ]
  },
  {
   "cell_type": "code",
   "execution_count": 33,
   "id": "d4474f33-b717-4fbf-b304-3a72c6132ab7",
   "metadata": {},
   "outputs": [
    {
     "data": {
      "text/plain": [
       "[1, 2, 3, 5, 'Apple', 'banana', 'cherry', 3, 4, 5, 6]"
      ]
     },
     "execution_count": 33,
     "metadata": {},
     "output_type": "execute_result"
    }
   ],
   "source": [
    "l1=[1,2,3,4,5,'Apple','banana','cherry',3,4,5,6]\n",
    "l1.remove(4)\n",
    "l1"
   ]
  },
  {
   "cell_type": "code",
   "execution_count": 38,
   "id": "5090ef66-d0ef-4268-b6aa-e27c6d750290",
   "metadata": {},
   "outputs": [
    {
     "data": {
      "text/plain": [
       "[1, 2, 3, 4, 5, 'banana', 'cherry', 3, 4, 5, 6]"
      ]
     },
     "execution_count": 38,
     "metadata": {},
     "output_type": "execute_result"
    }
   ],
   "source": [
    "l1=[1,2,3,4,5,'Apple','banana','cherry',3,4,5,6]\n",
    "del(l1[5])\n",
    "l1"
   ]
  },
  {
   "cell_type": "markdown",
   "id": "00f0eda0-b30d-4316-a589-08bd24f379b5",
   "metadata": {},
   "source": [
    "- if we want delete any element\n",
    "\n",
    "- pop:based on index\n",
    "\n",
    "- remove:based on value\n",
    "\n",
    "- del is an inbuilt function"
   ]
  },
  {
   "cell_type": "code",
   "execution_count": 41,
   "id": "9197fffd-1c7d-40bd-bb8a-88f27b4bb3ae",
   "metadata": {},
   "outputs": [
    {
     "name": "stdout",
     "output_type": "stream",
     "text": [
      "[1, 2, 3, 4, 5, 'Apple', 'banana', 'cherry', 3, 4, 5, 6]\n"
     ]
    },
    {
     "ename": "NameError",
     "evalue": "name 'l1' is not defined",
     "output_type": "error",
     "traceback": [
      "\u001b[1;31m---------------------------------------------------------------------------\u001b[0m",
      "\u001b[1;31mNameError\u001b[0m                                 Traceback (most recent call last)",
      "Cell \u001b[1;32mIn[41], line 4\u001b[0m\n\u001b[0;32m      2\u001b[0m \u001b[38;5;28mprint\u001b[39m(l1)\n\u001b[0;32m      3\u001b[0m \u001b[38;5;28;01mdel\u001b[39;00m(l1)\n\u001b[1;32m----> 4\u001b[0m l1\n",
      "\u001b[1;31mNameError\u001b[0m: name 'l1' is not defined"
     ]
    }
   ],
   "source": [
    "l1=[1,2,3,4,5,'Apple','banana','cherry',3,4,5,6]\n",
    "print(l1)\n",
    "del(l1)\n",
    "l1"
   ]
  },
  {
   "cell_type": "code",
   "execution_count": 42,
   "id": "4a1fc624-8aaf-49ef-bf4c-7ea877999057",
   "metadata": {},
   "outputs": [
    {
     "data": {
      "text/plain": [
       "[1, 2, 3, 4, 5, 'banana', 'cherry', 3, 4, 5, 6]"
      ]
     },
     "execution_count": 42,
     "metadata": {},
     "output_type": "execute_result"
    }
   ],
   "source": [
    "l1=[1,2,3,4,5,'Apple','banana','cherry',3,4,5,6]\n",
    "del l1[5]   # del(l1[5])\n",
    "l1"
   ]
  },
  {
   "cell_type": "markdown",
   "id": "82b0707e-4b25-45a2-b0df-1d26d1870b5e",
   "metadata": {},
   "source": [
    "**reverse-reversed**\n",
    "\n",
    "- reverse is a method\n",
    "\n",
    "- reversed is an inbuilt function"
   ]
  },
  {
   "cell_type": "code",
   "execution_count": 44,
   "id": "bc0b11ec-1dd2-4191-8b61-b82504c97cad",
   "metadata": {},
   "outputs": [
    {
     "data": {
      "text/plain": [
       "[6, 5, 4, 3, 'cherry', 'banana', 'Apple', 5, 4, 3, 2, 1]"
      ]
     },
     "execution_count": 44,
     "metadata": {},
     "output_type": "execute_result"
    }
   ],
   "source": [
    "l1=[1,2,3,4,5,'Apple','banana','cherry',3,4,5,6]\n",
    "l1.reverse()\n",
    "l1"
   ]
  },
  {
   "cell_type": "code",
   "execution_count": 46,
   "id": "62ee3d6c-f9f3-4b1c-a4a0-16cecb2f8572",
   "metadata": {},
   "outputs": [
    {
     "data": {
      "text/plain": [
       "[1, 2, 3, 4, 5, 'Apple', 'banana', 'cherry', 3, 4, 5, 6]"
      ]
     },
     "execution_count": 46,
     "metadata": {},
     "output_type": "execute_result"
    }
   ],
   "source": [
    "l1=[1,2,3,4,5,'Apple','banana','cherry',3,4,5,6]\n",
    "reversed(l1)\n",
    "l1"
   ]
  },
  {
   "cell_type": "markdown",
   "id": "8045b88f-e67e-4332-b8ab-061123fd2cfa",
   "metadata": {},
   "source": [
    "**IN PLACE**\n",
    "\n",
    "- when we perform the operations sometimes the values will  not ovewrite\n",
    "\n",
    "- if you see **in place** word or **in place = True**\n",
    "\n",
    "- this indicates the output will be overwrite in corresponding variable"
   ]
  },
  {
   "cell_type": "markdown",
   "id": "59bfe138-4f6b-4c88-a753-cc3db996f5ba",
   "metadata": {},
   "source": [
    "**sort-sorted**"
   ]
  },
  {
   "cell_type": "code",
   "execution_count": 54,
   "id": "012b5555-27a7-4fb2-9ad6-fae881f366ed",
   "metadata": {},
   "outputs": [
    {
     "data": {
      "text/plain": [
       "[1, 2, 3, 3, 4, 4, 5, 5, 6, 7, 8, 9]"
      ]
     },
     "execution_count": 54,
     "metadata": {},
     "output_type": "execute_result"
    }
   ],
   "source": [
    "l1=[1,2,8,9,7,3,4,5,3,4,5,6,]\n",
    "l1.sort()\n",
    "l1"
   ]
  },
  {
   "cell_type": "code",
   "execution_count": 53,
   "id": "adf4b492-38b9-4fba-8d0a-22ae54bad9e3",
   "metadata": {},
   "outputs": [
    {
     "data": {
      "text/plain": [
       "[1, 8, 7, 9, 2, 3, 4, 5, 3, 4, 5, 6]"
      ]
     },
     "execution_count": 53,
     "metadata": {},
     "output_type": "execute_result"
    }
   ],
   "source": [
    "l1=[1,8,7,9,2,3,4,5,3,4,5,6]\n",
    "sorted(l1)\n",
    "l1"
   ]
  },
  {
   "cell_type": "code",
   "execution_count": 56,
   "id": "53df8f1f-5d85-49a4-86a4-4486d9d15aa8",
   "metadata": {},
   "outputs": [
    {
     "data": {
      "text/plain": [
       "['h', 'n', 'o', 'p', 't', 'y']"
      ]
     },
     "execution_count": 56,
     "metadata": {},
     "output_type": "execute_result"
    }
   ],
   "source": [
    "str1='python'\n",
    "sorted(str1)"
   ]
  },
  {
   "cell_type": "code",
   "execution_count": null,
   "id": "524a0c83-3662-4986-84b3-4b450a7f6710",
   "metadata": {},
   "outputs": [],
   "source": [
    "str1.sort()  # it is not available"
   ]
  },
  {
   "cell_type": "markdown",
   "id": "e8804725-752f-4e9b-8898-f15a943aceab",
   "metadata": {},
   "source": [
    "- inbuilt functions applicable for any datatype\n",
    "\n",
    "- but methods work wrt data types"
   ]
  },
  {
   "cell_type": "code",
   "execution_count": null,
   "id": "dd19f01d-0780-4c9e-b457-314edccea45f",
   "metadata": {},
   "outputs": [],
   "source": []
  }
 ],
 "metadata": {
  "kernelspec": {
   "display_name": "Python 3 (ipykernel)",
   "language": "python",
   "name": "python3"
  },
  "language_info": {
   "codemirror_mode": {
    "name": "ipython",
    "version": 3
   },
   "file_extension": ".py",
   "mimetype": "text/x-python",
   "name": "python",
   "nbconvert_exporter": "python",
   "pygments_lexer": "ipython3",
   "version": "3.12.7"
  }
 },
 "nbformat": 4,
 "nbformat_minor": 5
}
