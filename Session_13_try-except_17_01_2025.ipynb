{
 "cells": [
  {
   "cell_type": "markdown",
   "id": "9f23b516-cea2-484a-b68c-3193baa6f12e",
   "metadata": {},
   "source": [
    "**try-except**\n",
    "\n",
    "- try and except is a concept of exception handling\n",
    "\n",
    "- there are two blocks\n",
    "\n",
    "    - 1.try block\n",
    "\n",
    "    - 2.except block\n",
    "\n",
    "- original code will run under try block\n",
    "\n",
    "- if any error occurs in try block, the error will catch by except block\n",
    "\n",
    "- use case-1: The code should catch the errors automatically\n",
    "\n",
    "- use case-2: The code should continue eventhough we get the error."
   ]
  },
  {
   "cell_type": "markdown",
   "id": "e67bf200-4fce-41cb-9083-4457d67efcb5",
   "metadata": {},
   "source": [
    "**Note**: \n",
    "\n",
    "- Except block will run when we got the error in try block\n",
    "\n",
    "- if code is correct only try block is executed"
   ]
  },
  {
   "cell_type": "code",
   "execution_count": 1,
   "id": "cad0a3d8-6627-4a18-8381-f940578e7cc2",
   "metadata": {},
   "outputs": [
    {
     "name": "stdout",
     "output_type": "stream",
     "text": [
      "1.0\n"
     ]
    }
   ],
   "source": [
    "try:\n",
    "    a=10\n",
    "    b=10\n",
    "    c=a/b \n",
    "    print(c)\n",
    "except:\n",
    "    print('error coming in try block')\n",
    "    print('zero division error')"
   ]
  },
  {
   "cell_type": "code",
   "execution_count": 1,
   "id": "7e7b5f41-7cd1-406b-ab2e-55000a293690",
   "metadata": {},
   "outputs": [
    {
     "name": "stdout",
     "output_type": "stream",
     "text": [
      "error coming in try block\n",
      "zero division error\n"
     ]
    }
   ],
   "source": [
    "try:\n",
    "    a=10\n",
    "    b=0\n",
    "    c=a/b   # we will get error\n",
    "except:\n",
    "    print('error coming in try block')\n",
    "    print('zero division error')"
   ]
  },
  {
   "cell_type": "markdown",
   "id": "7f30a27f-da82-493f-b975-7c2f55224d3f",
   "metadata": {},
   "source": [
    "**Errors**\n",
    "\n",
    "- syntax error\n",
    "\n",
    "  - syntax error will not catch\n",
    "\n",
    "  - minimum expectation every one should write the correct syntax\n",
    "\n",
    "- attribute error\n",
    "\n",
    "- name error\n",
    "\n",
    "- type error\n",
    "\n",
    "- indentation error\n",
    "\n",
    "- module not found error\n",
    "\n",
    "- zero division error\n",
    "\n",
    "- object not callable"
   ]
  },
  {
   "cell_type": "code",
   "execution_count": 3,
   "id": "90d7b168-f47f-4ab9-890d-07dde9b8d85b",
   "metadata": {},
   "outputs": [
    {
     "ename": "SyntaxError",
     "evalue": "unmatched ')' (1903001841.py, line 4)",
     "output_type": "error",
     "traceback": [
      "\u001b[1;36m  Cell \u001b[1;32mIn[3], line 4\u001b[1;36m\u001b[0m\n\u001b[1;33m    printc)\u001b[0m\n\u001b[1;37m          ^\u001b[0m\n\u001b[1;31mSyntaxError\u001b[0m\u001b[1;31m:\u001b[0m unmatched ')'\n"
     ]
    }
   ],
   "source": [
    "a=10\n",
    "b=20\n",
    "c=a+b\n",
    "printc)"
   ]
  },
  {
   "cell_type": "code",
   "execution_count": 31,
   "id": "b5b49189-40c1-43c0-9510-944107fe6e42",
   "metadata": {},
   "outputs": [
    {
     "ename": "AttributeError",
     "evalue": "module 'random' has no attribute 'randin'",
     "output_type": "error",
     "traceback": [
      "\u001b[1;31m---------------------------------------------------------------------------\u001b[0m",
      "\u001b[1;31mAttributeError\u001b[0m                            Traceback (most recent call last)",
      "Cell \u001b[1;32mIn[31], line 2\u001b[0m\n\u001b[0;32m      1\u001b[0m \u001b[38;5;28;01mimport\u001b[39;00m \u001b[38;5;21;01mrandom\u001b[39;00m\n\u001b[1;32m----> 2\u001b[0m random\u001b[38;5;241m.\u001b[39mrandin(a,b)\n",
      "\u001b[1;31mAttributeError\u001b[0m: module 'random' has no attribute 'randin'"
     ]
    }
   ],
   "source": [
    "import random\n",
    "random.randin(a,b)"
   ]
  },
  {
   "cell_type": "code",
   "execution_count": 7,
   "id": "b9cd316a-5d25-4f91-97ef-19e39af7965f",
   "metadata": {},
   "outputs": [
    {
     "ename": "NameError",
     "evalue": "name 'nu' is not defined",
     "output_type": "error",
     "traceback": [
      "\u001b[1;31m---------------------------------------------------------------------------\u001b[0m",
      "\u001b[1;31mNameError\u001b[0m                                 Traceback (most recent call last)",
      "Cell \u001b[1;32mIn[7], line 3\u001b[0m\n\u001b[0;32m      1\u001b[0m num1\u001b[38;5;241m=\u001b[39m\u001b[38;5;241m100\u001b[39m\n\u001b[0;32m      2\u001b[0m num\u001b[38;5;241m=\u001b[39m\u001b[38;5;241m10\u001b[39m\n\u001b[1;32m----> 3\u001b[0m num2\u001b[38;5;241m=\u001b[39mnum\u001b[38;5;241m+\u001b[39mnu\n",
      "\u001b[1;31mNameError\u001b[0m: name 'nu' is not defined"
     ]
    }
   ],
   "source": [
    "num1=100\n",
    "num=10\n",
    "num2=num+nu"
   ]
  },
  {
   "cell_type": "code",
   "execution_count": 8,
   "id": "2cf373b3-859a-405e-a7e8-c117778aa041",
   "metadata": {},
   "outputs": [
    {
     "ename": "TypeError",
     "evalue": "can't multiply sequence by non-int of type 'str'",
     "output_type": "error",
     "traceback": [
      "\u001b[1;31m---------------------------------------------------------------------------\u001b[0m",
      "\u001b[1;31mTypeError\u001b[0m                                 Traceback (most recent call last)",
      "Cell \u001b[1;32mIn[8], line 1\u001b[0m\n\u001b[1;32m----> 1\u001b[0m \u001b[38;5;124m'\u001b[39m\u001b[38;5;124m100\u001b[39m\u001b[38;5;124m'\u001b[39m\u001b[38;5;241m*\u001b[39m\u001b[38;5;124m'\u001b[39m\u001b[38;5;124m100\u001b[39m\u001b[38;5;124m'\u001b[39m\n",
      "\u001b[1;31mTypeError\u001b[0m: can't multiply sequence by non-int of type 'str'"
     ]
    }
   ],
   "source": [
    "'100'*'100'"
   ]
  },
  {
   "cell_type": "code",
   "execution_count": 9,
   "id": "8d546991-7904-4b31-9acc-be7b8171dab2",
   "metadata": {},
   "outputs": [
    {
     "ename": "IndentationError",
     "evalue": "expected an indented block after 'if' statement on line 1 (3529243611.py, line 2)",
     "output_type": "error",
     "traceback": [
      "\u001b[1;36m  Cell \u001b[1;32mIn[9], line 2\u001b[1;36m\u001b[0m\n\u001b[1;33m    a=10\u001b[0m\n\u001b[1;37m    ^\u001b[0m\n\u001b[1;31mIndentationError\u001b[0m\u001b[1;31m:\u001b[0m expected an indented block after 'if' statement on line 1\n"
     ]
    }
   ],
   "source": [
    "if false:\n",
    "a=10"
   ]
  },
  {
   "cell_type": "code",
   "execution_count": 10,
   "id": "b21e08b5-6e9b-4576-bd0d-c00a8b801899",
   "metadata": {},
   "outputs": [
    {
     "ename": "ZeroDivisionError",
     "evalue": "division by zero",
     "output_type": "error",
     "traceback": [
      "\u001b[1;31m---------------------------------------------------------------------------\u001b[0m",
      "\u001b[1;31mZeroDivisionError\u001b[0m                         Traceback (most recent call last)",
      "Cell \u001b[1;32mIn[10], line 3\u001b[0m\n\u001b[0;32m      1\u001b[0m a\u001b[38;5;241m=\u001b[39m\u001b[38;5;241m10\u001b[39m\n\u001b[0;32m      2\u001b[0m b\u001b[38;5;241m=\u001b[39m\u001b[38;5;241m0\u001b[39m\n\u001b[1;32m----> 3\u001b[0m c\u001b[38;5;241m=\u001b[39ma\u001b[38;5;241m/\u001b[39mb\n",
      "\u001b[1;31mZeroDivisionError\u001b[0m: division by zero"
     ]
    }
   ],
   "source": [
    "a=10\n",
    "b=0\n",
    "c=a/b"
   ]
  },
  {
   "cell_type": "code",
   "execution_count": 11,
   "id": "37d8f365-3879-48ab-bcb4-0e2145e390d2",
   "metadata": {},
   "outputs": [
    {
     "ename": "TypeError",
     "evalue": "'module' object is not callable. Did you mean: 'random.random(...)'?",
     "output_type": "error",
     "traceback": [
      "\u001b[1;31m---------------------------------------------------------------------------\u001b[0m",
      "\u001b[1;31mTypeError\u001b[0m                                 Traceback (most recent call last)",
      "Cell \u001b[1;32mIn[11], line 1\u001b[0m\n\u001b[1;32m----> 1\u001b[0m random()\n",
      "\u001b[1;31mTypeError\u001b[0m: 'module' object is not callable. Did you mean: 'random.random(...)'?"
     ]
    }
   ],
   "source": [
    "random()\n"
   ]
  },
  {
   "cell_type": "code",
   "execution_count": 1,
   "id": "367635c0-2cbc-4358-87fd-53399bcac058",
   "metadata": {},
   "outputs": [
    {
     "name": "stdin",
     "output_type": "stream",
     "text": [
      "enter n1: 100\n",
      "enter n2: 0\n"
     ]
    },
    {
     "name": "stdout",
     "output_type": "stream",
     "text": [
      "division by zero\n"
     ]
    }
   ],
   "source": [
    "try:\n",
    "    n1=eval(input('enter n1:'))\n",
    "    n2=eval(input('enter n2:'))\n",
    "    div=n1/n2\n",
    "    print('the div is:',div)\n",
    "except Exception as e:\n",
    "    print(e)"
   ]
  },
  {
   "cell_type": "code",
   "execution_count": 18,
   "id": "35a092e0-20c6-40f1-8883-d17418609cd2",
   "metadata": {},
   "outputs": [
    {
     "name": "stdout",
     "output_type": "stream",
     "text": [
      "module 'random' has no attribute 'nareshit'\n"
     ]
    }
   ],
   "source": [
    "try:\n",
    "    import random\n",
    "    random.nareshit\n",
    "except Exception as e:\n",
    "    print(e)"
   ]
  },
  {
   "cell_type": "code",
   "execution_count": 19,
   "id": "3334fe4f-aa2b-4b57-8dc9-c01f1abf3485",
   "metadata": {},
   "outputs": [
    {
     "name": "stdout",
     "output_type": "stream",
     "text": [
      "division by zero\n"
     ]
    }
   ],
   "source": [
    "try:\n",
    "    a=10\n",
    "    b=0\n",
    "    c=a/b\n",
    "    print(c)\n",
    "except Exception as e:\n",
    "    print(e)"
   ]
  },
  {
   "cell_type": "code",
   "execution_count": 20,
   "id": "6b99ff18-28f1-4969-beab-85897500a0c1",
   "metadata": {},
   "outputs": [
    {
     "ename": "IndentationError",
     "evalue": "expected an indented block after 'if' statement on line 2 (1320558317.py, line 3)",
     "output_type": "error",
     "traceback": [
      "\u001b[1;36m  Cell \u001b[1;32mIn[20], line 3\u001b[1;36m\u001b[0m\n\u001b[1;33m    a=10\u001b[0m\n\u001b[1;37m    ^\u001b[0m\n\u001b[1;31mIndentationError\u001b[0m\u001b[1;31m:\u001b[0m expected an indented block after 'if' statement on line 2\n"
     ]
    }
   ],
   "source": [
    "try:\n",
    "    if false:\n",
    "    a=10\n",
    "except Exception as e:\n",
    "    print(e)\n",
    "    "
   ]
  },
  {
   "cell_type": "code",
   "execution_count": 21,
   "id": "831cecb6-d431-4bb6-8f6e-0405fd5d4675",
   "metadata": {},
   "outputs": [
    {
     "name": "stdout",
     "output_type": "stream",
     "text": [
      "can't multiply sequence by non-int of type 'str'\n"
     ]
    }
   ],
   "source": [
    "try:\n",
    "    '10'*'10'\n",
    "except Exception as e:\n",
    "    print(e)"
   ]
  },
  {
   "cell_type": "code",
   "execution_count": 23,
   "id": "c0c0b8f7-5dc3-40df-86a2-641f727c72bd",
   "metadata": {},
   "outputs": [
    {
     "name": "stdout",
     "output_type": "stream",
     "text": [
      "name 'num22' is not defined\n"
     ]
    }
   ],
   "source": [
    "try:\n",
    "    num1=100\n",
    "    num=10\n",
    "    num2=num+num22\n",
    "except Exception as e:\n",
    "    print(e)"
   ]
  },
  {
   "cell_type": "markdown",
   "id": "d3db513f-2d23-4e27-a0ca-9439158d420a",
   "metadata": {},
   "source": [
    "- step-1: are you able to write the code with out silly mistakes\n",
    "- step-2: are you able to understand the logic\n",
    "- step-3: are you able to implement the logic"
   ]
  },
  {
   "cell_type": "code",
   "execution_count": 32,
   "id": "3a28cf5e-071f-4e0a-b37b-1844f560093b",
   "metadata": {},
   "outputs": [
    {
     "name": "stdin",
     "output_type": "stream",
     "text": [
      "enter n1: 60\n"
     ]
    },
    {
     "name": "stdout",
     "output_type": "stream",
     "text": [
      "60 is even\n"
     ]
    }
   ],
   "source": [
    "try:\n",
    "    n1=eval(input(\"enter n1:\"))\n",
    "    if n1%2==0:\n",
    "        print(f\"{n1} is even\")\n",
    "    else:\n",
    "        print(f\"{n1} is odd\")\n",
    "except Exception as e:\n",
    "    print(e)\n",
    "        "
   ]
  },
  {
   "cell_type": "code",
   "execution_count": 26,
   "id": "caf91bce-9362-4408-8a2c-f3f68b6fb31b",
   "metadata": {},
   "outputs": [
    {
     "name": "stdin",
     "output_type": "stream",
     "text": [
      "enter n1: 45\n"
     ]
    },
    {
     "name": "stdout",
     "output_type": "stream",
     "text": [
      "name 'n21' is not defined\n",
      "a+b: 30\n"
     ]
    }
   ],
   "source": [
    "try:\n",
    "    n1=eval(input(\"enter n1:\"))\n",
    "    if n1%2==0:\n",
    "        print(f\"{n21} is even\")\n",
    "    else:\n",
    "        print(f\"{n21} is odd\")\n",
    "except Exception as e:\n",
    "    print(e)\n",
    "    a=10\n",
    "    b=20\n",
    "    print('a+b:',a+b)\n",
    "\n",
    "# step1: n1=45\n",
    "# step2: if 45%2==0   false\n",
    "# step3: "
   ]
  },
  {
   "cell_type": "code",
   "execution_count": null,
   "id": "d7e561e9-7413-4bd9-afc5-2b9d51d0162f",
   "metadata": {},
   "outputs": [],
   "source": []
  }
 ],
 "metadata": {
  "kernelspec": {
   "display_name": "Python 3 (ipykernel)",
   "language": "python",
   "name": "python3"
  },
  "language_info": {
   "codemirror_mode": {
    "name": "ipython",
    "version": 3
   },
   "file_extension": ".py",
   "mimetype": "text/x-python",
   "name": "python",
   "nbconvert_exporter": "python",
   "pygments_lexer": "ipython3",
   "version": "3.12.7"
  }
 },
 "nbformat": 4,
 "nbformat_minor": 5
}
