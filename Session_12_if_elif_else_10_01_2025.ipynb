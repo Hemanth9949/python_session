{
 "cells": [
  {
   "cell_type": "markdown",
   "id": "77a12bb4-843e-4875-8c56-6df5f1111920",
   "metadata": {},
   "source": [
    "**if-elif-else**\n",
    "\n",
    "- Whenever we have multiple conditions we will do **if-elif-else**\n",
    "\n",
    "- if single condition is there we will go **if-else**\n",
    "\n",
    "    - two answers\n",
    "\n",
    "    - if needs condition then else does not require any condition\n",
    "\n",
    "- if two conditions are there we will go **if-elif-else**\n",
    "\n",
    "     - three answers\n",
    "\n",
    "     - if and elif need condition else does not require any condition\n",
    "\n",
    "- if three conditions are there we will go **if-elif-elif-else**\n",
    "\n",
    "  - four answers\n",
    "\n",
    "  - if elif and elif need condition and else does not require any condition"
   ]
  },
  {
   "cell_type": "code",
   "execution_count": null,
   "id": "1476b0b3-ab95-4e75-8519-8937aed7cfd7",
   "metadata": {},
   "outputs": [],
   "source": [
    "if <condition>:\n",
    "    <write your code>\n",
    "elif <condition>:\n",
    "    <write your code>\n",
    "elif <condition>:\n",
    "    <write your code>\n",
    "else:\n",
    "    <write your code here>"
   ]
  },
  {
   "cell_type": "code",
   "execution_count": 1,
   "id": "69839f8c-3ee4-4815-87c7-663a538c283b",
   "metadata": {},
   "outputs": [
    {
     "name": "stdin",
     "output_type": "stream",
     "text": [
      "enter the number 2\n"
     ]
    },
    {
     "name": "stdout",
     "output_type": "stream",
     "text": [
      "two\n"
     ]
    }
   ],
   "source": [
    "# wap ask user enter a number\n",
    "# if number equal to one then print one\n",
    "#if number equal to two then print two\n",
    "# if number equal to three print three\n",
    "# otherwise print enter a valid number\n",
    "\n",
    "num=eval(input(\"enter the number\"))\n",
    "if num==1:\n",
    "    print(\"one\")\n",
    "elif num==2:\n",
    "    print(\"two\")\n",
    "elif num==3:\n",
    "    print(\"three\")\n",
    "else:\n",
    "    print(\"enter the valid number\")"
   ]
  },
  {
   "cell_type": "code",
   "execution_count": 11,
   "id": "e3664410-a2f8-454d-9fc9-544bb1746ae5",
   "metadata": {},
   "outputs": [
    {
     "name": "stdin",
     "output_type": "stream",
     "text": [
      "enter the percentage of marks: 10\n"
     ]
    },
    {
     "name": "stdout",
     "output_type": "stream",
     "text": [
      "Fail\n"
     ]
    }
   ],
   "source": [
    "# wap ask the user enter percentage of marks if marks \n",
    "# if marks>90 then print A grade\n",
    "# marks between 70 to 90 then print B grade\n",
    "# marks between 50 to 70 then print C grade\n",
    "# marks between 35 to 50 then print D grade\n",
    "# otherwise fail\n",
    "\n",
    "marks=eval(input(\"enter the percentage of marks:\"))\n",
    "if marks>90:\n",
    "    print(\"A grade\")\n",
    "elif 70<marks<=90:\n",
    "    print(\"B grade\")\n",
    "elif 50<marks<=70:\n",
    "    print(\"C grade\")\n",
    "elif 35<marks<=50:\n",
    "    print(\"D grade\")\n",
    "else:\n",
    "    print(\"Fail\")\n",
    "    "
   ]
  },
  {
   "cell_type": "code",
   "execution_count": 14,
   "id": "5ee29ba4-1d4f-46f6-bb79-8bdcd75cd9c1",
   "metadata": {},
   "outputs": [
    {
     "name": "stdin",
     "output_type": "stream",
     "text": [
      "enter the percentage of marks: 99\n"
     ]
    },
    {
     "name": "stdout",
     "output_type": "stream",
     "text": [
      "A grade\n"
     ]
    }
   ],
   "source": [
    "marks=eval(input(\"enter the percentage of marks:\"))\n",
    "if marks>=90:\n",
    "    print(\"A grade\")\n",
    "elif marks>=70:\n",
    "    print(\"B grade\")\n",
    "elif marks>=50:\n",
    "    print(\"C grade\")\n",
    "elif marks>=35:\n",
    "    print(\"D grade\")\n",
    "else:\n",
    "    print(\"Fail\")"
   ]
  },
  {
   "cell_type": "code",
   "execution_count": null,
   "id": "73d793fd-2be4-48ed-8c71-517b796c3113",
   "metadata": {},
   "outputs": [],
   "source": [
    "if -elif\n",
    "\n",
    "if fails ==== elif\n",
    "\n",
    "if-if\n",
    "\n",
    "if fails or pass ==== if"
   ]
  },
  {
   "cell_type": "code",
   "execution_count": 22,
   "id": "6e39acd3-6ef5-42ea-9b18-93228c88fafa",
   "metadata": {},
   "outputs": [
    {
     "name": "stdin",
     "output_type": "stream",
     "text": [
      "enter age 5\n"
     ]
    },
    {
     "name": "stdout",
     "output_type": "stream",
     "text": [
      "kid\n"
     ]
    }
   ],
   "source": [
    "# wap ask user enter age\n",
    "# if age graeter than 100 yeras unlucky\n",
    "# if age between 80 to 100 years old guy\n",
    "# if age between 60to 80 print ss\n",
    "# if age between 40 to 60 print MA\n",
    "# if age between 20 to 40 print young\n",
    "# if age between 10 to 20 print teenage\n",
    "#otherwise print kid\n",
    "\n",
    "age=eval(input(\"enter age\"))\n",
    "if age>100:\n",
    "    print(\"unlucky\")\n",
    "elif age>=80:\n",
    "    print(\"old guy\")\n",
    "elif age>=60:\n",
    "    print(\"ss\")\n",
    "elif age>=40:\n",
    "    print(\"MA\")\n",
    "elif age>=20:\n",
    "    print(\"young\")\n",
    "elif age>=10:\n",
    "    print(\"teenage\")\n",
    "else:\n",
    "    print(\"kid\")"
   ]
  },
  {
   "cell_type": "code",
   "execution_count": 30,
   "id": "450cd038-0fb7-469a-8a91-f41a991c8a4e",
   "metadata": {},
   "outputs": [
    {
     "name": "stdin",
     "output_type": "stream",
     "text": [
      "enter the gender: male\n",
      "enter age: 55\n"
     ]
    },
    {
     "name": "stdout",
     "output_type": "stream",
     "text": [
      "MA man\n"
     ]
    }
   ],
   "source": [
    "# wap ask user enter gender\n",
    "# if gender equal to male \n",
    "    # ask the user enter age\n",
    "    # if age greater than 60 then print ss\n",
    "    # if age bet 30 to 60 then print MA man\n",
    "     # if age between 15 to 30 then print young man\n",
    "    # otherwise print boy\n",
    "# if gender equal to female \n",
    "    # ask the user enter age\n",
    "    # if age greater than 60 then print ss\n",
    "    # if age bet 30 to 60 then print MA woman\n",
    "     # if age between 15 to 30 then print young woman\n",
    "    # otherwise print girl\n",
    "# else print a valid gender\n",
    "\n",
    "gen=input(\"enter the gender:\")\n",
    "if gen==\"male\":\n",
    "    age=eval(input(\"enter age:\"))\n",
    "    if age>60:\n",
    "        print(\"ss\")\n",
    "    elif age>=30:\n",
    "        print(\"MA man\")\n",
    "    elif age>=15:\n",
    "        print(\"young man\")\n",
    "    else:\n",
    "        print(\"boy\")\n",
    "elif gen==\"female\":\n",
    "    age=eval(input(\"enter age:\"))\n",
    "    if age>60:\n",
    "        print(\"ss\")\n",
    "    elif age>=30:\n",
    "        print(\"MA woman\")\n",
    "    elif age>=15:\n",
    "        print(\"young woman\")\n",
    "    else:\n",
    "        print(\"girl\")\n",
    "else:\n",
    "    print(\"enter valid gender\")\n",
    "    "
   ]
  },
  {
   "cell_type": "code",
   "execution_count": 32,
   "id": "93ac3e49-9fdf-4d76-981a-ac9dd75f72e6",
   "metadata": {},
   "outputs": [
    {
     "name": "stdin",
     "output_type": "stream",
     "text": [
      "enter the number: -1\n"
     ]
    },
    {
     "name": "stdout",
     "output_type": "stream",
     "text": [
      "negative number\n"
     ]
    }
   ],
   "source": [
    "# wap ask user enter a number\n",
    "# if num graeter than or equal to 0\n",
    "   # if number >0 then print positive\n",
    "   # otherwise print zero\n",
    "# else print negative number\n",
    "\n",
    "num=eval(input(\"enter the number:\"))\n",
    "if num>=0:\n",
    "    if num>0:\n",
    "        print(\"positive\")\n",
    "    else:\n",
    "        print(\"zero\")\n",
    "else:\n",
    "    print(\"negative number\")\n"
   ]
  },
  {
   "cell_type": "code",
   "execution_count": 34,
   "id": "29cbffd8-91ef-4290-bb3a-f23dc54779b4",
   "metadata": {},
   "outputs": [
    {
     "name": "stdout",
     "output_type": "stream",
     "text": [
      "enter 1 for add\n",
      "enter 2 for sub\n",
      "enter 3 for mul\n",
      "enter 4 for div\n"
     ]
    },
    {
     "name": "stdin",
     "output_type": "stream",
     "text": [
      "enter number between 1 to 4: 2\n",
      "enter n1: 6\n",
      "enter n2: 3\n"
     ]
    },
    {
     "name": "stdout",
     "output_type": "stream",
     "text": [
      "3\n"
     ]
    }
   ],
   "source": [
    "# print some statements \n",
    "# if a user enter\n",
    "\n",
    "print(\"enter 1 for add\")\n",
    "print(\"enter 2 for sub\")\n",
    "print(\"enter 3 for mul\")\n",
    "print(\"enter 4 for div\")\n",
    "num=eval(input(\"enter number between 1 to 4:\"))\n",
    "if num==1:\n",
    "    n1=int(input(\"enter n1:\"))\n",
    "    n2=int(input(\"enter n2:\"))\n",
    "    add=n1+n2\n",
    "    print(add)\n",
    "elif num==2:\n",
    "    n1=int(input(\"enter n1:\"))\n",
    "    n2=int(input(\"enter n2:\"))\n",
    "    sub=n1-n2\n",
    "    print(sub)\n",
    "elif num==3:\n",
    "    n1=int(input(\"enter n1:\"))\n",
    "    n2=int(input(\"enter n2:\"))\n",
    "    sub=n1*n2\n",
    "    print(mul)\n",
    "elif num==4:\n",
    "    n1=int(input(\"enter n1:\"))\n",
    "    n2=int(input(\"enter n2:\"))\n",
    "    sub=n1/n2\n",
    "    print(div)\n",
    "else:\n",
    "    print(\"a vaild number\")\n",
    "    \n",
    "\n",
    "    "
   ]
  },
  {
   "cell_type": "code",
   "execution_count": null,
   "id": "c52c8878-7a97-4254-aed1-e82871f874b5",
   "metadata": {},
   "outputs": [],
   "source": []
  }
 ],
 "metadata": {
  "kernelspec": {
   "display_name": "Python 3 (ipykernel)",
   "language": "python",
   "name": "python3"
  },
  "language_info": {
   "codemirror_mode": {
    "name": "ipython",
    "version": 3
   },
   "file_extension": ".py",
   "mimetype": "text/x-python",
   "name": "python",
   "nbconvert_exporter": "python",
   "pygments_lexer": "ipython3",
   "version": "3.12.7"
  }
 },
 "nbformat": 4,
 "nbformat_minor": 5
}
